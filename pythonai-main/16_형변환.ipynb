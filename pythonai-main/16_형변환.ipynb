{
  "nbformat": 4,
  "nbformat_minor": 0,
  "metadata": {
    "colab": {
      "provenance": [],
      "authorship_tag": "ABX9TyOxMi3fwEqp41Gp9d3UGvpV",
      "include_colab_link": true
    },
    "kernelspec": {
      "name": "python3",
      "display_name": "Python 3"
    },
    "language_info": {
      "name": "python"
    }
  },
  "cells": [
    {
      "cell_type": "markdown",
      "metadata": {
        "id": "view-in-github",
        "colab_type": "text"
      },
      "source": [
        "<a href=\"https://colab.research.google.com/github/chacha86/pythonai/blob/main/16_%ED%98%95%EB%B3%80%ED%99%98.ipynb\" target=\"_parent\"><img src=\"https://colab.research.google.com/assets/colab-badge.svg\" alt=\"Open In Colab\"/></a>"
      ]
    },
    {
      "cell_type": "code",
      "execution_count": 24,
      "metadata": {
        "colab": {
          "base_uri": "https://localhost:8080/"
        },
        "id": "mYW6-ZOwcvC3",
        "outputId": "d31a4c0d-e4aa-4ae1-eaea-04ce59fcfecf"
      },
      "outputs": [
        {
          "output_type": "execute_result",
          "data": {
            "text/plain": [
              "0    1.1\n",
              "1    2.2\n",
              "2      a\n",
              "3      b\n",
              "4    5.5\n",
              "dtype: object"
            ]
          },
          "metadata": {},
          "execution_count": 24
        }
      ],
      "source": [
        "# 16. 형변환\n",
        "import pandas as pd\n",
        "\n",
        "sr1 = pd.Series(['1', '2', '3', '4', '5'])\n",
        "sr2 = pd.Series(['1.1', '2.2', '3.3', '4.4', '5.5'])\n",
        "sr3 = pd.Series(['1.1', '2.2', 'a', 'b', '5.5'])\n",
        "\n",
        "sr1\n",
        "sr2\n",
        "sr3\n",
        "\n",
        "## 16.1 astype() 사용\n",
        "sr1.astype('int') # int64 -> 정수\n",
        "\n",
        "sr2.astype('float') # float64 -> 실수\n",
        "\n",
        "## 16.2 to_numeric()\n",
        "\n",
        "# pd.to_numeric(sr3, errors=\"raise\") # raise => 숫자가 아닌 문자가 포함된 경우 에러내고 종료.\n",
        "# pd.to_numeric(sr3, errors=\"ignore\") # ignore => 숫자가 아닌 문자가 포함된 경우 에러를 내지는 않고 아무것도 하지않고 진행.\n",
        "pd.to_numeric(sr3, errors='coerce') # coerce => 숫자가 아닌 문자가 포함된 경우 문자를 NaN처리하고 나머지는 숫자로 변환.\n",
        "sr3\n",
        "# 문자 > 숫자 변환 시"
      ]
    },
    {
      "cell_type": "code",
      "source": [],
      "metadata": {
        "id": "c1Eeqx5Sdi_V"
      },
      "execution_count": null,
      "outputs": []
    }
  ]
}