{
  "nbformat": 4,
  "nbformat_minor": 0,
  "metadata": {
    "colab": {
      "provenance": [],
      "authorship_tag": "ABX9TyMz0xrj8fO17pmsILGBIyU8",
      "include_colab_link": true
    },
    "kernelspec": {
      "name": "python3",
      "display_name": "Python 3"
    },
    "language_info": {
      "name": "python"
    }
  },
  "cells": [
    {
      "cell_type": "markdown",
      "metadata": {
        "id": "view-in-github",
        "colab_type": "text"
      },
      "source": [
        "<a href=\"https://colab.research.google.com/github/chacha86/pythonai/blob/main/%EB%AC%B8%EC%A0%9C_6.ipynb\" target=\"_parent\"><img src=\"https://colab.research.google.com/assets/colab-badge.svg\" alt=\"Open In Colab\"/></a>"
      ]
    },
    {
      "cell_type": "code",
      "source": [
        "# 아래 문제들을 map, apply, applymap을 이용해서 풀어주세요.\n"
      ],
      "metadata": {
        "id": "bH__uzap6m3-"
      },
      "execution_count": null,
      "outputs": []
    },
    {
      "cell_type": "code",
      "execution_count": null,
      "metadata": {
        "id": "vg0zrZBTh0gY"
      },
      "outputs": [],
      "source": [
        "# 1.'번호'에 번 붙이고 1은 001, 11은 011 처럼 세자리수 맞춰서 앞에 0 채우기\n",
        "# 001번, 002번, 003번 ....\n"
      ]
    },
    {
      "cell_type": "code",
      "source": [
        "# 2.생년월일에 년, 월, 일 붙이기\n",
        "# 2050-01-01 => 2050년01월01일\n"
      ],
      "metadata": {
        "id": "b0FIf3Fyin60"
      },
      "execution_count": null,
      "outputs": []
    },
    {
      "cell_type": "code",
      "source": [
        "# 3. apply를 이용해 평균과 총점 구하기\n"
      ],
      "metadata": {
        "id": "XZ2tSSK3itcY"
      },
      "execution_count": null,
      "outputs": []
    },
    {
      "cell_type": "code",
      "source": [
        "# 4. 학업성취도를 아래와 같이 나눠서 새로운 컬럼으로 만들기.(평균 기준)\n",
        "## 90 이상이면 최우수\n",
        "## 80 ~ 90 사이면 우수\n",
        "## 70 ~ 80 사이면 보통\n",
        "## 60 ~ 70 사이면 미달"
      ],
      "metadata": {
        "id": "3CMWv_NjiqXc"
      },
      "execution_count": null,
      "outputs": []
    },
    {
      "cell_type": "code",
      "source": [
        "# 5. apply를 이용해 min-max scaler 일괄 적용\n",
        "# 어떤 데이터군을 0 ~ 1 사이의 값으로 범위를 한정시키는 방법이다. 크기 기준이 제각각 다른 데이터간 기준을 맞추어 관계를 명확히 표현하기 위해서 사용한다.\n",
        "\n",
        "# min - max scale 공식은 아래와 같다.\n",
        "\n",
        "# 어떤 데이터군(리스트, 시리즈)이 있을 때, 어떤 대상값을 0 ~ 1 사이의 값으로 만들려면\n",
        "\n",
        "# (대상값 - 해당 데이터 군의 최소값) / (해당 데이터 군의 최대값 - 해당 데이터 군의 최소값) \n",
        "\n"
      ],
      "metadata": {
        "id": "StmPmX_xivVB"
      },
      "execution_count": null,
      "outputs": []
    },
    {
      "cell_type": "code",
      "source": [
        "# 6. applymap을 이용해 모든 점수 뒤에 점 붙이기\n",
        "# 90점, 91점 ..."
      ],
      "metadata": {
        "id": "FtLzuQ4liw3e"
      },
      "execution_count": null,
      "outputs": []
    }
  ]
}