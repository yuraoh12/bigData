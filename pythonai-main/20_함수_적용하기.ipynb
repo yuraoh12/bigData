{
  "nbformat": 4,
  "nbformat_minor": 0,
  "metadata": {
    "colab": {
      "provenance": [],
      "authorship_tag": "ABX9TyOVFdmyKV5bZMdwEvCLrLUX",
      "include_colab_link": true
    },
    "kernelspec": {
      "name": "python3",
      "display_name": "Python 3"
    },
    "language_info": {
      "name": "python"
    }
  },
  "cells": [
    {
      "cell_type": "markdown",
      "metadata": {
        "id": "view-in-github",
        "colab_type": "text"
      },
      "source": [
        "<a href=\"https://colab.research.google.com/github/chacha86/pythonai/blob/main/20_%ED%95%A8%EC%88%98_%EC%A0%81%EC%9A%A9%ED%95%98%EA%B8%B0.ipynb\" target=\"_parent\"><img src=\"https://colab.research.google.com/assets/colab-badge.svg\" alt=\"Open In Colab\"/></a>"
      ]
    },
    {
      "cell_type": "code",
      "execution_count": null,
      "metadata": {
        "id": "N3Gc26YbhHBu"
      },
      "outputs": [],
      "source": [
        "import pandas as pd\n",
        "df = pd.read_excel('/content/거래내역조회.xlsx', skiprows=3)\n",
        "df"
      ]
    },
    {
      "cell_type": "code",
      "source": [
        "data = {\n",
        "    \"나이\" : [20, 30, 40],\n",
        "    \"이름\" : [\"홍길동\", \"황진이\", \"이순신\"]\n",
        "}\n",
        "\n",
        "\n",
        "df2 = pd.DataFrame(data)\n",
        "\n",
        "# 특정 행들의 특정 열값을 수정하는 법\n",
        "df2.loc[[0,1], '나이'] = [30, 40]\n",
        "\n",
        "df2['성별'] = ['남','녀','남']\n",
        "df2"
      ],
      "metadata": {
        "colab": {
          "base_uri": "https://localhost:8080/",
          "height": 143
        },
        "id": "VXjd7NqwoCH2",
        "outputId": "670b7d4e-7f27-405c-e896-63c6b00dbfae"
      },
      "execution_count": 14,
      "outputs": [
        {
          "output_type": "execute_result",
          "data": {
            "text/plain": [
              "   나이   이름 성별\n",
              "0  30  홍길동  남\n",
              "1  40  황진이  녀\n",
              "2  40  이순신  남"
            ],
            "text/html": [
              "\n",
              "  <div id=\"df-458bccbf-6b21-4052-bd35-65f5d1ce50a8\">\n",
              "    <div class=\"colab-df-container\">\n",
              "      <div>\n",
              "<style scoped>\n",
              "    .dataframe tbody tr th:only-of-type {\n",
              "        vertical-align: middle;\n",
              "    }\n",
              "\n",
              "    .dataframe tbody tr th {\n",
              "        vertical-align: top;\n",
              "    }\n",
              "\n",
              "    .dataframe thead th {\n",
              "        text-align: right;\n",
              "    }\n",
              "</style>\n",
              "<table border=\"1\" class=\"dataframe\">\n",
              "  <thead>\n",
              "    <tr style=\"text-align: right;\">\n",
              "      <th></th>\n",
              "      <th>나이</th>\n",
              "      <th>이름</th>\n",
              "      <th>성별</th>\n",
              "    </tr>\n",
              "  </thead>\n",
              "  <tbody>\n",
              "    <tr>\n",
              "      <th>0</th>\n",
              "      <td>30</td>\n",
              "      <td>홍길동</td>\n",
              "      <td>남</td>\n",
              "    </tr>\n",
              "    <tr>\n",
              "      <th>1</th>\n",
              "      <td>40</td>\n",
              "      <td>황진이</td>\n",
              "      <td>녀</td>\n",
              "    </tr>\n",
              "    <tr>\n",
              "      <th>2</th>\n",
              "      <td>40</td>\n",
              "      <td>이순신</td>\n",
              "      <td>남</td>\n",
              "    </tr>\n",
              "  </tbody>\n",
              "</table>\n",
              "</div>\n",
              "      <button class=\"colab-df-convert\" onclick=\"convertToInteractive('df-458bccbf-6b21-4052-bd35-65f5d1ce50a8')\"\n",
              "              title=\"Convert this dataframe to an interactive table.\"\n",
              "              style=\"display:none;\">\n",
              "        \n",
              "  <svg xmlns=\"http://www.w3.org/2000/svg\" height=\"24px\"viewBox=\"0 0 24 24\"\n",
              "       width=\"24px\">\n",
              "    <path d=\"M0 0h24v24H0V0z\" fill=\"none\"/>\n",
              "    <path d=\"M18.56 5.44l.94 2.06.94-2.06 2.06-.94-2.06-.94-.94-2.06-.94 2.06-2.06.94zm-11 1L8.5 8.5l.94-2.06 2.06-.94-2.06-.94L8.5 2.5l-.94 2.06-2.06.94zm10 10l.94 2.06.94-2.06 2.06-.94-2.06-.94-.94-2.06-.94 2.06-2.06.94z\"/><path d=\"M17.41 7.96l-1.37-1.37c-.4-.4-.92-.59-1.43-.59-.52 0-1.04.2-1.43.59L10.3 9.45l-7.72 7.72c-.78.78-.78 2.05 0 2.83L4 21.41c.39.39.9.59 1.41.59.51 0 1.02-.2 1.41-.59l7.78-7.78 2.81-2.81c.8-.78.8-2.07 0-2.86zM5.41 20L4 18.59l7.72-7.72 1.47 1.35L5.41 20z\"/>\n",
              "  </svg>\n",
              "      </button>\n",
              "      \n",
              "  <style>\n",
              "    .colab-df-container {\n",
              "      display:flex;\n",
              "      flex-wrap:wrap;\n",
              "      gap: 12px;\n",
              "    }\n",
              "\n",
              "    .colab-df-convert {\n",
              "      background-color: #E8F0FE;\n",
              "      border: none;\n",
              "      border-radius: 50%;\n",
              "      cursor: pointer;\n",
              "      display: none;\n",
              "      fill: #1967D2;\n",
              "      height: 32px;\n",
              "      padding: 0 0 0 0;\n",
              "      width: 32px;\n",
              "    }\n",
              "\n",
              "    .colab-df-convert:hover {\n",
              "      background-color: #E2EBFA;\n",
              "      box-shadow: 0px 1px 2px rgba(60, 64, 67, 0.3), 0px 1px 3px 1px rgba(60, 64, 67, 0.15);\n",
              "      fill: #174EA6;\n",
              "    }\n",
              "\n",
              "    [theme=dark] .colab-df-convert {\n",
              "      background-color: #3B4455;\n",
              "      fill: #D2E3FC;\n",
              "    }\n",
              "\n",
              "    [theme=dark] .colab-df-convert:hover {\n",
              "      background-color: #434B5C;\n",
              "      box-shadow: 0px 1px 3px 1px rgba(0, 0, 0, 0.15);\n",
              "      filter: drop-shadow(0px 1px 2px rgba(0, 0, 0, 0.3));\n",
              "      fill: #FFFFFF;\n",
              "    }\n",
              "  </style>\n",
              "\n",
              "      <script>\n",
              "        const buttonEl =\n",
              "          document.querySelector('#df-458bccbf-6b21-4052-bd35-65f5d1ce50a8 button.colab-df-convert');\n",
              "        buttonEl.style.display =\n",
              "          google.colab.kernel.accessAllowed ? 'block' : 'none';\n",
              "\n",
              "        async function convertToInteractive(key) {\n",
              "          const element = document.querySelector('#df-458bccbf-6b21-4052-bd35-65f5d1ce50a8');\n",
              "          const dataTable =\n",
              "            await google.colab.kernel.invokeFunction('convertToInteractive',\n",
              "                                                     [key], {});\n",
              "          if (!dataTable) return;\n",
              "\n",
              "          const docLinkHtml = 'Like what you see? Visit the ' +\n",
              "            '<a target=\"_blank\" href=https://colab.research.google.com/notebooks/data_table.ipynb>data table notebook</a>'\n",
              "            + ' to learn more about interactive tables.';\n",
              "          element.innerHTML = '';\n",
              "          dataTable['output_type'] = 'display_data';\n",
              "          await google.colab.output.renderOutput(dataTable, element);\n",
              "          const docLink = document.createElement('div');\n",
              "          docLink.innerHTML = docLinkHtml;\n",
              "          element.appendChild(docLink);\n",
              "        }\n",
              "      </script>\n",
              "    </div>\n",
              "  </div>\n",
              "  "
            ]
          },
          "metadata": {},
          "execution_count": 14
        }
      ]
    },
    {
      "cell_type": "code",
      "source": [
        "# 1. 찾으신 금액이 100000미만이면 적음, 찾으신 금액이 100000 이상 200000만 미만이면 보통, \n",
        "# 찾으신 금액이 200000 이상이면 많음. 으로 해서 소비량이라는 컬럼을 만들어주세요.\n",
        "# 200000 이상 300000 미만이면 아주 많음\n",
        "df.loc[df['찾으신금액'] < 100000, '소비량'] = '적음'\n",
        "df.loc[(df['찾으신금액'] < 200000)&(df['찾으신금액'] >= 100000), '소비량'] = '보통'\n",
        "df.loc[(df['찾으신금액'] >= 200000) & (df['찾으신금액'] < 300000)'소비량'] = '많음'\n",
        "\n",
        "df\n",
        "\n",
        "\n",
        "# 2. 모든 금액에 '원'이라는 글자를 뒤에 붙여주세요.\n",
        "\n",
        "df['찾으신금액(원)'] = df['찾으신금액'].astype('str') + '원'\n",
        "df['맡기신금액(원)'] = df['맡기신금액'].astype('str') + '원'\n",
        "df['거래후 잔액(원)'] = df['거래후 잔액'].astype('str') + '원'\n",
        "df"
      ],
      "metadata": {
        "id": "yH_w9tXxli1T"
      },
      "execution_count": null,
      "outputs": []
    },
    {
      "cell_type": "code",
      "source": [
        "def test(x) :\n",
        "  return x + 1\n",
        "\n",
        "li = [1,2,3,4]\n",
        "\n",
        "rst = []\n",
        "for i in range(0, len(li)) :\n",
        "  rst.append(test(li[i]))\n",
        "\n",
        "list(map(test, li))"
      ],
      "metadata": {
        "colab": {
          "base_uri": "https://localhost:8080/"
        },
        "id": "P8MGmdnQwpat",
        "outputId": "35d1a125-39f3-4ddc-d7a5-aee95051bdd9"
      },
      "execution_count": 38,
      "outputs": [
        {
          "output_type": "execute_result",
          "data": {
            "text/plain": [
              "[2, 3, 4, 5]"
            ]
          },
          "metadata": {},
          "execution_count": 38
        }
      ]
    },
    {
      "cell_type": "code",
      "source": [
        "df['찾으신금액'].map(test)"
      ],
      "metadata": {
        "id": "p59tCbilxiAy"
      },
      "execution_count": null,
      "outputs": []
    },
    {
      "cell_type": "code",
      "source": [
        "def price_distinct(price) :\n",
        "  if price < 100000 :\n",
        "    return \"적음\"\n",
        "  elif price < 200000:\n",
        "    return \"보통\"\n",
        "  elif price < 300000:\n",
        "    return \"많음\"\n",
        "  else :\n",
        "    return \"아주 많음\" \n",
        "\n",
        "df['찾으신금액'].map(price_distinct)\n"
      ],
      "metadata": {
        "id": "3R06_XbxhI4S"
      },
      "execution_count": null,
      "outputs": []
    },
    {
      "cell_type": "code",
      "source": [
        "# map, apply, applymap\n",
        "# map -> 컬럼(시리즈) 대상 함수 적용\n",
        "# applymap -> 데이터프레임 전체를 대상으로 함수 적용\n",
        "# apply -> 컬럼, 또는 로우를 직접 선택해서 함수 적용\n",
        "def add_won(price) :\n",
        "  return str(price) + '원'\n",
        "\n",
        "df[['찾으신금액', '맡기신금액', '거래후 잔액']].applymap(add_won)\n",
        "\n",
        "# apply -> \n",
        "# 1. 컬럼을 원하는대로 선택해서 연산 일괄 적용\n",
        "\n",
        "def sum_cols(col) :\n",
        "  s = 0\n",
        "  for i in col :\n",
        "    s += i\n",
        "  \n",
        "  return s\n",
        "\n",
        "# 각 컬럼의 합계\n",
        "df[['찾으신금액', '맡기신금액']].apply(sum_cols, axis=0) # axis=0 컬럼이 넘어감\n",
        "\n",
        "\n",
        "# 2. 로우를 원하는대로 선택해서 연산 일괄 적용\n",
        "\n",
        "df[['찾으신금액', '거래후 잔액']].apply(sum_cols, axis=1) \n",
        "\n"
      ],
      "metadata": {
        "id": "a61OffLiz58R"
      },
      "execution_count": null,
      "outputs": []
    },
    {
      "cell_type": "code",
      "source": [
        "def print_item(item) :\n",
        "  print(item)\n",
        "  print(\"===================================\")\n",
        "\n",
        "# axis = 0 (로우), axis = 1 (컬럼)\n",
        "\n",
        "#df[['찾으신금액', '맡기신금액', '거래후 잔액']].apply(print_item, axis=0)\n",
        "df[['찾으신금액', '맡기신금액', '거래후 잔액']].apply(print_item, axis=1)\n",
        "\n",
        "\n"
      ],
      "metadata": {
        "id": "f1WE5sQs3u3F"
      },
      "execution_count": null,
      "outputs": []
    },
    {
      "cell_type": "code",
      "source": [
        "df"
      ],
      "metadata": {
        "id": "ps6GKuzV5IPr"
      },
      "execution_count": null,
      "outputs": []
    },
    {
      "cell_type": "code",
      "source": [
        "def print_bill(row) :\n",
        "  return f\"{row['거래일시']}에 {row['기재내용']}를 하기 위해 {row['찾으신금액']}을 사용했고 {row['거래후 잔액']}의 잔액이 남았습니다.\"\n",
        "\n",
        "df.apply(print_bill, axis=1)"
      ],
      "metadata": {
        "colab": {
          "base_uri": "https://localhost:8080/"
        },
        "id": "K2SEeJ-V4rg6",
        "outputId": "6a21ee37-7aac-45c3-f2fc-fd6cef339be4"
      },
      "execution_count": 74,
      "outputs": [
        {
          "output_type": "execute_result",
          "data": {
            "text/plain": [
              "0    2022.03.12 03:37에 nan를 하기 위해 9570을 사용했고 26213의...\n",
              "1    2022.03.11 03:26에 01011112222SKT를 하기 위해 117910...\n",
              "2    2022.03.10 18:23에 김밥이 좋아를 하기 위해 4500을 사용했고 153...\n",
              "3    2022.03.10 16:05에 스타벅스를 하기 위해 2000을 사용했고 15819...\n",
              "4    2022.03.10 10:42에 몸짱피트니스를 하기 위해 238000을 사용했고 1...\n",
              "5    2022.03.10 10:40에 친구를 하기 위해 0을 사용했고 398193의 잔액...\n",
              "6    2022.03.10 00:59에 이커머스를 하기 위해 15540을 사용했고 1981...\n",
              "7    2022.03.09 18:49에 커피집를 하기 위해 2000을 사용했고 213733...\n",
              "8    2022.03.09 18:05에 가족를 하기 위해 0을 사용했고 215733의 잔액...\n",
              "9    2022.03.09 16:52에 피자집를 하기 위해 9800을 사용했고 15733의...\n",
              "dtype: object"
            ]
          },
          "metadata": {},
          "execution_count": 74
        }
      ]
    }
  ]
}