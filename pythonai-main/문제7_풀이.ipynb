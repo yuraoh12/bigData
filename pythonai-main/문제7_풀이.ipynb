{
  "nbformat": 4,
  "nbformat_minor": 0,
  "metadata": {
    "colab": {
      "provenance": [],
      "authorship_tag": "ABX9TyNVT1JK6iRL6vmHQeuwRsal",
      "include_colab_link": true
    },
    "kernelspec": {
      "name": "python3",
      "display_name": "Python 3"
    },
    "language_info": {
      "name": "python"
    }
  },
  "cells": [
    {
      "cell_type": "markdown",
      "metadata": {
        "id": "view-in-github",
        "colab_type": "text"
      },
      "source": [
        "<a href=\"https://colab.research.google.com/github/chacha86/pythonai/blob/main/%EB%AC%B8%EC%A0%9C7_%ED%92%80%EC%9D%B4.ipynb\" target=\"_parent\"><img src=\"https://colab.research.google.com/assets/colab-badge.svg\" alt=\"Open In Colab\"/></a>"
      ]
    },
    {
      "cell_type": "code",
      "execution_count": 7,
      "metadata": {
        "id": "G8OCTHKEH9Fj"
      },
      "outputs": [],
      "source": [
        "import pandas as pd\n"
      ]
    },
    {
      "cell_type": "code",
      "source": [
        "\n",
        "# 학생 점수 정보\n",
        "st_score = pd.read_excel('/content/students_scores.xlsx')\n",
        "st_score\n",
        "     \n",
        "\n",
        "st_info1 = pd.read_csv('/content/students_info1.csv')\n",
        "st_info1\n",
        "     \n",
        "\n",
        "st_info2 = pd.read_csv('/content/students_info2.csv')\n",
        "st_info2\n",
        "     "
      ],
      "metadata": {
        "id": "O6fRY3AImwCH"
      },
      "execution_count": null,
      "outputs": []
    },
    {
      "cell_type": "code",
      "source": [
        "st_info2 = st_info2.rename(columns={'Loc' : '지역', 'Sex' : '성별'})\n",
        "\n",
        "# 컬럼명을 수정해서 동일한 컬럼구조로 만들어준다.\n",
        "\n",
        "info = pd.concat([st_info1, st_info2])\n",
        "\n",
        "info['지역'].unique()\n",
        "\n",
        "info['지역'].str.lower().unique()\n",
        "\n",
        "city_list_kor = ['대전', '광주', '울산', '서울', '부산', '부산', '대구', '인천']\n",
        "city_list_eng = ['daejon', 'kwangju', 'ulsan',  'seoul', 'busan', 'pusan', 'daeku', 'incheon']\n",
        "\n",
        "info['지역'] = info['지역'].str.lower().replace(city_list_eng, city_list_kor)\n",
        "info['성별'] = info['성별'].replace(['F', 'M'],['여자', '남자'])\n",
        "\n",
        "info['생년월일'] = info['생년월일'].str.replace('년', '-').str.replace('월', '-').str.replace('일', '')\n",
        "\n",
        "info = info.reset_index(drop=True)\n",
        "\n",
        "st_score['평균'] = st_score[['국어', '영어', '수학']].mean(axis=1)\n",
        "\n",
        "rst = pd.concat([st_score, info[['지역', '성별', '생년월일']]], axis=1)\n"
      ],
      "metadata": {
        "id": "d8_NnsKlmxsM"
      },
      "execution_count": 27,
      "outputs": []
    },
    {
      "cell_type": "code",
      "source": [
        "cour = pd.read_csv('/content/sel_course.csv')\n",
        "cour['과목명'].unique()\n",
        "\n",
        "cour.sort_values('학번')"
      ],
      "metadata": {
        "id": "raH2AxGRYtjA"
      },
      "execution_count": null,
      "outputs": []
    },
    {
      "cell_type": "code",
      "source": [
        "\n",
        "# merge 연습문제\n",
        "# ====================================================================================================================================================\n",
        "# 문제1 - 각 선택 과목별 학생 수\n",
        "cour.groupby(['과목번호', '과목명']).size()\n",
        "\n",
        "# 문제2 - 선택 과목을 3개 이상 듣는 학생의 번호와 이름\n",
        "tmp = pd.merge(rst, cour, left_on='번호', right_on='학번').groupby(['번호', '이름']) \\\n",
        ".count()[['학번']].rename(columns={'학번' : '과목수'}) \\\n",
        "\n",
        "tmp.loc[tmp['과목수'] >= 3]\n",
        "\n",
        "\n",
        "# 문제3 - 선택 과목을 하나도 듣지 않는 학생의 번호와 이름\n",
        "tmp2 = pd.merge(rst, cour, left_on='번호', right_on='학번', how='left').groupby(['번호', '이름']).count()[['학번']]\n",
        "tmp2.loc[tmp2['학번'] == 0]\n",
        "\n",
        "\n",
        "# 문제4 - 각 지역별 평균 선택과목 수\n",
        "pd.merge(rst, cour, left_on='번호', right_on='학번', how='left') \\\n",
        "  .groupby(['번호', '지역']).count()[['과목번호']] \\\n",
        "  .groupby('지역').mean().rename(columns={'과목번호' : '과목수'})\n",
        "\n",
        "\n",
        "# 문제5 - 각 지역의 탑들이 선택한 선택과목\n",
        "tmp3 = pd.merge(rst, cour, left_on='번호', right_on='학번', how='left') \\\n",
        "  .sort_values('평균', ascending=False).groupby('지역').head(1) [['번호', '이름', '지역']]\n",
        "\n",
        "pd.merge(tmp3, cour, left_on='번호', right_on='학번', how='left')[['번호', '이름', '지역', '과목명']] \\\n",
        "  .sort_values('번호')"
      ],
      "metadata": {
        "id": "OhCucL7OZWdg"
      },
      "execution_count": null,
      "outputs": []
    }
  ]
}