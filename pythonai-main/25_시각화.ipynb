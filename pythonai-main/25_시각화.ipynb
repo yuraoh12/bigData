{
  "nbformat": 4,
  "nbformat_minor": 0,
  "metadata": {
    "colab": {
      "provenance": [],
      "authorship_tag": "ABX9TyOrek3ddWPpkOWf0u6ua/bT",
      "include_colab_link": true
    },
    "kernelspec": {
      "name": "python3",
      "display_name": "Python 3"
    },
    "language_info": {
      "name": "python"
    }
  },
  "cells": [
    {
      "cell_type": "markdown",
      "metadata": {
        "id": "view-in-github",
        "colab_type": "text"
      },
      "source": [
        "<a href=\"https://colab.research.google.com/github/chacha86/pythonai/blob/main/25_%EC%8B%9C%EA%B0%81%ED%99%94.ipynb\" target=\"_parent\"><img src=\"https://colab.research.google.com/assets/colab-badge.svg\" alt=\"Open In Colab\"/></a>"
      ]
    },
    {
      "cell_type": "code",
      "execution_count": null,
      "metadata": {
        "id": "YdDxs3IWT2BH"
      },
      "outputs": [],
      "source": [
        "import matplotlib.pyplot as plt\n",
        "\n",
        "plt.plot([1, 2, 3, 4])\n",
        "plt.show()"
      ]
    },
    {
      "cell_type": "code",
      "source": [
        "import matplotlib.pyplot as plt\n",
        "\n",
        "plt.plot([1, 2, 3, 4], [1, 4, 9, 16])\n",
        "plt.show()"
      ],
      "metadata": {
        "id": "s1n2LOlIVO5a"
      },
      "execution_count": null,
      "outputs": []
    },
    {
      "cell_type": "code",
      "source": [
        "import matplotlib.pyplot as plt\n",
        "\n",
        "plt.plot([1, 2, 3, 4], [1, 4, 9, 16], 'ro')\n",
        "plt.axis([0, 6, 0, 20])\n",
        "plt.show()"
      ],
      "metadata": {
        "id": "os245aOpVZzt"
      },
      "execution_count": null,
      "outputs": []
    },
    {
      "cell_type": "code",
      "source": [
        "import matplotlib.pyplot as plt\n",
        "import numpy as np\n",
        "\n",
        "# 200ms 간격으로 균일하게 샘플된 시간\n",
        "t = np.arange(0., 5., 0.2)\n",
        "\n",
        "# 빨간 대쉬, 파란 사각형, 녹색 삼각형\n",
        "plt.plot(t, t, 'r--')\n",
        "plt.plot(t, t**2, 'bs')\n",
        "plt.plot(t, t**3, 'g^')\n",
        "plt.show()"
      ],
      "metadata": {
        "id": "Brt0VE5qVrrR"
      },
      "execution_count": null,
      "outputs": []
    },
    {
      "cell_type": "code",
      "source": [
        "import matplotlib.pyplot as plt\n",
        "\n",
        "data_dict = {'data_x': [1, 2, 3, 4, 5], 'data_y': [2, 3, 5, 10, 8]}\n",
        "\n",
        "data_dict\n",
        "plt.plot('data_x', 'data_y', data=data_dict)\n",
        "plt.show()\n",
        "\n",
        "\n"
      ],
      "metadata": {
        "id": "RW5ZUrZVWaal"
      },
      "execution_count": null,
      "outputs": []
    },
    {
      "cell_type": "code",
      "source": [
        "import pandas as pd\n",
        "\n",
        "df = pd.DataFrame(data_dict)\n",
        "df\n",
        "\n",
        "plt.plot('data_x', 'data_y', data=df)\n",
        "plt.show()"
      ],
      "metadata": {
        "id": "oUgWaFihWxS0"
      },
      "execution_count": null,
      "outputs": []
    },
    {
      "cell_type": "code",
      "source": [
        "import matplotlib.pyplot as plt\n",
        "\n",
        "plt.plot([1, 2, 3, 4], [1, 4, 9, 16])\n",
        "plt.xlabel('X축', labelpad=30)\n",
        "plt.ylabel('Y축', labelpad=15, rotation=0)\n",
        "plt.show()"
      ],
      "metadata": {
        "id": "R6pFJX9rXx-8"
      },
      "execution_count": null,
      "outputs": []
    },
    {
      "cell_type": "code",
      "source": [
        "!sudo apt-get install -y fonts-nanum\n",
        "!sudo fc-cache -fv\n",
        "!rm ~/.cache/matplotlib -rf"
      ],
      "metadata": {
        "id": "I8FwKdeBYVPW"
      },
      "execution_count": null,
      "outputs": []
    },
    {
      "cell_type": "code",
      "source": [
        "import matplotlib.font_manager as fm \n",
        "import matplotlib as mpl \n",
        "import matplotlib.pyplot as plt \n",
        "\n",
        "path = '/usr/share/fonts/truetype/nanum/NanumBarunGothic.ttf' \n",
        "font_name = fm.FontProperties(fname=path, size=10).get_name()\n",
        "print(font_name)\n",
        "plt.rc('font', family=font_name)\n",
        "\n",
        "mpl.rcParams['axes.unicode_minus'] = False"
      ],
      "metadata": {
        "colab": {
          "base_uri": "https://localhost:8080/"
        },
        "id": "fmnl2e9zYs6_",
        "outputId": "4a6ae0b1-09a5-4160-cea0-3175c871f7a9"
      },
      "execution_count": 1,
      "outputs": [
        {
          "output_type": "stream",
          "name": "stdout",
          "text": [
            "NanumBarunGothic\n"
          ]
        }
      ]
    },
    {
      "cell_type": "code",
      "source": [
        "import matplotlib.pyplot as plt\n",
        "\n",
        "font1 = {'family': 'NanumBarunGothic', # 글씨체(폰트)\n",
        "         'color': 'crimson', # 글씨 색상\n",
        "         'weight': 'bold', # 글씨를 굵게 또는 기울여서(이탤릭체) 등의 옵션\n",
        "         'size': 14 # 글씨의 크기\n",
        "         }\n",
        "\n",
        "font2 = {'family': 'fantasy',\n",
        "         'color': 'deeppink',\n",
        "         'weight': 'normal',\n",
        "         'size': 'xx-large'\n",
        "         }\n",
        "\n",
        "plt.plot([1, 2, 3, 4], [2, 3, 5, 10])\n",
        "plt.xlabel('X축', labelpad=15, fontdict=font1)\n",
        "plt.ylabel('Y-Axis', labelpad=20, fontdict=font2)\n",
        "plt.show()"
      ],
      "metadata": {
        "id": "5f0LMLkXZnOo"
      },
      "execution_count": null,
      "outputs": []
    },
    {
      "cell_type": "code",
      "source": [
        "import matplotlib.pyplot as plt\n",
        "\n",
        "plt.plot([1, 2, 3, 4], [2, 3, 5, 10])\n",
        "plt.xlabel('X-Axis')\n",
        "plt.ylabel('Y-Axis')\n",
        "plt.xlim([0, 5])      # X축의 범위: [xmin, xmax]\n",
        "plt.ylim([0, 20])     # Y축의 범위: [ymin, ymax]\n",
        "\n",
        "plt.show()"
      ],
      "metadata": {
        "id": "U-o3dGtHa_1C"
      },
      "execution_count": null,
      "outputs": []
    },
    {
      "cell_type": "code",
      "source": [
        "import matplotlib.pyplot as plt\n",
        "\n",
        "plt.plot([1, 2, 3, 4], [2, 3, 5, 10])\n",
        "plt.xlabel('X-Axis')\n",
        "plt.ylabel('Y-Axis')\n",
        "plt.xlim([2, 3])      # X축의 범위: [xmin, xmax]\n",
        "plt.ylim([2.5, 5])     # Y축의 범위: [ymin, ymax]\n",
        "\n",
        "plt.show()"
      ],
      "metadata": {
        "id": "BTiV0RTQbqp_"
      },
      "execution_count": null,
      "outputs": []
    },
    {
      "cell_type": "code",
      "source": [
        "import matplotlib.pyplot as plt\n",
        "\n",
        "plt.plot([1, 2, 3, 4], [2, 3, 5, 10])\n",
        "plt.xlabel('X-Axis')\n",
        "plt.ylabel('Y-Axis')\n",
        "\n",
        "#x_range, y_range = plt.xlim(), plt.ylim()\n",
        "x_ran = plt.xlim()\n",
        "print(x_ran)\n",
        "y_ran = plt.ylim()\n",
        "print(y_ran)\n",
        "#print(x_range, y_range)\n",
        "\n",
        "plt.show()"
      ],
      "metadata": {
        "id": "PP0mN6fea_4j"
      },
      "execution_count": null,
      "outputs": []
    },
    {
      "cell_type": "code",
      "source": [
        "import numpy as np\n",
        "\n",
        "x = np.arange(0, 2, 0.2)\n",
        "\n",
        "plt.plot(x, x, 'bo')\n",
        "plt.plot(x, x**2, color='#2b9fc4', marker='*', linewidth=2)\n",
        "plt.plot(x, x**3, color='forestgreen', marker='^', markersize=9)\n",
        "plt.xticks([0, 1, 2])\n",
        "plt.yticks(np.arange(1, 6))\n",
        "\n",
        "plt.show()"
      ],
      "metadata": {
        "id": "DYZsxZAAclcU"
      },
      "execution_count": null,
      "outputs": []
    },
    {
      "cell_type": "code",
      "source": [
        "import matplotlib.pyplot as plt\n",
        "import numpy as np\n",
        "\n",
        "x = np.arange(0, 2, 0.2)\n",
        "\n",
        "plt.plot(x, x, 'bo')\n",
        "plt.plot(x, x**2, color='#e35f62', marker='*', linewidth=2)\n",
        "plt.plot(x, x**3, color='springgreen', marker='^', markersize=9)\n",
        "plt.xticks(np.arange(0, 2, 0.2), labels=['Jan', '', 'Feb', '', 'Mar', '', 'May', '', 'June', ''])\n",
        "plt.yticks(np.arange(0, 7), ('0', '1GB', '2GB', '3GB', '4GB', '5GB', '6GB'))\n",
        "\n",
        "plt.show()\n",
        "\n",
        "#len(x)\n",
        "#len(['Jan', '', 'Feb', '', 'Mar', '', 'May', '', 'June', '', 'July'])"
      ],
      "metadata": {
        "id": "bMiD1fBMeAr8"
      },
      "execution_count": null,
      "outputs": []
    },
    {
      "cell_type": "code",
      "source": [
        "import matplotlib.pyplot as plt\n",
        "import numpy as np\n",
        "\n",
        "x = np.arange(0, 2, 0.2)\n",
        "\n",
        "plt.plot(x, x, 'bo')\n",
        "plt.plot(x, x**2, color='#e35f62', marker='*', linewidth=2)\n",
        "plt.plot(x, x**3, color='forestgreen', marker='^', markersize=9)\n",
        "\n",
        "plt.tick_params(axis='both', direction='in', length=3, pad=6, labelsize=14)\n",
        "plt.title('내 그래프 제목')\n",
        "\n",
        "plt.show()"
      ],
      "metadata": {
        "id": "5tBTp5Mreavo"
      },
      "execution_count": null,
      "outputs": []
    },
    {
      "cell_type": "code",
      "source": [
        "font1 = {'color' : 'red', 'size' : 15}\n",
        "font2 = {'color' : 'b', 'size' : 15}\n",
        "\n",
        "plt.plot([2010, 2011, 2012, 2013], [10000, 12000, 13000, 15000])\n",
        "plt.xlabel('연도', labelpad=20, fontdict=font1)\n",
        "plt.ylabel('매출', rotation=0, labelpad=20, fontdict=font2)\n",
        "plt.xticks([2010, 2011, 2012, 2013])\n",
        "plt.title('연도별 매출 증가 추이')\n",
        "plt.show()\n"
      ],
      "metadata": {
        "id": "o1PyxdVVfi1Z"
      },
      "execution_count": null,
      "outputs": []
    },
    {
      "cell_type": "code",
      "source": [
        "import matplotlib.pyplot as plt\n",
        "import numpy as np\n",
        "\n",
        "x = np.arange(3)\n",
        "years = ['2018', '2019', '2020']\n",
        "values = [100, 400, 900]\n",
        "\n",
        "plt.bar(x, values)\n",
        "plt.xticks(x, years)\n",
        "\n",
        "plt.show()"
      ],
      "metadata": {
        "id": "6OxL4hnFg0Mo"
      },
      "execution_count": null,
      "outputs": []
    },
    {
      "cell_type": "code",
      "source": [
        "x = ['대전', '서울', '대구']\n",
        "y = [10, 15, 12]\n",
        "\n",
        "plt.bar(x, y)\n",
        "\n",
        "plt.show()"
      ],
      "metadata": {
        "id": "Bc49_3QfiG8Z"
      },
      "execution_count": null,
      "outputs": []
    },
    {
      "cell_type": "code",
      "source": [
        "import matplotlib.pyplot as plt\n",
        "import numpy as np\n",
        "\n",
        "np.random.seed(1)\n",
        "\n",
        "n = 50\n",
        "x = np.random.rand(n)\n",
        "y = np.random.rand(n)\n",
        "\n",
        "plt.scatter(x, y)\n",
        "plt.show()"
      ],
      "metadata": {
        "id": "AW_X0k3eidJ8"
      },
      "execution_count": null,
      "outputs": []
    },
    {
      "cell_type": "code",
      "source": [
        "x = [1,2,3,4]\n",
        "y = [2,1,4,7]\n",
        "\n",
        "plt.scatter(x, y)\n",
        "plt.show()"
      ],
      "metadata": {
        "id": "kcSogMYHirNS"
      },
      "execution_count": null,
      "outputs": []
    },
    {
      "cell_type": "code",
      "source": [
        "import pandas as pd\n",
        "# 학생 점수 정보\n",
        "st_score = pd.read_csv('/content/students_scores.csv')\n",
        "st_score\n",
        "     \n",
        "\n",
        "st_info1 = pd.read_csv('/content/students_info1.csv')\n",
        "st_info1\n",
        "     \n",
        "\n",
        "st_info2 = pd.read_csv('/content/students_info2.csv')\n",
        "st_info2\n",
        "     \n",
        "\n",
        "sr = pd.Series([1,2,1,2,1,1,1,2,2,1,1,2,1,1,2,1,2,1,2,2])\n",
        "\n",
        "#sr.replace({1 : 10, 2 : 20})\n",
        "sr.replace([1, 2], ['홀수', '짝수'])\n",
        "     \n",
        "\n",
        "# 간이문제. 학생들의 점수와 신상 정보를 붙여주세요.\n",
        "\n",
        "# st_score.info()\n",
        "# st_info1.info()\n",
        "# st_info2.info()\n",
        "\n",
        "st_info1.head()\n",
        "st_info2.head()\n",
        "\n",
        "st_info2 = st_info2.rename(columns={'Loc' : '지역', 'Sex' : '성별'})\n",
        "\n",
        "# 컬럼명을 수정해서 동일한 컬럼구조로 만들어준다.\n",
        "\n",
        "info = pd.concat([st_info1, st_info2])\n",
        "\n",
        "info['지역'].unique()\n",
        "\n",
        "info['지역'].str.lower().unique()\n",
        "\n",
        "city_list_kor = ['대전', '광주', '울산', '서울', '부산', '부산', '대구', '인천']\n",
        "city_list_eng = ['daejon', 'kwangju', 'ulsan',  'seoul', 'busan', 'pusan', 'daeku', 'incheon']\n",
        "\n",
        "info['지역'] = info['지역'].str.lower().replace(city_list_eng, city_list_kor)\n",
        "info['성별'] = info['성별'].replace(['F', 'M'],['여자', '남자'])\n",
        "\n",
        "info['생년월일'] = info['생년월일'].str.replace('년', '-').str.replace('월', '-').str.replace('일', '')\n",
        "\n",
        "info = info.reset_index(drop=True)\n",
        "     \n",
        "\n",
        "rst = pd.concat([st_score, info[['지역', '성별', '생년월일']]], axis=1)\n",
        "cour = pd.read_csv('/content/sel_course.csv')\n",
        "sts = pd.merge(rst, cour, left_on='번호', right_on='학번')"
      ],
      "metadata": {
        "id": "E0vDu5erjr-M"
      },
      "execution_count": 67,
      "outputs": []
    },
    {
      "cell_type": "code",
      "source": [
        "# 1. 생년월별 학생의 평균 성적을 구하고 선그래프로 시각화하기\n",
        "\n",
        "sts['평균'] = sts[['국어', '영어', '수학']].mean(axis=1)\n",
        "\n",
        "sts['월'] = sts['생년월일'].str[5:7]\n",
        "rst1 = sts.groupby('월').mean('평균')[['평균']]\n",
        "\n",
        "#plt.plot(rst1['월'], rst1['평균'])\n",
        "rst1 = rst1.reset_index()"
      ],
      "metadata": {
        "id": "sjZ6h5wMkGu9"
      },
      "execution_count": 82,
      "outputs": []
    },
    {
      "cell_type": "code",
      "source": [
        "plt.plot(rst1['월'], rst1['평균'])\n",
        "plt.xlabel('생월')\n",
        "plt.ylabel('평균점수', rotation=0, labelpad=30)\n",
        "plt.xticks([0,1,2,3,4,5,6,7,8,9,10], labels=['1월', '2월', '3월', '4월', '5월', '6월', '7월', '8월', '9월', '10월', '11월'])\n",
        "\n",
        "ytick_param = [75, 76, 77, 78, 79, 80, 81, 82, 83]\n",
        "\n",
        "sr = pd.Series(ytick_param).astype('str')\n",
        "sr2 = sr + '점'\n",
        "\n",
        "plt.yticks(ytick_param, labels=sr2)\n",
        "\n",
        "plt.title('생월별 평균 성적')\n",
        "plt.show()\n",
        "\n",
        "\n"
      ],
      "metadata": {
        "id": "esfABBtQlXO4"
      },
      "execution_count": null,
      "outputs": []
    },
    {
      "cell_type": "code",
      "source": [
        "# 2. 생년 월별 학생의 평균 성적을 막대그래프로 시각화.\n",
        "\n",
        "plt.bar(rst1['월'], rst1['평균'])\n",
        "plt.xlabel('생월')\n",
        "plt.ylabel('평균점수', rotation=0, labelpad=30)\n",
        "plt.xticks([0,1,2,3,4,5,6,7,8,9,10], labels=['1월', '2월', '3월', '4월', '5월', '6월', '7월', '8월', '9월', '10월', '11월'])\n",
        "\n",
        "ytick_param = [75, 76, 77, 78, 79, 80, 81, 82, 83]\n",
        "\n",
        "sr = pd.Series(ytick_param).astype('str')\n",
        "sr2 = sr + '점'\n",
        "\n",
        "plt.yticks(ytick_param, labels=sr2)\n",
        "plt.title('생월별 평균 성적')\n",
        "\n",
        "plt.ylim([75, 83])\n",
        "plt.show()\n",
        "\n"
      ],
      "metadata": {
        "id": "UI0z65otnLtR"
      },
      "execution_count": null,
      "outputs": []
    },
    {
      "cell_type": "code",
      "source": [
        "# 3. 지역별로 학생의 수학 평균을 구하고 막대그래프로 시각화.\n",
        "\n",
        "rst2 = sts.groupby('지역').mean('수학')[['수학']].reset_index()\n",
        "\n",
        "plt.bar(rst2['지역'], rst2['수학'])\n",
        "plt.xlabel('지역')\n",
        "plt.ylabel('평균점수', rotation=0, labelpad=30)\n",
        "#plt.xticks([0,1,2,3,4,5,6,7,8,9,10], labels=['1월', '2월', '3월', '4월', '5월', '6월', '7월', '8월', '9월', '10월', '11월'])\n",
        "\n",
        "#ytick_param = [75, 76, 77, 78, 79, 80, 81, 82, 83]\n",
        "\n",
        "#sr = pd.Series(ytick_param).astype('str')\n",
        "#sr2 = sr + '점'\n",
        "\n",
        "#plt.yticks(ytick_param, labels=sr2)\n",
        "plt.title('지역별 평균 성적')\n",
        "plt.ylim([75, 83])\n",
        "plt.show()"
      ],
      "metadata": {
        "id": "DOes7InNoVK1"
      },
      "execution_count": null,
      "outputs": []
    },
    {
      "cell_type": "code",
      "source": [
        "# 4. 각 지역별 학생수를 막대그래프로 시각화\n",
        "\n",
        "rst3 = sts.groupby('지역').count()[['번호']].reset_index()\n",
        "\n",
        "plt.bar('지역', '번호',data=rst3)\n",
        "plt.xlabel('지역')\n",
        "plt.ylabel('학생 수')\n"
      ],
      "metadata": {
        "colab": {
          "base_uri": "https://localhost:8080/",
          "height": 466
        },
        "id": "Uzz03jlVpoRr",
        "outputId": "a1fdfba6-c1d8-46ab-c3e7-724565879f0f"
      },
      "execution_count": 124,
      "outputs": [
        {
          "output_type": "execute_result",
          "data": {
            "text/plain": [
              "Text(0, 0.5, '학생 수')"
            ]
          },
          "metadata": {},
          "execution_count": 124
        },
        {
          "output_type": "display_data",
          "data": {
            "text/plain": [
              "<Figure size 640x480 with 1 Axes>"
            ],
            "image/png": "[encoded data removed]"
          },
          "metadata": {}
        }
      ]
    },
    {
      "cell_type": "code",
      "source": [
        "# 5. 생년 월별 학생의 수학 점수를 선그래프로 나타내기, 단! 각 지역별로 그래프를 따로 그리기.\n",
        "plt.figure(figsize=(10, 5))\n",
        "\n",
        "#sts['평균'] = sts[['국어', '영어', '수학']].mean(axis=1)\n",
        "sts['월'] = sts['생년월일'].str[5:7]\n",
        "rst4 = sts.groupby(['월', '지역']).mean('수학')[['수학']].reset_index()\n",
        "plt.xlabel('월')\n",
        "plt.ylabel('수학평균')\n",
        "#plt.plot('월', '수학', data=rst4)\n",
        "\n",
        "xtick_param = range(1, 12)\n",
        "sr = pd.Series(xtick_param).astype('str')\n",
        "xtick_labels = sr + '월'\n",
        "\n",
        "\n",
        "plt.xticks(range(0, 11), labels=xtick_labels)\n",
        "\n",
        "sub1 = rst4.loc[rst4['지역'] == '대전']\n",
        "sub2 = rst4.loc[rst4['지역'] == '서울']\n",
        "sub3 = rst4.loc[rst4['지역'] == '광주']\n",
        "\n",
        "sub1['월'] = sub1['월'].astype('int') - 1\n",
        "sub1\n",
        "sub2['월'] = sub2['월'].astype('int') - 1\n",
        "sub2\n",
        "sub3['월'] = sub3['월'].astype('int') - 1\n",
        "sub3\n",
        "\n",
        "\n",
        "plt.plot('월', '수학', data=sub1, label='대전') # 대전\n",
        "plt.plot('월', '수학', data=sub2, label='서울') # 서울\n",
        "plt.plot('월', '수학', data=sub3, label='광주') # 광주\n",
        "\n",
        "plt.legend()\n",
        "plt.show()\n",
        "\n",
        "\n"
      ],
      "metadata": {
        "colab": {
          "base_uri": "https://localhost:8080/",
          "height": 465
        },
        "id": "6yZPSv4oqO9-",
        "outputId": "be9b047c-facc-459c-9e34-264d705409bd"
      },
      "execution_count": 176,
      "outputs": [
        {
          "output_type": "display_data",
          "data": {
            "text/plain": [
              "<Figure size 1000x500 with 1 Axes>"
            ],
            "image/png": "[encoded data removed]"
          },
          "metadata": {}
        }
      ]
    }
  ]
}