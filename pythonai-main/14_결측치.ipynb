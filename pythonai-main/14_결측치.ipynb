{
  "nbformat": 4,
  "nbformat_minor": 0,
  "metadata": {
    "colab": {
      "provenance": [],
      "authorship_tag": "ABX9TyNuAITYHQmys+Kd5YfAixFl",
      "include_colab_link": true
    },
    "kernelspec": {
      "name": "python3",
      "display_name": "Python 3"
    },
    "language_info": {
      "name": "python"
    }
  },
  "cells": [
    {
      "cell_type": "markdown",
      "metadata": {
        "id": "view-in-github",
        "colab_type": "text"
      },
      "source": [
        "<a href=\"https://colab.research.google.com/github/chacha86/pythonai/blob/main/14_%EA%B2%B0%EC%B8%A1%EC%B9%98.ipynb\" target=\"_parent\"><img src=\"https://colab.research.google.com/assets/colab-badge.svg\" alt=\"Open In Colab\"/></a>"
      ]
    },
    {
      "cell_type": "code",
      "execution_count": null,
      "metadata": {
        "id": "ZElogMyaM2mW"
      },
      "outputs": [],
      "source": [
        "import pandas as pd\n",
        "\n",
        "df = pd.read_excel('/content/거래내역조회.xlsx', skiprows=3)\n",
        "df"
      ]
    },
    {
      "cell_type": "code",
      "source": [
        "# 결측치 -> 값이 없다. 비어 있다.\n",
        "# NaN이 포함된 컬럼이나 로우는 함수 연산 중 에러를 발생할 위험이 있다.\n",
        "# 분석이나 기계학습에서 데이터의 정확도를 떨어뜨리게 된다.\n",
        "\n",
        "# 결측치를 처리해야만 한다.\n",
        "## 1.결측치 자체를 없애버리는 방법(삭제) - dropna()\n",
        "df.dropna(axis=0) # axis = 0, 결측치가 포함된 행을 삭제,\n",
        "df.dropna(axis=1) # axis = 1 결측치가 포함된 열을 삭제.\n",
        "\n",
        "### 결측치는 그 수가 많지 않을 때 결측치에 해당하는 로우만 삭제\n",
        "df.dropna(subset='기재내용', axis=0)\n",
        "\n",
        "## 2. 결측치를 합리적인 값으로 대체. - fillna()\n",
        "### 숫자 -> 0, 평균, 중앙값, 문자 -> 공백\n",
        "df.fillna('')\n",
        "\n",
        "df['기재내용2'] = df['기재내용'].fillna('')\n",
        "df\n",
        "\n",
        "## 3. 결측치 확인\n",
        "### 1. info() 사용\n",
        "# df.info()\n",
        "\n",
        "### 2. isna() 사용\n",
        "df.isna().sum()"
      ],
      "metadata": {
        "colab": {
          "base_uri": "https://localhost:8080/"
        },
        "id": "tcFZU728NW6m",
        "outputId": "cbf7bc48-6305-4c80-d00f-f7ae00207d84"
      },
      "execution_count": 21,
      "outputs": [
        {
          "output_type": "execute_result",
          "data": {
            "text/plain": [
              "No.        0\n",
              "거래일시       0\n",
              "적요         0\n",
              "기재내용       1\n",
              "찾으신금액      0\n",
              "맡기신금액      0\n",
              "거래후 잔액     0\n",
              "취급점        0\n",
              "메모        10\n",
              "기재내용2      0\n",
              "dtype: int64"
            ]
          },
          "metadata": {},
          "execution_count": 21
        }
      ]
    }
  ]
}