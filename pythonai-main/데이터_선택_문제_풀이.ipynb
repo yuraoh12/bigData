{
  "nbformat": 4,
  "nbformat_minor": 0,
  "metadata": {
    "colab": {
      "provenance": [],
      "authorship_tag": "ABX9TyPdB1eZS2YkGjzqMOI4LB7G",
      "include_colab_link": true
    },
    "kernelspec": {
      "name": "python3",
      "display_name": "Python 3"
    },
    "language_info": {
      "name": "python"
    }
  },
  "cells": [
    {
      "cell_type": "markdown",
      "metadata": {
        "id": "view-in-github",
        "colab_type": "text"
      },
      "source": [
        "<a href=\"https://colab.research.google.com/github/chacha86/pythonai/blob/main/%EB%8D%B0%EC%9D%B4%ED%84%B0_%EC%84%A0%ED%83%9D_%EB%AC%B8%EC%A0%9C_%ED%92%80%EC%9D%B4.ipynb\" target=\"_parent\"><img src=\"https://colab.research.google.com/assets/colab-badge.svg\" alt=\"Open In Colab\"/></a>"
      ]
    },
    {
      "cell_type": "code",
      "execution_count": null,
      "metadata": {
        "id": "miN27Cj5UY-e"
      },
      "outputs": [],
      "source": [
        "# 1. students파일을 읽어서 데이터 프레임으로 만든 후 아래를 해결해주세요.\n",
        "import pandas as pd\n",
        "\n",
        "df = pd.read_excel('/content/students.xlsx')\n",
        "df"
      ]
    },
    {
      "cell_type": "code",
      "source": [
        "# 2. 국어가 80점 이상인 학생의 이름과 생년월일\n",
        "df.loc[df['국어'] >= 80, ['이름', '생년월일']]\n"
      ],
      "metadata": {
        "id": "lznzvwUWUfrE"
      },
      "execution_count": null,
      "outputs": []
    },
    {
      "cell_type": "code",
      "source": [
        "# 3. 수학이 80점 미만인 학생의 영어와 국어 점수\n",
        "df.loc[df['수학'] < 80, ['이름', '영어', '국어']]"
      ],
      "metadata": {
        "id": "LH9uHnRdUfuL"
      },
      "execution_count": null,
      "outputs": []
    },
    {
      "cell_type": "code",
      "source": [
        "# 4. 국어와 수학이 90점 이상인 학생의 이름, 수학, 국어 점수\n",
        "# df2 = df.loc[df['국어'] >= 90, ['이름', '수학', '국어']]\n",
        "# df.shape\n",
        "# df2[df2['수학'] >= 90]\n",
        "\n",
        "df.loc[(df['수학'] >= 90) & (df['국어'] >= 90), ['이름', '수학', '국어']]"
      ],
      "metadata": {
        "id": "L-a7iicwUfw2"
      },
      "execution_count": null,
      "outputs": []
    },
    {
      "cell_type": "code",
      "source": [
        "# 5. 모든 과목이 60점 미만인 학생의 번호, 이름, 생년월일\n",
        "df.loc[(df['수학'] < 70) & (df['국어'] < 70) & (df['영어'] < 70), ['번호', '이름', '생년월일']]"
      ],
      "metadata": {
        "id": "7ZneHkWlUfz9"
      },
      "execution_count": null,
      "outputs": []
    },
    {
      "cell_type": "markdown",
      "source": [],
      "metadata": {
        "id": "otLNA4R6XYdI"
      }
    },
    {
      "cell_type": "code",
      "source": [
        "# 6. 대전 지역 학생들의 이름, 국어, 영어, 수학 점수\n",
        "\n",
        "df[df['지역명'] == '대전']"
      ],
      "metadata": {
        "id": "ai-w0_NzUf52"
      },
      "execution_count": null,
      "outputs": []
    }
  ]
}