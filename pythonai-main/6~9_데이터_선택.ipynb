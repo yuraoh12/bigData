{
  "nbformat": 4,
  "nbformat_minor": 0,
  "metadata": {
    "colab": {
      "provenance": [],
      "authorship_tag": "ABX9TyP/vOL5P9RKIXRWQ4XcCHpU",
      "include_colab_link": true
    },
    "kernelspec": {
      "name": "python3",
      "display_name": "Python 3"
    },
    "language_info": {
      "name": "python"
    }
  },
  "cells": [
    {
      "cell_type": "markdown",
      "metadata": {
        "id": "view-in-github",
        "colab_type": "text"
      },
      "source": [
        "<a href=\"https://colab.research.google.com/github/chacha86/pythonai/blob/main/6~9_%EB%8D%B0%EC%9D%B4%ED%84%B0_%EC%84%A0%ED%83%9D.ipynb\" target=\"_parent\"><img src=\"https://colab.research.google.com/assets/colab-badge.svg\" alt=\"Open In Colab\"/></a>"
      ]
    },
    {
      "cell_type": "code",
      "execution_count": 4,
      "metadata": {
        "id": "eqi_IdZQEP3S"
      },
      "outputs": [],
      "source": [
        "import pandas as pd\n",
        "\n",
        "df = pd.read_excel('/content/거래내역조회.xlsx', skiprows=3)"
      ]
    },
    {
      "cell_type": "code",
      "source": [
        "# 6.1 시리즈(컬럼) 선택\n",
        "df['찾으신금액']\n",
        "df['찾으신금액'][4]\n",
        "\n",
        "# 6.2 시리즈 데이터 슬라이싱\n",
        "df['찾으신금액'][0:5]\n",
        "df['찾으신금액'][4:7]\n",
        "df['찾으신금액'][0:6:2]\n",
        "\n",
        "# 6.3 여러 컬럼 선택하기\n",
        "df[['찾으신금액', '맡기신금액']][0:2]\n"
      ],
      "metadata": {
        "id": "TLQ_uOZoEqZa"
      },
      "execution_count": null,
      "outputs": []
    },
    {
      "cell_type": "code",
      "source": [
        "# 7. 데이터 선택 -> loc, iloc\n",
        "# 7.1 loc - 이름으로 접근\n",
        "\n",
        "## no컬럼을 index로 사용.\n",
        "df.index = df['No.']\n",
        "df.drop('No.', axis=1, inplace=True) \n"
      ],
      "metadata": {
        "id": "BYvYRF6rGImm"
      },
      "execution_count": 22,
      "outputs": []
    },
    {
      "cell_type": "code",
      "source": [
        "# 한행, 한열\n",
        "df.loc[1]['찾으신금액']\n",
        "df.loc[1, '찾으신금액']\n",
        "\n",
        "# 슬라이싱\n",
        "df.loc[1:5, '찾으신금액' : '거래후 잔액']\n",
        "\n",
        "# fancy 인덱싱\n",
        "df.loc[[1,3,4], ['거래일시', '거래후 잔액']]\n",
        "\n",
        "# 행 전체\n",
        "df.loc[:, ['거래일시', '거래후 잔액']]\n",
        "\n",
        "# 열 전체\n",
        "df.loc[[1,3,4], :]"
      ],
      "metadata": {
        "id": "iTX6IBqpHJxh"
      },
      "execution_count": null,
      "outputs": []
    },
    {
      "cell_type": "code",
      "source": [
        "df"
      ],
      "metadata": {
        "id": "Qm-kD8t1Kdxv"
      },
      "execution_count": null,
      "outputs": []
    },
    {
      "cell_type": "code",
      "source": [
        "# 8. iloc - 순번(index)를 이용한 접근\n",
        "# 한행, 한열\n",
        "df.iloc[0]\n",
        "df.iloc[0:5]\n",
        "\n",
        "df.iloc[0, 3]\n",
        "\n",
        "# 슬라이싱\n",
        "df.iloc[0:5, 3:6]\n",
        "\n",
        "# fancy 인덱싱\n",
        "df.iloc[[0,2,3], [3, 5]]\n",
        "\n",
        "# 행 전체\n",
        "df.iloc[:, [1, 5]]\n",
        "\n",
        "# 열 전체\n",
        "df.iloc[[0,2,3], :]\n"
      ],
      "metadata": {
        "id": "Tg_VGJTqJCG0"
      },
      "execution_count": null,
      "outputs": []
    },
    {
      "cell_type": "code",
      "source": [
        "# 9. 논리값 인덱싱\n",
        "df2 = df[:5]\n",
        "\n",
        "# loc 이용\n",
        "df2.loc[[1,3,5]]\n",
        "\n",
        "# 논리값 인덱싱\n",
        "df2.loc[[True, False, True, False, True]]\n",
        "\n",
        "idx = df2['찾으신금액'] > 100000\n",
        "df2.loc[idx]\n",
        "df2.loc[df2['찾으신금액'] > 100000]\n",
        "\n",
        "\n"
      ],
      "metadata": {
        "colab": {
          "base_uri": "https://localhost:8080/",
          "height": 143
        },
        "id": "0GUXH0JVKwWa",
        "outputId": "91ea88ba-06fc-4dbc-dcd6-45afe4b8e9bf"
      },
      "execution_count": 61,
      "outputs": [
        {
          "output_type": "execute_result",
          "data": {
            "text/plain": [
              "                 거래일시    적요            기재내용   찾으신금액  맡기신금액  거래후 잔액        취급점  \\\n",
              "No.                                                                             \n",
              "2    2022.03.11 03:26  통신요금  01011112222SKT  117910      0   35783     유성금융센터   \n",
              "5    2022.03.10 10:42  체크우리          몸짱피트니스  238000      0  160193  영업추진부(카드)   \n",
              "\n",
              "     메모  \n",
              "No.      \n",
              "2   NaN  \n",
              "5   NaN  "
            ],
            "text/html": [
              "\n",
              "  <div id=\"df-2f496c27-b259-4f99-bce1-5e0c0a945444\">\n",
              "    <div class=\"colab-df-container\">\n",
              "      <div>\n",
              "<style scoped>\n",
              "    .dataframe tbody tr th:only-of-type {\n",
              "        vertical-align: middle;\n",
              "    }\n",
              "\n",
              "    .dataframe tbody tr th {\n",
              "        vertical-align: top;\n",
              "    }\n",
              "\n",
              "    .dataframe thead th {\n",
              "        text-align: right;\n",
              "    }\n",
              "</style>\n",
              "<table border=\"1\" class=\"dataframe\">\n",
              "  <thead>\n",
              "    <tr style=\"text-align: right;\">\n",
              "      <th></th>\n",
              "      <th>거래일시</th>\n",
              "      <th>적요</th>\n",
              "      <th>기재내용</th>\n",
              "      <th>찾으신금액</th>\n",
              "      <th>맡기신금액</th>\n",
              "      <th>거래후 잔액</th>\n",
              "      <th>취급점</th>\n",
              "      <th>메모</th>\n",
              "    </tr>\n",
              "    <tr>\n",
              "      <th>No.</th>\n",
              "      <th></th>\n",
              "      <th></th>\n",
              "      <th></th>\n",
              "      <th></th>\n",
              "      <th></th>\n",
              "      <th></th>\n",
              "      <th></th>\n",
              "      <th></th>\n",
              "    </tr>\n",
              "  </thead>\n",
              "  <tbody>\n",
              "    <tr>\n",
              "      <th>2</th>\n",
              "      <td>2022.03.11 03:26</td>\n",
              "      <td>통신요금</td>\n",
              "      <td>01011112222SKT</td>\n",
              "      <td>117910</td>\n",
              "      <td>0</td>\n",
              "      <td>35783</td>\n",
              "      <td>유성금융센터</td>\n",
              "      <td>NaN</td>\n",
              "    </tr>\n",
              "    <tr>\n",
              "      <th>5</th>\n",
              "      <td>2022.03.10 10:42</td>\n",
              "      <td>체크우리</td>\n",
              "      <td>몸짱피트니스</td>\n",
              "      <td>238000</td>\n",
              "      <td>0</td>\n",
              "      <td>160193</td>\n",
              "      <td>영업추진부(카드)</td>\n",
              "      <td>NaN</td>\n",
              "    </tr>\n",
              "  </tbody>\n",
              "</table>\n",
              "</div>\n",
              "      <button class=\"colab-df-convert\" onclick=\"convertToInteractive('df-2f496c27-b259-4f99-bce1-5e0c0a945444')\"\n",
              "              title=\"Convert this dataframe to an interactive table.\"\n",
              "              style=\"display:none;\">\n",
              "        \n",
              "  <svg xmlns=\"http://www.w3.org/2000/svg\" height=\"24px\"viewBox=\"0 0 24 24\"\n",
              "       width=\"24px\">\n",
              "    <path d=\"M0 0h24v24H0V0z\" fill=\"none\"/>\n",
              "    <path d=\"M18.56 5.44l.94 2.06.94-2.06 2.06-.94-2.06-.94-.94-2.06-.94 2.06-2.06.94zm-11 1L8.5 8.5l.94-2.06 2.06-.94-2.06-.94L8.5 2.5l-.94 2.06-2.06.94zm10 10l.94 2.06.94-2.06 2.06-.94-2.06-.94-.94-2.06-.94 2.06-2.06.94z\"/><path d=\"M17.41 7.96l-1.37-1.37c-.4-.4-.92-.59-1.43-.59-.52 0-1.04.2-1.43.59L10.3 9.45l-7.72 7.72c-.78.78-.78 2.05 0 2.83L4 21.41c.39.39.9.59 1.41.59.51 0 1.02-.2 1.41-.59l7.78-7.78 2.81-2.81c.8-.78.8-2.07 0-2.86zM5.41 20L4 18.59l7.72-7.72 1.47 1.35L5.41 20z\"/>\n",
              "  </svg>\n",
              "      </button>\n",
              "      \n",
              "  <style>\n",
              "    .colab-df-container {\n",
              "      display:flex;\n",
              "      flex-wrap:wrap;\n",
              "      gap: 12px;\n",
              "    }\n",
              "\n",
              "    .colab-df-convert {\n",
              "      background-color: #E8F0FE;\n",
              "      border: none;\n",
              "      border-radius: 50%;\n",
              "      cursor: pointer;\n",
              "      display: none;\n",
              "      fill: #1967D2;\n",
              "      height: 32px;\n",
              "      padding: 0 0 0 0;\n",
              "      width: 32px;\n",
              "    }\n",
              "\n",
              "    .colab-df-convert:hover {\n",
              "      background-color: #E2EBFA;\n",
              "      box-shadow: 0px 1px 2px rgba(60, 64, 67, 0.3), 0px 1px 3px 1px rgba(60, 64, 67, 0.15);\n",
              "      fill: #174EA6;\n",
              "    }\n",
              "\n",
              "    [theme=dark] .colab-df-convert {\n",
              "      background-color: #3B4455;\n",
              "      fill: #D2E3FC;\n",
              "    }\n",
              "\n",
              "    [theme=dark] .colab-df-convert:hover {\n",
              "      background-color: #434B5C;\n",
              "      box-shadow: 0px 1px 3px 1px rgba(0, 0, 0, 0.15);\n",
              "      filter: drop-shadow(0px 1px 2px rgba(0, 0, 0, 0.3));\n",
              "      fill: #FFFFFF;\n",
              "    }\n",
              "  </style>\n",
              "\n",
              "      <script>\n",
              "        const buttonEl =\n",
              "          document.querySelector('#df-2f496c27-b259-4f99-bce1-5e0c0a945444 button.colab-df-convert');\n",
              "        buttonEl.style.display =\n",
              "          google.colab.kernel.accessAllowed ? 'block' : 'none';\n",
              "\n",
              "        async function convertToInteractive(key) {\n",
              "          const element = document.querySelector('#df-2f496c27-b259-4f99-bce1-5e0c0a945444');\n",
              "          const dataTable =\n",
              "            await google.colab.kernel.invokeFunction('convertToInteractive',\n",
              "                                                     [key], {});\n",
              "          if (!dataTable) return;\n",
              "\n",
              "          const docLinkHtml = 'Like what you see? Visit the ' +\n",
              "            '<a target=\"_blank\" href=https://colab.research.google.com/notebooks/data_table.ipynb>data table notebook</a>'\n",
              "            + ' to learn more about interactive tables.';\n",
              "          element.innerHTML = '';\n",
              "          dataTable['output_type'] = 'display_data';\n",
              "          await google.colab.output.renderOutput(dataTable, element);\n",
              "          const docLink = document.createElement('div');\n",
              "          docLink.innerHTML = docLinkHtml;\n",
              "          element.appendChild(docLink);\n",
              "        }\n",
              "      </script>\n",
              "    </div>\n",
              "  </div>\n",
              "  "
            ]
          },
          "metadata": {},
          "execution_count": 61
        }
      ]
    }
  ]
}