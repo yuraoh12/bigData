{
  "nbformat": 4,
  "nbformat_minor": 0,
  "metadata": {
    "colab": {
      "provenance": [],
      "authorship_tag": "ABX9TyMQrKOQUD4q4IpuSt/bXm44",
      "include_colab_link": true
    },
    "kernelspec": {
      "name": "python3",
      "display_name": "Python 3"
    },
    "language_info": {
      "name": "python"
    }
  },
  "cells": [
    {
      "cell_type": "markdown",
      "metadata": {
        "id": "view-in-github",
        "colab_type": "text"
      },
      "source": [
        "<a href=\"https://colab.research.google.com/github/chacha86/pythonai/blob/main/%EB%AC%B8%EC%A0%9C5.ipynb\" target=\"_parent\"><img src=\"https://colab.research.google.com/assets/colab-badge.svg\" alt=\"Open In Colab\"/></a>"
      ]
    },
    {
      "cell_type": "code",
      "execution_count": null,
      "metadata": {
        "id": "kE4CC2FNEKQn"
      },
      "outputs": [],
      "source": [
        "# 문제 5. 학생 성적데이터를 사용하여 풀어주세요.\n",
        "\n",
        "# 1. 각 지역별 국, 영, 수 평균\n",
        "\n",
        "# 2. 가장 평균 성적이 좋은 도시는?\n",
        "\n",
        "# 3. 생년월일에서 월별로 학생들의 수를 구해주세요.\n",
        "\n",
        "# 4. 각 지역별로 평균이 80점 넘는 학생의 수\n",
        "\n",
        "# 5. 각 지역별 평균 점수가 80점 미만인 지역은?\n",
        "\n",
        "# 6. 각 지역에서 점수대별 학생수 현황(90점대, 80점대, 70점대, 60점대 등)\n",
        "\n",
        "# 7. 지역별 학생의 평균성적 top3\n"
      ]
    }
  ]
}