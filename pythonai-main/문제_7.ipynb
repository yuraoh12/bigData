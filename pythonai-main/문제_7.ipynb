{
  "nbformat": 4,
  "nbformat_minor": 0,
  "metadata": {
    "colab": {
      "provenance": [],
      "authorship_tag": "ABX9TyMP2e4hk2moOpkSa14nmaNi",
      "include_colab_link": true
    },
    "kernelspec": {
      "name": "python3",
      "display_name": "Python 3"
    },
    "language_info": {
      "name": "python"
    }
  },
  "cells": [
    {
      "cell_type": "markdown",
      "metadata": {
        "id": "view-in-github",
        "colab_type": "text"
      },
      "source": [
        "<a href=\"https://colab.research.google.com/github/chacha86/pythonai/blob/main/%EB%AC%B8%EC%A0%9C_7.ipynb\" target=\"_parent\"><img src=\"https://colab.research.google.com/assets/colab-badge.svg\" alt=\"Open In Colab\"/></a>"
      ]
    },
    {
      "cell_type": "code",
      "execution_count": null,
      "metadata": {
        "id": "j9p27k5-Iceq"
      },
      "outputs": [],
      "source": [
        "# merge 연습문제\n",
        "# ====================================================================================================================================================\n",
        "# 문제1 - 각 선택 과목별 학생 수\n",
        "\n",
        "# 문제2 - 선택 과목을 3개 이상 듣는 학생의 번호와 이름\n",
        "\n",
        "# 문제3 - 선택 과목을 하나도 듣지 않는 학생의 번호와 이름\n",
        "\n",
        "# 문제4 - 각 지역별 평균 선택과목 수\n",
        "\n",
        "# 문제5 - 각 지역의 탑들이 선택한 선택과목\n"
      ]
    }
  ]
}