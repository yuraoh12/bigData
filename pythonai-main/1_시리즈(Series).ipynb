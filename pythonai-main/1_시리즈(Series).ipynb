{
  "nbformat": 4,
  "nbformat_minor": 0,
  "metadata": {
    "colab": {
      "provenance": [],
      "authorship_tag": "ABX9TyOnAo7ue0mELP2/7qIaDdku",
      "include_colab_link": true
    },
    "kernelspec": {
      "name": "python3",
      "display_name": "Python 3"
    },
    "language_info": {
      "name": "python"
    }
  },
  "cells": [
    {
      "cell_type": "markdown",
      "metadata": {
        "id": "view-in-github",
        "colab_type": "text"
      },
      "source": [
        "<a href=\"https://colab.research.google.com/github/chacha86/pythonai/blob/main/1_%EC%8B%9C%EB%A6%AC%EC%A6%88(Series).ipynb\" target=\"_parent\"><img src=\"https://colab.research.google.com/assets/colab-badge.svg\" alt=\"Open In Colab\"/></a>"
      ]
    },
    {
      "cell_type": "code",
      "execution_count": null,
      "metadata": {
        "id": "AhH5Rzcp-GVS"
      },
      "outputs": [],
      "source": [
        "import pandas as pd\n",
        "# 1. 시리즈(Series) - 1차원 배열\n",
        "# 1.1 시리즈 생성\n",
        "sr1 = pd.Series([1,2,3,4])\n",
        "sr2 = pd.Series([5,6,7,8])\n",
        "\n",
        "print(sr1)\n",
        "print(sr2)\n",
        "\n"
      ]
    },
    {
      "cell_type": "code",
      "source": [
        "# 1.2 시리즈 데이터 타입 체크\n",
        "\n",
        "sr3 = pd.Series([1,2,3,\"4\"])\n",
        "\n",
        "sr3"
      ],
      "metadata": {
        "colab": {
          "base_uri": "https://localhost:8080/"
        },
        "id": "UuHuh9ZdAmKF",
        "outputId": "bc61ab71-8f85-4ad6-b7e9-0288f1fd67d2"
      },
      "execution_count": 8,
      "outputs": [
        {
          "output_type": "execute_result",
          "data": {
            "text/plain": [
              "0    1\n",
              "1    2\n",
              "2    3\n",
              "3    4\n",
              "dtype: object"
            ]
          },
          "metadata": {},
          "execution_count": 8
        }
      ]
    },
    {
      "cell_type": "code",
      "source": [
        "# 1.3 시리즈 index 다루기 - 인덱스 설정하기기\n",
        "sr4 = pd.Series(['떡볶이', '피자', '치킨', '족발'], index=['야식1', '야식2', '야식3', '야식4'])\n",
        "\n",
        "sr4"
      ],
      "metadata": {
        "colab": {
          "base_uri": "https://localhost:8080/"
        },
        "id": "-AifvzwHBE3o",
        "outputId": "487f7ae5-6d0c-4b13-b0a4-ddcbb9d943c6"
      },
      "execution_count": 11,
      "outputs": [
        {
          "output_type": "execute_result",
          "data": {
            "text/plain": [
              "야식1    떡볶이\n",
              "야식2     피자\n",
              "야식3     치킨\n",
              "야식4     족발\n",
              "dtype: object"
            ]
          },
          "metadata": {},
          "execution_count": 11
        }
      ]
    },
    {
      "cell_type": "code",
      "source": [
        "# 1.4 시리즈 index 다루기 - 인덱스를 이용한 접근\n",
        "\n",
        "# 순번으로 가져오기\n",
        "sr4[1] \n",
        "\n",
        "# 인덱스값으로 가져오기\n",
        "sr4['야식2']"
      ],
      "metadata": {
        "colab": {
          "base_uri": "https://localhost:8080/",
          "height": 35
        },
        "id": "3DaAn4ZLBu0V",
        "outputId": "a5da0b3f-6553-411f-c81b-3b0aa2e37b3e"
      },
      "execution_count": 15,
      "outputs": [
        {
          "output_type": "execute_result",
          "data": {
            "text/plain": [
              "'피자'"
            ],
            "application/vnd.google.colaboratory.intrinsic+json": {
              "type": "string"
            }
          },
          "metadata": {},
          "execution_count": 15
        }
      ]
    },
    {
      "cell_type": "code",
      "source": [],
      "metadata": {
        "id": "7kpo1xTZCQdB"
      },
      "execution_count": null,
      "outputs": []
    }
  ]
}