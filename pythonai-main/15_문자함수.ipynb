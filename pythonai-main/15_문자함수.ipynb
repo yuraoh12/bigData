{
  "nbformat": 4,
  "nbformat_minor": 0,
  "metadata": {
    "colab": {
      "provenance": [],
      "authorship_tag": "ABX9TyPRTkGLfm5XY9XpxJhEKhn7",
      "include_colab_link": true
    },
    "kernelspec": {
      "name": "python3",
      "display_name": "Python 3"
    },
    "language_info": {
      "name": "python"
    }
  },
  "cells": [
    {
      "cell_type": "markdown",
      "metadata": {
        "id": "view-in-github",
        "colab_type": "text"
      },
      "source": [
        "<a href=\"https://colab.research.google.com/github/chacha86/pythonai/blob/main/15_%EB%AC%B8%EC%9E%90%ED%95%A8%EC%88%98.ipynb\" target=\"_parent\"><img src=\"https://colab.research.google.com/assets/colab-badge.svg\" alt=\"Open In Colab\"/></a>"
      ]
    },
    {
      "cell_type": "code",
      "execution_count": null,
      "metadata": {
        "id": "MbbM3dYLSk07"
      },
      "outputs": [],
      "source": [
        "# 15. 문자함수\n",
        "\n",
        "import pandas as pd\n",
        "\n",
        "df = pd.read_excel('/content/거래내역조회.xlsx', skiprows=3)\n",
        "df\n"
      ]
    },
    {
      "cell_type": "code",
      "source": [
        "# 15.1 문자열 자르기\n",
        "# df.info()\n",
        "\n",
        "df['거래일시'][0]\n",
        "df['거래일시'].str[8:]\n",
        "\n",
        "df['거래일시'].str[5:10]\n",
        "df[]"
      ],
      "metadata": {
        "id": "dA2Vkla8S1dc"
      },
      "execution_count": null,
      "outputs": []
    },
    {
      "cell_type": "code",
      "source": [
        "# 15.2 문자열 쪼개기 - split\n",
        "\n",
        "df2 = df['거래일시'].str.split('.')\n",
        "df2.str[0]\n",
        "\n",
        "df['년'] = df2.str[0]\n",
        "df['월'] = df2.str[1]\n",
        "df['일'] = df2.str[2]\n",
        "\n",
        "df3 = df2.str[2]\n",
        "df4 = df3.str.split(' ')\n",
        "\n",
        "df['일'] = df4.str[0]\n",
        "\n",
        "\n"
      ],
      "metadata": {
        "id": "Nmh2XHLKUkKu"
      },
      "execution_count": null,
      "outputs": []
    },
    {
      "cell_type": "code",
      "source": [
        "df['년2'] = df['거래일시'].str.split('.').str[0]\n",
        "df['월2'] = df['거래일시'].str.split('.').str[1]\n",
        "df['거래일시'].str.split('.').str[2].str.split(' ').str[0]"
      ],
      "metadata": {
        "id": "N7tRPxotWZqB"
      },
      "execution_count": null,
      "outputs": []
    },
    {
      "cell_type": "code",
      "source": [
        "# 15.3 문자 포함 여부 \n",
        "\n",
        "df.shape\n",
        "target = df.columns.values[14:8:-1]\n",
        "df.drop(target, axis=1, inplace=True)\n",
        "\n",
        "\n",
        "\n"
      ],
      "metadata": {
        "id": "JaqRkmHJXOJR"
      },
      "execution_count": 70,
      "outputs": []
    },
    {
      "cell_type": "code",
      "source": [
        "## 시작 여부 - startswith\n",
        "## 결측치 있으면 처리하고 진행\n",
        "df['기재내용'] = df['기재내용'].fillna('')\n",
        "df\n",
        "df.loc[df['기재내용'].str.startswith('스')]\n",
        "## 끝 여부 - endswith\n",
        "df.loc[df['기재내용'].str.endswith('스')]\n",
        "\n",
        "## 포함 여부 - contains\n",
        "df.loc[df['기재내용'].str.contains('피')]\n",
        "df.loc[df['기재내용'].str.startswith('피')]\n"
      ],
      "metadata": {
        "id": "JV4mBFaOX8P6"
      },
      "execution_count": null,
      "outputs": []
    },
    {
      "cell_type": "code",
      "source": [
        "## 15.4 문자 치환\n",
        "df['거래일시'].str.replace('.', '/')\n",
        "\n",
        "df['취급점'] = df['취급점'].str.replace('KB', '국민')\n",
        "df"
      ],
      "metadata": {
        "id": "tS1htg5lZPF9"
      },
      "execution_count": null,
      "outputs": []
    },
    {
      "cell_type": "code",
      "source": [
        "## 15.5 대문자, 소문자\n",
        "df['취급점'] = df['취급점'].str.replace('국민', 'KB')\n",
        "\n",
        "\n",
        "# df['취급점'].str.replace('kb', '국민')\n",
        "\n",
        "df['취급점'][5] = 'kb증권'\n",
        "df['취급점'].str.replace('KB', '국민')\n",
        "\n",
        "df['취급점'].str.upper()\n",
        "df['취급점'].str.lower()\n",
        "\n"
      ],
      "metadata": {
        "colab": {
          "base_uri": "https://localhost:8080/"
        },
        "id": "p8UdVDMnac5r",
        "outputId": "90f02631-4d9c-4059-f39b-4ec0ef5695b8"
      },
      "execution_count": 95,
      "outputs": [
        {
          "output_type": "stream",
          "name": "stderr",
          "text": [
            "<ipython-input-95-ddb1484600f4>:7: SettingWithCopyWarning: \n",
            "A value is trying to be set on a copy of a slice from a DataFrame\n",
            "\n",
            "See the caveats in the documentation: https://pandas.pydata.org/pandas-docs/stable/user_guide/indexing.html#returning-a-view-versus-a-copy\n",
            "  df['취급점'][5] = 'kb증권'\n"
          ]
        },
        {
          "output_type": "execute_result",
          "data": {
            "text/plain": [
              "0       유성금융센터\n",
              "1       유성금융센터\n",
              "2    영업추진부(카드)\n",
              "3    영업추진부(카드)\n",
              "4    영업추진부(카드)\n",
              "5         kb증권\n",
              "6       유성금융센터\n",
              "7    영업추진부(카드)\n",
              "8         kb증권\n",
              "9    영업추진부(카드)\n",
              "Name: 취급점, dtype: object"
            ]
          },
          "metadata": {},
          "execution_count": 95
        }
      ]
    }
  ]
}