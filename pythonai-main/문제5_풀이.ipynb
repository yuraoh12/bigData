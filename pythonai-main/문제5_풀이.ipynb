{
  "nbformat": 4,
  "nbformat_minor": 0,
  "metadata": {
    "colab": {
      "provenance": [],
      "authorship_tag": "ABX9TyMDOa6EYLWkP3DZMISKh1MP",
      "include_colab_link": true
    },
    "kernelspec": {
      "name": "python3",
      "display_name": "Python 3"
    },
    "language_info": {
      "name": "python"
    }
  },
  "cells": [
    {
      "cell_type": "markdown",
      "metadata": {
        "id": "view-in-github",
        "colab_type": "text"
      },
      "source": [
        "<a href=\"https://colab.research.google.com/github/chacha86/pythonai/blob/main/%EB%AC%B8%EC%A0%9C5_%ED%92%80%EC%9D%B4.ipynb\" target=\"_parent\"><img src=\"https://colab.research.google.com/assets/colab-badge.svg\" alt=\"Open In Colab\"/></a>"
      ]
    },
    {
      "cell_type": "code",
      "source": [
        "import pandas as pd\n",
        "df = pd.read_excel('/content/students.xlsx')\n",
        "df"
      ],
      "metadata": {
        "id": "1SjEI-a8M9ID"
      },
      "execution_count": null,
      "outputs": []
    },
    {
      "cell_type": "code",
      "execution_count": null,
      "metadata": {
        "id": "EgvnJ8mYM7QQ"
      },
      "outputs": [],
      "source": [
        "# 문제 5. 학생 성적데이터를 사용하여 풀어주세요.\n",
        "\n",
        "# 1. 각 지역별 국, 영, 수 평균\n",
        "\n",
        "# 2. 가장 평균 성적이 좋은 도시는?\n",
        "\n",
        "# 3. 생년월일에서 월별로 학생들의 수를 구해주세요.\n",
        "\n",
        "# 4. 각 지역별로 평균이 80점 넘는 학생의 수\n",
        "\n",
        "# 5. 각 지역별 평균 점수가 80점 미만인 지역은?\n",
        "\n",
        "# 6. 각 지역에서 평균 점수대별 학생수 현황(90점대, 80점대, 70점대, 60점대 등)\n",
        "\n",
        "# 7. 지역별 학생의 평균성적 top3"
      ]
    },
    {
      "cell_type": "code",
      "source": [
        "# 1 \n",
        "df[['지역명','국어','영어', '수학']].groupby('지역명').mean()\n",
        "df.groupby('지역명').mean()[['국어', '영어', '수학']]\n"
      ],
      "metadata": {
        "id": "rHCW2ZzPM937"
      },
      "execution_count": null,
      "outputs": []
    },
    {
      "cell_type": "code",
      "source": [
        "# 2 -> 서울\n",
        "df['평균'] = df[['국어','영어', '수학']].mean(axis=1)\n",
        "df.groupby('지역명').mean()['평균'].sort_values(ascending=False).head(1)"
      ],
      "metadata": {
        "id": "UJ2EO0Y0PZQ1"
      },
      "execution_count": null,
      "outputs": []
    },
    {
      "cell_type": "code",
      "source": [
        "import numpy as np\n",
        "# 3 \n",
        "df['월'] = df['생년월일'].astype('str').str[5:7]\n",
        "\n",
        "# NaN(결측치)는 카운팅 하지 않는다.\n",
        "df.groupby('월').count()\n",
        "\n",
        "df.loc[0, '지역명'] = np.nan\n",
        "\n",
        "df.groupby('월').count() # 결측치 고려 O\n",
        "df.groupby('월').size() # 결측치 고려 X"
      ],
      "metadata": {
        "id": "GRkPkPbWQEQv"
      },
      "execution_count": null,
      "outputs": []
    },
    {
      "cell_type": "code",
      "source": [
        "# 4\n",
        "df.loc[df['평균'] >= 80].groupby('지역명').size()"
      ],
      "metadata": {
        "id": "0__p70WsQdx5"
      },
      "execution_count": null,
      "outputs": []
    },
    {
      "cell_type": "code",
      "source": [
        "# 5\n",
        "df2 = df.groupby('지역명').mean()[['평균']]\n",
        "df2[df.groupby('지역명').mean()['평균'] >= 80]\n",
        "\n",
        "\n",
        "#df2.loc[df.groupby('지역명').mean()[['평균']] >= 80]\n",
        "#.loc[df.groupby('지역명').mean()[['평균']] >= 80]\n",
        "df2"
      ],
      "metadata": {
        "id": "MZpFdPm2SPsf"
      },
      "execution_count": null,
      "outputs": []
    },
    {
      "cell_type": "code",
      "source": [
        "df['점수대'] = df['평균'] // 10 * 10\n",
        "df.groupby(['지역명', '점수대']).size()"
      ],
      "metadata": {
        "id": "UL8bdiGkToWc"
      },
      "execution_count": null,
      "outputs": []
    },
    {
      "cell_type": "code",
      "source": [
        "# 7\n",
        "df.loc[0, '지역명'] = '서울'"
      ],
      "metadata": {
        "id": "UFvB3f25TaI8"
      },
      "execution_count": 71,
      "outputs": []
    },
    {
      "cell_type": "code",
      "source": [
        "df.sort_values('평균', ascending=False).groupby('지역명').head(3).sort_values(['지역명', '평균'], ascending=[True, False])"
      ],
      "metadata": {
        "id": "D5dPjXypU7jE"
      },
      "execution_count": null,
      "outputs": []
    }
  ]
}