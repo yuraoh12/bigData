{
  "nbformat": 4,
  "nbformat_minor": 0,
  "metadata": {
    "colab": {
      "provenance": [],
      "authorship_tag": "ABX9TyOR4BFP6JSxpicccLEAPMeh",
      "include_colab_link": true
    },
    "kernelspec": {
      "name": "python3",
      "display_name": "Python 3"
    },
    "language_info": {
      "name": "python"
    }
  },
  "cells": [
    {
      "cell_type": "markdown",
      "metadata": {
        "id": "view-in-github",
        "colab_type": "text"
      },
      "source": [
        "<a href=\"https://colab.research.google.com/github/chacha86/pythonai/blob/main/27_%ED%8C%8C%EC%9D%BC%EC%B2%98%EB%A6%AC_plaintext.ipynb\" target=\"_parent\"><img src=\"https://colab.research.google.com/assets/colab-badge.svg\" alt=\"Open In Colab\"/></a>"
      ]
    },
    {
      "cell_type": "code",
      "execution_count": 44,
      "metadata": {
        "id": "C0aFwyImu3ik"
      },
      "outputs": [],
      "source": [
        "f = open(\"data/새파일.txt\", 'w')\n",
        "\n",
        "f.write('hello~~')\n",
        "\n",
        "f.close()"
      ]
    },
    {
      "cell_type": "code",
      "source": [],
      "metadata": {
        "id": "0AXzAWv842A_"
      },
      "execution_count": 44,
      "outputs": []
    },
    {
      "cell_type": "code",
      "source": [
        "\"%d번째 줄입니다.\\n\" % 100"
      ],
      "metadata": {
        "colab": {
          "base_uri": "https://localhost:8080/",
          "height": 35
        },
        "id": "RjLBQOOuvzmc",
        "outputId": "91cf8978-6b44-4977-dfff-36a805d24798"
      },
      "execution_count": 45,
      "outputs": [
        {
          "output_type": "execute_result",
          "data": {
            "text/plain": [
              "'100번째 줄입니다.\\n'"
            ],
            "application/vnd.google.colaboratory.intrinsic+json": {
              "type": "string"
            }
          },
          "metadata": {},
          "execution_count": 45
        }
      ]
    },
    {
      "cell_type": "code",
      "source": [
        "# 파일에 문자열 작성\n",
        "\n",
        "f = open(\"data/새파일.txt\", 'w')\n",
        "\n",
        "for i in range(1, 11):\n",
        "    data = \"%d번째 줄입니다.\\n\" % i\n",
        "    f.write(data)\n",
        "    \n",
        "f.close()"
      ],
      "metadata": {
        "id": "SzX8lxhDva6b"
      },
      "execution_count": 46,
      "outputs": []
    },
    {
      "cell_type": "code",
      "source": [
        "# readline_all.py\n",
        "f = open(\"data/새파일.txt\", 'r')\n",
        "\n",
        "while True:\n",
        "    line = f.readline()\n",
        "    if not line: break\n",
        "    print(line, end='')\n",
        "f.close()"
      ],
      "metadata": {
        "colab": {
          "base_uri": "https://localhost:8080/"
        },
        "id": "KtHXZDCYwNkX",
        "outputId": "9afe863b-6078-4883-b59d-9f237b9e7583"
      },
      "execution_count": 47,
      "outputs": [
        {
          "output_type": "stream",
          "name": "stdout",
          "text": [
            "1번째 줄입니다.\n",
            "2번째 줄입니다.\n",
            "3번째 줄입니다.\n",
            "4번째 줄입니다.\n",
            "5번째 줄입니다.\n",
            "6번째 줄입니다.\n",
            "7번째 줄입니다.\n",
            "8번째 줄입니다.\n",
            "9번째 줄입니다.\n",
            "10번째 줄입니다.\n"
          ]
        }
      ]
    },
    {
      "cell_type": "code",
      "source": [
        "f = open(\"data/새파일.txt\", 'r')\n",
        "lines = f.readlines()\n",
        "print(lines)\n",
        "for line in lines:\n",
        "    print(line, end='')\n",
        "f.close()"
      ],
      "metadata": {
        "colab": {
          "base_uri": "https://localhost:8080/"
        },
        "id": "brHDjCNYwd6_",
        "outputId": "198f1982-234d-4349-f94d-1d58d5aedbbf"
      },
      "execution_count": 48,
      "outputs": [
        {
          "output_type": "stream",
          "name": "stdout",
          "text": [
            "['1번째 줄입니다.\\n', '2번째 줄입니다.\\n', '3번째 줄입니다.\\n', '4번째 줄입니다.\\n', '5번째 줄입니다.\\n', '6번째 줄입니다.\\n', '7번째 줄입니다.\\n', '8번째 줄입니다.\\n', '9번째 줄입니다.\\n', '10번째 줄입니다.\\n']\n",
            "1번째 줄입니다.\n",
            "2번째 줄입니다.\n",
            "3번째 줄입니다.\n",
            "4번째 줄입니다.\n",
            "5번째 줄입니다.\n",
            "6번째 줄입니다.\n",
            "7번째 줄입니다.\n",
            "8번째 줄입니다.\n",
            "9번째 줄입니다.\n",
            "10번째 줄입니다.\n"
          ]
        }
      ]
    },
    {
      "cell_type": "code",
      "source": [
        "f = open(\"data/새파일.txt\", 'r')\n",
        "data = f.read()\n",
        "print(data)\n",
        "f.close()\n"
      ],
      "metadata": {
        "colab": {
          "base_uri": "https://localhost:8080/"
        },
        "id": "FT52AAOxxHdV",
        "outputId": "89d26395-9f93-4d72-fbd7-449e9c0538b9"
      },
      "execution_count": 49,
      "outputs": [
        {
          "output_type": "stream",
          "name": "stdout",
          "text": [
            "1번째 줄입니다.\n",
            "2번째 줄입니다.\n",
            "3번째 줄입니다.\n",
            "4번째 줄입니다.\n",
            "5번째 줄입니다.\n",
            "6번째 줄입니다.\n",
            "7번째 줄입니다.\n",
            "8번째 줄입니다.\n",
            "9번째 줄입니다.\n",
            "10번째 줄입니다.\n",
            "\n"
          ]
        }
      ]
    },
    {
      "cell_type": "code",
      "source": [
        "f = open('data/새파일.txt', 'a')\n",
        "f.write('11번째 줄입니다.\\n')\n",
        "f.close()\n"
      ],
      "metadata": {
        "id": "Tm_Z2TZAxxHk"
      },
      "execution_count": 50,
      "outputs": []
    },
    {
      "cell_type": "code",
      "source": [
        "with open('data/새파일.txt', 'a') as f :\n",
        "  f.write('12번째 줄입니다.')\n"
      ],
      "metadata": {
        "id": "su2UmXy9yP7T"
      },
      "execution_count": 51,
      "outputs": []
    },
    {
      "cell_type": "code",
      "source": [
        "strings = ['aaa\\n', 'bbb\\n', 'ccc\\n', 'ddd\\n']\n",
        "\n",
        "with open('/content/data/새파일.txt', 'w') as f :\n",
        "  for s in strings :\n",
        "    f.write(s)\n"
      ],
      "metadata": {
        "id": "npcyYnAb1znx"
      },
      "execution_count": 52,
      "outputs": []
    },
    {
      "cell_type": "code",
      "source": [
        "strings = ['aaa\\n', 'bbb\\n', 'ccc\\n', 'ddd\\n']\n",
        "\n",
        "with open('/content/data/새파일.txt', 'w') as f :\n",
        "  f.writelines(strings)"
      ],
      "metadata": {
        "id": "2veLTJT62XlL"
      },
      "execution_count": 53,
      "outputs": []
    },
    {
      "cell_type": "code",
      "source": [
        "# 1. 고양이, 강아지, 오리, 원숭이, 악어를 줄바꿈에서 animal.txt 파일에 저장\n",
        "\n",
        "with open('data/animal.txt', 'w') as f :\n",
        "  f.writelines(animals)\n",
        "\n",
        "\n",
        "\n",
        "\n",
        "\n",
        "\n"
      ],
      "metadata": {
        "id": "i7rxAjtC2hWm"
      },
      "execution_count": 54,
      "outputs": []
    },
    {
      "cell_type": "code",
      "source": [
        "# 2. 오리와 원숭이 사이에 말 저장\n",
        "with open('data/animal.txt', 'r') as f :\n",
        "  animals = f.readlines()\n",
        "  idx = animals.index('오리\\n')\n",
        "  animals.insert(idx, '말\\n')\n",
        "  with open('data/animal2.txt', 'w') as f2 :\n",
        "    f2.writelines(animals)\n"
      ],
      "metadata": {
        "id": "zDvbfiXZ6bS3"
      },
      "execution_count": 55,
      "outputs": []
    },
    {
      "cell_type": "code",
      "source": [
        "# 3. 파일에 저장된 동물 중에 말이 있다면 '푸르르' 출력. 없으면 '말은 존재하지 않습니다' 출력\n",
        "with open('data/animal.txt', 'r') as f :\n",
        "  animals = f.readlines()\n",
        "  if '말\\n' in animals :\n",
        "    print('푸르르')\n",
        "  else :\n",
        "    print('말은 존재하지 않습니다.')\n",
        "\n",
        "# 잘 안나온다면 컨트롤 + f9로 실행\n"
      ],
      "metadata": {
        "colab": {
          "base_uri": "https://localhost:8080/"
        },
        "id": "1uWaf1fS6jqv",
        "outputId": "1f326c89-df79-4981-b9d1-cb3c3517232b"
      },
      "execution_count": 56,
      "outputs": [
        {
          "output_type": "stream",
          "name": "stdout",
          "text": [
            "말은 존재하지 않습니다.\n"
          ]
        }
      ]
    }
  ]
}