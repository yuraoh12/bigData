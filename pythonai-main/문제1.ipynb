{
  "nbformat": 4,
  "nbformat_minor": 0,
  "metadata": {
    "colab": {
      "provenance": [],
      "authorship_tag": "ABX9TyPIDtIlRa2mzMNQRPMDI7Im",
      "include_colab_link": true
    },
    "kernelspec": {
      "name": "python3",
      "display_name": "Python 3"
    },
    "language_info": {
      "name": "python"
    }
  },
  "cells": [
    {
      "cell_type": "markdown",
      "metadata": {
        "id": "view-in-github",
        "colab_type": "text"
      },
      "source": [
        "<a href=\"https://colab.research.google.com/github/chacha86/pythonai/blob/main/%EB%AC%B8%EC%A0%9C1.ipynb\" target=\"_parent\"><img src=\"https://colab.research.google.com/assets/colab-badge.svg\" alt=\"Open In Colab\"/></a>"
      ]
    },
    {
      "cell_type": "code",
      "execution_count": null,
      "metadata": {
        "id": "-WSGQKg8cH1X"
      },
      "outputs": [],
      "source": [
        "# 1. students파일을 읽어서 데이터 프레임으로 만든 후 아래를 해결해주세요."
      ]
    },
    {
      "cell_type": "code",
      "source": [
        "# 2. 국어가 80점 이상인 학생의 이름과 생년월일"
      ],
      "metadata": {
        "id": "CZiQ5iXrcJNx"
      },
      "execution_count": null,
      "outputs": []
    },
    {
      "cell_type": "code",
      "source": [
        "# 3. 수학이 80점 미만인 학생의 영어와 국어 점수"
      ],
      "metadata": {
        "id": "GC0M6psgcKHv"
      },
      "execution_count": null,
      "outputs": []
    },
    {
      "cell_type": "code",
      "source": [
        "# 4. 국어와 수학이 90점 이상인 학생의 이름, 수학, 국어 점수"
      ],
      "metadata": {
        "id": "khw2wHKIcKet"
      },
      "execution_count": null,
      "outputs": []
    },
    {
      "cell_type": "code",
      "source": [
        "# 5. 모든 과목이 60점 미만인 학생의 번호, 이름, 생년월일"
      ],
      "metadata": {
        "id": "f4kHH04jcMPD"
      },
      "execution_count": null,
      "outputs": []
    },
    {
      "cell_type": "code",
      "source": [
        "# 6. 대전 지역 학생들의 이름, 국어, 영어, 수학 점수"
      ],
      "metadata": {
        "id": "ePJH1l2RcMmr"
      },
      "execution_count": null,
      "outputs": []
    }
  ]
}