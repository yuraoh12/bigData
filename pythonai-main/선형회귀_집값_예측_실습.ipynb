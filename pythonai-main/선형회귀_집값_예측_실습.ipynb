{
  "nbformat": 4,
  "nbformat_minor": 0,
  "metadata": {
    "colab": {
      "provenance": [],
      "authorship_tag": "ABX9TyPfeHDt8lFHuwKFDk4qGbft",
      "include_colab_link": true
    },
    "kernelspec": {
      "name": "python3",
      "display_name": "Python 3"
    },
    "language_info": {
      "name": "python"
    }
  },
  "cells": [
    {
      "cell_type": "markdown",
      "metadata": {
        "id": "view-in-github",
        "colab_type": "text"
      },
      "source": [
        "<a href=\"https://colab.research.google.com/github/chacha86/pythonai/blob/main/%EC%84%A0%ED%98%95%ED%9A%8C%EA%B7%80_%EC%A7%91%EA%B0%92_%EC%98%88%EC%B8%A1_%EC%8B%A4%EC%8A%B5.ipynb\" target=\"_parent\"><img src=\"https://colab.research.google.com/assets/colab-badge.svg\" alt=\"Open In Colab\"/></a>"
      ]
    },
    {
      "cell_type": "code",
      "execution_count": 1,
      "metadata": {
        "colab": {
          "base_uri": "https://localhost:8080/"
        },
        "id": "qbYVQ7XO2LiW",
        "outputId": "8ef039b0-7e90-417b-948b-8df30e64de22"
      },
      "outputs": [
        {
          "output_type": "stream",
          "name": "stdout",
          "text": [
            "Downloading california-housing-prices.zip to /content\n",
            "\r  0% 0.00/400k [00:00<?, ?B/s]\n",
            "\r100% 400k/400k [00:00<00:00, 83.8MB/s]\n",
            "Archive:  california-housing-prices.zip\n",
            "  inflating: housing.csv             \n"
          ]
        }
      ],
      "source": [
        "import os\n",
        "os.environ['KAGGLE_USERNAME'] = 'chasaem'\n",
        "os.environ['KAGGLE_KEY'] = 'dc20323e9468d835d62d9afe27b9a99c'\n",
        "\n",
        "!kaggle datasets download -d camnugent/california-housing-prices\n",
        "!unzip '*.zip'"
      ]
    },
    {
      "cell_type": "code",
      "source": [
        "import pandas as pd\n",
        "import numpy as np\n",
        "import matplotlib.pyplot as plt\n",
        "import seaborn as sns\n",
        "\n",
        "house = pd.read_csv('/content/housing.csv')"
      ],
      "metadata": {
        "id": "MKqavwu35vO8"
      },
      "execution_count": 3,
      "outputs": []
    },
    {
      "cell_type": "code",
      "source": [
        "house.info() # total_bedrooms 결측치 존재, 범주컬럼1, 나머지 수치\n",
        "\n",
        "\n",
        "\n",
        "\n"
      ],
      "metadata": {
        "id": "G_tQLRNj580C"
      },
      "execution_count": null,
      "outputs": []
    },
    {
      "cell_type": "code",
      "source": [
        "house.corr()['median_house_value'].sort_values()"
      ],
      "metadata": {
        "id": "l4L-PAMv6J2A"
      },
      "execution_count": null,
      "outputs": []
    },
    {
      "cell_type": "code",
      "source": [
        "train = house[['median_income']]\n",
        "target = house['median_house_value']\n",
        "\n",
        "from sklearn.model_selection import train_test_split\n",
        "\n",
        "# 학습/테스트 분리\n",
        "trd, tsd, trt, tst = train_test_split(train, target, random_state=42)\n",
        "\n",
        "from sklearn.preprocessing import StandardScaler\n",
        "\n",
        "ss = StandardScaler()\n",
        "\n",
        "scaled_trd = ss.fit_transform(trd)\n",
        "scaled_tsd = ss.fit_transform(tsd)\n",
        "\n",
        "# 표준화는 학습데이터만 하는 것.\n",
        "\n",
        "from sklearn.linear_model import LinearRegression\n",
        "\n",
        "lr = LinearRegression()\n",
        "lr.fit(trd, trt)\n",
        "lr.score(trd, trt), lr.score(tsd, tst)\n",
        "\n",
        "\n",
        "\n",
        "\n",
        "\n",
        "\n",
        "\n",
        "\n"
      ],
      "metadata": {
        "colab": {
          "base_uri": "https://localhost:8080/"
        },
        "id": "rK8DGQiD6gM4",
        "outputId": "38834cf2-dc0e-4225-9d25-d5cb03963633"
      },
      "execution_count": 15,
      "outputs": [
        {
          "output_type": "execute_result",
          "data": {
            "text/plain": [
              "(0.47430292180263645, 0.47083837938023365)"
            ]
          },
          "metadata": {},
          "execution_count": 15
        }
      ]
    },
    {
      "cell_type": "code",
      "source": [
        "house.columns"
      ],
      "metadata": {
        "colab": {
          "base_uri": "https://localhost:8080/"
        },
        "id": "1WCHgpCj8sia",
        "outputId": "0e55a5b1-5d51-4836-9bc0-a555a83cb21f"
      },
      "execution_count": 19,
      "outputs": [
        {
          "output_type": "execute_result",
          "data": {
            "text/plain": [
              "Index(['longitude', 'latitude', 'housing_median_age', 'total_rooms',\n",
              "       'total_bedrooms', 'population', 'households', 'median_income',\n",
              "       'median_house_value', 'ocean_proximity'],\n",
              "      dtype='object')"
            ]
          },
          "metadata": {},
          "execution_count": 19
        }
      ]
    },
    {
      "cell_type": "code",
      "source": [
        "\n",
        "## 모델의 성능을 끌어올리는 것이 목표\n",
        "## 1. 데이터를 더 많이 넣는 것. -> , 다항회귀\n",
        "## 다중회귀 적용. 모든 특성 사용.\n",
        "mtrain = house.drop('median_house_value', axis=1)\n",
        "\n",
        "## 표준화 -> 범주데이터가 있으면 표준화 불가.\n",
        "# scaled_mtrain = ss.fit_transform(mtrain)\n",
        "\n",
        "## 범주 데이터, 수치 데이터 분리\n",
        "mtrain_cate = mtrain[['ocean_proximity']]\n",
        "mtrain_num = mtrain.drop('ocean_proximity', axis=1)\n",
        "\n",
        "## 범주데이터 처리\n",
        "## 회귀에서는 범주데이터는 처리 불가.\n",
        "## 범주데이터 > 수치데이터 (인코딩)\n",
        "## 원핫인코딩\n",
        "from sklearn.preprocessing import OneHotEncoder\n",
        "\n",
        "encoder = OneHotEncoder()\n",
        "encoded_mtrain_cate = encoder.fit_transform(mtrain_cate)\n",
        "\n",
        "col_names = mtrain['ocean_proximity'].unique()\n",
        "mtrain_cate_1hot = pd.DataFrame(encoded_mtrain_cate.toarray(), columns=col_names)\n",
        "\n",
        "mtrain_cate_1hot\n"
      ],
      "metadata": {
        "id": "Fg58hdvN8RlE"
      },
      "execution_count": null,
      "outputs": []
    },
    {
      "cell_type": "code",
      "source": [
        "## 수치데이터 처리\n",
        "### 결측치 처리\n",
        "### 1. 특정값으로 대체(0, 평균, 중앙값, 최빈값 등등)\n",
        "### 2. 해당 행이나 열을 제외\n",
        "### 3. 특정 범주로 축소\n",
        "mtrain['total_bedrooms']\n",
        "\n",
        "# 히스토그램 or 박스플롯\n",
        "\n",
        "# sns.histplot(data=mtrain, x = 'total_bedrooms')\n",
        "# sns.boxplot(data=mtrain, y='total_bedrooms')\n",
        "\n",
        "\n",
        "## 이상치가 많으므로 중앙값으로 대체\n",
        "mtrain_num['total_bedrooms'] = mtrain_num['total_bedrooms'].fillna(mtrain_num['total_bedrooms'].median())\n",
        "\n",
        "## 학습/테스트분리하기 전에 범주랑 수치 합치기\n",
        "\n",
        "mtrain_1hot = pd.concat([mtrain_num, mtrain_cate_1hot], axis=1)\n",
        "\n",
        "\n",
        "## 학습/테스트분리\n",
        "mtrd, mtsd, mtrt, mtst = train_test_split(mtrain_1hot, target, random_state=42)\n",
        "\n",
        "## 표준화\n",
        "scaled_mtrd = ss.fit_transform(mtrd)\n",
        "scaled_mtsd = ss.transform(mtsd)\n",
        "\n",
        "lr2 = LinearRegression()\n",
        "lr2.fit(scaled_mtrd, mtrt)\n",
        "lr2.score(scaled_mtrd, mtrt), lr2.score(scaled_mtsd, mtst)\n"
      ],
      "metadata": {
        "colab": {
          "base_uri": "https://localhost:8080/"
        },
        "id": "UEpGbYAREx6Q",
        "outputId": "683baad5-01df-46e4-b37d-02c475f489df"
      },
      "execution_count": 71,
      "outputs": [
        {
          "output_type": "execute_result",
          "data": {
            "text/plain": [
              "(0.6472032405232842, 0.6374825568355214)"
            ]
          },
          "metadata": {},
          "execution_count": 71
        }
      ]
    },
    {
      "cell_type": "code",
      "source": [
        "## 회귀 평가 방법 -> RSquare, RMSE\n",
        "from sklearn.metrics import mean_squared_error\n",
        "\n",
        "predict_result = lr2.predict(scaled_mtrd)\n",
        "\n",
        "#predict_result[:5], mtrt[:5]\n",
        "mse = mean_squared_error(mtrt, predict_result)\n",
        "\n",
        "np.sqrt(mse) # 실제값과 예측값 사이에 평균 68000 정도의 차이가 발생한다.\n",
        "\n",
        "## 분포 -> 히스토그램, 박스플롯\n",
        "\n",
        "#sns.histplot(x=target)\n",
        "sns.boxplot(x=target)\n",
        "\n",
        "## 대부분의 집값 120000 ~ 270000 사이\n"
      ],
      "metadata": {
        "id": "D3jZQxEbJKb7"
      },
      "execution_count": null,
      "outputs": []
    },
    {
      "cell_type": "code",
      "source": [
        "\n",
        "\n",
        "#mtrain\n",
        "#mtrain_cate['ocean_proximity'].value_counts()"
      ],
      "metadata": {
        "id": "rqxaa5CA_hG0"
      },
      "execution_count": null,
      "outputs": []
    },
    {
      "cell_type": "code",
      "source": [
        "\n",
        "## 2. 데이터 튜닝 - 스케일링, 피처 공학\n",
        "## 3. 하이퍼파라미터 튜닝 "
      ],
      "metadata": {
        "id": "kOWZIoIL8S3y"
      },
      "execution_count": null,
      "outputs": []
    }
  ]
}