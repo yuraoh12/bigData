{
  "nbformat": 4,
  "nbformat_minor": 0,
  "metadata": {
    "colab": {
      "provenance": [],
      "authorship_tag": "ABX9TyPRv9+F1L0yNt3HtdmsnHZY",
      "include_colab_link": true
    },
    "kernelspec": {
      "name": "python3",
      "display_name": "Python 3"
    },
    "language_info": {
      "name": "python"
    }
  },
  "cells": [
    {
      "cell_type": "markdown",
      "metadata": {
        "id": "view-in-github",
        "colab_type": "text"
      },
      "source": [
        "<a href=\"https://colab.research.google.com/github/chacha86/pythonai/blob/main/%EB%A1%9C%EC%A7%80%EC%8A%A4%ED%8B%B1%ED%9A%8C%EA%B7%80(%EB%B6%84%EB%A5%98)_%EB%B6%93%EA%BD%83_%ED%92%88%EC%A2%85_%EC%98%88%EC%B8%A1.ipynb\" target=\"_parent\"><img src=\"https://colab.research.google.com/assets/colab-badge.svg\" alt=\"Open In Colab\"/></a>"
      ]
    },
    {
      "cell_type": "code",
      "execution_count": null,
      "metadata": {
        "id": "QamjhIVjbzxY"
      },
      "outputs": [],
      "source": [
        "from sklearn.datasets import load_iris\n",
        "\n",
        "iris = load_iris()\n",
        "\n",
        "## 붓꽃 데이터\n",
        "iris_data = iris.data\n",
        "\n",
        "## 특성 이름\n",
        "iris_feature_names = iris.feature_names\n",
        "\n",
        "## 붓꽃 클래스\n",
        "iris_target = iris.target\n",
        "\n",
        "## 클래스 이름\n",
        "iris_target_names = iris.target_names\n",
        "\n",
        "\n",
        "## 문제 1. -> 아래 다섯개의 품종을 맞추는 모델을 만들어주세요.\n",
        "# 6.1  3.0  4.9,  1.8\n",
        "# 4.8  3.4  1.6,  0.2\n",
        "# 5.7  3.8  1.7,  0.3\n",
        "# 5.6  2.8  4.5,  1.3\n",
        "# 5.8  2.7  3.9,  1.2\n",
        "\n",
        "\n",
        "# 예측 대상 데이터를 데이터프레임으로 생성\n",
        "pred_target = pd.DataFrame(\n",
        "  {\n",
        "   'row1' : [6.1,  3.0,  4.9,  1.8],\n",
        "   'row2' : [4.8,  3.4,  1.6,  0.2],\n",
        "   'row3' : [5.7,  3.8,  1.7,  0.3],\n",
        "   'row4' : [5.6,  2.8,  4.5,  1.3],\n",
        "   'row5' : [5.8,  2.7,  3.9,  1.2],\n",
        "  }\n",
        ")\n",
        "\n",
        "import pandas as pd\n",
        "\n",
        "## 작업하기 편하도록 numpy배열을 데이터프레임으로 생성\n",
        "iris_df = pd.DataFrame(iris_data, columns=iris_feature_names)\n",
        "iris_df.info()\n",
        "\n",
        "## 작업하기 편하도록 numpy배열을 시리즈로 생성\n",
        "iris_target_sr = pd.Series(iris_target)\n",
        "\n",
        "## 클래스 분포 확인\n",
        "iris_target_sr.value_counts()\n",
        "\n",
        "## 숫자로 된 타겟을 문자로 바꾸기\n",
        "iris_target_names = iris_target_names[iris_target]\n",
        "\n",
        "\n",
        "from sklearn.model_selection import train_test_split\n",
        "## 데이터 분리\n",
        "trd, tsd, trt, tst = train_test_split(iris_df, iris_target_names, train_size=0.8, stratify=iris_target_names, random_state=42)\n",
        "\n",
        "## 학습\n",
        "from sklearn.linear_model import LogisticRegression\n",
        "lr = LogisticRegression()\n",
        "lr.fit(trd, trt)\n",
        "\n",
        "## 평가\n",
        "lr.score(trd, trt), lr.score(tsd, tst)\n",
        "\n",
        "\n"
      ]
    },
    {
      "cell_type": "code",
      "source": [
        "## 예측 데이터프레임 행렬 전치\n",
        "pred_target = pred_target.T\n"
      ],
      "metadata": {
        "id": "9p9LK7seneLL"
      },
      "execution_count": 49,
      "outputs": []
    },
    {
      "cell_type": "code",
      "source": [
        "## 예측 데이터프레임 구조 변경 - 인덱스 초기화\n",
        "pred_target = pred_target.reset_index(drop=True)"
      ],
      "metadata": {
        "id": "Opwh8o1onspc"
      },
      "execution_count": 54,
      "outputs": []
    },
    {
      "cell_type": "code",
      "source": [
        "## 예측 데이터프레임 구조 변경 - 특성(컬럼)명 세팅\n",
        "pred_target.columns = iris_feature_names\n",
        "pred_target"
      ],
      "metadata": {
        "id": "Vwb2YjqMn_tB"
      },
      "execution_count": null,
      "outputs": []
    },
    {
      "cell_type": "code",
      "source": [
        "## 예측 데이터를 이용한 예측 및 결과 조합\n",
        "lr.predict(pred_target)\n",
        "pred_target['target'] = lr.predict(pred_target)"
      ],
      "metadata": {
        "id": "IEmGgtDboTgv"
      },
      "execution_count": 60,
      "outputs": []
    },
    {
      "cell_type": "markdown",
      "source": [],
      "metadata": {
        "id": "H2YEthW0okFl"
      }
    },
    {
      "cell_type": "code",
      "source": [
        "## 예측 결과\n",
        "pred_target"
      ],
      "metadata": {
        "colab": {
          "base_uri": "https://localhost:8080/",
          "height": 206
        },
        "id": "P41rUWPEoeGq",
        "outputId": "cc3e3131-c96b-490c-bd86-a2c2c02cd02f"
      },
      "execution_count": 61,
      "outputs": [
        {
          "output_type": "execute_result",
          "data": {
            "text/plain": [
              "   sepal length (cm)  sepal width (cm)  petal length (cm)  petal width (cm)  \\\n",
              "0                6.1               3.0                4.9               1.8   \n",
              "1                4.8               3.4                1.6               0.2   \n",
              "2                5.7               3.8                1.7               0.3   \n",
              "3                5.6               2.8                4.5               1.3   \n",
              "4                5.8               2.7                3.9               1.2   \n",
              "\n",
              "       target  \n",
              "0   virginica  \n",
              "1      setosa  \n",
              "2      setosa  \n",
              "3  versicolor  \n",
              "4  versicolor  "
            ],
            "text/html": [
              "\n",
              "  <div id=\"df-34860ddd-ad71-43d5-9538-05ce35b5642f\">\n",
              "    <div class=\"colab-df-container\">\n",
              "      <div>\n",
              "<style scoped>\n",
              "    .dataframe tbody tr th:only-of-type {\n",
              "        vertical-align: middle;\n",
              "    }\n",
              "\n",
              "    .dataframe tbody tr th {\n",
              "        vertical-align: top;\n",
              "    }\n",
              "\n",
              "    .dataframe thead th {\n",
              "        text-align: right;\n",
              "    }\n",
              "</style>\n",
              "<table border=\"1\" class=\"dataframe\">\n",
              "  <thead>\n",
              "    <tr style=\"text-align: right;\">\n",
              "      <th></th>\n",
              "      <th>sepal length (cm)</th>\n",
              "      <th>sepal width (cm)</th>\n",
              "      <th>petal length (cm)</th>\n",
              "      <th>petal width (cm)</th>\n",
              "      <th>target</th>\n",
              "    </tr>\n",
              "  </thead>\n",
              "  <tbody>\n",
              "    <tr>\n",
              "      <th>0</th>\n",
              "      <td>6.1</td>\n",
              "      <td>3.0</td>\n",
              "      <td>4.9</td>\n",
              "      <td>1.8</td>\n",
              "      <td>virginica</td>\n",
              "    </tr>\n",
              "    <tr>\n",
              "      <th>1</th>\n",
              "      <td>4.8</td>\n",
              "      <td>3.4</td>\n",
              "      <td>1.6</td>\n",
              "      <td>0.2</td>\n",
              "      <td>setosa</td>\n",
              "    </tr>\n",
              "    <tr>\n",
              "      <th>2</th>\n",
              "      <td>5.7</td>\n",
              "      <td>3.8</td>\n",
              "      <td>1.7</td>\n",
              "      <td>0.3</td>\n",
              "      <td>setosa</td>\n",
              "    </tr>\n",
              "    <tr>\n",
              "      <th>3</th>\n",
              "      <td>5.6</td>\n",
              "      <td>2.8</td>\n",
              "      <td>4.5</td>\n",
              "      <td>1.3</td>\n",
              "      <td>versicolor</td>\n",
              "    </tr>\n",
              "    <tr>\n",
              "      <th>4</th>\n",
              "      <td>5.8</td>\n",
              "      <td>2.7</td>\n",
              "      <td>3.9</td>\n",
              "      <td>1.2</td>\n",
              "      <td>versicolor</td>\n",
              "    </tr>\n",
              "  </tbody>\n",
              "</table>\n",
              "</div>\n",
              "      <button class=\"colab-df-convert\" onclick=\"convertToInteractive('df-34860ddd-ad71-43d5-9538-05ce35b5642f')\"\n",
              "              title=\"Convert this dataframe to an interactive table.\"\n",
              "              style=\"display:none;\">\n",
              "        \n",
              "  <svg xmlns=\"http://www.w3.org/2000/svg\" height=\"24px\"viewBox=\"0 0 24 24\"\n",
              "       width=\"24px\">\n",
              "    <path d=\"M0 0h24v24H0V0z\" fill=\"none\"/>\n",
              "    <path d=\"M18.56 5.44l.94 2.06.94-2.06 2.06-.94-2.06-.94-.94-2.06-.94 2.06-2.06.94zm-11 1L8.5 8.5l.94-2.06 2.06-.94-2.06-.94L8.5 2.5l-.94 2.06-2.06.94zm10 10l.94 2.06.94-2.06 2.06-.94-2.06-.94-.94-2.06-.94 2.06-2.06.94z\"/><path d=\"M17.41 7.96l-1.37-1.37c-.4-.4-.92-.59-1.43-.59-.52 0-1.04.2-1.43.59L10.3 9.45l-7.72 7.72c-.78.78-.78 2.05 0 2.83L4 21.41c.39.39.9.59 1.41.59.51 0 1.02-.2 1.41-.59l7.78-7.78 2.81-2.81c.8-.78.8-2.07 0-2.86zM5.41 20L4 18.59l7.72-7.72 1.47 1.35L5.41 20z\"/>\n",
              "  </svg>\n",
              "      </button>\n",
              "      \n",
              "  <style>\n",
              "    .colab-df-container {\n",
              "      display:flex;\n",
              "      flex-wrap:wrap;\n",
              "      gap: 12px;\n",
              "    }\n",
              "\n",
              "    .colab-df-convert {\n",
              "      background-color: #E8F0FE;\n",
              "      border: none;\n",
              "      border-radius: 50%;\n",
              "      cursor: pointer;\n",
              "      display: none;\n",
              "      fill: #1967D2;\n",
              "      height: 32px;\n",
              "      padding: 0 0 0 0;\n",
              "      width: 32px;\n",
              "    }\n",
              "\n",
              "    .colab-df-convert:hover {\n",
              "      background-color: #E2EBFA;\n",
              "      box-shadow: 0px 1px 2px rgba(60, 64, 67, 0.3), 0px 1px 3px 1px rgba(60, 64, 67, 0.15);\n",
              "      fill: #174EA6;\n",
              "    }\n",
              "\n",
              "    [theme=dark] .colab-df-convert {\n",
              "      background-color: #3B4455;\n",
              "      fill: #D2E3FC;\n",
              "    }\n",
              "\n",
              "    [theme=dark] .colab-df-convert:hover {\n",
              "      background-color: #434B5C;\n",
              "      box-shadow: 0px 1px 3px 1px rgba(0, 0, 0, 0.15);\n",
              "      filter: drop-shadow(0px 1px 2px rgba(0, 0, 0, 0.3));\n",
              "      fill: #FFFFFF;\n",
              "    }\n",
              "  </style>\n",
              "\n",
              "      <script>\n",
              "        const buttonEl =\n",
              "          document.querySelector('#df-34860ddd-ad71-43d5-9538-05ce35b5642f button.colab-df-convert');\n",
              "        buttonEl.style.display =\n",
              "          google.colab.kernel.accessAllowed ? 'block' : 'none';\n",
              "\n",
              "        async function convertToInteractive(key) {\n",
              "          const element = document.querySelector('#df-34860ddd-ad71-43d5-9538-05ce35b5642f');\n",
              "          const dataTable =\n",
              "            await google.colab.kernel.invokeFunction('convertToInteractive',\n",
              "                                                     [key], {});\n",
              "          if (!dataTable) return;\n",
              "\n",
              "          const docLinkHtml = 'Like what you see? Visit the ' +\n",
              "            '<a target=\"_blank\" href=https://colab.research.google.com/notebooks/data_table.ipynb>data table notebook</a>'\n",
              "            + ' to learn more about interactive tables.';\n",
              "          element.innerHTML = '';\n",
              "          dataTable['output_type'] = 'display_data';\n",
              "          await google.colab.output.renderOutput(dataTable, element);\n",
              "          const docLink = document.createElement('div');\n",
              "          docLink.innerHTML = docLinkHtml;\n",
              "          element.appendChild(docLink);\n",
              "        }\n",
              "      </script>\n",
              "    </div>\n",
              "  </div>\n",
              "  "
            ]
          },
          "metadata": {},
          "execution_count": 61
        }
      ]
    },
    {
      "cell_type": "code",
      "source": [
        "\n",
        "\n",
        "## 문제 2. -> 품종 예측을 이진분류로 바꿔서 버지니카만 골라내는 모델 만들어주세요.\n",
        "## 힌트 : 이진 분류에서 양성 클래스는 1, 음성 클래스는 0으로 표현함\n",
        "\n"
      ],
      "metadata": {
        "id": "GVxBmHPSlUiB"
      },
      "execution_count": null,
      "outputs": []
    }
  ]
}