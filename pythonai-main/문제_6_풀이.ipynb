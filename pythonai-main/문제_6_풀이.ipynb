{
  "nbformat": 4,
  "nbformat_minor": 0,
  "metadata": {
    "colab": {
      "provenance": [],
      "authorship_tag": "ABX9TyNzkPBIlp+rvDzNKPJwlEYP",
      "include_colab_link": true
    },
    "kernelspec": {
      "name": "python3",
      "display_name": "Python 3"
    },
    "language_info": {
      "name": "python"
    }
  },
  "cells": [
    {
      "cell_type": "markdown",
      "metadata": {
        "id": "view-in-github",
        "colab_type": "text"
      },
      "source": [
        "<a href=\"https://colab.research.google.com/github/chacha86/pythonai/blob/main/%EB%AC%B8%EC%A0%9C_6_%ED%92%80%EC%9D%B4.ipynb\" target=\"_parent\"><img src=\"https://colab.research.google.com/assets/colab-badge.svg\" alt=\"Open In Colab\"/></a>"
      ]
    },
    {
      "cell_type": "code",
      "source": [
        "import pandas as pd\n",
        "\n",
        "df = pd.read_excel('/content/students.xlsx')"
      ],
      "metadata": {
        "id": "5GADo-Ue3qRT"
      },
      "execution_count": 1,
      "outputs": []
    },
    {
      "cell_type": "code",
      "execution_count": null,
      "metadata": {
        "id": "NLCZXcIs2XEp"
      },
      "outputs": [],
      "source": [
        "\n",
        "\n",
        "# 아래 문제들을 map, apply, applymap을 이용해서 풀어주세요.\n",
        "\n",
        "\n",
        "\n",
        "\n",
        "# 1.'번호'에 번 붙이고 1은 001, 11은 011 처럼 세자리수 맞춰서 앞에 0 채우기\n",
        "# 001번, 002번, 003번 ....\n",
        "\n",
        "def add_bun(x) :\n",
        "  str_x = str(x)\n",
        "\n",
        "  rst = []\n",
        "\n",
        "  for i in range(3 - len(str_x)) :\n",
        "    rst.append('0')\n",
        "  \n",
        "  rst.append(str_x +'번')\n",
        "\n",
        "  return ''.join(rst)\n",
        "\n",
        "df['새번호'] = df['번호'].map(add_bun)\n",
        "\n",
        "df\n"
      ]
    },
    {
      "cell_type": "code",
      "source": [
        "# 1.생년월일에 년, 월, 일 붙이기\n",
        "# 2050-01-01 => 2050년01월01일\n",
        "\n",
        "def date_format(dt) :\n",
        "  bits = dt.split('-')\n",
        "  return f\"{bits[0]}년{bits[1]}월{bits[2]}일\"\n",
        "\n",
        "df['생년월일'].astype('str').map(date_format)\n"
      ],
      "metadata": {
        "id": "PpjBiEo54JaU"
      },
      "execution_count": null,
      "outputs": []
    },
    {
      "cell_type": "code",
      "source": [
        "# 3. apply를 이용해 평균과 총점 구하기\n",
        "\n",
        "def get_as(row) :\n",
        "  sum = row['국어'] + row['영어'] + row['수학']\n",
        "  avg = sum / 3\n",
        "  row['평균'] = avg\n",
        "  row['총점'] = sum\n",
        "  \n",
        "  return row\n",
        "  #row[0] + row[1] + row[2]\n",
        "\n",
        "rst = df[['국어', '영어', '수학']].apply(get_as, axis=1)\n",
        "rst\n"
      ],
      "metadata": {
        "id": "GC5GlWuY6V7Y"
      },
      "execution_count": null,
      "outputs": []
    },
    {
      "cell_type": "code",
      "source": [
        "\n",
        "# 4. 학업성취도를 아래와 같이 나눠서 새로운 컬럼으로 만들기.(평균 기준)\n",
        "## 90 이상이면 최우수\n",
        "## 80 ~ 90 사이면 우수\n",
        "## 70 ~ 80 사이면 보통\n",
        "## 60 ~ 70 사이면 미달\n",
        "\n",
        "def achieve(score) :\n",
        "  if score >= 90 :\n",
        "    return '최우수'\n",
        "  elif score >= 80 :\n",
        "    return '우수'\n",
        "  elif score >= 70 :\n",
        "    return '보통'\n",
        "  else :\n",
        "    return '미달' \n",
        "\n",
        "rst['학업성취도'] = rst['평균'].map(achieve)\n",
        "rst\n",
        "\n"
      ],
      "metadata": {
        "id": "B2IH_zyf3OQI"
      },
      "execution_count": null,
      "outputs": []
    },
    {
      "cell_type": "code",
      "source": [
        "# 5. apply를 이용해 min-max scaler 일괄 적용\n",
        "# 어떤 데이터군을 0 ~ 1 사이의 값으로 범위를 한정시키는 방법이다. 크기 기준이 제각각 다른 데이터간 기준을 맞추어 관계를 명확히 표현하기 위해서 사용한다.\n",
        "\n",
        "# min - max scale 공식은 아래와 같다.\n",
        "\n",
        "# 어떤 데이터군(리스트, 시리즈)이 있을 때, 어떤 대상값을 0 ~ 1 사이의 값으로 만들려면\n",
        "\n",
        "# (대상값 - 해당 데이터 군의 최소값) / (해당 데이터 군의 최대값 - 해당 데이터 군의 최소값) \n",
        "\n",
        "def min_max_scaler(col) :\n",
        "  return (col - min(col)) / (max(col) - min(col))\n",
        "\n",
        "rst.iloc[:,0:5].apply(min_max_scaler, axis=0)\n",
        "     \n"
      ],
      "metadata": {
        "id": "ATytgqzg8OE5"
      },
      "execution_count": null,
      "outputs": []
    },
    {
      "cell_type": "code",
      "source": [
        "# 6. applymap을 이용해 모든 점수 뒤에 점 붙이기\n",
        "# 90점, 91점 ...\n",
        "def add_jum(x) :\n",
        "  return str(x) + '점'\n",
        "\n",
        "rst.iloc[:, 0:5].applymap(add_jum)"
      ],
      "metadata": {
        "id": "KxLQlagC2YGN"
      },
      "execution_count": null,
      "outputs": []
    }
  ]
}