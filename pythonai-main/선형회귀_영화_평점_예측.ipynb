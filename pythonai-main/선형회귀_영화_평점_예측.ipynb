{
  "nbformat": 4,
  "nbformat_minor": 0,
  "metadata": {
    "colab": {
      "provenance": [],
      "authorship_tag": "ABX9TyOH3SQHLI/aXimARCBeYRO+",
      "include_colab_link": true
    },
    "kernelspec": {
      "name": "python3",
      "display_name": "Python 3"
    },
    "language_info": {
      "name": "python"
    }
  },
  "cells": [
    {
      "cell_type": "markdown",
      "metadata": {
        "id": "view-in-github",
        "colab_type": "text"
      },
      "source": [
        "<a href=\"https://colab.research.google.com/github/chacha86/pythonai/blob/main/%EC%84%A0%ED%98%95%ED%9A%8C%EA%B7%80_%EC%98%81%ED%99%94_%ED%8F%89%EC%A0%90_%EC%98%88%EC%B8%A1.ipynb\" target=\"_parent\"><img src=\"https://colab.research.google.com/assets/colab-badge.svg\" alt=\"Open In Colab\"/></a>"
      ]
    },
    {
      "cell_type": "code",
      "execution_count": null,
      "metadata": {
        "id": "j40I7CrmIall"
      },
      "outputs": [],
      "source": [
        "## 평점을 예측하는 모델 만들기\n",
        "\n",
        "## 감독, 장르, 배급, 개봉, 등급을 이용해서 평점 예측하기\n",
        "## 범주데이터를 수치데이터로 바꿔야 함.\n",
        "## 인코딩 -> \n",
        "## 원핫인코딩 -> 범주가 많으면 데이터가 많이 생겨서 성능이 떨어짐\n",
        "## 타겟인코딩, 빈도수 인코딩, 레이블 인코딩\n",
        "\n",
        "## 다중회귀로 학습\n",
        "\n",
        "## 평가\n"
      ]
    },
    {
      "cell_type": "code",
      "source": [
        "import pandas as pd\n",
        "import numpy as np\n",
        "import matplotlib.pyplot as plt\n",
        "import seaborn as sns\n",
        "\n",
        "mv = pd.read_excel('/content/movie2.xlsx')"
      ],
      "metadata": {
        "id": "iqkdHIiMJ_bn"
      },
      "execution_count": 1,
      "outputs": []
    },
    {
      "cell_type": "code",
      "source": [
        "#mv.info()\n",
        "'''\n",
        "'제목', '개봉', '등급', '장르', '국가', '러닝타임', '배급', '원작', '감독', '평점', '참여수',\n",
        "       '남자평균', '여자평균', 'OST', '영상미', '스토리', '연기', '연출', '10대_평점', '20대_평점',\n",
        "       '30대_평점', '40대_평점', '50대_평점', '원제', 'male', 'female', '관객수_x', '개요',\n",
        "       '수상', '재개봉', '채널', '10대_비율', '20대_비율', '30대_비율', '40대_비율', '50대_비율'\n",
        "'''\n",
        "data = mv[['개봉', '등급', '장르', '배급', '감독', '평점']]\n",
        "\n",
        "data['등급'].value_counts() # 원핫 인코딩\n",
        "\n",
        "data['개봉'].value_counts() # 타겟 인코딩\n",
        "data['장르'].value_counts() # 타겟 인코딩\n",
        "data['배급'].value_counts() # 타겟 인코딩\n",
        "data['감독'].value_counts() # 타겟 인코딩"
      ],
      "metadata": {
        "id": "pi5-sU7RKh0s"
      },
      "execution_count": null,
      "outputs": []
    },
    {
      "cell_type": "code",
      "source": [
        "data2 = data.fillna('')\n",
        "\n",
        "\n",
        "\n",
        "from sklearn.preprocessing import OneHotEncoder\n",
        "\n",
        "encoder = OneHotEncoder()\n",
        "\n",
        "## 1. 등급 컬럼을 원핫 인코딩해주세요.\n",
        "one_hot_target = data2[['등급']]\n",
        "\n",
        "col_names = data2['등급'].unique()\n",
        "\n",
        "encoded_target = encoder.fit_transform(one_hot_target).toarray()\n",
        "target_1hot = pd.DataFrame(encoded_target, columns = '등급_' + col_names)\n",
        "\n",
        "## 2. 등급을 제외한 나머지 컬럼을 타겟 인코딩 해주세요.\n",
        "## 감독\n",
        "data2[\"감독_인코딩\"] = data2.groupby(\"감독\")[\"평점\"].transform(\"mean\")\n",
        "\n",
        "## 장르, 배급, 개봉 타겟 인코딩 해주세요.\n",
        "data2[\"장르_인코딩\"] = data2.groupby(\"장르\")[\"평점\"].transform(\"mean\")\n",
        "data2[\"배급_인코딩\"] = data2.groupby(\"배급\")[\"평점\"].transform(\"mean\")\n",
        "data2[\"개봉_인코딩\"] = data2.groupby(\"개봉\")[\"평점\"].transform(\"mean\")\n",
        "\n",
        "\n",
        "## 3. 인코딩 된 데이터만 추리기\n",
        "\n",
        "data2.columns\n",
        "\n",
        "target_encoded_df = data2[['평점', '감독_인코딩', '장르_인코딩', '배급_인코딩',\n",
        "       '개봉_인코딩']]\n",
        "\n",
        "data3 = pd.concat([target_encoded_df, target_1hot], axis=1)\n"
      ],
      "metadata": {
        "id": "g9wJ0d47LyV9"
      },
      "execution_count": 4,
      "outputs": []
    },
    {
      "cell_type": "code",
      "source": [
        "data3.columns"
      ],
      "metadata": {
        "colab": {
          "base_uri": "https://localhost:8080/"
        },
        "id": "ttizX23DhAdz",
        "outputId": "223595e6-a611-4ec2-8dcd-416ed1370942"
      },
      "execution_count": 5,
      "outputs": [
        {
          "output_type": "execute_result",
          "data": {
            "text/plain": [
              "Index(['평점', '감독_인코딩', '장르_인코딩', '배급_인코딩', '개봉_인코딩', '등급_15세 관람가',\n",
              "       '등급_청소년 관람불가', '등급_전체 관람가', '등급_12세 관람가', '등급_'],\n",
              "      dtype='object')"
            ]
          },
          "metadata": {},
          "execution_count": 5
        }
      ]
    },
    {
      "cell_type": "code",
      "source": [
        "## 4.학습데이터와 테스트 데이터를 문제와 정답 나눠서 8:2로 분리해주세요. \n",
        "\n",
        "from sklearn.model_selection import train_test_split\n",
        "\n",
        "train_data = data3[['감독_인코딩', '장르_인코딩', '배급_인코딩',\n",
        "       '개봉_인코딩', '등급_15세 관람가',\n",
        "       '등급_청소년 관람불가', '등급_전체 관람가', '등급_12세 관람가']]\n",
        "\n",
        "target_data = data3['평점']\n",
        "\n",
        "trd, tsd, trt, tst = train_test_split(train_data, target_data, train_size=0.8, random_state=42)\n",
        "\n",
        "## 5. 선형회귀 모델로 학습시키고 평가해주세요.\n",
        "\n",
        "from sklearn.linear_model import LinearRegression\n",
        "\n",
        "lr = LinearRegression()\n",
        "\n",
        "lr.fit(trd, trt)\n",
        "\n",
        "lr.score(trd, trt), lr.score(tsd, tst)\n",
        "\n",
        "## 타겟인코딩 -> 장점 및 단점.\n",
        "## 쉽게 과적합\n",
        "## 적은 데이터일 경우 좋은 성능을 내기 어렵다.\n"
      ],
      "metadata": {
        "colab": {
          "base_uri": "https://localhost:8080/"
        },
        "id": "iaHX2lo_Wao7",
        "outputId": "b639d508-2bfc-4460-bbfd-7f17e03023e9"
      },
      "execution_count": 6,
      "outputs": [
        {
          "output_type": "execute_result",
          "data": {
            "text/plain": [
              "(0.8311926873098582, 0.853077199002332)"
            ]
          },
          "metadata": {},
          "execution_count": 6
        }
      ]
    },
    {
      "cell_type": "code",
      "source": [
        "## 교차 검증 기법\n",
        "## - 데이터를 효율적으로 사용 가능\n",
        "## - 학습데이터를 다양한 패턴으로 학습하기 때문에 특정 패턴에 고정되지 않고 유연하게 학습 가능 => 과적합을 완화한다.\n",
        "## 단점\n",
        "## - 여러번 학습하기 때문에 학습에 시간이 걸릴 수 있음.\n",
        "\n",
        "from sklearn.model_selection import cross_val_score\n",
        "\n",
        "## 교차 검증할 모델, 폴드에 사용할 데이터, 데이터의 정답, 평가지표, 폴드 수)\n",
        "## 회귀 평가 지표 -> r2, RMSE, MAE\n",
        "scores = cross_val_score(lr, trd, trt, scoring='r2', cv=5)\n",
        "\n"
      ],
      "metadata": {
        "id": "CZYBpl-OS6ij"
      },
      "execution_count": 7,
      "outputs": []
    },
    {
      "cell_type": "code",
      "source": [
        "np.mean(scores)"
      ],
      "metadata": {
        "colab": {
          "base_uri": "https://localhost:8080/"
        },
        "id": "56My8ou9gJqx",
        "outputId": "73b57322-2eb8-498b-cb93-60de835dd5d3"
      },
      "execution_count": 8,
      "outputs": [
        {
          "output_type": "execute_result",
          "data": {
            "text/plain": [
              "0.821195949506952"
            ]
          },
          "metadata": {},
          "execution_count": 8
        }
      ]
    },
    {
      "cell_type": "code",
      "source": [
        "## 점수를 좀 더 올릴 수는 없을까?\n",
        "## 1. 데이터 튜닝\n",
        "### 1.1 스케일링\n",
        "### 1.2 피처 엔지니어링\n",
        "\n",
        "#### 1.2.1 나머지 특성들을 학습에 사용해주세요.\n",
        "####   - 사용할만한 컬럼인지 판단\n",
        "## - 제목은 중복도(카디널리티) 낮으면 별로\n",
        "## - 개봉은 중복도가 낮은데, 높일 수 있음.(년월별로) (O)\n",
        "## - 평점에 관련된 데이터는 제외 (O)\n",
        "## - 결측치가 너무 많은 데이터 제외 -> 결측치 400개 이상인 것 버림 (O)\n",
        "\n",
        "del_target = mv.columns.values[mv.isna().sum() > 400]\n",
        "mv2 = mv.drop(del_target, axis=1)\n",
        "\n",
        "\n",
        "del_target2 = mv2.columns[mv2.columns.str.contains('_평점|평균|참여수')]\n",
        "\n",
        "mv3 = mv2.drop(del_target2, axis=1)\n",
        "\n",
        "\n",
        "mv3['개봉'] = mv3['개봉'].str[:7]\n",
        "####   - 숫자데이터인데 문자로 되어 있는 경우 -> 형변환 (O)\n",
        "####   - 결측치 처리\n",
        "####   - 인코딩이 필요하면 인코딩, 스케일링이 필요하면 스케일링\n",
        "\n",
        "#### 1.2.2 특성을 조합해서 특성의 개수와 차수 늘리기\n",
        "####   - 차수를 몇차까지 할 것인지\n",
        "####   - 과적합을 해결하기 - 규제\n",
        "\n",
        "\n"
      ],
      "metadata": {
        "id": "4B-YQQ7ugbL2"
      },
      "execution_count": 9,
      "outputs": []
    },
    {
      "cell_type": "code",
      "source": [
        "mv4 = mv3.drop('제목', axis=1)\n",
        "\n",
        "### 1. 결측치를 제외한 값을 추린다\n",
        "idx = mv4['관객수_x'].notna()\n",
        "popul = mv4.loc[idx, '관객수_x']\n",
        "\n",
        "### 2. 명을 없앤다\n",
        "popul2 = popul.str.replace('명', '')\n",
        "### 3. 만이 붙은 행만 추린다.\n",
        "man_idx = popul2.str.contains('만')\n",
        "popul3 = popul2[man_idx]\n",
        "### 4. 만을 없애고 숫자 바꾼다.\n",
        "### 5. * 10000을 해준다.\n",
        "popul4 = popul3.str.replace('만', '').str.replace(',', '').astype('float') * 10000\n",
        "\n",
        "### 6. 원래 데이터를 찾아서 대입해준다.\n",
        "\n",
        "mv4.loc[idx, '관객수_x'] = popul4"
      ],
      "metadata": {
        "id": "2SMgxZG2tD7o"
      },
      "execution_count": 80,
      "outputs": []
    },
    {
      "cell_type": "code",
      "source": [
        "mv4['관객수_x'] = mv4['관객수_x'].astype('float')"
      ],
      "metadata": {
        "id": "glNixLYMiRIS"
      },
      "execution_count": 85,
      "outputs": []
    },
    {
      "cell_type": "code",
      "source": [
        "'''\n",
        "'개봉', '등급', '장르', '국가', '러닝타임', '배급', '감독', '평점', 'OST', '영상미', '스토리',\n",
        "       '연기', '연출', '관객수_x', '10대_비율', '20대_비율', '30대_비율', '40대_비율', '50대_비율'\n",
        "'''\n",
        "#mv4.info()\n",
        "mv4.loc[:, ['개봉', '등급', '장르', '국가', '러닝타임', '배급', '감독']] = mv4[['개봉', '등급', '장르', '국가', '러닝타임', '배급', '감독']].fillna('')\n",
        "\n",
        "\n"
      ],
      "metadata": {
        "id": "-bDRxRWVi2OX"
      },
      "execution_count": 95,
      "outputs": []
    },
    {
      "cell_type": "code",
      "source": [
        "#mv4.info()\n",
        "\n",
        "\n",
        "## 숫자형 데이터 결측치 처리\n",
        "pd.options.display.float_format = '{:.2f}'.format\n",
        "#mv4.describe()\n",
        "\n",
        "## 평균으로 대체\n",
        "\n",
        "from sklearn.impute import SimpleImputer\n",
        "imputer = SimpleImputer(strategy='mean')\n",
        "\n",
        "## 숫자\n",
        "mv4_num = mv4.drop(['개봉', '등급', '장르', '국가', '러닝타임', '배급', '감독'], axis=1)\n",
        "## 범주\n",
        "mv4_cate = mv4[['개봉', '등급', '장르', '국가', '러닝타임', '배급', '감독']]\n",
        "## 타겟\n",
        "mv4_target = mv4['평점']\n",
        "\n",
        "imputed_mv4_num = imputer.fit_transform(mv4_num)\n",
        "\n",
        "imputed_mv4_num_df = pd.DataFrame(imputed_mv4_num, columns = mv4_num.columns)\n",
        "imputed_mv4_num_df.info()\n",
        "\n",
        "## 스케일링 -> 학습데이터를 기준으로 스케일링\n",
        "## 타겟 인코딩 -> 학습데이터를 기준으로 인코딩\n",
        "\n",
        "from sklearn.model_selection import train_test_split\n",
        "\n",
        "trd_num, tsd_num, trt, tst = train_test_split(imputed_mv4_num_df, mv4_target, train_size=0.8, random_state=42)\n",
        "trd_cate, tsd_cate = train_test_split(mv4_cate, train_size=0.8, random_state=42)\n"
      ],
      "metadata": {
        "id": "6DPSpzrVkDeZ"
      },
      "execution_count": null,
      "outputs": []
    },
    {
      "cell_type": "code",
      "source": [
        "## 2. 파라미터 튜닝"
      ],
      "metadata": {
        "id": "U3wnJ9u0hTVd"
      },
      "execution_count": null,
      "outputs": []
    }
  ]
}