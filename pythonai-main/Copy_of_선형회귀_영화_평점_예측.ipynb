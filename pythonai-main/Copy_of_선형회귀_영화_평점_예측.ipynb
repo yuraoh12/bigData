{
  "nbformat": 4,
  "nbformat_minor": 0,
  "metadata": {
    "colab": {
      "provenance": [],
      "authorship_tag": "ABX9TyMtXlhec7YuNZZAYOmc36j+",
      "include_colab_link": true
    },
    "kernelspec": {
      "name": "python3",
      "display_name": "Python 3"
    },
    "language_info": {
      "name": "python"
    }
  },
  "cells": [
    {
      "cell_type": "markdown",
      "metadata": {
        "id": "view-in-github",
        "colab_type": "text"
      },
      "source": [
        "<a href=\"https://colab.research.google.com/github/chacha86/pythonai/blob/main/Copy_of_%EC%84%A0%ED%98%95%ED%9A%8C%EA%B7%80_%EC%98%81%ED%99%94_%ED%8F%89%EC%A0%90_%EC%98%88%EC%B8%A1.ipynb\" target=\"_parent\"><img src=\"https://colab.research.google.com/assets/colab-badge.svg\" alt=\"Open In Colab\"/></a>"
      ]
    },
    {
      "cell_type": "code",
      "execution_count": 26,
      "metadata": {
        "id": "j40I7CrmIall"
      },
      "outputs": [],
      "source": [
        "## 평점을 예측하는 모델 만들기\n",
        "\n",
        "## 감독, 장르, 배급, 개봉, 등급을 이용해서 평점 예측하기\n",
        "## 범주데이터를 수치데이터로 바꿔야 함.\n",
        "## 인코딩 -> \n",
        "## 원핫인코딩 -> 범주가 많으면 데이터가 많이 생겨서 성능이 떨어짐\n",
        "## 타겟인코딩, 빈도수 인코딩, 레이블 인코딩\n",
        "\n",
        "## 다중회귀로 학습\n",
        "\n",
        "## 평가\n"
      ]
    },
    {
      "cell_type": "code",
      "source": [
        "import pandas as pd\n",
        "import numpy as np\n",
        "import matplotlib.pyplot as plt\n",
        "import seaborn as sns\n",
        "\n",
        "mv = pd.read_excel('/content/movie2.xlsx')"
      ],
      "metadata": {
        "id": "iqkdHIiMJ_bn"
      },
      "execution_count": 3,
      "outputs": []
    },
    {
      "cell_type": "code",
      "source": [
        "#mv.info()\n",
        "'''\n",
        "'제목', '개봉', '등급', '장르', '국가', '러닝타임', '배급', '원작', '감독', '평점', '참여수',\n",
        "       '남자평균', '여자평균', 'OST', '영상미', '스토리', '연기', '연출', '10대_평점', '20대_평점',\n",
        "       '30대_평점', '40대_평점', '50대_평점', '원제', 'male', 'female', '관객수_x', '개요',\n",
        "       '수상', '재개봉', '채널', '10대_비율', '20대_비율', '30대_비율', '40대_비율', '50대_비율'\n",
        "'''\n",
        "data = mv[['개봉', '등급', '장르', '배급', '감독', '평점']]\n",
        "\n",
        "data['등급'].value_counts() # 원핫 인코딩\n",
        "\n",
        "data['개봉'].value_counts() # 타겟 인코딩\n",
        "data['장르'].value_counts() # 타겟 인코딩\n",
        "data['배급'].value_counts() # 타겟 인코딩\n",
        "data['감독'].value_counts() # 타겟 인코딩"
      ],
      "metadata": {
        "id": "pi5-sU7RKh0s",
        "outputId": "e3aba7de-b802-4475-9492-f4254db7dc64",
        "colab": {
          "base_uri": "https://localhost:8080/"
        }
      },
      "execution_count": 4,
      "outputs": [
        {
          "output_type": "execute_result",
          "data": {
            "text/plain": [
              "유야마 쿠니히코     8\n",
              "리들리 스콧       6\n",
              "이준익          6\n",
              "제임스 완        6\n",
              "자움 콜렛 세라     6\n",
              "            ..\n",
              "폴 그린그래스      1\n",
              "에드워드 즈윅      1\n",
              "이재한          1\n",
              "던칸 존스        1\n",
              "크리스토퍼 보글리    1\n",
              "Name: 감독, Length: 785, dtype: int64"
            ]
          },
          "metadata": {},
          "execution_count": 4
        }
      ]
    },
    {
      "cell_type": "code",
      "source": [
        "data2 = data.fillna('')\n",
        "\n",
        "\n",
        "\n",
        "from sklearn.preprocessing import OneHotEncoder\n",
        "\n",
        "encoder = OneHotEncoder()\n",
        "\n",
        "## 1. 등급 컬럼을 원핫 인코딩해주세요.\n",
        "one_hot_target = data2[['등급']]\n",
        "\n",
        "col_names = data2['등급'].unique()\n",
        "\n",
        "encoded_target = encoder.fit_transform(one_hot_target).toarray()\n",
        "target_1hot = pd.DataFrame(encoded_target, columns = '등급_' + col_names)\n",
        "\n",
        "## 2. 등급을 제외한 나머지 컬럼을 타겟 인코딩 해주세요.\n",
        "## 감독\n",
        "data2[\"감독_인코딩\"] = data2.groupby(\"감독\")[\"평점\"].transform(\"mean\")\n",
        "\n",
        "## 장르, 배급, 개봉 타겟 인코딩 해주세요.\n",
        "data2[\"장르_인코딩\"] = data2.groupby(\"장르\")[\"평점\"].transform(\"mean\")\n",
        "data2[\"배급_인코딩\"] = data2.groupby(\"배급\")[\"평점\"].transform(\"mean\")\n",
        "data2[\"개봉_인코딩\"] = data2.groupby(\"개봉\")[\"평점\"].transform(\"mean\")\n",
        "\n",
        "\n",
        "## 3. 인코딩 된 데이터만 추리기\n",
        "\n",
        "data2.columns\n",
        "\n",
        "target_encoded_df = data2[['평점', '감독_인코딩', '장르_인코딩', '배급_인코딩',\n",
        "       '개봉_인코딩']]\n",
        "\n",
        "data3 = pd.concat([target_encoded_df, target_1hot], axis=1)\n"
      ],
      "metadata": {
        "id": "g9wJ0d47LyV9"
      },
      "execution_count": 5,
      "outputs": []
    },
    {
      "cell_type": "code",
      "source": [
        "data3.columns"
      ],
      "metadata": {
        "colab": {
          "base_uri": "https://localhost:8080/"
        },
        "id": "ttizX23DhAdz",
        "outputId": "1d005aeb-a1b1-4a16-f694-4d49f855c568"
      },
      "execution_count": 6,
      "outputs": [
        {
          "output_type": "execute_result",
          "data": {
            "text/plain": [
              "Index(['평점', '감독_인코딩', '장르_인코딩', '배급_인코딩', '개봉_인코딩', '등급_15세 관람가',\n",
              "       '등급_청소년 관람불가', '등급_전체 관람가', '등급_12세 관람가', '등급_'],\n",
              "      dtype='object')"
            ]
          },
          "metadata": {},
          "execution_count": 6
        }
      ]
    },
    {
      "cell_type": "code",
      "source": [
        "## 4.학습데이터와 테스트 데이터를 문제와 정답 나눠서 8:2로 분리해주세요. \n",
        "\n",
        "from sklearn.model_selection import train_test_split\n",
        "\n",
        "train_data = data3[['감독_인코딩', '장르_인코딩', '배급_인코딩',\n",
        "       '개봉_인코딩', '등급_15세 관람가',\n",
        "       '등급_청소년 관람불가', '등급_전체 관람가', '등급_12세 관람가']]\n",
        "\n",
        "target_data = data3['평점']\n",
        "\n",
        "trd, tsd, trt, tst = train_test_split(train_data, target_data, train_size=0.8, random_state=42)\n",
        "\n",
        "## 5. 선형회귀 모델로 학습시키고 평가해주세요.\n",
        "\n",
        "from sklearn.linear_model import LinearRegression\n",
        "\n",
        "lr = LinearRegression()\n",
        "\n",
        "lr.fit(trd, trt)\n",
        "\n",
        "lr.score(trd, trt), lr.score(tsd, tst)\n",
        "\n",
        "## 타겟인코딩 -> 장점 및 단점.\n",
        "## 쉽게 과적합\n",
        "## 적은 데이터일 경우 좋은 성능을 내기 어렵다.\n"
      ],
      "metadata": {
        "colab": {
          "base_uri": "https://localhost:8080/"
        },
        "id": "iaHX2lo_Wao7",
        "outputId": "04a2e2d5-5f23-49ba-855c-4f708f5441da"
      },
      "execution_count": 7,
      "outputs": [
        {
          "output_type": "execute_result",
          "data": {
            "text/plain": [
              "(0.8311926873098582, 0.853077199002332)"
            ]
          },
          "metadata": {},
          "execution_count": 7
        }
      ]
    },
    {
      "cell_type": "code",
      "source": [
        "## 교차 검증 기법\n",
        "## - 데이터를 효율적으로 사용 가능\n",
        "## - 학습데이터를 다양한 패턴으로 학습하기 때문에 특정 패턴에 고정되지 않고 유연하게 학습 가능 => 과적합을 완화한다.\n",
        "## 단점\n",
        "## - 여러번 학습하기 때문에 학습에 시간이 걸릴 수 있음.\n",
        "\n",
        "from sklearn.model_selection import cross_val_score\n",
        "\n",
        "## 교차 검증할 모델, 폴드에 사용할 데이터, 데이터의 정답, 평가지표, 폴드 수)\n",
        "## 회귀 평가 지표 -> r2, RMSE, MAE\n",
        "scores = cross_val_score(lr, trd, trt, scoring='r2', cv=5)\n",
        "\n"
      ],
      "metadata": {
        "id": "CZYBpl-OS6ij"
      },
      "execution_count": 8,
      "outputs": []
    },
    {
      "cell_type": "code",
      "source": [
        "np.mean(scores)"
      ],
      "metadata": {
        "colab": {
          "base_uri": "https://localhost:8080/"
        },
        "id": "56My8ou9gJqx",
        "outputId": "65778f0b-d378-4d36-9595-3cbcdca48c8c"
      },
      "execution_count": 9,
      "outputs": [
        {
          "output_type": "execute_result",
          "data": {
            "text/plain": [
              "0.821195949506952"
            ]
          },
          "metadata": {},
          "execution_count": 9
        }
      ]
    },
    {
      "cell_type": "code",
      "source": [
        "## 점수를 좀 더 올릴 수는 없을까?\n",
        "## 1. 데이터 튜닝\n",
        "### 1.1 스케일링\n",
        "### 1.2 피처 엔지니어링\n",
        "\n",
        "#### 1.2.1 나머지 특성들을 학습에 사용해주세요.\n",
        "####   - 사용할만한 컬럼인지 판단\n",
        "## - 제목은 중복도(카디널리티) 낮으면 별로\n",
        "## - 개봉은 중복도가 낮은데, 높일 수 있음.(년월별로) (O)\n",
        "## - 평점에 관련된 데이터는 제외 (O)\n",
        "## - 결측치가 너무 많은 데이터 제외 -> 결측치 400개 이상인 것 버림 (O)\n",
        "\n",
        "del_target = mv.columns.values[mv.isna().sum() > 400]\n",
        "mv2 = mv.drop(del_target, axis=1)\n",
        "\n",
        "\n",
        "del_target2 = mv2.columns[mv2.columns.str.contains('_평점|평균|참여수')]\n",
        "\n",
        "mv3 = mv2.drop(del_target2, axis=1)\n",
        "\n",
        "\n",
        "mv3['개봉'] = mv3['개봉'].str[:7]\n",
        "####   - 숫자데이터인데 문자로 되어 있는 경우 -> 형변환 (O)\n",
        "####   - 결측치 처리\n",
        "####   - 인코딩이 필요하면 인코딩, 스케일링이 필요하면 스케일링\n",
        "\n",
        "#### 1.2.2 특성을 조합해서 특성의 개수와 차수 늘리기\n",
        "####   - 차수를 몇차까지 할 것인지\n",
        "####   - 과적합을 해결하기 - 규제\n",
        "\n",
        "\n"
      ],
      "metadata": {
        "id": "4B-YQQ7ugbL2"
      },
      "execution_count": 10,
      "outputs": []
    },
    {
      "cell_type": "code",
      "source": [
        "mv4 = mv3.drop('제목', axis=1)\n",
        "\n",
        "### 1. 결측치를 제외한 값을 추린다\n",
        "idx = mv4['관객수_x'].notna()\n",
        "popul = mv4.loc[idx, '관객수_x']\n",
        "\n",
        "### 2. 명을 없앤다\n",
        "popul2 = popul.str.replace('명', '')\n",
        "### 3. 만이 붙은 행만 추린다.\n",
        "man_idx = popul2.str.contains('만')\n",
        "popul3 = popul2[man_idx]\n",
        "### 4. 만을 없애고 숫자 바꾼다.\n",
        "### 5. * 10000을 해준다.\n",
        "popul4 = popul3.str.replace('만', '').str.replace(',', '').astype('float') * 10000\n",
        "\n",
        "### 6. 원래 데이터를 찾아서 대입해준다.\n",
        "\n",
        "mv4.loc[idx, '관객수_x'] = popul4"
      ],
      "metadata": {
        "id": "2SMgxZG2tD7o"
      },
      "execution_count": 11,
      "outputs": []
    },
    {
      "cell_type": "code",
      "source": [
        "mv4['관객수_x'] = mv4['관객수_x'].astype('float')"
      ],
      "metadata": {
        "id": "glNixLYMiRIS"
      },
      "execution_count": 12,
      "outputs": []
    },
    {
      "cell_type": "code",
      "source": [
        "mv4[['10대_비율', '20대_비율', '30대_비율', '40대_비율', '50대_비율']] = mv4[['10대_비율', '20대_비율', '30대_비율', '40대_비율', '50대_비율']].applymap(lambda x : str(x).replace('%','')).astype('float')"
      ],
      "metadata": {
        "id": "o0Ko-h9Ypd2v"
      },
      "execution_count": 13,
      "outputs": []
    },
    {
      "cell_type": "code",
      "source": [
        "'''\n",
        "'개봉', '등급', '장르', '국가', '러닝타임', '배급', '감독', '평점', 'OST', '영상미', '스토리',\n",
        "       '연기', '연출', '관객수_x', '10대_비율', '20대_비율', '30대_비율', '40대_비율', '50대_비율'\n",
        "'''\n",
        "#mv4.info()\n",
        "mv4.loc[:, ['개봉', '등급', '장르', '국가', '러닝타임', '배급', '감독']] = mv4[['개봉', '등급', '장르', '국가', '러닝타임', '배급', '감독']].fillna('')\n",
        "\n",
        "\n"
      ],
      "metadata": {
        "id": "-bDRxRWVi2OX"
      },
      "execution_count": 14,
      "outputs": []
    },
    {
      "cell_type": "code",
      "source": [
        "#mv4.info()\n",
        "\n",
        "\n",
        "## 숫자형 데이터 결측치 처리\n",
        "pd.options.display.float_format = '{:.2f}'.format\n",
        "#mv4.describe()\n",
        "\n",
        "## 평균으로 대체\n",
        "\n",
        "from sklearn.impute import SimpleImputer\n",
        "imputer = SimpleImputer(strategy='mean')\n",
        "\n",
        "## 숫자\n",
        "mv4_num = mv4.drop(['개봉', '등급', '장르', '국가', '러닝타임', '배급', '감독', '평점'], axis=1)\n",
        "## 범주\n",
        "mv4_cate = mv4[['개봉', '등급', '장르', '국가', '러닝타임', '배급', '감독', '평점']]\n",
        "## 타겟\n",
        "mv4_target = mv4['평점']\n",
        "\n",
        "imputed_mv4_num = imputer.fit_transform(mv4_num)\n",
        "\n",
        "imputed_mv4_num_df = pd.DataFrame(imputed_mv4_num, columns = mv4_num.columns)\n",
        "imputed_mv4_num_df.info()\n",
        "\n",
        "## 스케일링 -> 학습데이터를 기준으로 스케일링\n",
        "## 타겟 인코딩 -> 학습데이터를 기준으로 인코딩\n",
        "\n",
        "from sklearn.model_selection import train_test_split\n",
        "\n",
        "## 숫자형 데이터 분리\n",
        "trd_num, tsd_num, trt, tst = train_test_split(imputed_mv4_num_df, mv4_target, train_size=0.8, random_state=42)\n",
        "\n",
        "## 범주형 데이터 분리. 정답 데이터는 위에서 얻었으므로 여기서는 제외\n",
        "trd_cate, tsd_cate = train_test_split(mv4_cate, train_size=0.8, random_state=42)\n"
      ],
      "metadata": {
        "id": "6DPSpzrVkDeZ",
        "outputId": "b7581ac2-ca55-4348-9205-c22cffacb9df",
        "colab": {
          "base_uri": "https://localhost:8080/"
        }
      },
      "execution_count": 15,
      "outputs": [
        {
          "output_type": "stream",
          "name": "stdout",
          "text": [
            "<class 'pandas.core.frame.DataFrame'>\n",
            "RangeIndex: 1188 entries, 0 to 1187\n",
            "Data columns (total 11 columns):\n",
            " #   Column  Non-Null Count  Dtype  \n",
            "---  ------  --------------  -----  \n",
            " 0   OST     1188 non-null   float64\n",
            " 1   영상미     1188 non-null   float64\n",
            " 2   스토리     1188 non-null   float64\n",
            " 3   연기      1188 non-null   float64\n",
            " 4   연출      1188 non-null   float64\n",
            " 5   관객수_x   1188 non-null   float64\n",
            " 6   10대_비율  1188 non-null   float64\n",
            " 7   20대_비율  1188 non-null   float64\n",
            " 8   30대_비율  1188 non-null   float64\n",
            " 9   40대_비율  1188 non-null   float64\n",
            " 10  50대_비율  1188 non-null   float64\n",
            "dtypes: float64(11)\n",
            "memory usage: 102.2 KB\n"
          ]
        }
      ]
    },
    {
      "cell_type": "code",
      "source": [
        "## 숫자형 데이터 전처리 - 스케일링\n",
        "from sklearn.preprocessing import StandardScaler\n",
        "ss = StandardScaler()\n",
        "scaled_trd_num = ss.fit_transform(trd_num)\n",
        "scaled_tsd_num = ss.transform(tsd_num)\n",
        "\n",
        "scaled_trd_num_df = pd.DataFrame(scaled_trd_num, columns=trd_num.columns)\n",
        "scaled_tsd_num_df = pd.DataFrame(scaled_tsd_num, columns=tsd_num.columns)"
      ],
      "metadata": {
        "id": "W4rixr5KrFhW"
      },
      "execution_count": 16,
      "outputs": []
    },
    {
      "cell_type": "code",
      "source": [
        "## 범주형 데이터 전처리 - 인코딩\n",
        "## 학습 데이터 인코딩\n",
        "### 등급 컬럼을 원핫 인코딩\n",
        "trd_one_hot_target = trd_cate[['등급']]\n",
        "\n",
        "trd_col_names = trd_cate['등급'].unique()\n",
        "\n",
        "encoded_trd_grade = encoder.fit_transform(trd_one_hot_target).toarray()\n",
        "trd_grade_1hot = pd.DataFrame(encoded_trd_grade, columns = '등급_' + trd_col_names).drop('등급_', axis=1)\n",
        "\n",
        "## 2. 등급을 제외한 나머지 컬럼을 타겟 인코딩 \n",
        "trd_cate[\"감독_인코딩\"] = trd_cate.groupby(\"감독\")[\"평점\"].transform(\"mean\")\n",
        "trd_cate[\"장르_인코딩\"] = trd_cate.groupby(\"장르\")[\"평점\"].transform(\"mean\")\n",
        "trd_cate[\"배급_인코딩\"] = trd_cate.groupby(\"배급\")[\"평점\"].transform(\"mean\")\n",
        "trd_cate[\"개봉_인코딩\"] = trd_cate.groupby(\"개봉\")[\"평점\"].transform(\"mean\")\n",
        "trd_cate[\"국가_인코딩\"] = trd_cate.groupby(\"국가\")[\"평점\"].transform(\"mean\")\n",
        "\n",
        "## 3. 필요한 컬럼만 합치기\n",
        "\n",
        "trd_cate_tmp = trd_cate[['감독_인코딩', '장르_인코딩', '배급_인코딩', '개봉_인코딩', '국가_인코딩']]\n",
        "trd_grade_1hot_tmp = trd_grade_1hot[['등급_전체 관람가', '등급_12세 관람가', '등급_15세 관람가', '등급_청소년 관람불가']]\n",
        "trd_cate_rst = pd.concat([trd_cate_tmp.reset_index(drop=True), trd_grade_1hot_tmp.reset_index(drop=True)], axis=1)\n"
      ],
      "metadata": {
        "id": "Br8Ijp3orizx"
      },
      "execution_count": 17,
      "outputs": []
    },
    {
      "cell_type": "code",
      "source": [
        "## 테스트 데이터 인코딩\n",
        "### 등급 컬럼을 원핫 인코딩\n",
        "tsd_one_hot_target = tsd_cate[['등급']]\n",
        "tsd_col_names = tsd_cate['등급'].unique()\n",
        "\n",
        "encoded_tsd_grade = encoder.fit_transform(tsd_one_hot_target).toarray()\n",
        "tsd_grade_1hot = pd.DataFrame(encoded_tsd_grade, columns = '등급_' + tsd_col_names)\n",
        "\n",
        "## 2. 등급을 제외한 나머지 컬럼을 타겟 인코딩 \n",
        "tsd_cate[\"감독_인코딩\"] = tsd_cate.groupby(\"감독\")[\"평점\"].transform(\"mean\")\n",
        "tsd_cate[\"장르_인코딩\"] = tsd_cate.groupby(\"장르\")[\"평점\"].transform(\"mean\")\n",
        "tsd_cate[\"배급_인코딩\"] = tsd_cate.groupby(\"배급\")[\"평점\"].transform(\"mean\")\n",
        "tsd_cate[\"개봉_인코딩\"] = tsd_cate.groupby(\"개봉\")[\"평점\"].transform(\"mean\")\n",
        "tsd_cate[\"국가_인코딩\"] = tsd_cate.groupby(\"국가\")[\"평점\"].transform(\"mean\")\n",
        "\n",
        "## 3. 필요한 컬럼만 합치기\n",
        "tsd_cate_tmp = tsd_cate[['감독_인코딩', '장르_인코딩', '배급_인코딩', '개봉_인코딩', '국가_인코딩']]\n",
        "tsd_grade_1hot_tmp = tsd_grade_1hot[['등급_전체 관람가', '등급_12세 관람가', '등급_15세 관람가', '등급_청소년 관람불가']]\n",
        "tsd_cate_rst = pd.concat([tsd_cate_tmp.reset_index(drop=True), tsd_grade_1hot_tmp.reset_index(drop=True)], axis=1)"
      ],
      "metadata": {
        "id": "Vbwq2GhdtAQm"
      },
      "execution_count": 18,
      "outputs": []
    },
    {
      "cell_type": "code",
      "source": [
        "## 4. 숫자데이터와 범주 데이터 최종 합치기\n",
        "\n",
        "trd_final = pd.concat([scaled_trd_num_df.reset_index(drop=True), trd_cate_rst], axis=1)\n",
        "tsd_final = pd.concat([scaled_tsd_num_df.reset_index(drop=True), tsd_cate_rst], axis=1)\n",
        "\n"
      ],
      "metadata": {
        "id": "w94OHjc-t9_D"
      },
      "execution_count": 19,
      "outputs": []
    },
    {
      "cell_type": "code",
      "source": [
        "trd_final.info()\n",
        "tsd_final.info()"
      ],
      "metadata": {
        "id": "OF7MDSbDy-Nx",
        "outputId": "b7c55f2d-3d6a-45b8-9bc0-4c095204654c",
        "colab": {
          "base_uri": "https://localhost:8080/"
        }
      },
      "execution_count": 20,
      "outputs": [
        {
          "output_type": "stream",
          "name": "stdout",
          "text": [
            "<class 'pandas.core.frame.DataFrame'>\n",
            "RangeIndex: 950 entries, 0 to 949\n",
            "Data columns (total 20 columns):\n",
            " #   Column       Non-Null Count  Dtype  \n",
            "---  ------       --------------  -----  \n",
            " 0   OST          950 non-null    float64\n",
            " 1   영상미          950 non-null    float64\n",
            " 2   스토리          950 non-null    float64\n",
            " 3   연기           950 non-null    float64\n",
            " 4   연출           950 non-null    float64\n",
            " 5   관객수_x        950 non-null    float64\n",
            " 6   10대_비율       950 non-null    float64\n",
            " 7   20대_비율       950 non-null    float64\n",
            " 8   30대_비율       950 non-null    float64\n",
            " 9   40대_비율       950 non-null    float64\n",
            " 10  50대_비율       950 non-null    float64\n",
            " 11  감독_인코딩       950 non-null    float64\n",
            " 12  장르_인코딩       950 non-null    float64\n",
            " 13  배급_인코딩       950 non-null    float64\n",
            " 14  개봉_인코딩       950 non-null    float64\n",
            " 15  국가_인코딩       950 non-null    float64\n",
            " 16  등급_전체 관람가    950 non-null    float64\n",
            " 17  등급_12세 관람가   950 non-null    float64\n",
            " 18  등급_15세 관람가   950 non-null    float64\n",
            " 19  등급_청소년 관람불가  950 non-null    float64\n",
            "dtypes: float64(20)\n",
            "memory usage: 148.6 KB\n",
            "<class 'pandas.core.frame.DataFrame'>\n",
            "RangeIndex: 238 entries, 0 to 237\n",
            "Data columns (total 20 columns):\n",
            " #   Column       Non-Null Count  Dtype  \n",
            "---  ------       --------------  -----  \n",
            " 0   OST          238 non-null    float64\n",
            " 1   영상미          238 non-null    float64\n",
            " 2   스토리          238 non-null    float64\n",
            " 3   연기           238 non-null    float64\n",
            " 4   연출           238 non-null    float64\n",
            " 5   관객수_x        238 non-null    float64\n",
            " 6   10대_비율       238 non-null    float64\n",
            " 7   20대_비율       238 non-null    float64\n",
            " 8   30대_비율       238 non-null    float64\n",
            " 9   40대_비율       238 non-null    float64\n",
            " 10  50대_비율       238 non-null    float64\n",
            " 11  감독_인코딩       238 non-null    float64\n",
            " 12  장르_인코딩       238 non-null    float64\n",
            " 13  배급_인코딩       238 non-null    float64\n",
            " 14  개봉_인코딩       238 non-null    float64\n",
            " 15  국가_인코딩       238 non-null    float64\n",
            " 16  등급_전체 관람가    238 non-null    float64\n",
            " 17  등급_12세 관람가   238 non-null    float64\n",
            " 18  등급_15세 관람가   238 non-null    float64\n",
            " 19  등급_청소년 관람불가  238 non-null    float64\n",
            "dtypes: float64(20)\n",
            "memory usage: 37.3 KB\n"
          ]
        }
      ]
    },
    {
      "cell_type": "code",
      "source": [
        "## 5. 모델 학습 및 평가\n",
        "lr2 = LinearRegression()\n",
        "lr2.fit(trd_final, trt)\n",
        "\n",
        "lr2.score(trd_final, trt), lr2.score(tsd_final, tst) # 모델의 성능이 다소 아쉬움. 성능을 높이기 위해 다항회귀 고려.\n"
      ],
      "metadata": {
        "id": "UXbvvmkjyvZz",
        "outputId": "e00812e3-51c5-457a-a650-e2b598f9b942",
        "colab": {
          "base_uri": "https://localhost:8080/"
        }
      },
      "execution_count": 21,
      "outputs": [
        {
          "output_type": "execute_result",
          "data": {
            "text/plain": [
              "(0.8230385130184165, 0.8980080126509301)"
            ]
          },
          "metadata": {},
          "execution_count": 21
        }
      ]
    },
    {
      "cell_type": "code",
      "source": [
        "## 6. 다항회귀 적용\n",
        "from sklearn.preprocessing import PolynomialFeatures\n",
        "\n",
        "poly = PolynomialFeatures(degree=2)\n",
        "trd_final_poly = poly.fit_transform(trd_final)\n",
        "tsd_final_poly = poly.fit_transform(tsd_final)\n",
        "\n",
        "lr3 = LinearRegression()\n",
        "lr3.fit(trd_final_poly, trt)\n",
        "\n",
        "lr3.score(trd_final_poly, trt), lr3.score(tsd_final_poly, tst) # 성능은 조금 높아졌지만 테스트 점수가 낮은 과적합 발생"
      ],
      "metadata": {
        "id": "LxNWi7OC0nrd",
        "outputId": "4edcb048-365e-427a-d3ba-7a15a5a21c4a",
        "colab": {
          "base_uri": "https://localhost:8080/"
        }
      },
      "execution_count": 22,
      "outputs": [
        {
          "output_type": "execute_result",
          "data": {
            "text/plain": [
              "(0.8664337284633148, 0.7664289306259673)"
            ]
          },
          "metadata": {},
          "execution_count": 22
        }
      ]
    },
    {
      "cell_type": "code",
      "source": [
        "## 과적합을 해결하기 위해 규제 적용(릿지)\n",
        "from sklearn.linear_model import Ridge\n",
        "\n",
        "ridge = Ridge()\n",
        "ridge = LinearRegression()\n",
        "ridge.fit(trd_final_poly, trt)\n",
        "\n",
        "ridge.score(trd_final_poly, trt), ridge.score(tsd_final_poly, tst)\n",
        "\n",
        "alpha_list = [0.001, 0.01, 0.1, 1, 10, 100, 1000, 10000] # 하이퍼 파라미터 튜닝\n",
        "\n",
        "trd_list = []\n",
        "tsd_list = []\n",
        "for alpha in alpha_list :\n",
        "  ridge = Ridge(alpha=alpha)\n",
        "  ridge.fit(trd_final_poly, trt)\n",
        "\n",
        "  trd_list.append(ridge.score(trd_final_poly, trt))\n",
        "  tsd_list.append(ridge.score(tsd_final_poly, tst))\n",
        "\n"
      ],
      "metadata": {
        "id": "3vpNXzyK08aM"
      },
      "execution_count": 23,
      "outputs": []
    },
    {
      "cell_type": "code",
      "source": [
        "## 학습 점수와 테스트 점수가 둘 다 합리적으로 높은 지점을 찾기\n",
        "\n",
        "\n",
        "sns.lineplot(x=np.log10(alpha_list), y=trd_list)\n",
        "sns.lineplot(x=np.log10(alpha_list), y=tsd_list)"
      ],
      "metadata": {
        "id": "kG9XrAZp1jHj",
        "outputId": "f17de51c-a89f-4550-fb1f-7a804b35f74e",
        "colab": {
          "base_uri": "https://localhost:8080/",
          "height": 448
        }
      },
      "execution_count": 24,
      "outputs": [
        {
          "output_type": "execute_result",
          "data": {
            "text/plain": [
              "<Axes: >"
            ]
          },
          "metadata": {},
          "execution_count": 24
        },
        {
          "output_type": "display_data",
          "data": {
            "text/plain": [
              "<Figure size 640x480 with 1 Axes>"
            ],
            "image/png": "[encoded data removed]"
          },
          "metadata": {}
        }
      ]
    },
    {
      "cell_type": "code",
      "source": [
        "# alpha가 10일 때 가장 성능이 좋음\n",
        "ridge.alpha = 10000\n",
        "ridge.fit(trd_final_poly, trt)\n",
        "\n",
        "ridge.score(trd_final_poly, trt), ridge.score(tsd_final_poly, tst)"
      ],
      "metadata": {
        "id": "l4TKgPp41_u1",
        "outputId": "8e267c18-f94d-450e-9202-418a8aa9f93f",
        "colab": {
          "base_uri": "https://localhost:8080/"
        }
      },
      "execution_count": 43,
      "outputs": [
        {
          "output_type": "execute_result",
          "data": {
            "text/plain": [
              "(0.7954920113613885, 0.9091122304230981)"
            ]
          },
          "metadata": {},
          "execution_count": 43
        }
      ]
    },
    {
      "cell_type": "code",
      "source": [
        "## 교차 검증\n",
        "\n",
        "scores = cross_val_score(ridge, trd_final_poly, trt, scoring='r2', cv=5)\n",
        "\n",
        "scores"
      ],
      "metadata": {
        "id": "lX_kZyonmguL",
        "colab": {
          "base_uri": "https://localhost:8080/"
        },
        "outputId": "247738b5-f0b9-4f6e-a0c8-114f87b45a3f"
      },
      "execution_count": 44,
      "outputs": [
        {
          "output_type": "execute_result",
          "data": {
            "text/plain": [
              "array([0.76200401, 0.80044678, 0.73591322, 0.82642488, 0.75327344])"
            ]
          },
          "metadata": {},
          "execution_count": 44
        }
      ]
    },
    {
      "cell_type": "code",
      "source": [
        "np.mean(scores)"
      ],
      "metadata": {
        "colab": {
          "base_uri": "https://localhost:8080/"
        },
        "id": "XcIVRr8w8bsq",
        "outputId": "f034f1a6-a07a-418d-9e32-9b91a43e51d3"
      },
      "execution_count": 29,
      "outputs": [
        {
          "output_type": "execute_result",
          "data": {
            "text/plain": [
              "0.6872612825657783"
            ]
          },
          "metadata": {},
          "execution_count": 29
        }
      ]
    },
    {
      "cell_type": "code",
      "source": [
        "## 그리드 서치\n",
        "## 파라미터 튜닝 \n",
        "## 파라미터1 : 1, 10, 100\n",
        "## 파라미터2 : 5, 8, 10\n",
        "## 파라미터3 : 2, 4, 6\n",
        "\n",
        "param_grid = {\n",
        "    'alpha' : [0.001, 0.01, 0.1, 1, 10, 100, 1000, 10000],\n",
        "    #'param2' : [5, 8, 10],\n",
        "    #'param3' : [2, 4, 6]\n",
        "}\n",
        "\n",
        "from sklearn.model_selection import GridSearchCV\n",
        "gs = GridSearchCV(estimator=ridge, param_grid=param_grid, cv=5)\n",
        "\n",
        "gs.fit(trd_final_poly, trt)"
      ],
      "metadata": {
        "colab": {
          "base_uri": "https://localhost:8080/",
          "height": 116
        },
        "id": "t_UxDrjo9xBB",
        "outputId": "8d9d836c-9288-40f2-edff-42ca61f31c79"
      },
      "execution_count": 49,
      "outputs": [
        {
          "output_type": "execute_result",
          "data": {
            "text/plain": [
              "GridSearchCV(cv=5, estimator=Ridge(alpha=100000),\n",
              "             param_grid={'alpha': [0.001, 0.01, 0.1, 1, 10, 100, 1000, 10000]})"
            ],
            "text/html": [
              "<style>#sk-container-id-4 {color: black;background-color: white;}#sk-container-id-4 pre{padding: 0;}#sk-container-id-4 div.sk-toggleable {background-color: white;}#sk-container-id-4 label.sk-toggleable__label {cursor: pointer;display: block;width: 100%;margin-bottom: 0;padding: 0.3em;box-sizing: border-box;text-align: center;}#sk-container-id-4 label.sk-toggleable__label-arrow:before {content: \"▸\";float: left;margin-right: 0.25em;color: #696969;}#sk-container-id-4 label.sk-toggleable__label-arrow:hover:before {color: black;}#sk-container-id-4 div.sk-estimator:hover label.sk-toggleable__label-arrow:before {color: black;}#sk-container-id-4 div.sk-toggleable__content {max-height: 0;max-width: 0;overflow: hidden;text-align: left;background-color: #f0f8ff;}#sk-container-id-4 div.sk-toggleable__content pre {margin: 0.2em;color: black;border-radius: 0.25em;background-color: #f0f8ff;}#sk-container-id-4 input.sk-toggleable__control:checked~div.sk-toggleable__content {max-height: 200px;max-width: 100%;overflow: auto;}#sk-container-id-4 input.sk-toggleable__control:checked~label.sk-toggleable__label-arrow:before {content: \"▾\";}#sk-container-id-4 div.sk-estimator input.sk-toggleable__control:checked~label.sk-toggleable__label {background-color: #d4ebff;}#sk-container-id-4 div.sk-label input.sk-toggleable__control:checked~label.sk-toggleable__label {background-color: #d4ebff;}#sk-container-id-4 input.sk-hidden--visually {border: 0;clip: rect(1px 1px 1px 1px);clip: rect(1px, 1px, 1px, 1px);height: 1px;margin: -1px;overflow: hidden;padding: 0;position: absolute;width: 1px;}#sk-container-id-4 div.sk-estimator {font-family: monospace;background-color: #f0f8ff;border: 1px dotted black;border-radius: 0.25em;box-sizing: border-box;margin-bottom: 0.5em;}#sk-container-id-4 div.sk-estimator:hover {background-color: #d4ebff;}#sk-container-id-4 div.sk-parallel-item::after {content: \"\";width: 100%;border-bottom: 1px solid gray;flex-grow: 1;}#sk-container-id-4 div.sk-label:hover label.sk-toggleable__label {background-color: #d4ebff;}#sk-container-id-4 div.sk-serial::before {content: \"\";position: absolute;border-left: 1px solid gray;box-sizing: border-box;top: 0;bottom: 0;left: 50%;z-index: 0;}#sk-container-id-4 div.sk-serial {display: flex;flex-direction: column;align-items: center;background-color: white;padding-right: 0.2em;padding-left: 0.2em;position: relative;}#sk-container-id-4 div.sk-item {position: relative;z-index: 1;}#sk-container-id-4 div.sk-parallel {display: flex;align-items: stretch;justify-content: center;background-color: white;position: relative;}#sk-container-id-4 div.sk-item::before, #sk-container-id-4 div.sk-parallel-item::before {content: \"\";position: absolute;border-left: 1px solid gray;box-sizing: border-box;top: 0;bottom: 0;left: 50%;z-index: -1;}#sk-container-id-4 div.sk-parallel-item {display: flex;flex-direction: column;z-index: 1;position: relative;background-color: white;}#sk-container-id-4 div.sk-parallel-item:first-child::after {align-self: flex-end;width: 50%;}#sk-container-id-4 div.sk-parallel-item:last-child::after {align-self: flex-start;width: 50%;}#sk-container-id-4 div.sk-parallel-item:only-child::after {width: 0;}#sk-container-id-4 div.sk-dashed-wrapped {border: 1px dashed gray;margin: 0 0.4em 0.5em 0.4em;box-sizing: border-box;padding-bottom: 0.4em;background-color: white;}#sk-container-id-4 div.sk-label label {font-family: monospace;font-weight: bold;display: inline-block;line-height: 1.2em;}#sk-container-id-4 div.sk-label-container {text-align: center;}#sk-container-id-4 div.sk-container {/* jupyter's `normalize.less` sets `[hidden] { display: none; }` but bootstrap.min.css set `[hidden] { display: none !important; }` so we also need the `!important` here to be able to override the default hidden behavior on the sphinx rendered scikit-learn.org. See: https://github.com/scikit-learn/scikit-learn/issues/21755 */display: inline-block !important;position: relative;}#sk-container-id-4 div.sk-text-repr-fallback {display: none;}</style><div id=\"sk-container-id-4\" class=\"sk-top-container\"><div class=\"sk-text-repr-fallback\"><pre>GridSearchCV(cv=5, estimator=Ridge(alpha=100000),\n",
              "             param_grid={&#x27;alpha&#x27;: [0.001, 0.01, 0.1, 1, 10, 100, 1000, 10000]})</pre><b>In a Jupyter environment, please rerun this cell to show the HTML representation or trust the notebook. <br />On GitHub, the HTML representation is unable to render, please try loading this page with nbviewer.org.</b></div><div class=\"sk-container\" hidden><div class=\"sk-item sk-dashed-wrapped\"><div class=\"sk-label-container\"><div class=\"sk-label sk-toggleable\"><input class=\"sk-toggleable__control sk-hidden--visually\" id=\"sk-estimator-id-8\" type=\"checkbox\" ><label for=\"sk-estimator-id-8\" class=\"sk-toggleable__label sk-toggleable__label-arrow\">GridSearchCV</label><div class=\"sk-toggleable__content\"><pre>GridSearchCV(cv=5, estimator=Ridge(alpha=100000),\n",
              "             param_grid={&#x27;alpha&#x27;: [0.001, 0.01, 0.1, 1, 10, 100, 1000, 10000]})</pre></div></div></div><div class=\"sk-parallel\"><div class=\"sk-parallel-item\"><div class=\"sk-item\"><div class=\"sk-label-container\"><div class=\"sk-label sk-toggleable\"><input class=\"sk-toggleable__control sk-hidden--visually\" id=\"sk-estimator-id-9\" type=\"checkbox\" ><label for=\"sk-estimator-id-9\" class=\"sk-toggleable__label sk-toggleable__label-arrow\">estimator: Ridge</label><div class=\"sk-toggleable__content\"><pre>Ridge(alpha=100000)</pre></div></div></div><div class=\"sk-serial\"><div class=\"sk-item\"><div class=\"sk-estimator sk-toggleable\"><input class=\"sk-toggleable__control sk-hidden--visually\" id=\"sk-estimator-id-10\" type=\"checkbox\" ><label for=\"sk-estimator-id-10\" class=\"sk-toggleable__label sk-toggleable__label-arrow\">Ridge</label><div class=\"sk-toggleable__content\"><pre>Ridge(alpha=100000)</pre></div></div></div></div></div></div></div></div></div></div>"
            ]
          },
          "metadata": {},
          "execution_count": 49
        }
      ]
    },
    {
      "cell_type": "code",
      "source": [
        "print(gs.best_params_)\n",
        "print(gs.best_score_)\n",
        "best_ridge = gs.best_estimator_\n"
      ],
      "metadata": {
        "colab": {
          "base_uri": "https://localhost:8080/"
        },
        "id": "Lprx3HfQ_wqH",
        "outputId": "3d68cede-2c0a-45f6-f09f-2421efc0c380"
      },
      "execution_count": 50,
      "outputs": [
        {
          "output_type": "stream",
          "name": "stdout",
          "text": [
            "{'alpha': 10000}\n",
            "0.8043109127713617\n"
          ]
        }
      ]
    },
    {
      "cell_type": "code",
      "source": [
        "## 교차 검증을 통해서 진행한 결과는 alpha가 10000일 때 82점 정도의 지표를 보여준다.\n",
        "## 다항회귀로도 점수를 크게 올리지 못함.\n",
        "best_ridge.score(trd_final_poly, trt), best_ridge.score(tsd_final_poly, tst)"
      ],
      "metadata": {
        "colab": {
          "base_uri": "https://localhost:8080/"
        },
        "id": "CtvL33sZAJTb",
        "outputId": "8cc82e1a-08ea-471b-b877-4872782d27d2"
      },
      "execution_count": 51,
      "outputs": [
        {
          "output_type": "execute_result",
          "data": {
            "text/plain": [
              "(0.8217712023930879, 0.8984172692227439)"
            ]
          },
          "metadata": {},
          "execution_count": 51
        }
      ]
    },
    {
      "cell_type": "code",
      "source": [
        "## 이유는?\n",
        "## 타겟인코딩 -> 과적합이 매우 잘 일어나는 방식\n",
        "## 원핫인코딩 -> 범주 그룹수가 많으면 컬럼수가 엄청 많아짐. (차원의 저주). 과적합 유발.\n",
        "## 레이블, 빈도수 등 -> 레이블은 범주에 랭킹을 부여, 빈도수는 평점과의 상관관계를 나타내기 힘듦\n",
        "## 이런 이유로 범주값이 많은 데이터의 경우 선형회귀가 적절하지 않을 수 있다.\n",
        "\n",
        "## 데이터를 튜닝, 파라미터 튜닝 -> 그럼에도 성능이 안나오는 경우\n",
        "### 1. 데이터가 너무 적거나\n",
        "### 2. 적합한 모델이 아니거나\n",
        "### 3. 문제 정의를 잘못했거나\n"
      ],
      "metadata": {
        "id": "NJN3podx8h5g"
      },
      "execution_count": null,
      "outputs": []
    }
  ]
}