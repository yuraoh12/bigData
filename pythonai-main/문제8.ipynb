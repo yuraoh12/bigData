{
  "nbformat": 4,
  "nbformat_minor": 0,
  "metadata": {
    "colab": {
      "provenance": [],
      "authorship_tag": "ABX9TyNViIwp4c/zid41djsgVQ4w",
      "include_colab_link": true
    },
    "kernelspec": {
      "name": "python3",
      "display_name": "Python 3"
    },
    "language_info": {
      "name": "python"
    }
  },
  "cells": [
    {
      "cell_type": "markdown",
      "metadata": {
        "id": "view-in-github",
        "colab_type": "text"
      },
      "source": [
        "<a href=\"https://colab.research.google.com/github/chacha86/pythonai/blob/main/%EB%AC%B8%EC%A0%9C8.ipynb\" target=\"_parent\"><img src=\"https://colab.research.google.com/assets/colab-badge.svg\" alt=\"Open In Colab\"/></a>"
      ]
    },
    {
      "cell_type": "code",
      "execution_count": null,
      "metadata": {
        "id": "xPfGmDgNoZPv"
      },
      "outputs": [],
      "source": [
        "# 이순신이 작성한 댓글의 내용, 작성자 닉네임, 작성일 출력. 작성일로 내림차순\n",
        "\n",
        "\n",
        "\n",
        "# 작성자명에 '사'가 들어가는 작성자의 모든 게시물 조회(게시물번호, 제목, 내용, 조회수, 작성자 닉네임, 작성일). 작성일로 내림차순\n",
        "\n",
        "\n",
        "\n",
        "# 자유게시판에서 제목이나 내용에 '오늘'이라는 문자가 포함된 모든 게시물 조회(게시물번호, 제목, 내용, 조회수, 작성자 닉네임, 작성일). 작성일로 내림차순\n",
        "\n",
        "\n",
        "\n",
        "# 최근 1년 사이의 게시물 제목, 내용, 작성자 닉네임, 작성일 출력 . 작성일로 내림차순\n",
        "\n",
        "\n",
        "\n",
        "# 최근 3년 사이의 게시물 제목, 내용, 작성자 닉네임, 작성일 출력 . 작성일로 내림차순\n",
        "\n",
        "\n",
        "\n",
        "# 2021년 4월부터 2022년 1월까지의 게시물 제목, 내용, 작성자 닉네임, 작성일. 작성일 내림차순\n",
        "\n",
        "\n",
        "\n",
        "# 연도별 게시물 등록 개수 현황 출력. 연도 오름차순\n",
        "\n",
        "\n",
        "\n",
        "# 각 게시물 별 댓글 수 내림차순, 댓글수가 같으면 게시물번호로 오름차순 (없으면 0개라고 표시)으로 출력\n",
        "  \n",
        " \n",
        "\n",
        "# 각 회원별 게시물 수 내림차순, 게시물 수가 같으면 회원번호로 오름차순(없으면 0개라고 표시)으로 출력\n",
        "\n",
        "\n",
        "\n",
        "# 각 회원별 댓글 수 내림차순, 댓글 수가 같으면 회원번호로 오름차순(없으면 0개라고 표시)으로 출력\n",
        "\n",
        "\n",
        "\n",
        "# 각 회원별 좋아요 수와 댓글 수(0개면 0이라고 표시) 출력\n",
        "\n",
        "\n",
        "\n",
        "# 모든 게시물 중 가장 댓글이 많은 게시물 top 3의 게시물번호, 게시물제목, 작성자닉네임, 게시물작성일, 댓글 수 출력. 댓글 수 내림차순\n",
        "\n",
        "\n",
        "\n",
        "# 최근 100일 이내의 게시물 중 조회수 top3, 제목, 내용, 작성자 닉네임, 작성일 출력 . 작성일로 내림차순\n"
      ]
    },
    {
      "cell_type": "code",
      "source": [],
      "metadata": {
        "id": "A3cMYjcjpMMD"
      },
      "execution_count": null,
      "outputs": []
    }
  ]
}