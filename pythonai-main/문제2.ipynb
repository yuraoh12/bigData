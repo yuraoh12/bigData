{
  "nbformat": 4,
  "nbformat_minor": 0,
  "metadata": {
    "colab": {
      "provenance": [],
      "authorship_tag": "ABX9TyMdgLeiaeVVd4FbsVuBM+Zc",
      "include_colab_link": true
    },
    "kernelspec": {
      "name": "python3",
      "display_name": "Python 3"
    },
    "language_info": {
      "name": "python"
    }
  },
  "cells": [
    {
      "cell_type": "markdown",
      "metadata": {
        "id": "view-in-github",
        "colab_type": "text"
      },
      "source": [
        "<a href=\"https://colab.research.google.com/github/chacha86/pythonai/blob/main/%EB%AC%B8%EC%A0%9C2.ipynb\" target=\"_parent\"><img src=\"https://colab.research.google.com/assets/colab-badge.svg\" alt=\"Open In Colab\"/></a>"
      ]
    },
    {
      "cell_type": "code",
      "execution_count": null,
      "metadata": {
        "id": "ZeuVNLa_eSGD"
      },
      "outputs": [],
      "source": [
        "# 문제1. 학생들의 총점, 평균 구하기"
      ]
    },
    {
      "cell_type": "code",
      "source": [
        "# 문제2. 학생들의 평균이 높은 순으로 정렬. 만약 평균이 같다면 학번으로 오름차순"
      ],
      "metadata": {
        "id": "weqBcmTjfHJ0"
      },
      "execution_count": null,
      "outputs": []
    },
    {
      "cell_type": "code",
      "source": [
        "# 문제3. 학생들의 평균으로 석차를 내어 석차 순으로 오름차순.\n"
      ],
      "metadata": {
        "id": "DTf8glS7fHMP"
      },
      "execution_count": null,
      "outputs": []
    }
  ]
}