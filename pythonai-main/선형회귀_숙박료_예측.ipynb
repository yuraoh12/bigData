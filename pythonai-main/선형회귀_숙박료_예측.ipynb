{
  "nbformat": 4,
  "nbformat_minor": 0,
  "metadata": {
    "colab": {
      "provenance": [],
      "authorship_tag": "ABX9TyPkiQSsOeoM3vPDoI3viszY",
      "include_colab_link": true
    },
    "kernelspec": {
      "name": "python3",
      "display_name": "Python 3"
    },
    "language_info": {
      "name": "python"
    }
  },
  "cells": [
    {
      "cell_type": "markdown",
      "metadata": {
        "id": "view-in-github",
        "colab_type": "text"
      },
      "source": [
        "<a href=\"https://colab.research.google.com/github/chacha86/pythonai/blob/main/%EC%84%A0%ED%98%95%ED%9A%8C%EA%B7%80_%EC%88%99%EB%B0%95%EB%A3%8C_%EC%98%88%EC%B8%A1.ipynb\" target=\"_parent\"><img src=\"https://colab.research.google.com/assets/colab-badge.svg\" alt=\"Open In Colab\"/></a>"
      ]
    },
    {
      "cell_type": "code",
      "source": [
        "import os\n",
        "os.environ['KAGGLE_USERNAME'] = 'chasaem'\n",
        "os.environ['KAGGLE_KEY'] = '70c03eb538dfde2fdce9ad73955df8a7'\n",
        "\n",
        "!kaggle datasets download -d dgomonov/new-york-city-airbnb-open-data\n",
        "!unzip '*.zip'"
      ],
      "metadata": {
        "id": "IUbXU2hhUABY",
        "outputId": "a0d14874-1567-4f6c-878f-54a45bc846f7",
        "colab": {
          "base_uri": "https://localhost:8080/"
        }
      },
      "execution_count": 1,
      "outputs": [
        {
          "output_type": "stream",
          "name": "stdout",
          "text": [
            "Downloading new-york-city-airbnb-open-data.zip to /content\n",
            "\r  0% 0.00/2.44M [00:00<?, ?B/s]\n",
            "\r100% 2.44M/2.44M [00:00<00:00, 114MB/s]\n",
            "Archive:  new-york-city-airbnb-open-data.zip\n",
            "  inflating: AB_NYC_2019.csv         \n",
            "  inflating: New_York_City_.png      \n"
          ]
        }
      ]
    },
    {
      "cell_type": "code",
      "execution_count": 5,
      "metadata": {
        "id": "Ozsvu7MrJQoa"
      },
      "outputs": [],
      "source": [
        "import pandas as pd\n",
        "import numpy as np\n",
        "import matplotlib.pyplot as plt\n",
        "import seaborn as sns\n",
        "\n",
        "# 데이터 설명\n",
        "# id: 일련번호\n",
        "# name: AirBnB 이름\n",
        "# host_id: 호스트 ID  \n",
        "# host_name: 호스트 성명 \n",
        "# neighbourhood_group: 지구명\n",
        "# neighbourhood : 지역명\n",
        "# latitude: 위도  \n",
        "# longitude: 경도  \n",
        "# room_type: 방 타입  \n",
        "# price: 가격  \n",
        "# minimum_nights: 최소 숙박일수  \n",
        "# number_of_reviews: 리뷰 개수\n",
        "# last_review: 최근 리뷰 일자\n",
        "# reviews_per_month: 월 평균 리뷰 수\n",
        "# calculated_host_listings_count:  호스트에게 대여 가능한 에어비앤비의 총 개수\n",
        "# availability_365: 1년 중 가능한 대여일\n",
        "df = pd.read_csv('/content/AB_NYC_2019.csv')"
      ]
    },
    {
      "cell_type": "code",
      "source": [
        "pd.options.display.float_format = '{:.5f}'.format\n",
        "df.info()\n",
        "df.describe()\n"
      ],
      "metadata": {
        "id": "dMsy1-2jJ7bC"
      },
      "execution_count": null,
      "outputs": []
    },
    {
      "cell_type": "code",
      "source": [
        "# 수치형데이터와 price 상관관계 \n",
        "df.corr()['price']"
      ],
      "metadata": {
        "id": "jAajXyLcWapj"
      },
      "execution_count": null,
      "outputs": []
    },
    {
      "cell_type": "code",
      "source": [
        "# 범주형 데이터의 price 상관관계\n",
        "\n",
        "#df.info()\n",
        "df.head()\n",
        "df.columns\n",
        "'''\n",
        "neighbourhood_group, neighbourhood, room_type, last_review\n",
        "'''\n",
        "\n",
        "df['neighbourhood_group'].value_counts() # 5\n",
        "df['neighbourhood'].value_counts() # 221\n",
        "df['room_type'].value_counts() # 3\n",
        "df['last_review'].value_counts() # 1764\n",
        "\n",
        "\n",
        "## 범주와 수치와 관계 => 막대, 박스\n",
        "## 수치와 수치 => 산점도, 선\n",
        "\n",
        "sns.boxplot(data=df, x='neighbourhood_group', y='price')"
      ],
      "metadata": {
        "id": "PiZEPptyJ8rc"
      },
      "execution_count": null,
      "outputs": []
    },
    {
      "cell_type": "code",
      "source": [
        "# 불필요해 보이는 컬럼 삭제 -> id, , host_id, host_name, last_review, reviews_per_month\n",
        "\n",
        "df2 = df.drop(['id', 'name', 'host_id', 'last_review', 'reviews_per_month'], axis=1)\n",
        "df2.info()"
      ],
      "metadata": {
        "id": "xO0KXUm9Jik_"
      },
      "execution_count": null,
      "outputs": []
    },
    {
      "cell_type": "code",
      "source": [
        "# 데이터 클리닝 진행 1\n",
        "# 이상데이터(아웃라이어) 제거\n",
        "# sns.histplot(data=df2, x='price')\n",
        "\n",
        "# 데이터의 95% \n",
        "## 오른쪽(4)\n",
        "## 왼쪽(1)\n",
        "\n",
        "max = df2['price'].quantile(0.96) #  0 ~ 1\n",
        "min = df2['price'].quantile(0.01) #  0 ~ 1\n",
        "\n",
        "\n",
        "df3 = df2[(df2['price'] < max) & (df2['price'] > min)]\n",
        "\n",
        "df2.shape, df3.shape\n"
      ],
      "metadata": {
        "id": "ERrHa41nKDFJ",
        "outputId": "97fb28aa-657f-4e0c-fd6c-f0d8c078042a",
        "colab": {
          "base_uri": "https://localhost:8080/"
        }
      },
      "execution_count": 64,
      "outputs": [
        {
          "output_type": "execute_result",
          "data": {
            "text/plain": [
              "((48895, 11), (46248, 11))"
            ]
          },
          "metadata": {},
          "execution_count": 64
        }
      ]
    },
    {
      "cell_type": "code",
      "source": [
        "df3.corr()['price']"
      ],
      "metadata": {
        "id": "jqAgJLC3cewk"
      },
      "execution_count": null,
      "outputs": []
    },
    {
      "cell_type": "code",
      "source": [
        "# 데이터 클리닝 진행2\n",
        "# 범주형 데이터 정리"
      ],
      "metadata": {
        "id": "xhvKY7xEKI2h"
      },
      "execution_count": null,
      "outputs": []
    },
    {
      "cell_type": "code",
      "source": [
        "# 미기입/오기입 데이터 처리하기"
      ],
      "metadata": {
        "id": "ujsFX5hzKUaZ"
      },
      "execution_count": null,
      "outputs": []
    },
    {
      "cell_type": "code",
      "source": [
        "# 결측치 채우기"
      ],
      "metadata": {
        "id": "f7GeIGarLOdm"
      },
      "execution_count": null,
      "outputs": []
    },
    {
      "cell_type": "code",
      "source": [
        "# 데이터 전처리1\n",
        "# 범주형 데이터 ont-hot 인코딩"
      ],
      "metadata": {
        "id": "TogcBIv9LT5p"
      },
      "execution_count": null,
      "outputs": []
    },
    {
      "cell_type": "code",
      "source": [
        "# 데이터 전처리2\n",
        "# 수치형 데이터 표준화"
      ],
      "metadata": {
        "id": "PdxvpSYHLvAs"
      },
      "execution_count": null,
      "outputs": []
    },
    {
      "cell_type": "code",
      "source": [
        "# 훈련데이터와 타겟데이터 구분하고 훈련용, 테스트용 분리하기"
      ],
      "metadata": {
        "id": "86I-6-BwLzAl"
      },
      "execution_count": null,
      "outputs": []
    },
    {
      "cell_type": "code",
      "source": [
        "# 선형회귀 모델 학습 및 평가\n",
        "\n",
        "df.info()"
      ],
      "metadata": {
        "id": "_bg_YHYHL2MD"
      },
      "execution_count": null,
      "outputs": []
    }
  ]
}