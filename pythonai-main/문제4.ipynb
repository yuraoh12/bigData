{
  "nbformat": 4,
  "nbformat_minor": 0,
  "metadata": {
    "colab": {
      "provenance": [],
      "authorship_tag": "ABX9TyMtAfyKLzh62Vd0sXCA48/O",
      "include_colab_link": true
    },
    "kernelspec": {
      "name": "python3",
      "display_name": "Python 3"
    },
    "language_info": {
      "name": "python"
    }
  },
  "cells": [
    {
      "cell_type": "markdown",
      "metadata": {
        "id": "view-in-github",
        "colab_type": "text"
      },
      "source": [
        "<a href=\"https://colab.research.google.com/github/chacha86/pythonai/blob/main/%EB%AC%B8%EC%A0%9C4.ipynb\" target=\"_parent\"><img src=\"https://colab.research.google.com/assets/colab-badge.svg\" alt=\"Open In Colab\"/></a>"
      ]
    },
    {
      "cell_type": "code",
      "execution_count": null,
      "metadata": {
        "id": "MRria6UR5sz2"
      },
      "outputs": [],
      "source": [
        "# 1. 김씨 성을 가진 학생들의 이름과 평균. 평균으로 내림차순\n",
        "# 2. 이름에 희자가 들어간 학생들의 번호, 이름, 평균. 번호로 오름차순\n",
        "# 3. 생년월일의 구분자를 -에서 .으로 바꾸기\n",
        "# 4. 생년월일에서 연도를 빼고 월일만\n",
        "# 5. 학생의 이름에서 성과 이름을 서로 다른 컬럼으로 분리.\n",
        "# 6. 학생들의 성씨 별로 각각 몇 명인지 확인.\n",
        "# 7. 학생들의 평균 수학 점수가 가장 높은 도시는?"
      ]
    }
  ]
}