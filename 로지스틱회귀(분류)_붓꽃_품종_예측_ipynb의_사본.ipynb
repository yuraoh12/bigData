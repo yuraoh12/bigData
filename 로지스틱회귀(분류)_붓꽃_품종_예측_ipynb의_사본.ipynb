{
  "nbformat": 4,
  "nbformat_minor": 0,
  "metadata": {
    "colab": {
      "provenance": [],
      "authorship_tag": "ABX9TyPN1SE+IjJmdcGrBf9nRn7O",
      "include_colab_link": true
    },
    "kernelspec": {
      "name": "python3",
      "display_name": "Python 3"
    },
    "language_info": {
      "name": "python"
    }
  },
  "cells": [
    {
      "cell_type": "markdown",
      "metadata": {
        "id": "view-in-github",
        "colab_type": "text"
      },
      "source": [
        "<a href=\"https://colab.research.google.com/github/chacha86/pythonai2/blob/main/%EB%A1%9C%EC%A7%80%EC%8A%A4%ED%8B%B1%ED%9A%8C%EA%B7%80(%EB%B6%84%EB%A5%98)_%EB%B6%93%EA%BD%83_%ED%92%88%EC%A2%85_%EC%98%88%EC%B8%A1_ipynb%EC%9D%98_%EC%82%AC%EB%B3%B8.ipynb\" target=\"_parent\"><img src=\"https://colab.research.google.com/assets/colab-badge.svg\" alt=\"Open In Colab\"/></a>"
      ]
    },
    {
      "cell_type": "code",
      "execution_count": null,
      "metadata": {
        "id": "QamjhIVjbzxY"
      },
      "outputs": [],
      "source": [
        "from sklearn.datasets import load_iris\n",
        "import pandas as pd\n",
        "\n",
        "iris = load_iris()\n",
        "\n",
        "## 붓꽃 데이터\n",
        "iris_data = iris.data\n",
        "\n",
        "## 특성 이름\n",
        "iris_feature_names = iris.feature_names\n",
        "\n",
        "## 붓꽃 클래스\n",
        "iris_target = iris.target\n",
        "\n",
        "## 클래스 이름\n",
        "iris_target_names = iris.target_names\n",
        "\n"
      ]
    },
    {
      "cell_type": "code",
      "source": [
        "\n",
        "\n",
        "## 문제 1. -> 품종 예측을 이진분류로 바꿔서 버지니카만 골라내는 모델 만들어주세요.\n",
        "## 힌트 : 이진 분류에서 양성 클래스는 1, 음성 클래스는 0으로 표현함\n",
        "\n"
      ],
      "metadata": {
        "id": "GVxBmHPSlUiB"
      },
      "execution_count": null,
      "outputs": []
    }
  ]
}