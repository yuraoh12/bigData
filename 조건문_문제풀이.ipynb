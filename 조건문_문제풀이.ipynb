{
  "nbformat": 4,
  "nbformat_minor": 0,
  "metadata": {
    "colab": {
      "name": "조건문 문제풀이.ipynb",
      "provenance": [],
      "authorship_tag": "ABX9TyN8/LZJQuPBe4Jrnjn2KvRt",
      "include_colab_link": true
    },
    "kernelspec": {
      "name": "python3",
      "display_name": "Python 3"
    },
    "language_info": {
      "name": "python"
    }
  },
  "cells": [
    {
      "cell_type": "markdown",
      "metadata": {
        "id": "view-in-github",
        "colab_type": "text"
      },
      "source": [
        "<a href=\"https://colab.research.google.com/github/chacha86/bigData1/blob/main/%EC%A1%B0%EA%B1%B4%EB%AC%B8_%EB%AC%B8%EC%A0%9C%ED%92%80%EC%9D%B4.ipynb\" target=\"_parent\"><img src=\"https://colab.research.google.com/assets/colab-badge.svg\" alt=\"Open In Colab\"/></a>"
      ]
    },
    {
      "cell_type": "code",
      "source": [
        "# 홀수 짝수 판별하기\n",
        "# 짝수는 2로 나누었을 때 나머지가 0인 수가 짝수\n",
        "# 홀수는 짝수가 아닌 경우가 홀수.\n",
        "# 짝수면 even 출력. 홀수면 odd 출력\n",
        "\n",
        "num = 10\n",
        "\n",
        "print(num % 2)\n",
        "\n",
        "if num % 2 == 0 :\n",
        "  print(\"even\")\n",
        "\n",
        "if num % 2 == 1 :\n",
        "  print(\"odd\""
      ],
      "metadata": {
        "id": "MuOCfmY6DYPM"
      },
      "execution_count": null,
      "outputs": []
    },
    {
      "cell_type": "code",
      "execution_count": null,
      "metadata": {
        "id": "kURBaSaLDXMp"
      },
      "outputs": [],
      "source": [
        "# 두 수중 더 큰수에서 더 작은 수를 뺀 결과를 출력해주세요.\n",
        "# num1, num2 두 값을 바꿔가면서 테스트해보세요.\n",
        "\n",
        "num1 = 10\n",
        "num2 = 13\n",
        "\n",
        "# if num1 > num2 :\n",
        "#   print(num1 - num2)\n",
        "\n",
        "# if num2 >= num1 :\n",
        "#   print(num2 - num1)\n",
        "\n",
        "\n",
        "# 값교체 알고리즘\n",
        "\n",
        "if num2 > num1 :\n",
        "  tmp = num1\n",
        "  num1 = num2\n",
        "  num2 = tmp \n",
        "\n",
        "print(num1 - num2)\n"
      ]
    }
  ]
}