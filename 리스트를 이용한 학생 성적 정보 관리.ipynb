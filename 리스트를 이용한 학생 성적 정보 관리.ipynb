{
  "nbformat": 4,
  "nbformat_minor": 0,
  "metadata": {
    "colab": {
      "name": "Untitled13.ipynb",
      "provenance": [],
      "collapsed_sections": [],
      "authorship_tag": "ABX9TyO9Nz+xHBp5NyK4QO1ZEJ+x",
      "include_colab_link": true
    },
    "kernelspec": {
      "name": "python3",
      "display_name": "Python 3"
    },
    "language_info": {
      "name": "python"
    }
  },
  "cells": [
    {
      "cell_type": "markdown",
      "metadata": {
        "id": "view-in-github",
        "colab_type": "text"
      },
      "source": [
        "<a href=\"https://colab.research.google.com/github/chacha86/bigData1/blob/main/%EB%A6%AC%EC%8A%A4%ED%8A%B8%EB%A5%BC%20%EC%9D%B4%EC%9A%A9%ED%95%9C%20%ED%95%99%EC%83%9D%20%EC%84%B1%EC%A0%81%20%EC%A0%95%EB%B3%B4%20%EA%B4%80%EB%A6%AC.ipynb\" target=\"_parent\"><img src=\"https://colab.research.google.com/assets/colab-badge.svg\" alt=\"Open In Colab\"/></a>"
      ]
    },
    {
      "cell_type": "code",
      "execution_count": 18,
      "metadata": {
        "colab": {
          "base_uri": "https://localhost:8080/",
          "height": 35
        },
        "id": "_TO1Ap_1UwGh",
        "outputId": "87b31f00-a7a5-4510-eaa7-0ee1cb1c854d"
      },
      "outputs": [
        {
          "output_type": "execute_result",
          "data": {
            "text/plain": [
              "'ell'"
            ],
            "application/vnd.google.colaboratory.intrinsic+json": {
              "type": "string"
            }
          },
          "metadata": {},
          "execution_count": 18
        }
      ],
      "source": [
        "li = [1,2,3,4,5,6]\n",
        "\n",
        "# 슬라이싱\n",
        "li[: : -1]\n",
        "str1 = \"hello\"\n",
        "str1[1:4:]\n",
        "\n"
      ]
    },
    {
      "cell_type": "code",
      "source": [
        "li1 = [1,2,3]\n",
        "li2 = [4,5,6]\n",
        "\n",
        "li1 + li2\n",
        "\n",
        "[1,2,3] + [4,5,6]\n",
        "[1,2,3] * 3\n",
        "\n",
        "li1[1] = 10\n",
        "\n",
        "len(li1)\n",
        "\n",
        "del( li1[1] )\n",
        "\n",
        "\n",
        "li1.append(30)\n",
        "li1.append(10)\n",
        "li1.append(20)\n",
        "\n",
        "li1.sort()\n",
        "print(li1)\n",
        "a = [1,4,2,3]\n",
        "a.append(0)\n",
        "a.sort()\n",
        "\n",
        "\n"
      ],
      "metadata": {
        "colab": {
          "base_uri": "https://localhost:8080/"
        },
        "id": "ZDQKA5CZX8i_",
        "outputId": "a0946b41-5ac8-4eaa-b159-0676c2325136"
      },
      "execution_count": 40,
      "outputs": [
        {
          "output_type": "stream",
          "name": "stdout",
          "text": [
            "[1, 3, 10, 20, 30]\n"
          ]
        },
        {
          "output_type": "execute_result",
          "data": {
            "text/plain": [
              "[0, 1, 2, 3, 4]"
            ]
          },
          "metadata": {},
          "execution_count": 40
        }
      ]
    },
    {
      "cell_type": "code",
      "source": [
        "# 철수, 영희, 민주, 선빈, 동구. 총원 5명인 학급.\n",
        "# 철수 86점, 영희 93점, 민주 100점, 선빈 73점, 동구 55점\n",
        "\n",
        "# 학생들의 점수 총점\n",
        "#print(86 + 93 + 100 + 73 + 55)\n",
        "scores = [86, 93, 100, 73, 55]\n",
        "names = [\"철수\", \"영희\", \"민주\", \"선빈\", \"동구\"]\n",
        "\n",
        "# s = 0\n",
        "# for n in scores\n",
        "#   s = s + n\n",
        "\n",
        "s = sum(scores)\n",
        "\n"
      ],
      "metadata": {
        "id": "dqC-eNZyeZSC"
      },
      "execution_count": 59,
      "outputs": []
    },
    {
      "cell_type": "code",
      "source": [
        "# 학생들의 점수 평균\n",
        "avg = s / len(scores) \n"
      ],
      "metadata": {
        "id": "xsYan8XIeeLs"
      },
      "execution_count": 51,
      "outputs": []
    },
    {
      "cell_type": "code",
      "source": [
        ""
      ],
      "metadata": {
        "id": "wvZYr_THk6nV"
      },
      "execution_count": null,
      "outputs": []
    },
    {
      "cell_type": "code",
      "source": [
        "# 평균 이상인 학생\n",
        "# 0 ~ 4\n",
        "# for score in scores :\n",
        "#   if score >= avg :\n",
        "    # print(score)\n",
        "\n",
        "for i in range(0, 5, 1) :\n",
        "  if scores[i] >= avg :\n",
        "    print(scores[i], names[i])"
      ],
      "metadata": {
        "id": "Ge5JmYhgk7O2"
      },
      "execution_count": null,
      "outputs": []
    },
    {
      "cell_type": "code",
      "source": [
        "# 평균 이하인 학생"
      ],
      "metadata": {
        "id": "1aQKjKxzinAr"
      },
      "execution_count": null,
      "outputs": []
    }
  ]
}