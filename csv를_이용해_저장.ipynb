{
  "nbformat": 4,
  "nbformat_minor": 0,
  "metadata": {
    "colab": {
      "name": "csv를 이용해 저장",
      "provenance": [],
      "authorship_tag": "ABX9TyNlG5GhHyUnRHCea9HfVS/n",
      "include_colab_link": true
    },
    "kernelspec": {
      "name": "python3",
      "display_name": "Python 3"
    },
    "language_info": {
      "name": "python"
    }
  },
  "cells": [
    {
      "cell_type": "markdown",
      "metadata": {
        "id": "view-in-github",
        "colab_type": "text"
      },
      "source": [
        "<a href=\"https://colab.research.google.com/github/chacha86/bigData1/blob/main/csv%EB%A5%BC_%EC%9D%B4%EC%9A%A9%ED%95%B4_%EC%A0%80%EC%9E%A5.ipynb\" target=\"_parent\"><img src=\"https://colab.research.google.com/assets/colab-badge.svg\" alt=\"Open In Colab\"/></a>"
      ]
    },
    {
      "cell_type": "code",
      "execution_count": null,
      "metadata": {
        "id": "Dw6Kjp7KGt0c"
      },
      "outputs": [],
      "source": [
        "import csv\n",
        "import os\n",
        "\n",
        "file_name = \"day2/file_exam/exam3_person/person_list.csv\"\n",
        "\n",
        "is_first = True\n",
        "print(os.path.isfile(file_name))\n",
        "if os.path.isfile(file_name) :\n",
        "    is_first = False\n",
        "\n",
        "while True :\n",
        "    menu = input(\"메뉴 선택(1. 사람 추가 2. 목록 조회 3. 종료) :\" )\n",
        "    \n",
        "    if menu == \"1\" :\n",
        "        name = input(\"이름 : \")\n",
        "        age = int(input(\"나이 : \"))\n",
        "        home = input(\"거주지 : \")\n",
        "        \n",
        "        person = {\n",
        "            \"name\" : name,\n",
        "            \"age\" : age,\n",
        "            \"home\" : home\n",
        "        }\n",
        "\n",
        "        # 1. csv 파일에 누적 저장\n",
        "        # with open('day2/file_exam/exam3_person/person_list.json', 'a', encoding='utf-8-sig') as f :\n",
        "        with open(file_name, 'a', encoding='utf-8-sig') as f :\n",
        "            dict_writer = csv.DictWriter(f, fieldnames=person.keys())\n",
        "            if is_first :\n",
        "                dict_writer.writeheader()\n",
        "                is_first = False\n",
        "            dict_writer.writerow(person)\n",
        "            \n",
        "    elif menu == \"2\" :\n",
        "        if os.path.isfile(file_name) :\n",
        "            with open(file_name, 'r', encoding='utf-8-sig') as f:\n",
        "                dict_reader = csv.DictReader(f)\n",
        "                for person in dict_reader :\n",
        "                    print(f'이름 : {person[\"name\"]}, 나이 : {person[\"age\"]}, 거주지 : {person[\"home\"]}')\n",
        "        else :\n",
        "            print(\"데이터가 없습니다.\")    \n",
        "    elif menu == \"3\" :\n",
        "        break"
      ]
    },
    {
      "cell_type": "code",
      "source": [
        ""
      ],
      "metadata": {
        "id": "5XKZeRN2HG9g"
      },
      "execution_count": null,
      "outputs": []
    }
  ]
}