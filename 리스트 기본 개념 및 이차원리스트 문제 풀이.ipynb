{
  "nbformat": 4,
  "nbformat_minor": 0,
  "metadata": {
    "colab": {
      "name": "Untitled17.ipynb",
      "provenance": [],
      "collapsed_sections": [],
      "authorship_tag": "ABX9TyNCBHnQGIZpvIvPEO5qNVaD",
      "include_colab_link": true
    },
    "kernelspec": {
      "name": "python3",
      "display_name": "Python 3"
    },
    "language_info": {
      "name": "python"
    }
  },
  "cells": [
    {
      "cell_type": "markdown",
      "metadata": {
        "id": "view-in-github",
        "colab_type": "text"
      },
      "source": [
        "<a href=\"https://colab.research.google.com/github/chacha86/bigData1/blob/main/%EB%A6%AC%EC%8A%A4%ED%8A%B8%20%EA%B8%B0%EB%B3%B8%20%EA%B0%9C%EB%85%90%20%EB%B0%8F%20%EC%9D%B4%EC%B0%A8%EC%9B%90%EB%A6%AC%EC%8A%A4%ED%8A%B8%20%EB%AC%B8%EC%A0%9C%20%ED%92%80%EC%9D%B4.ipynb\" target=\"_parent\"><img src=\"https://colab.research.google.com/assets/colab-badge.svg\" alt=\"Open In Colab\"/></a>"
      ]
    },
    {
      "cell_type": "code",
      "execution_count": 19,
      "metadata": {
        "colab": {
          "base_uri": "https://localhost:8080/"
        },
        "id": "3EbaIf8snv0p",
        "outputId": "86602552-0528-4ffe-946e-667645763576"
      },
      "outputs": [
        {
          "output_type": "stream",
          "name": "stdout",
          "text": [
            "100\n",
            "2\n",
            "4\n",
            "5\n",
            "6\n",
            "7\n",
            "10\n",
            "100\n",
            "2\n",
            "4\n",
            "5\n",
            "6\n",
            "7\n",
            "10\n"
          ]
        },
        {
          "output_type": "execute_result",
          "data": {
            "text/plain": [
              "1"
            ]
          },
          "metadata": {},
          "execution_count": 19
        }
      ],
      "source": [
        "# 리스트\n",
        "\n",
        "li = [1,2,3,4,5,6,7]\n",
        "\n",
        "# 1. 인덱싱\n",
        "li[1]\n",
        "\n",
        "# 2. 슬라이싱 -> 시작:끝+1:간격\n",
        "li[5:2:-1]\n",
        "\n",
        "# 3. len(리스트) 함수\n",
        "len(li)\n",
        "\n",
        "# 4. list 내장함수\n",
        "# CRUD \n",
        "li.append(10) # 리스트 가장 끝쪽에 추가\n",
        "\n",
        "li[0] = 100\n",
        "del (li[2])\n",
        "\n",
        "\n",
        "# 5. 전체 조회\n",
        "for el in li :\n",
        "  print(el)\n",
        "\n",
        "# 6. 전체 조회 - range\n",
        "for i in range(len(li)): # 시작, 끝+1, 간격\n",
        "  print(li[i])\n",
        "\n",
        "\n",
        "\n",
        "\n",
        "\n",
        "\n",
        "\n",
        "\n",
        "\n",
        "\n",
        "\n"
      ]
    },
    {
      "cell_type": "code",
      "source": [
        "# 6. 이중(2차원)리스트 - 행렬\n",
        "li2 = [\n",
        "       [1,2,3],\n",
        "       [4,5,6],\n",
        "       [7,8,9]\n",
        "]\n",
        "\n",
        "li2[0][0]\n",
        "li2[2][1]\n",
        "\n",
        "\n",
        "# ================================================\n",
        "'''\n",
        "1 2 3\n",
        "4 5 6\n",
        "7 8 9\n",
        "'''\n",
        "\n",
        "for j in range(len(li2)) :\n",
        "  for i in range(len(li2[j])) :\n",
        "    print(li2[i][j], end=\" \")\n",
        "  print()\n",
        "\n",
        "print()\n",
        "# ================================================\n",
        "'''\n",
        "3 6 9\n",
        "2 5 8\n",
        "1 4 7\n",
        "'''\n",
        "\n",
        "for j in range(len(li2[0]) - 1, -1, -1) :\n",
        "  for i in range(len(li2)) :\n",
        "    print(li2[i][j], end=\" \")\n",
        "  print()\n",
        "\n",
        "\n",
        "print()\n",
        "# ================================================\n",
        "# i -> 행인덱스, j => 열인덱스\n",
        "'''\n",
        "3 4 9 \n",
        "2 5 8\n",
        "1 6 7\n",
        "'''\n",
        "\n",
        "even_idx = 2\n",
        "odd_idx = 0\n",
        "\n",
        "for j in range(2, -1, -1) :\n",
        "  for i in range(0, 3, 1) :\n",
        "    if i % 2 == 0 :\n",
        "      print(li2[i][even_idx], end=\" \")\n",
        "    else :\n",
        "      print(li2[i][odd_idx], end=\" \")\n",
        "  even_idx -= 1\n",
        "  odd_idx += 1\n",
        "  print()\n",
        "\n"
      ],
      "metadata": {
        "colab": {
          "base_uri": "https://localhost:8080/"
        },
        "id": "rnCfLKoVtZ4L",
        "outputId": "a25242ac-0c81-4b14-8ac2-87dad9cbdbc9"
      },
      "execution_count": 39,
      "outputs": [
        {
          "output_type": "stream",
          "name": "stdout",
          "text": [
            "1 4 7 \n",
            "2 5 8 \n",
            "3 6 9 \n",
            "\n",
            "3 6 9 \n",
            "2 5 8 \n",
            "1 4 7 \n",
            "\n",
            "3 4 9 \n",
            "2 5 8 \n",
            "1 6 7 \n"
          ]
        }
      ]
    }
  ]
}