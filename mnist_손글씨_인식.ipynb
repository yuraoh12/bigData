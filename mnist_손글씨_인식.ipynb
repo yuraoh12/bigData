{
  "nbformat": 4,
  "nbformat_minor": 0,
  "metadata": {
    "colab": {
      "provenance": [],
      "collapsed_sections": [],
      "mount_file_id": "1pSkzy5kr4LuU2hnqRRu8bn11AcJbAwVw",
      "authorship_tag": "ABX9TyPwDtK5bH8ruICdd1zUVKN1",
      "include_colab_link": true
    },
    "kernelspec": {
      "name": "python3",
      "display_name": "Python 3"
    },
    "language_info": {
      "name": "python"
    }
  },
  "cells": [
    {
      "cell_type": "markdown",
      "metadata": {
        "id": "view-in-github",
        "colab_type": "text"
      },
      "source": [
        "<a href=\"https://colab.research.google.com/github/chacha86/mldl/blob/main/mnist_%EC%86%90%EA%B8%80%EC%94%A8_%EC%9D%B8%EC%8B%9D.ipynb\" target=\"_parent\"><img src=\"https://colab.research.google.com/assets/colab-badge.svg\" alt=\"Open In Colab\"/></a>"
      ]
    },
    {
      "cell_type": "code",
      "source": [
        "import numpy as np\n",
        "import pickle\n",
        "from PIL import Image"
      ],
      "metadata": {
        "id": "87FuXvbAj4Uv"
      },
      "execution_count": 6,
      "outputs": []
    },
    {
      "cell_type": "code",
      "source": [
        "def sigmoid(x):\n",
        "    return 1 / (1 + np.exp(-x))"
      ],
      "metadata": {
        "id": "-XB6jp29r4j0"
      },
      "execution_count": 7,
      "outputs": []
    },
    {
      "cell_type": "code",
      "execution_count": 8,
      "metadata": {
        "colab": {
          "base_uri": "https://localhost:8080/"
        },
        "id": "NSRNpwVs-Cov",
        "outputId": "a5f70f66-8df1-42d1-be98-04945e4f10a7"
      },
      "outputs": [
        {
          "output_type": "execute_result",
          "data": {
            "text/plain": [
              "1.0"
            ]
          },
          "metadata": {},
          "execution_count": 8
        }
      ],
      "source": [
        "# 소프트맥스 함수\n",
        "def softmax(a):\n",
        "    c = np.max(a)\n",
        "    exp_a = np.exp(a - c)  # 오버플로 대책\n",
        "    sum_exp_a = np.sum(exp_a)\n",
        "    y = exp_a / sum_exp_a\n",
        "\n",
        "    return y\n",
        "# def softmax(input) :\n",
        "#   max = np.max(input)\n",
        "#   return np.exp(input - max) / np.sum(np.exp(input - max))\n",
        "  \n",
        "\n",
        "input1 = np.array([1010, 1000, 990])\n",
        "input2 = np.array([0.3, 2.9, 4.0])\n",
        "softmax(input1)\n",
        "np.sum(softmax(input2))\n",
        "\n"
      ]
    },
    {
      "cell_type": "code",
      "source": [
        "# 바이트 데이터 읽어오기\n",
        "def get_ndarr_by_bytes(file, size, len, pos) :\n",
        "  images = []\n",
        "  file.read(pos)\n",
        "  for i in range(len) :\n",
        "    buf = file.read(size)\n",
        "    arr = np.frombuffer(buffer=buf, dtype=np.uint8, count=-1)\n",
        "    images.append(arr)\n",
        "  return np.array(images)"
      ],
      "metadata": {
        "id": "6zsEw8ZszYt7"
      },
      "execution_count": 9,
      "outputs": []
    },
    {
      "cell_type": "code",
      "source": [
        "# 훈련 이미지 60000장\n",
        "tr_imgs = open(\"/content/drive/MyDrive/딥러닝 자료/mnist/train-images.idx3-ubyte\", 'rb')\n",
        "trd = get_ndarr_by_bytes(tr_imgs, 28*28, 60000, 16)"
      ],
      "metadata": {
        "id": "9gnXWxvgaU0Y"
      },
      "execution_count": 27,
      "outputs": []
    },
    {
      "cell_type": "code",
      "source": [
        "# 훈련 라벨 60000개\n",
        "tr_labels = open('/content/drive/MyDrive/딥러닝 자료/mnist/train-labels.idx1-ubyte', 'rb')\n",
        "trt = get_ndarr_by_bytes(tr_labels, 1, 60000, 8)\n",
        "trt = trt.squeeze()"
      ],
      "metadata": {
        "id": "0kpbwvPznX-L"
      },
      "execution_count": 68,
      "outputs": []
    },
    {
      "cell_type": "code",
      "source": [
        "# 테스트 이미지 10000장\n",
        "\n",
        "ts_imgs = open('/content/drive/MyDrive/딥러닝 자료/mnist/t10k-images.idx3-ubyte', 'rb')\n",
        "tsd = get_ndarr_by_bytes(ts_imgs, 28*28, 10000, 16)"
      ],
      "metadata": {
        "id": "sjGt711D08-E"
      },
      "execution_count": 60,
      "outputs": []
    },
    {
      "cell_type": "code",
      "source": [
        "# 훈련 라벨 10000개\n",
        "\n",
        "ts_labels = open('/content/drive/MyDrive/딥러닝 자료/mnist/t10k-labels.idx1-ubyte', 'rb')\n",
        "tst = get_ndarr_by_bytes(ts_labels, 1, 10000, 8)\n",
        "tst = tst.squeeze()"
      ],
      "metadata": {
        "id": "0xB_Dh7w1z_m"
      },
      "execution_count": 67,
      "outputs": []
    },
    {
      "cell_type": "code",
      "source": [
        "# 가중치, 편향 데이터 -> 입력층이 784, 층수는 3층(입력, 50, 100, 출력) => W1 => \n",
        "with open(\"/content/drive/MyDrive/딥러닝 자료/mnist/sample_weight.pkl\", 'rb') as f :\n",
        "  weights = pickle.load(f)\n"
      ],
      "metadata": {
        "id": "BtaVNbTZ1_Cf"
      },
      "execution_count": 32,
      "outputs": []
    },
    {
      "cell_type": "code",
      "source": [],
      "metadata": {
        "colab": {
          "base_uri": "https://localhost:8080/"
        },
        "id": "WElOWFMlrHUq",
        "outputId": "2a644923-9392-48d3-e569-5277b7398513"
      },
      "execution_count": 66,
      "outputs": [
        {
          "output_type": "execute_result",
          "data": {
            "text/plain": [
              "(10000,)"
            ]
          },
          "metadata": {},
          "execution_count": 66
        }
      ]
    },
    {
      "cell_type": "code",
      "source": [
        "def predict(network, x) :\n",
        "  W1 = weights['W1']\n",
        "  W2 = weights['W2']\n",
        "  W3 = weights['W3']\n",
        "  B1 = weights['b1']\n",
        "  B2 = weights['b2']\n",
        "  B3 = weights['b3']\n",
        "\n",
        "  a1 = np.dot(x, W1) + B1\n",
        "  z1 = sigmoid(a1)\n",
        "  a2 = np.dot(z1, W2) + B2\n",
        "  z2 = sigmoid(a2)\n",
        "  a3 = np.dot(z2, W3) + B3\n",
        "  y = softmax(a3)\n",
        "\n",
        "  return y\n",
        "\n",
        "accuracy_cnt = 0\n",
        "for i in range(len(tsd)) :\n",
        "  y = predict(weights, tsd[i])\n",
        "  p = np.argmax(y)\n",
        "  if p == tst[i] :\n",
        "    accuracy_cnt += 1\n",
        "\n",
        "print(\"Accuracy:\" + str(float(accuracy_cnt) / len(tsd)))"
      ],
      "metadata": {
        "colab": {
          "base_uri": "https://localhost:8080/"
        },
        "id": "gVdbf5VSrJmh",
        "outputId": "c6ea48d6-bd03-4b00-def7-92778c05ec64"
      },
      "execution_count": 69,
      "outputs": [
        {
          "output_type": "stream",
          "name": "stderr",
          "text": [
            "/usr/local/lib/python3.7/dist-packages/ipykernel_launcher.py:2: RuntimeWarning: overflow encountered in exp\n",
            "  \n"
          ]
        },
        {
          "output_type": "stream",
          "name": "stdout",
          "text": [
            "Accuracy:0.9207\n"
          ]
        }
      ]
    },
    {
      "cell_type": "code",
      "source": [
        "%matplotlib inline\n",
        "from matplotlib.pyplot import imshow\n",
        "import numpy as np\n",
        "from PIL import Image \n",
        "\n",
        "img = tsd[1]\n",
        "img = img.reshape(28, -1)\n",
        "imshow(img)\n"
      ],
      "metadata": {
        "colab": {
          "base_uri": "https://localhost:8080/",
          "height": 283
        },
        "id": "vWub7qEbrS4Q",
        "outputId": "3dc7bd59-860d-414a-8844-e2d4b609dbca"
      },
      "execution_count": 88,
      "outputs": [
        {
          "output_type": "execute_result",
          "data": {
            "text/plain": [
              "<matplotlib.image.AxesImage at 0x7f0ecd1d2c50>"
            ]
          },
          "metadata": {},
          "execution_count": 88
        },
        {
          "output_type": "display_data",
          "data": {
            "text/plain": [
              "<Figure size 432x288 with 1 Axes>"
            ],
            "image/png": "[encoded data removed]"
          },
          "metadata": {
            "needs_background": "light"
          }
        }
      ]
    },
    {
      "cell_type": "code",
      "source": [
        "tst.shape"
      ],
      "metadata": {
        "colab": {
          "base_uri": "https://localhost:8080/"
        },
        "id": "d8-NJpDIGMNc",
        "outputId": "24c4da54-71c6-4684-e2dc-9a48feeac141"
      },
      "execution_count": 55,
      "outputs": [
        {
          "output_type": "execute_result",
          "data": {
            "text/plain": [
              "(10000, 1)"
            ]
          },
          "metadata": {},
          "execution_count": 55
        }
      ]
    },
    {
      "cell_type": "code",
      "source": [
        "batch_size = 100\n",
        "accuracy_cnt = 0\n",
        "\n",
        "for i in range(0, len(tsd), batch_size) :\n",
        "  x = tsd[i : i + batch_size]\n",
        "  y = predict(weights, x)\n",
        "  p = np.argmax(y, axis=1)\n",
        "  accuracy_cnt += np.sum(p == tst[i : i + batch_size])\n",
        "print(\"Accuracy:\" + str(float(accuracy_cnt) / len(tsd))) #결과가 이상하다????\n"
      ],
      "metadata": {
        "colab": {
          "base_uri": "https://localhost:8080/"
        },
        "id": "imm3pI5oDKVe",
        "outputId": "dd89242f-69d3-4c50-a16d-c6bf02319957"
      },
      "execution_count": 71,
      "outputs": [
        {
          "output_type": "stream",
          "name": "stderr",
          "text": [
            "/usr/local/lib/python3.7/dist-packages/ipykernel_launcher.py:2: RuntimeWarning: overflow encountered in exp\n",
            "  \n"
          ]
        },
        {
          "output_type": "stream",
          "name": "stdout",
          "text": [
            "Accuracy:0.9207\n"
          ]
        }
      ]
    },
    {
      "cell_type": "code",
      "source": [
        "batch_size = 100\n",
        "accuracy_cnt = 0\n",
        "for i in range(0, len(tsd), batch_size):\n",
        "    x_batch = tsd[i:i+batch_size]\n",
        "    y_batch = predict(weights, x_batch)\n",
        "    p = np.argmax(y_batch, axis=1)\n",
        "    accuracy_cnt += np.sum(p == tst[i:i+batch_size])\n",
        "\n",
        "print(\"Accuracy:\" + str(float(accuracy_cnt) / len(tsd)))  # Accuracy:0.9352"
      ],
      "metadata": {
        "colab": {
          "base_uri": "https://localhost:8080/"
        },
        "id": "cApj9b-IGd-_",
        "outputId": "ebe1d928-a908-42a3-a50a-56099886e888"
      },
      "execution_count": 72,
      "outputs": [
        {
          "output_type": "stream",
          "name": "stderr",
          "text": [
            "/usr/local/lib/python3.7/dist-packages/ipykernel_launcher.py:2: RuntimeWarning: overflow encountered in exp\n",
            "  \n"
          ]
        },
        {
          "output_type": "stream",
          "name": "stdout",
          "text": [
            "Accuracy:0.9207\n"
          ]
        }
      ]
    },
    {
      "cell_type": "code",
      "source": [],
      "metadata": {
        "id": "3_7dtXI2Ab7R"
      },
      "execution_count": null,
      "outputs": []
    }
  ]
}