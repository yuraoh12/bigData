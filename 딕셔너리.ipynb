{
  "nbformat": 4,
  "nbformat_minor": 0,
  "metadata": {
    "colab": {
      "name": "Untitled15.ipynb",
      "provenance": [],
      "collapsed_sections": [],
      "authorship_tag": "ABX9TyMIDWXp6Z/80eRuF8kpSM93",
      "include_colab_link": true
    },
    "kernelspec": {
      "name": "python3",
      "display_name": "Python 3"
    },
    "language_info": {
      "name": "python"
    }
  },
  "cells": [
    {
      "cell_type": "markdown",
      "metadata": {
        "id": "view-in-github",
        "colab_type": "text"
      },
      "source": [
        "<a href=\"https://colab.research.google.com/github/chacha86/bigData1/blob/main/%EB%94%95%EC%85%94%EB%84%88%EB%A6%AC.ipynb\" target=\"_parent\"><img src=\"https://colab.research.google.com/assets/colab-badge.svg\" alt=\"Open In Colab\"/></a>"
      ]
    },
    {
      "cell_type": "code",
      "execution_count": 9,
      "metadata": {
        "colab": {
          "base_uri": "https://localhost:8080/"
        },
        "id": "TcVeOlqgnNfl",
        "outputId": "59fdf4b9-a527-4307-cdb0-bded8ab07c66"
      },
      "outputs": [
        {
          "output_type": "stream",
          "name": "stdout",
          "text": [
            "철수\n",
            "영희\n",
            "민주\n"
          ]
        }
      ],
      "source": [
        "scores = [86, 93, 100, 73, 55]\n",
        "names = [\"철수\", \"영희\", \"민주\", \"선빈\", \"동구\"]\n",
        "\n",
        "li = [1, 1.2, ['a', 'b', 'c'], True] # 이중리스트\n",
        "\n",
        "# 이중리스트를 이용하는 방법\n",
        "# 각 학생의 0번 인덱스 : 이름\n",
        "# ..........1번 ...... : 점수\n",
        "students = [ [\"철수\", 86], [\"영희\", 93], [\"민주\", 100], [\"선빈\", 73], [\"동구\", 55] ]\n",
        "\n",
        "avg = 84.1\n",
        "\n",
        "for student in students :\n",
        "  if student[\"점수\"] >= avg :\n",
        "    print(student[\"이름\"])\n",
        "\n"
      ]
    },
    {
      "cell_type": "code",
      "source": [
        "# 이중리스트를 이용해도 가능하긴 하지만 데이터 식별이 어렵다. 그래서 나온 것이 Dictionary\n",
        "# Dictionary ==> (key : value) = item\n",
        "# s1 = [\"철수\", 90] # 리스트\n",
        "# s2 = [99, \"영희\"] # 리스트\n",
        "stu1 = {\"이름\" : \"철수\", \"점수\" : 90} # 딕셔너리\n",
        "stu2 = {\"점수\" : 90, \"이름\" : \"영희\"} # 딕셔너리\n",
        "print(stu1[\"이름\"])\n",
        "print(stu1[\"점수\"])\n",
        "print(stu2[\"이름\"])\n",
        "print(stu2[\"점수\"])\n",
        "\n",
        "stu2[\"성별\"] = \"여\"\n",
        "stu2[\"성별\"] = \"남\" # 동일한 키가 있으면 수정, 없으면 추가\n",
        "\n",
        "del(stu2[\"성별\"]) # 삭제\n"
      ],
      "metadata": {
        "colab": {
          "base_uri": "https://localhost:8080/"
        },
        "id": "L9v14t7ypfH_",
        "outputId": "27e76e19-3fd1-4b7a-f12a-c42005dee41c"
      },
      "execution_count": 18,
      "outputs": [
        {
          "output_type": "stream",
          "name": "stdout",
          "text": [
            "철수\n",
            "90\n",
            "영희\n",
            "90\n"
          ]
        },
        {
          "output_type": "execute_result",
          "data": {
            "text/plain": [
              "{'이름': '영희', '점수': 90}"
            ]
          },
          "metadata": {},
          "execution_count": 18
        }
      ]
    }
  ]
}