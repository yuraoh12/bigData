{
  "nbformat": 4,
  "nbformat_minor": 0,
  "metadata": {
    "colab": {
      "name": "Json 파일 관리 _ 파일 번호 관리 기능 추가 .ipynb",
      "provenance": [],
      "collapsed_sections": [],
      "authorship_tag": "ABX9TyP7bDDXfE1pZ8+Vv7ikljoL",
      "include_colab_link": true
    },
    "kernelspec": {
      "name": "python3",
      "display_name": "Python 3"
    },
    "language_info": {
      "name": "python"
    }
  },
  "cells": [
    {
      "cell_type": "markdown",
      "metadata": {
        "id": "view-in-github",
        "colab_type": "text"
      },
      "source": [
        "<a href=\"https://colab.research.google.com/github/chacha86/bigData1/blob/main/Json_%ED%8C%8C%EC%9D%BC_%EA%B4%80%EB%A6%AC___%ED%8C%8C%EC%9D%BC_%EB%B2%88%ED%98%B8_%EA%B4%80%EB%A6%AC_%EA%B8%B0%EB%8A%A5_%EC%B6%94%EA%B0%80_.ipynb\" target=\"_parent\"><img src=\"https://colab.research.google.com/assets/colab-badge.svg\" alt=\"Open In Colab\"/></a>"
      ]
    },
    {
      "cell_type": "code",
      "execution_count": null,
      "metadata": {
        "id": "May8yV6J1zLT"
      },
      "outputs": [],
      "source": [
        "import json \n",
        "import os\n",
        "\n",
        "person_file_path = \"day3/file_exam/person_json/\"\n",
        "person_no_file_path = \"day3/file_exam/person_no/person_no.json\"\n",
        "\n",
        "def set_next_person_no(no):           \n",
        "    with open(person_no_file_path, 'w', encoding='utf-8-sig') as f :\n",
        "        no_dic = {\n",
        "            \"no\" : no\n",
        "        }             \n",
        "        json_str = json.dumps(no_dic)        \n",
        "        f.write(json_str)\n",
        "\n",
        "\n",
        "def get_person_no() :\n",
        "    no = 1\n",
        "    \n",
        "    if not os.path.isfile(person_no_file_path) :\n",
        "        set_next_person_no(no)\n",
        "    else :        \n",
        "        with open(person_no_file_path, 'r', encoding='utf-8-sig') as f :\n",
        "            no_dic = json.load(f)\n",
        "            no = no_dic['no']\n",
        "            set_next_person_no(no + 1)\n",
        "            \n",
        "    return no\n",
        "\n",
        "while True :\n",
        "    menu = input(\"메뉴 선택(1. 사람 추가 2. 목록 조회 3. 종료) :\" )\n",
        "    \n",
        "    if menu == \"1\" :\n",
        "        name = input(\"이름 : \")\n",
        "        age = int(input(\"나이 : \"))\n",
        "        home = input(\"거주지 : \")\n",
        "        \n",
        "        person = {\n",
        "            \"name\" : name,\n",
        "            \"age\" : age,\n",
        "            \"home\" : home\n",
        "        }\n",
        "\n",
        "        json_str = json.dumps(person, ensure_ascii=False)\n",
        "        file = person_file_path + \"person\" + str(get_person_no()) + \".json\"\n",
        "        with open(file, 'w', encoding='utf-8-sig') as f :\n",
        "            f.write(json_str)\n",
        "            \n",
        "    elif menu == \"2\" :\n",
        "        file_list = os.listdir(person_file_path)\n",
        "        if len(file_list) == 0 :\n",
        "            print('데이터가 없습니다.')\n",
        "        else :\n",
        "            for file in file_list :\n",
        "                file = person_file_path + file\n",
        "                with open(file, 'r', encoding='utf-8-sig') as f :\n",
        "                    person = json.load(f)\n",
        "                    print(f'이름 : {person[\"name\"]}, 나이 : {person[\"age\"]}, 거주지 : {person[\"home\"]}')\n",
        "    elif menu == \"3\" :\n",
        "        break"
      ]
    }
  ]
}