{
  "nbformat": 4,
  "nbformat_minor": 0,
  "metadata": {
    "colab": {
      "name": "Untitled10.ipynb",
      "provenance": [],
      "collapsed_sections": [],
      "authorship_tag": "ABX9TyNMfAxHpSxqx3crRtZ8Xta6",
      "include_colab_link": true
    },
    "kernelspec": {
      "name": "python3",
      "display_name": "Python 3"
    },
    "language_info": {
      "name": "python"
    }
  },
  "cells": [
    {
      "cell_type": "markdown",
      "metadata": {
        "id": "view-in-github",
        "colab_type": "text"
      },
      "source": [
        "<a href=\"https://colab.research.google.com/github/chacha86/bigData1/blob/main/%EB%85%BC%EB%A6%AC%EC%9E%90%EB%A3%8C%ED%98%95%EA%B3%BC%20%EC%A1%B0%EA%B1%B4%EB%AC%B8.ipynb\" target=\"_parent\"><img src=\"https://colab.research.google.com/assets/colab-badge.svg\" alt=\"Open In Colab\"/></a>"
      ]
    },
    {
      "cell_type": "code",
      "execution_count": 6,
      "metadata": {
        "colab": {
          "base_uri": "https://localhost:8080/"
        },
        "id": "ZbAY_voQ3f0x",
        "outputId": "0ae10400-95ca-473b-ff63-3634faaf22de"
      },
      "outputs": [
        {
          "output_type": "execute_result",
          "data": {
            "text/plain": [
              "True"
            ]
          },
          "metadata": {},
          "execution_count": 6
        }
      ],
      "source": [
        "# 조건문\n",
        "\n",
        "# 논리형\n",
        "1\n",
        "\"1\"\n",
        "\n",
        "True # 논리\n",
        "\"True\" # 문자열\n",
        "\n",
        "False\n",
        "\n",
        "bool1 = True\n",
        "bool2 = False \n",
        "\n",
        "bool1"
      ]
    },
    {
      "cell_type": "code",
      "source": [
        "# 비교연산자\n",
        "\n",
        "10 > 2 # 왼쪽이 크다(초과, 미만)\n",
        "10 < 2 \n",
        "\n",
        "10 <= 10 #  오른쪽이 크거나 같다(이상, 이하)\n",
        "\n",
        "# = 대입연산자\n",
        "# 10 = 10 # 같다 X\n",
        "\n",
        "10 == 10 # 같다\n",
        "10 != 10 # 같지 않다\n"
      ],
      "metadata": {
        "colab": {
          "base_uri": "https://localhost:8080/"
        },
        "id": "9pJpToFL6NNQ",
        "outputId": "52bc7103-d70e-4abd-d2ed-7588957c28b9"
      },
      "execution_count": 11,
      "outputs": [
        {
          "output_type": "execute_result",
          "data": {
            "text/plain": [
              "False"
            ]
          },
          "metadata": {},
          "execution_count": 11
        }
      ]
    },
    {
      "cell_type": "code",
      "source": [
        "10 > 2\n",
        "\n",
        "num = 1 \n",
        "\n",
        "# 조건\n",
        "num > 2 # 10 > 2\n",
        "\n",
        "# 조건문 -> 조건에 맞으면 실행(참일때)\n",
        "\n",
        "num > 2\n",
        "\n",
        "if num > 2 : \n",
        "  print('num이 2보다 큽니다.') # 들여쓰기, 인덴트\n",
        "\n",
        "# 문법을 익히는 가장확실한 좋은 방법 : 많이 쳐본다.\n",
        "age = 12\n",
        "\n",
        "if age >= 20 :\n",
        "  print(\"성인입니다.\")\n",
        "\n",
        "if age < 20 :\n",
        "  print(\"미성년자입니다.\")"
      ],
      "metadata": {
        "colab": {
          "base_uri": "https://localhost:8080/"
        },
        "id": "lNMPujFK8DX0",
        "outputId": "e2a75b21-e185-4558-ebe7-5324f54fcde1"
      },
      "execution_count": 29,
      "outputs": [
        {
          "output_type": "stream",
          "name": "stdout",
          "text": [
            "미성년자입니다.\n"
          ]
        }
      ]
    }
  ]
}