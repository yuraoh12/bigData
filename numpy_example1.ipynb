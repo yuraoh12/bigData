{
  "nbformat": 4,
  "nbformat_minor": 0,
  "metadata": {
    "colab": {
      "provenance": [],
      "collapsed_sections": [],
      "authorship_tag": "ABX9TyOaMNBjTC1fjhm+xOeHuQqu",
      "include_colab_link": true
    },
    "kernelspec": {
      "name": "python3",
      "display_name": "Python 3"
    },
    "language_info": {
      "name": "python"
    }
  },
  "cells": [
    {
      "cell_type": "markdown",
      "metadata": {
        "id": "view-in-github",
        "colab_type": "text"
      },
      "source": [
        "<a href=\"https://colab.research.google.com/github/chacha86/python2-week-20220803/blob/main/numpy_example1.ipynb\" target=\"_parent\"><img src=\"https://colab.research.google.com/assets/colab-badge.svg\" alt=\"Open In Colab\"/></a>"
      ]
    },
    {
      "cell_type": "code",
      "execution_count": null,
      "metadata": {
        "id": "zPI8IKtJUcHj",
        "colab": {
          "base_uri": "https://localhost:8080/"
        },
        "outputId": "b354c600-2eb1-43d6-c247-d00e09483887"
      },
      "outputs": [
        {
          "output_type": "execute_result",
          "data": {
            "text/plain": [
              "list"
            ]
          },
          "metadata": {},
          "execution_count": 16
        }
      ],
      "source": [
        "# ndArray\n",
        "\n",
        "import numpy as np\n",
        "\n",
        "# 1차원 ndArray 생성\n",
        "np.array([1,2,3,4])\n",
        "arr1 = np.array((1,2,3,4)) # 넘파이 ndArray\n",
        "arr2 = [1,2,3,4] # 파이썬 리스트\n",
        "type(arr1)\n",
        "type(arr2)\n"
      ]
    },
    {
      "cell_type": "code",
      "source": [
        "# 2차원 ndArray\n",
        "arr2 = np.array([[1,2,3,4], [5,6,7,8]])\n",
        "\n",
        "# 3차원 ndArray\n",
        "arr3 = np.array([[[1.0,2.0,3.0,4.0], [5,6,7,8]], [[1,2,3,4], [5,6,7,8]]])"
      ],
      "metadata": {
        "id": "qnyztxOyY2rw"
      },
      "execution_count": null,
      "outputs": []
    },
    {
      "cell_type": "code",
      "source": [
        "# d\n",
        "arr1.ndim\n",
        "arr2.ndim\n",
        "arr3.ndim"
      ],
      "metadata": {
        "id": "-RJYomchU4CH",
        "colab": {
          "base_uri": "https://localhost:8080/"
        },
        "outputId": "ce550213-2e30-453d-c5ab-e88d7cccd219"
      },
      "execution_count": null,
      "outputs": [
        {
          "output_type": "execute_result",
          "data": {
            "text/plain": [
              "3"
            ]
          },
          "metadata": {},
          "execution_count": 21
        }
      ]
    },
    {
      "cell_type": "code",
      "source": [
        "# 배열의 형태\n",
        "arr1.shape\n",
        "arr2.shape\n",
        "arr3.shape\n",
        "\n",
        "# 배열의 사이즈\n",
        "arr1.size\n",
        "arr2.size\n",
        "arr3.size\n",
        "\n",
        "# 원소의 타입\n",
        "arr1.dtype\n",
        "arr2.dtype\n",
        "arr3.dtype"
      ],
      "metadata": {
        "colab": {
          "base_uri": "https://localhost:8080/"
        },
        "id": "RqxqDtF4ZtjG",
        "outputId": "34d01396-b6d1-41e0-da9a-48294eac8f6a"
      },
      "execution_count": null,
      "outputs": [
        {
          "output_type": "execute_result",
          "data": {
            "text/plain": [
              "dtype('float64')"
            ]
          },
          "metadata": {},
          "execution_count": 32
        }
      ]
    },
    {
      "cell_type": "code",
      "source": [
        "# 배열 생성 함수\n",
        "# 0 행렬\n",
        "np.zeros((3, 4))\n",
        "\n",
        "# 1 행렬\n",
        "np.ones((2, 3, 4))\n",
        "\n",
        "# k 행렬\n",
        "np.full((2, 2), 3)\n",
        "\n",
        "# like 함수 - 다른 배열의 모양을 본따서 만들기\n",
        "np.zeros_like(arr2)\n",
        "np.ones_like(arr2)\n",
        "np.full_like(arr2, 2)"
      ],
      "metadata": {
        "colab": {
          "base_uri": "https://localhost:8080/"
        },
        "id": "KqO02DEWalmR",
        "outputId": "d929d0b8-1e17-472f-c95e-4461a48d96b4"
      },
      "execution_count": null,
      "outputs": [
        {
          "output_type": "execute_result",
          "data": {
            "text/plain": [
              "array([[2, 2, 2, 2],\n",
              "       [2, 2, 2, 2]])"
            ]
          },
          "metadata": {},
          "execution_count": 39
        }
      ]
    },
    {
      "cell_type": "code",
      "source": [
        "# random -> 난수 발생\n",
        "np.random.seed(10) # 난수를 최초로 한번만 생성\n",
        "np.random.randint(-100, 100, (2, 3)) # -100 ~ 100 사이의 숫자로 2 X 3 행렬 생성\n",
        "\n",
        "np.random.randint(0, 10, (2, 2, 3)) # -100 ~ 100 사이의 숫자로 2 X 3 행렬 생성"
      ],
      "metadata": {
        "colab": {
          "base_uri": "https://localhost:8080/"
        },
        "id": "fA0qnhQ2b0KW",
        "outputId": "d5406ecb-b83c-4551-c978-56c874de2411"
      },
      "execution_count": null,
      "outputs": [
        {
          "output_type": "execute_result",
          "data": {
            "text/plain": [
              "array([[[9, 0, 1],\n",
              "        [8, 9, 0]],\n",
              "\n",
              "       [[8, 6, 4],\n",
              "        [3, 0, 4]]])"
            ]
          },
          "metadata": {},
          "execution_count": 49
        }
      ]
    },
    {
      "cell_type": "code",
      "source": [
        "# 리스트 인덱싱\n",
        "li = [1,2,3,4]\n",
        "li[0]\n",
        "\n",
        "# 1차원 배열 인덱싱\n",
        "arr1[0] # 하나만 접근\n",
        "arr1[::] # 슬라이싱\n",
        "\n",
        "# 2차원 배열 인덱싱\n",
        "arr2[0, 1] # 행과 열 두개의 축정보 필요.\n",
        "arr2[1, 2]\n",
        "\n",
        "arr2[1:2:, 1:3:] # 슬라이싱\n",
        "\n",
        "# fancy 인덱싱 -> 원하는 인덱스를 배열로 넘기는 것.\n",
        "# 1차원 \n",
        "arr1[[0, 1, 3]]\n",
        "\n",
        "# 2차원\n",
        "arr2[[0, 1], [1, 2]]\n",
        "arr2[::, [0, 3]]\n",
        "\n",
        "# 논리값 인덱싱 - True인 것만\n",
        "arr1[[True, False, True, False]]\n",
        "arr1[arr1 > 2]\n"
      ],
      "metadata": {
        "colab": {
          "base_uri": "https://localhost:8080/"
        },
        "id": "uPkZj6b5c4nh",
        "outputId": "850a6a91-78cb-4b4e-849d-d619eaa011f8"
      },
      "execution_count": null,
      "outputs": [
        {
          "output_type": "execute_result",
          "data": {
            "text/plain": [
              "array([3, 4])"
            ]
          },
          "metadata": {},
          "execution_count": 78
        }
      ]
    }
  ]
}