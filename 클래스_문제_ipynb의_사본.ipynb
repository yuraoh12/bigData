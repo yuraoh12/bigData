{
  "nbformat": 4,
  "nbformat_minor": 0,
  "metadata": {
    "colab": {
      "name": "클래스 문제.ipynb의 사본",
      "provenance": [],
      "authorship_tag": "ABX9TyMBO+BAkX4RhX15s/E2csbE",
      "include_colab_link": true
    },
    "kernelspec": {
      "name": "python3",
      "display_name": "Python 3"
    },
    "language_info": {
      "name": "python"
    }
  },
  "cells": [
    {
      "cell_type": "markdown",
      "metadata": {
        "id": "view-in-github",
        "colab_type": "text"
      },
      "source": [
        "<a href=\"https://colab.research.google.com/github/chacha86/bigData1/blob/main/%ED%81%B4%EB%9E%98%EC%8A%A4_%EB%AC%B8%EC%A0%9C_ipynb%EC%9D%98_%EC%82%AC%EB%B3%B8.ipynb\" target=\"_parent\"><img src=\"https://colab.research.google.com/assets/colab-badge.svg\" alt=\"Open In Colab\"/></a>"
      ]
    },
    {
      "cell_type": "code",
      "source": [
        "# 아래 코드가 동작하도록 클래스를 완성시켜 주세요.\n",
        "\n",
        "class Dog :\n",
        "    def bark(self) :\n",
        "        print('개가 짖습니다.')\n",
        "\n",
        "d1 = Dog()\n",
        "d1.bark() # 개가 짖습니다.\n",
        "\n",
        "d2 = Dog()\n",
        "d2.bark() # 개가 짖습니다.\n"
      ],
      "metadata": {
        "id": "plmlF9TTe3Cg"
      },
      "execution_count": null,
      "outputs": []
    },
    {
      "cell_type": "code",
      "source": [
        "class Car :\n",
        "\n",
        "    def __init__(self, velo, model) :        \n",
        "        self.velo = velo\n",
        "        self.model = model\n",
        "        \n",
        "    def run(self) :\n",
        "        print(f'{self.model}이/가 {self.velo}km로 달립니다.')\n",
        "\n",
        "\n",
        "# 아래 처럼 출력되도록 클래스를 완성해주세요.\n",
        "\n",
        "c1 = Car(120, '소나타') \n",
        "c1.run() # 소나타이/가 120km로 달립니다.\n",
        "\n",
        "c2 = Car(140, '싼타페') \n",
        "c2.run() # 싼타페이/가 140km로 달립니다."
      ],
      "metadata": {
        "id": "-fYktjBXd8yg"
      },
      "execution_count": null,
      "outputs": []
    },
    {
      "cell_type": "code",
      "execution_count": null,
      "metadata": {
        "id": "lhgAsi9DdV2i"
      },
      "outputs": [],
      "source": [
        "# 아래 코드가 실행되도록 class를 완성해주세요.\n",
        "\t\n",
        "class Warrior :\n",
        "    def __init__(self, name, attack, defense) :\n",
        "        self.name = name\n",
        "        self.attack = attack\n",
        "        self.defense = defense\n",
        "        \n",
        "    def doAttack(self) :\n",
        "        print(f'{self.name}이/가 {self.attack} 데미지를 입힙니다.')\n",
        "    \n",
        "    def assault(self) :\n",
        "        print(f'{self.name}이/가 돌진 스킬을 사용합니다. {self.attack * 1.5}의 피해를 입힙니다.')\n",
        "    \n",
        "    def move(self) :\n",
        "        print('씩씩하게 걸어갑니다')\n",
        "\n",
        "class Magician :\n",
        "    pass\n",
        " \n",
        "c1 = Warrior(\"홍길동\", 20, 10); # 전사가 생성됩니다.\n",
        "\n",
        "c1.doAttack(); # 홍길동이 20의 데미지를 입힙니다.\n",
        "c1.assault(); # 홍길동이 돌진 스킬을 사용합니다. (공격력의 1.5배)의 피해를 입힙니다.\n",
        "c1.move(); # 씩씩하게 걸어갑니다.\n",
        "\n",
        "# c2 = Magician(\"홍길순\", 15, 15); # 마법사가 생성됩니다.\n",
        "\n",
        "# c2.doAttack(); # 홍길순이 15의 데미지를 입힙니다.\n",
        "# c2.fire(); # 홍길순이 파이어 스킬을 사용합니다. (공격력의 2배)의 피해를 입힙니다.\n",
        "# c2.move(); # 텔레포트로 이동합니다."
      ]
    },
    {
      "cell_type": "code",
      "source": [
        "# 아래 코드가 실행되도록 코드를 완성해주세요.\n",
        "class Person :\n",
        "    def __init__(self, age, name) :\n",
        "        self.age = age\n",
        "        self.name = name\n",
        "        \n",
        "    def get_age(self):\n",
        "        return self.age\n",
        "\n",
        "    def introduce(self) :\n",
        "        print(f'{self.age} , {self.name}')\n",
        "        \n",
        "p1 = Person(22, '홍길동')\n",
        "p2 = Person(32, '이순신')\n",
        "p3 = Person(18, '정약용')\n",
        "p4 = Person(54, '황진이')\n",
        "\n",
        "\n",
        "people = [p1, p2, p3, p4]\n",
        "\n",
        "for p in people :\n",
        "  if p.get_age() > 20 :\n",
        "    p.introduce()\n",
        "\n",
        "# 출력 \n",
        "# 22 , 홍길동\n",
        "# 32 , 이순신\n",
        "# 54 , 황진이"
      ],
      "metadata": {
        "id": "F30C5HnZfF9L"
      },
      "execution_count": null,
      "outputs": []
    }
  ]
}