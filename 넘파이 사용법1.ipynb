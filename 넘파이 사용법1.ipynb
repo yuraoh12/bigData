{
  "nbformat": 4,
  "nbformat_minor": 0,
  "metadata": {
    "colab": {
      "name": "Untitled25.ipynb",
      "provenance": [],
      "collapsed_sections": [],
      "authorship_tag": "ABX9TyONL+fjPjZK68ZPSMCcX/JM",
      "include_colab_link": true
    },
    "kernelspec": {
      "name": "python3",
      "display_name": "Python 3"
    },
    "language_info": {
      "name": "python"
    }
  },
  "cells": [
    {
      "cell_type": "markdown",
      "metadata": {
        "id": "view-in-github",
        "colab_type": "text"
      },
      "source": [
        "<a href=\"https://colab.research.google.com/github/chacha86/bigData1/blob/main/%EB%84%98%ED%8C%8C%EC%9D%B4%20%EC%82%AC%EC%9A%A9%EB%B2%951.ipynb\" target=\"_parent\"><img src=\"https://colab.research.google.com/assets/colab-badge.svg\" alt=\"Open In Colab\"/></a>"
      ]
    },
    {
      "cell_type": "code",
      "execution_count": 62,
      "metadata": {
        "colab": {
          "base_uri": "https://localhost:8080/"
        },
        "id": "mm6auBllZcW2",
        "outputId": "62480dc5-b244-4ede-bde1-2bc1ee593c8a"
      },
      "outputs": [
        {
          "output_type": "execute_result",
          "data": {
            "text/plain": [
              "16"
            ]
          },
          "metadata": {},
          "execution_count": 62
        }
      ],
      "source": [
        "import numpy as np\n",
        "\n",
        "li = [1,2,3,4,5] # 일반 파이썬 리스트. 연산 속도가 느리고 기능의 제약이 많다.\n",
        "\n",
        "type(li) # li 의 타입 체크. List 타입으로 나온다.\n",
        "\n",
        "arr = np.array([1,2,3,4,5]) # ndArray. numpy 수치연산용 배열. 고속의 연산속도와 다양한 연산 기능을 제공. 유수한 라이브러리들이 채용하여 사용중.\n",
        "type(arr) # arr의 타입 체크. ndArray 타입으로 나온다.\n",
        "\n",
        "li = [7,8,9,10]\n",
        "tupl = (5,6,7,8)\n",
        "arr2 = np.array(li) # 리스트를 이용해 ndArray 만들기\n",
        "arr3 = np.array(tupl) # 튜플을 이용해 ndArray 만들기\n",
        "\n",
        "arr3\n",
        "\n",
        "# 2차원 배열 만들기\n",
        "arr4 = np.array([[1,2,3,4],\n",
        "                 [5,6,7,8]])\n",
        "\n",
        "# 3차원 배열 만들기\n",
        "\n",
        "arr5 = np.array([[[1,2,3,4],\n",
        "                 [5,6,7,8]],\n",
        "                [[1,2,3,4],\n",
        "                 [5,6,7,8]] ])\n",
        "\n",
        "# 배열의 모양 확인\n",
        "arr3.shape\n",
        "\n",
        "arr4.shape\n",
        "\n",
        "arr5.shape\n",
        "\n",
        "\n",
        "# 배열의 차원 확인\n",
        "arr3.ndim\n",
        "arr4.ndim\n",
        "arr5.ndim\n",
        "\n",
        "\n",
        "# 배열의 원소 개수 확인\n",
        "arr3.size\n",
        "arr4.size\n",
        "arr5.size"
      ]
    },
    {
      "cell_type": "code",
      "source": [
        "# 인덱싱\n",
        "\n",
        "# 1차원 배열 인덱싱\n",
        "arr3[0]\n",
        "# 1차원 배열 슬라이싱\n",
        "arr3[1 : 4 : 2]\n",
        "\n",
        "\n",
        "# 2차원 배열 인덱싱\n",
        "arr4[0, 2]\n",
        "arr4[1, 3]\n",
        "\n",
        "arr5 = np.array([[1,2,3,4],\n",
        "                 [5,6,7,8],\n",
        "                 [9,10,11,12],\n",
        "                 [13,14,15,16]])\n",
        "\n",
        "# 2차원 배열 슬라이싱. 2차원의 경우 슬라이싱을 행과 열 두 축에 대해서 고려해야 한다.\n",
        "# 아래는 행은 모두 출력하고 열은 0,1열만 출력하는 코드\n",
        "arr4[:, :2]\n",
        "\n",
        "\n",
        "\n",
        "\n",
        "# arr5를 아래와 같이 2차원 배열 슬라이싱 하기\n",
        "'''\n",
        "[6,7]\n",
        "[10,11]\n",
        "'''\n",
        "arr5[1:3, 1:3]\n",
        "'''\n",
        "[1,3]\n",
        "[5,7]\n",
        "[9,11]\n",
        "[13,15]\n",
        "'''\n",
        "arr5[:, 0:3:2]\n",
        "\n",
        "\n",
        "# fancy 인덱싱 - 인덱스를 여러개 선택\n",
        "arr6 = np.array([1,2,3,4,5,6,7,8,9,10])\n",
        "\n",
        "arr6[[2, 5, 9]] # 2, 5, 9 세개의 인덱스를 사용. 이때 인덱스로 사용된 2,5,9가 배열 형태임의 유의\n",
        "\n",
        "\n",
        "\n",
        "# arr5를 fancy 인덱싱을 이용해 아래와 같이 출력하기\n",
        "'''\n",
        "[1,3]\n",
        "[5,7]\n",
        "[13,15]\n",
        "'''\n",
        "print(arr5[[0,1,3], 0:3:2])\n",
        "\n",
        "\n",
        "# 논리값(bool) 인덱싱\n",
        "arr7 = np.array([[1,2],\n",
        "                 [3,4]])\n",
        "\n",
        "arr8 = np.array([[True, False],\n",
        "                 [False, True]])\n",
        "\n",
        "# arr8의 True위치에 있는 arr7의 원소만 선택\n",
        "arr7[arr8]\n",
        "\n",
        "\n",
        "arr9 = np.array([1,2,3,4,5])\n",
        "arr10 = np.array([True, False, True, False, True])\n",
        "\n",
        "arr9[arr10] # arr10의 True 위치에 있는 값만 arr9에서 가져옴.\n",
        "\n",
        "arr8[arr8 > 3] # 이를 응용하면 arr8 > 3으로 조건식에 만족하는 원소만 가져올 수 있음\n"
      ],
      "metadata": {
        "colab": {
          "base_uri": "https://localhost:8080/"
        },
        "id": "6ZgOiascnGRV",
        "outputId": "13a112cc-ab88-4b5c-a741-90725c1144b7"
      },
      "execution_count": 145,
      "outputs": [
        {
          "output_type": "stream",
          "name": "stdout",
          "text": [
            "[[ 1  3]\n",
            " [ 5  7]\n",
            " [13 15]]\n"
          ]
        },
        {
          "output_type": "execute_result",
          "data": {
            "text/plain": [
              "array([4, 5])"
            ]
          },
          "metadata": {},
          "execution_count": 145
        }
      ]
    },
    {
      "cell_type": "code",
      "source": [
        "# 수열로 1차원 배열 만들기\n",
        "arr = np.arange(10, 21, 2)\n",
        "\n",
        "# 랜덤하게 숫자 뽑아주는것. 순서대로 최소값, 최대값, 배열의 형태\n",
        "arr2 = np.random.randint(-10, 10, (2,3,4)) # -10 ~ 10까지의 임의의 정수를 뽑아 2 X 3 X 4 배열을 만듦.\n",
        "\n",
        "\n",
        "# 배열생성 삼총사\n",
        "arr3 = np.zeros([3, 3,4]) # 영행렬\n",
        "arr4 = np.ones([3,4]) # 1로 채움\n",
        "arr5 = np.full([3,4], 4) # 특정 숫자로 채움\n",
        "\n",
        "# arr2와 같은 형태로 0행렬 만듦\n",
        "arr6 = np.zeros_like(arr2)\n",
        "\n"
      ],
      "metadata": {
        "colab": {
          "base_uri": "https://localhost:8080/"
        },
        "id": "V11R60-tlmtD",
        "outputId": "7a504b83-b65b-40e2-a88e-699fed0a4244"
      },
      "execution_count": 113,
      "outputs": [
        {
          "output_type": "execute_result",
          "data": {
            "text/plain": [
              "array([[[0, 0, 0, 0],\n",
              "        [0, 0, 0, 0],\n",
              "        [0, 0, 0, 0]],\n",
              "\n",
              "       [[0, 0, 0, 0],\n",
              "        [0, 0, 0, 0],\n",
              "        [0, 0, 0, 0]]])"
            ]
          },
          "metadata": {},
          "execution_count": 113
        }
      ]
    },
    {
      "cell_type": "code",
      "source": [
        "# 랜덤 시드. 시드를 주면 무작위값을 항상 일정하게 뽑을 수 있음.\n",
        "np.random.seed(1)\n",
        "arr1 = np.random.randint(-100, 100, (3,4))\n",
        "\n",
        "print(arr1)\n",
        "\n",
        "np.random.seed(100)\n",
        "arr2 = np.random.randint(-100, 100, (3,4))\n",
        "\n",
        "print(arr2)\n",
        "\n",
        "np.random.seed(5)\n",
        "arr3 = np.random.randint(-10, 10, 5)\n",
        "\n",
        "print(arr3)\n",
        "\n",
        "\n",
        "# 행렬 연산 - 원소끼리 연산\n",
        "#최대\n",
        "arr1.max()\n",
        "arr2.max()\n",
        "arr3.max()\n",
        "\n",
        "# 최소\n",
        "arr1.min(axis=0) # axis 0은 세로. 인덱스가 행 기준으로 움직임\n",
        "arr1.min(axis=1) # axis 1은 가로. 인덱스가 열 기준으로 움직임\n",
        "\n",
        "# 합\n",
        "arr1.sum()\n",
        "arr1.sum(axis=0)\n",
        "arr1.sum(axis=1)\n",
        "\n",
        "# 평균\n",
        "arr1.mean()\n",
        "arr1.mean(axis=0)\n",
        "arr1.mean(axis=1)"
      ],
      "metadata": {
        "colab": {
          "base_uri": "https://localhost:8080/"
        },
        "id": "Srh_tm2xscuV",
        "outputId": "142bbafe-640d-43c4-830d-a3e3f21531d7"
      },
      "execution_count": 141,
      "outputs": [
        {
          "output_type": "stream",
          "name": "stdout",
          "text": [
            "[[-63  40 -28  37]\n",
            " [ 33 -21  92  44]\n",
            " [ 29 -29  34 -75]]\n",
            "[[-92 -76 -33   3]\n",
            " [-13 -21  76  38]\n",
            " [ -6  80  -2 -47]]\n",
            "[-7  4  5 -4  6]\n"
          ]
        },
        {
          "output_type": "execute_result",
          "data": {
            "text/plain": [
              "array([ -3.5 ,  37.  , -10.25])"
            ]
          },
          "metadata": {},
          "execution_count": 141
        }
      ]
    }
  ]
}