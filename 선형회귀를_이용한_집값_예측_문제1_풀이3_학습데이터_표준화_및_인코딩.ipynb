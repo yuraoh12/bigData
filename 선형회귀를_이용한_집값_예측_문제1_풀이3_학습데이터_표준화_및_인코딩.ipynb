{
  "nbformat": 4,
  "nbformat_minor": 0,
  "metadata": {
    "colab": {
      "provenance": [],
      "authorship_tag": "ABX9TyNbLgvij85c8/edIvJaGbyI",
      "include_colab_link": true
    },
    "kernelspec": {
      "name": "python3",
      "display_name": "Python 3"
    },
    "language_info": {
      "name": "python"
    }
  },
  "cells": [
    {
      "cell_type": "markdown",
      "metadata": {
        "id": "view-in-github",
        "colab_type": "text"
      },
      "source": [
        "<a href=\"https://colab.research.google.com/github/chacha86/pythonai2/blob/main/%EC%84%A0%ED%98%95%ED%9A%8C%EA%B7%80%EB%A5%BC_%EC%9D%B4%EC%9A%A9%ED%95%9C_%EC%A7%91%EA%B0%92_%EC%98%88%EC%B8%A1_%EB%AC%B8%EC%A0%9C1_%ED%92%80%EC%9D%B43_%ED%95%99%EC%8A%B5%EB%8D%B0%EC%9D%B4%ED%84%B0_%ED%91%9C%EC%A4%80%ED%99%94_%EB%B0%8F_%EC%9D%B8%EC%BD%94%EB%94%A9.ipynb\" target=\"_parent\"><img src=\"https://colab.research.google.com/assets/colab-badge.svg\" alt=\"Open In Colab\"/></a>"
      ]
    },
    {
      "cell_type": "code",
      "execution_count": 16,
      "metadata": {
        "id": "Z-Y_2-le6Vhc"
      },
      "outputs": [],
      "source": [
        "# 데이터 로드\n",
        "import pandas as pd\n",
        "house = pd.read_csv('/content/1553768847-housing.csv')"
      ]
    },
    {
      "cell_type": "code",
      "source": [
        "\n",
        "\n",
        "house\n",
        "house.info()\n",
        "house.describe()\n",
        "\n",
        "\n"
      ],
      "metadata": {
        "id": "-QEY_2Pz6Wka"
      },
      "execution_count": null,
      "outputs": []
    },
    {
      "cell_type": "code",
      "source": [
        "# EDA\n",
        "## 결측치가 많거나 불필요한 컬럼은 걸러내 보자\n",
        "## 상관관계로 필요한거 솎아내보자\n",
        "### 변수가 많으면 좋다 -> 모든 변수를 사용\n",
        "\n",
        "\n",
        "## 이상치가 많아 보이는 컬럼은 체크해두자\n",
        "## 이상치 존재 여부 확인 -> IQR\n",
        "\n",
        "Q1 = house.quantile(0.25)\n",
        "Q3 = house.quantile(0.75)\n",
        "\n",
        "IQR = Q3 - Q1\n",
        "\n",
        "highest = Q3 + IQR * 1.5\n",
        "lowest = Q1 - IQR * 1.5\n",
        "\n",
        "\n",
        "total_rooms_high = highest['total_rooms']\n",
        "total_rooms_low = lowest['total_rooms']\n",
        "house['total_rooms'][(house['total_rooms'] > total_rooms_high) | (house['total_rooms'] < total_rooms_low)]\n",
        "\n",
        "## 위경도를 이용한 산점도 그리기\n",
        "## 집값(median_house_value)과 다른 변수의 상관관계 확인\n",
        "## 위도(longitude) 경도(latitude)를 이용해 산점도로 위치와 집값의 관계 시각적으로 확인"
      ],
      "metadata": {
        "id": "M2UlNe_pJFat"
      },
      "execution_count": null,
      "outputs": []
    },
    {
      "cell_type": "code",
      "source": [],
      "metadata": {
        "id": "UrOOTCvBLYTH"
      },
      "execution_count": null,
      "outputs": []
    },
    {
      "cell_type": "code",
      "source": [
        "# 데이터 전처리\n",
        "## 결측치 처리\n",
        "## 이상치 처리\n",
        "\n",
        "## apply -> 데이터프레임 컬럼/ 로우를 함수에 넘겨서 처리\n",
        "\n",
        "def is_not_outlier(row) :\n",
        "  if row.sum() > 0 : # 이상치\n",
        "    return False\n",
        "  else : # 정상\n",
        "    return True\n",
        "\n",
        "tmp_df = (house > highest) | (house < lowest)\n",
        "normal_idx = tmp_df.apply(is_not_outlier, axis=1)\n",
        "\n",
        "house2 = house.loc[normal_idx]"
      ],
      "metadata": {
        "id": "hX1YzP5DLTmj"
      },
      "execution_count": null,
      "outputs": []
    },
    {
      "cell_type": "code",
      "source": [
        "house3 = house2.dropna()\n",
        "house3.info()"
      ],
      "metadata": {
        "id": "0K8Us7_EOWhh"
      },
      "execution_count": null,
      "outputs": []
    },
    {
      "cell_type": "code",
      "source": [
        "\n",
        "house.corr()\n",
        "\n"
      ],
      "metadata": {
        "id": "nGCwAqy6dVvu"
      },
      "execution_count": null,
      "outputs": []
    },
    {
      "cell_type": "code",
      "source": [
        "house3.columns.values"
      ],
      "metadata": {
        "colab": {
          "base_uri": "https://localhost:8080/"
        },
        "id": "5vtwtCVTS3DJ",
        "outputId": "0ed3202c-1027-4b27-d371-32ad8cd039cb"
      },
      "execution_count": 71,
      "outputs": [
        {
          "output_type": "execute_result",
          "data": {
            "text/plain": [
              "array(['longitude', 'latitude', 'housing_median_age', 'total_rooms',\n",
              "       'total_bedrooms', 'population', 'households', 'median_income',\n",
              "       'ocean_proximity', 'median_house_value'], dtype=object)"
            ]
          },
          "metadata": {},
          "execution_count": 71
        }
      ]
    },
    {
      "cell_type": "code",
      "source": [
        "house3.info()\n",
        "\n",
        "house3_num = house3.drop(['ocean_proximity','median_house_value'], axis=1)\n",
        "house3_cate = house3[['ocean_proximity']]\n",
        "house3_target = house3['median_house_value']\n"
      ],
      "metadata": {
        "id": "cc4Pi2v8RiN3"
      },
      "execution_count": null,
      "outputs": []
    },
    {
      "cell_type": "code",
      "source": [
        "house3_num\n",
        "house3_cate\n",
        "house3_target\n",
        "## 수치형 데이터\n",
        "### 표준화\n",
        "from sklearn.preprocessing import StandardScaler\n",
        "\n",
        "ss = StandardScaler()\n",
        "\n",
        "ss.fit(house3_num)\n",
        "\n",
        "s_house_num = ss.transform(house3_num)\n",
        "\n",
        "\n",
        "s_house_num_df = pd.DataFrame(s_house_num, columns=house3_num.columns.values)\n",
        "\n",
        "# pd.DataFrame(s_house_num, columns=['longitude', 'latitude', 'housing_median_age',])\n",
        "\n",
        "s_house_num_df"
      ],
      "metadata": {
        "id": "a3Ge8pv0SCHQ"
      },
      "execution_count": null,
      "outputs": []
    },
    {
      "cell_type": "code",
      "source": [
        "## 범주형 데이터\n",
        "house_cate_1hot = pd.get_dummies(house3_cate)\n",
        "### 원핫인코딩\n",
        "\n",
        "house_cate_1hot"
      ],
      "metadata": {
        "id": "f0t1Fw-rUrXj"
      },
      "execution_count": null,
      "outputs": []
    },
    {
      "cell_type": "code",
      "source": [
        "## 범주형 데이터와 수치형 데이터 합치기"
      ],
      "metadata": {
        "id": "_jfxMmQrVHyA"
      },
      "execution_count": 95,
      "outputs": []
    },
    {
      "cell_type": "code",
      "source": [
        "# house3_num\n",
        "# s_house_num_df\n",
        "\n",
        "\n"
      ],
      "metadata": {
        "id": "y60J_up4VQdd"
      },
      "execution_count": null,
      "outputs": []
    },
    {
      "cell_type": "code",
      "source": [
        "\n",
        "\n",
        "target = house3_target\n",
        "train = pd.concat([s_house_num_df, house_cate_1hot.reset_index(drop=True)], axis=1)\n",
        "\n",
        "from sklearn.model_selection import train_test_split\n",
        "\n",
        "trd, tsd, trt, tst = train_test_split(train, target, train_size=0.8, random_state=42) # 학습용데이터는 꼭 2차원으로\n"
      ],
      "metadata": {
        "id": "b-4O9_IP6Wmd"
      },
      "execution_count": 97,
      "outputs": []
    },
    {
      "cell_type": "code",
      "source": [
        "# 학습\n",
        "## 선형회귀를 이용하여 모델 학습\n",
        "from sklearn.linear_model import LinearRegression\n",
        "\n",
        "lr = LinearRegression()\n",
        "lr.fit(trd, trt)\n",
        "\n",
        "\n",
        "\n",
        "\n"
      ],
      "metadata": {
        "id": "8k84Kj3C6Woh"
      },
      "execution_count": null,
      "outputs": []
    },
    {
      "cell_type": "code",
      "source": [
        "# 평가\n",
        "## 학습한 모델을 평가하기 -> 과소적합\n",
        "print(lr.score(trd, trt), lr.score(tsd, tst))"
      ],
      "metadata": {
        "id": "unmGW5l37CCW",
        "colab": {
          "base_uri": "https://localhost:8080/"
        },
        "outputId": "e8f85d25-2c1a-4989-a457-189638ddf7f7"
      },
      "execution_count": 13,
      "outputs": [
        {
          "output_type": "stream",
          "name": "stdout",
          "text": [
            "0.4769927345820525 0.45885918903846656\n"
          ]
        }
      ]
    },
    {
      "cell_type": "code",
      "source": [
        "# 예측\n",
        "house.describe()['median_income']\n",
        "\n",
        "lr.predict([[4]])"
      ],
      "metadata": {
        "id": "kOJT2M-9e6kT"
      },
      "execution_count": null,
      "outputs": []
    },
    {
      "cell_type": "code",
      "source": [
        "from sklearn.linear_model import LinearRegression\n",
        "\n",
        "lr2 = LinearRegression()\n",
        "lr2.fit(trd, trt)\n"
      ],
      "metadata": {
        "id": "O8UQH_fAfJza",
        "colab": {
          "base_uri": "https://localhost:8080/",
          "height": 74
        },
        "outputId": "ae1b463d-f9f9-4e4d-d2b4-9c9d41bdff79"
      },
      "execution_count": 98,
      "outputs": [
        {
          "output_type": "execute_result",
          "data": {
            "text/plain": [
              "LinearRegression()"
            ],
            "text/html": [
              "<style>#sk-container-id-4 {color: black;background-color: white;}#sk-container-id-4 pre{padding: 0;}#sk-container-id-4 div.sk-toggleable {background-color: white;}#sk-container-id-4 label.sk-toggleable__label {cursor: pointer;display: block;width: 100%;margin-bottom: 0;padding: 0.3em;box-sizing: border-box;text-align: center;}#sk-container-id-4 label.sk-toggleable__label-arrow:before {content: \"▸\";float: left;margin-right: 0.25em;color: #696969;}#sk-container-id-4 label.sk-toggleable__label-arrow:hover:before {color: black;}#sk-container-id-4 div.sk-estimator:hover label.sk-toggleable__label-arrow:before {color: black;}#sk-container-id-4 div.sk-toggleable__content {max-height: 0;max-width: 0;overflow: hidden;text-align: left;background-color: #f0f8ff;}#sk-container-id-4 div.sk-toggleable__content pre {margin: 0.2em;color: black;border-radius: 0.25em;background-color: #f0f8ff;}#sk-container-id-4 input.sk-toggleable__control:checked~div.sk-toggleable__content {max-height: 200px;max-width: 100%;overflow: auto;}#sk-container-id-4 input.sk-toggleable__control:checked~label.sk-toggleable__label-arrow:before {content: \"▾\";}#sk-container-id-4 div.sk-estimator input.sk-toggleable__control:checked~label.sk-toggleable__label {background-color: #d4ebff;}#sk-container-id-4 div.sk-label input.sk-toggleable__control:checked~label.sk-toggleable__label {background-color: #d4ebff;}#sk-container-id-4 input.sk-hidden--visually {border: 0;clip: rect(1px 1px 1px 1px);clip: rect(1px, 1px, 1px, 1px);height: 1px;margin: -1px;overflow: hidden;padding: 0;position: absolute;width: 1px;}#sk-container-id-4 div.sk-estimator {font-family: monospace;background-color: #f0f8ff;border: 1px dotted black;border-radius: 0.25em;box-sizing: border-box;margin-bottom: 0.5em;}#sk-container-id-4 div.sk-estimator:hover {background-color: #d4ebff;}#sk-container-id-4 div.sk-parallel-item::after {content: \"\";width: 100%;border-bottom: 1px solid gray;flex-grow: 1;}#sk-container-id-4 div.sk-label:hover label.sk-toggleable__label {background-color: #d4ebff;}#sk-container-id-4 div.sk-serial::before {content: \"\";position: absolute;border-left: 1px solid gray;box-sizing: border-box;top: 0;bottom: 0;left: 50%;z-index: 0;}#sk-container-id-4 div.sk-serial {display: flex;flex-direction: column;align-items: center;background-color: white;padding-right: 0.2em;padding-left: 0.2em;position: relative;}#sk-container-id-4 div.sk-item {position: relative;z-index: 1;}#sk-container-id-4 div.sk-parallel {display: flex;align-items: stretch;justify-content: center;background-color: white;position: relative;}#sk-container-id-4 div.sk-item::before, #sk-container-id-4 div.sk-parallel-item::before {content: \"\";position: absolute;border-left: 1px solid gray;box-sizing: border-box;top: 0;bottom: 0;left: 50%;z-index: -1;}#sk-container-id-4 div.sk-parallel-item {display: flex;flex-direction: column;z-index: 1;position: relative;background-color: white;}#sk-container-id-4 div.sk-parallel-item:first-child::after {align-self: flex-end;width: 50%;}#sk-container-id-4 div.sk-parallel-item:last-child::after {align-self: flex-start;width: 50%;}#sk-container-id-4 div.sk-parallel-item:only-child::after {width: 0;}#sk-container-id-4 div.sk-dashed-wrapped {border: 1px dashed gray;margin: 0 0.4em 0.5em 0.4em;box-sizing: border-box;padding-bottom: 0.4em;background-color: white;}#sk-container-id-4 div.sk-label label {font-family: monospace;font-weight: bold;display: inline-block;line-height: 1.2em;}#sk-container-id-4 div.sk-label-container {text-align: center;}#sk-container-id-4 div.sk-container {/* jupyter's `normalize.less` sets `[hidden] { display: none; }` but bootstrap.min.css set `[hidden] { display: none !important; }` so we also need the `!important` here to be able to override the default hidden behavior on the sphinx rendered scikit-learn.org. See: https://github.com/scikit-learn/scikit-learn/issues/21755 */display: inline-block !important;position: relative;}#sk-container-id-4 div.sk-text-repr-fallback {display: none;}</style><div id=\"sk-container-id-4\" class=\"sk-top-container\"><div class=\"sk-text-repr-fallback\"><pre>LinearRegression()</pre><b>In a Jupyter environment, please rerun this cell to show the HTML representation or trust the notebook. <br />On GitHub, the HTML representation is unable to render, please try loading this page with nbviewer.org.</b></div><div class=\"sk-container\" hidden><div class=\"sk-item\"><div class=\"sk-estimator sk-toggleable\"><input class=\"sk-toggleable__control sk-hidden--visually\" id=\"sk-estimator-id-4\" type=\"checkbox\" checked><label for=\"sk-estimator-id-4\" class=\"sk-toggleable__label sk-toggleable__label-arrow\">LinearRegression</label><div class=\"sk-toggleable__content\"><pre>LinearRegression()</pre></div></div></div></div></div>"
            ]
          },
          "metadata": {},
          "execution_count": 98
        }
      ]
    },
    {
      "cell_type": "code",
      "source": [
        "print(lr2.score(trd, trt), lr2.score(tsd, tst))"
      ],
      "metadata": {
        "colab": {
          "base_uri": "https://localhost:8080/"
        },
        "id": "320QMMSIWRBn",
        "outputId": "4318f643-0fdf-4175-fb62-74d81afe7e39"
      },
      "execution_count": 99,
      "outputs": [
        {
          "output_type": "stream",
          "name": "stdout",
          "text": [
            "0.6258484927545838 0.6150749466616217\n"
          ]
        }
      ]
    },
    {
      "cell_type": "code",
      "source": [
        "## 피처 엔지니어링\n",
        "house.columns.values\n",
        "\n",
        "## 하이퍼 파라미터 튜닝"
      ],
      "metadata": {
        "colab": {
          "base_uri": "https://localhost:8080/"
        },
        "id": "qeX8PzMqWVTo",
        "outputId": "852ca415-c0b2-41c4-bc1b-8a31eb9a8c83"
      },
      "execution_count": 100,
      "outputs": [
        {
          "output_type": "execute_result",
          "data": {
            "text/plain": [
              "array(['longitude', 'latitude', 'housing_median_age', 'total_rooms',\n",
              "       'total_bedrooms', 'population', 'households', 'median_income',\n",
              "       'ocean_proximity', 'median_house_value'], dtype=object)"
            ]
          },
          "metadata": {},
          "execution_count": 100
        }
      ]
    },
    {
      "cell_type": "code",
      "source": [
        "## 다른 알고리즘 고민"
      ],
      "metadata": {
        "id": "eDV_zSLQW3dc"
      },
      "execution_count": null,
      "outputs": []
    }
  ]
}