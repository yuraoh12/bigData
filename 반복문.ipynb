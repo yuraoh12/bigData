{
  "nbformat": 4,
  "nbformat_minor": 0,
  "metadata": {
    "colab": {
      "name": "반복문.ipynb",
      "provenance": [],
      "collapsed_sections": [],
      "authorship_tag": "ABX9TyMYP7TuGVOy6Z8LnQtqFGNl",
      "include_colab_link": true
    },
    "kernelspec": {
      "name": "python3",
      "display_name": "Python 3"
    },
    "language_info": {
      "name": "python"
    }
  },
  "cells": [
    {
      "cell_type": "markdown",
      "metadata": {
        "id": "view-in-github",
        "colab_type": "text"
      },
      "source": [
        "<a href=\"https://colab.research.google.com/github/chacha86/bigData1/blob/main/%EB%B0%98%EB%B3%B5%EB%AC%B8.ipynb\" target=\"_parent\"><img src=\"https://colab.research.google.com/assets/colab-badge.svg\" alt=\"Open In Colab\"/></a>"
      ]
    },
    {
      "cell_type": "code",
      "source": [
        "a = 0\n",
        "a = a + 1 # 1증가.\n",
        "\n",
        "# 복합대입연산자 -> 자기 자신한테 가하는 연산\n",
        "#a += 1\n",
        "a = a + 1\n",
        "a = a + 1\n",
        "a += 1\n",
        "\n",
        "a -= 1\n",
        "a -= 1\n",
        "\n",
        "a *= 2\n",
        "a *= 2\n",
        "\n",
        "a //= 2\n",
        "a"
      ],
      "metadata": {
        "colab": {
          "base_uri": "https://localhost:8080/"
        },
        "id": "KFFZrxQlNX5Y",
        "outputId": "9d5136d3-b9f4-4aba-b78a-58dc2cb36ccc"
      },
      "execution_count": 12,
      "outputs": [
        {
          "output_type": "execute_result",
          "data": {
            "text/plain": [
              "4"
            ]
          },
          "metadata": {},
          "execution_count": 12
        }
      ]
    },
    {
      "cell_type": "code",
      "execution_count": 15,
      "metadata": {
        "colab": {
          "base_uri": "https://localhost:8080/"
        },
        "id": "REew3W4_Lk-q",
        "outputId": "0965b15c-3486-4364-e815-31cfbca841da"
      },
      "outputs": [
        {
          "output_type": "stream",
          "name": "stdout",
          "text": [
            "hello\n",
            "hello\n",
            "hello\n",
            "hello\n",
            "hello\n"
          ]
        }
      ],
      "source": [
        "# 자료형, 변수, 조건문, 반복문 -> 생각하는 모든 것을 표현 가능. 4대 요소\n",
        "\n",
        "\n",
        "a = 0 # 반복 조건 변수\n",
        "\n",
        "while a < 5 : # a가 5보다 크거나 작아지면 반복 종료\n",
        "  print('hello')\n",
        "  a += 1 # a가 1씩 증가\n",
        "\n"
      ]
    }
  ]
}