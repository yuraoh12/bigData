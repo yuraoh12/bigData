{
  "nbformat": 4,
  "nbformat_minor": 0,
  "metadata": {
    "colab": {
      "name": "class 예제 코드.ipynb",
      "provenance": [],
      "authorship_tag": "ABX9TyOhQej88LPxJvsqce5tLgdx",
      "include_colab_link": true
    },
    "kernelspec": {
      "name": "python3",
      "display_name": "Python 3"
    },
    "language_info": {
      "name": "python"
    }
  },
  "cells": [
    {
      "cell_type": "markdown",
      "metadata": {
        "id": "view-in-github",
        "colab_type": "text"
      },
      "source": [
        "<a href=\"https://colab.research.google.com/github/chacha86/bigData1/blob/main/class_%EC%98%88%EC%A0%9C_%EC%BD%94%EB%93%9C.ipynb\" target=\"_parent\"><img src=\"https://colab.research.google.com/assets/colab-badge.svg\" alt=\"Open In Colab\"/></a>"
      ]
    },
    {
      "cell_type": "code",
      "execution_count": null,
      "metadata": {
        "id": "Vy7RRmY-gZTB"
      },
      "outputs": [],
      "source": [
        "class Person :\n",
        "    \n",
        "    # 생성자\n",
        "    # 복사본들의 데이터를 세팅해주는 함수\n",
        "    # 함수명은 반드시 __init__\n",
        "    # self는 함수를 수행하는 객체(복사본)을 의미한다.\n",
        "    def __init__(self, age, name) :\n",
        "        self.age = age\n",
        "        self.name = name\n",
        "        \n",
        "    def intro(self) :\n",
        "        print(f'{self.age}살 {self.name}입니다' )    \n",
        "\n",
        "    def add_age(self) :\n",
        "        self.age += 1\n",
        "\n",
        "    def change_name(self, new_name) :\n",
        "        self.name = new_name\n",
        "\n",
        "\n",
        "\n",
        "p1 = Person(21, '홍길동') # Person 이랑 똑같이 생긴 복사본 만들어주세요. 이때 넘긴 데이터는 해당 class의 __init__ 함수로 넘어간다.\n",
        "p2 = Person(22, '홍길순')\n",
        "# p3 = Person(23, '황진이')\n",
        "p1.change_name(\"홍길준\")\n",
        "p1.intro() # p1.intro(p1) 자신의 데이터를 기본적으로 인자로 넘긴다. 이는 생략 가능하다.\n",
        "p2.intro()\n",
        "\n",
        "\n",
        "\n"
      ]
    }
  ]
}