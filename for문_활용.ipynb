{
  "nbformat": 4,
  "nbformat_minor": 0,
  "metadata": {
    "colab": {
      "name": "for문 활용.ipynb",
      "provenance": [],
      "collapsed_sections": [],
      "authorship_tag": "ABX9TyOlDY1FXA+f578etfA3BGAU",
      "include_colab_link": true
    },
    "kernelspec": {
      "name": "python3",
      "display_name": "Python 3"
    },
    "language_info": {
      "name": "python"
    }
  },
  "cells": [
    {
      "cell_type": "markdown",
      "metadata": {
        "id": "view-in-github",
        "colab_type": "text"
      },
      "source": [
        "<a href=\"https://colab.research.google.com/github/chacha86/bigData1/blob/main/for%EB%AC%B8_%ED%99%9C%EC%9A%A9.ipynb\" target=\"_parent\"><img src=\"https://colab.research.google.com/assets/colab-badge.svg\" alt=\"Open In Colab\"/></a>"
      ]
    },
    {
      "cell_type": "code",
      "execution_count": null,
      "metadata": {
        "id": "KDtDWPWRTzxv"
      },
      "outputs": [],
      "source": [
        "\n",
        "# 순서를 가지고 데이터를 여러개 저장\n",
        "[1,2,3,4,5,6,7,8,9,10] # 리스트()\n",
        "(1,2,3,4,5,6,7,8,9,10) # 튜플(수정X)\n",
        "{1,2,3,4,5,6,7,8,9,10} # 세트(중복X)\n",
        "\n",
        "# for 반복문 - 리스트랑 같이 쓰임\n",
        "\n",
        "for aa in [\"hello\", \"hi\", \"bye\", 1, 1.2, True] :\n",
        "  print(aa)\n",
        "\n",
        "# range(시작, 끝, 간격)\n",
        "for num in range(1, 101,):\n",
        "  print(num)\n",
        "\n",
        "for num in range(100, 201, 2):\n",
        "  print(num)\n"
      ]
    },
    {
      "cell_type": "code",
      "source": [
        "\"2 X 1 = \"\n",
        "\"2 X 2 = {}\".format(2 * 2)\n",
        "\n",
        "dan = 2\n",
        "for gop in range(1, 10, 1) :\n",
        "  print(f\"{dan} X {gop} = {dan*gop}\")\n",
        "\n",
        "# for문으로 구구단 2 ~ 9 단"
      ],
      "metadata": {
        "colab": {
          "base_uri": "https://localhost:8080/"
        },
        "id": "fjPWUXwfXNwB",
        "outputId": "0f006f8b-f170-4d23-dc2c-3907c4fe0d82"
      },
      "execution_count": 18,
      "outputs": [
        {
          "output_type": "stream",
          "name": "stdout",
          "text": [
            "2 X 1 = 2\n",
            "2 X 2 = 4\n",
            "2 X 3 = 6\n",
            "2 X 4 = 8\n",
            "2 X 5 = 10\n",
            "2 X 6 = 12\n",
            "2 X 7 = 14\n",
            "2 X 8 = 16\n",
            "2 X 9 = 18\n"
          ]
        }
      ]
    }
  ]
}