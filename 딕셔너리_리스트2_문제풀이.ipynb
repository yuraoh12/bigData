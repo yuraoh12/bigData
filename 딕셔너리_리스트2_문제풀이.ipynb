{
  "nbformat": 4,
  "nbformat_minor": 0,
  "metadata": {
    "colab": {
      "name": "딕셔너리 리스트2 문제풀이.ipynb",
      "provenance": [],
      "collapsed_sections": [],
      "authorship_tag": "ABX9TyPekjVkUkJfd/Mk0uwwtRl8",
      "include_colab_link": true
    },
    "kernelspec": {
      "name": "python3",
      "display_name": "Python 3"
    },
    "language_info": {
      "name": "python"
    }
  },
  "cells": [
    {
      "cell_type": "markdown",
      "metadata": {
        "id": "view-in-github",
        "colab_type": "text"
      },
      "source": [
        "<a href=\"https://colab.research.google.com/github/chacha86/bigData1/blob/main/%EB%94%95%EC%85%94%EB%84%88%EB%A6%AC_%EB%A6%AC%EC%8A%A4%ED%8A%B82_%EB%AC%B8%EC%A0%9C%ED%92%80%EC%9D%B4.ipynb\" target=\"_parent\"><img src=\"https://colab.research.google.com/assets/colab-badge.svg\" alt=\"Open In Colab\"/></a>"
      ]
    },
    {
      "cell_type": "code",
      "execution_count": 26,
      "metadata": {
        "colab": {
          "base_uri": "https://localhost:8080/"
        },
        "id": "M0ca0Xdt2j7O",
        "outputId": "a93b887f-f052-4a42-cb17-ce973dd68c98"
      },
      "outputs": [
        {
          "output_type": "stream",
          "name": "stdout",
          "text": [
            "hong123\n",
            "sony7\n",
            "ryu99\n",
            "홍길동\n",
            "[{'아이디': 'hong123', '비밀번호': 3333, '이름': '홍길동'}, {'아이디': 'sony7', '비밀번호': '7777', '이름': '손흥민'}, {'아이디': 'ryu99', '비밀번호': '9999', '이름': '류현진'}]\n",
            "[{'아이디': 'hong123', '비밀번호': 3333, '이름': '홍길동'}, {'아이디': 'sony7', '비밀번호': '7777', '이름': '손흥민'}, {'아이디': 'ryu99', '비밀번호': '9999', '이름': '류현진'}, {'아이디': 'chacha', '비밀번호': 'c123', '이름': '차태진'}]\n",
            "이미 존재하는 아이디입니다.\n",
            "[{'아이디': 'hong123', '비밀번호': 3333, '이름': '홍길동'}, {'아이디': 'sony7', '비밀번호': '7777', '이름': '손흥민'}, {'아이디': 'ryu99', '비밀번호': '9999', '이름': '류현진'}, {'아이디': 'chacha', '비밀번호': 'c123', '이름': '차태진'}]\n"
          ]
        }
      ],
      "source": [
        "# 딕셔너리 리스트를 이용해 유저정보를 출력해주세요.\n",
        "user1 = {\"아이디\" : \"hong123\", \"비밀번호\" : \"1234\", \"이름\" : \"홍길동\"}\n",
        "user2 = {\"아이디\" : \"sony7\"  , \"비밀번호\" : \"7777\", \"이름\" : \"손흥민\"}\n",
        "user3 = {\"아이디\" : \"ryu99\"  , \"비밀번호\" : \"9999\", \"이름\" : \"류현진\"}\n",
        "\n",
        "user_list = [user1, user2, user3]\n",
        "\n",
        "\n",
        "# 모든 회원 아이디를 출력\n",
        "# 출력 :\n",
        "'''\n",
        "hong123\n",
        "sony7\n",
        "ryu99\n",
        "'''\n",
        "\n",
        "for user in user_list :\n",
        "  print(user[\"아이디\"])\n",
        "\n",
        "# hong123 아이디를 가진 회원의 이름 출력\n",
        "# 출력 : 홍길동\n",
        "for user in user_list :\n",
        "  if user[\"아이디\"] == \"hong123\" :\n",
        "    print(user[\"이름\"])\n",
        "\n",
        "\n",
        "# hong123 아이디를 가진 회원의 비밀번호를 3333으로 수정 후 모든 회원 정보 출력\n",
        "# 출력 : 홍길동의 비밀번호가 3333으로 수정되어 출력되어야 함\n",
        "for user in user_list :\n",
        "  if user[\"아이디\"] == \"hong123\" :\n",
        "    user[\"비밀번호\"] = 3333\n",
        "\n",
        "print(user_list)\n",
        "\n",
        "\n",
        "# 아이디가 chacha, 이름 차태진, 비밀번호 c123인 회원을 추가\n",
        "new_user = {\"아이디\" : \"chacha\", \"비밀번호\" : \"c123\", \"이름\" : \"차태진\"}\n",
        "user_list.append(new_user)\n",
        "\n",
        "print(user_list)\n",
        "\n",
        "# 아이디가 hong123, 이름 홍길순, 비밀번호 h1234 인 회원추가\n",
        "# 아이디가 중복될 시 추가 거부.\n",
        "new_user2 = {\"아이디\" : \"hong123\", \"비밀번호\" : \"h1234\", \"이름\" : \"홍길순\"}\n",
        "\n",
        "exist_flag = 0\n",
        "\n",
        "for user in user_list :\n",
        "  if user[\"아이디\"] == new_user2[\"아이디\"] :\n",
        "    exist_flag = 1\n",
        "    print(\"이미 존재하는 아이디입니다.\")\n",
        "    break\n",
        "\n",
        "if exist_flag == 0:\n",
        "  user_list.append(new_user2)\n",
        "\n",
        "print(user_list)\n",
        "# 모든 회원 정보를 출력 포맷\n",
        "# 출력 :"
      ]
    },
    {
      "cell_type": "code",
      "source": [
        "for i in range(5) :\n",
        "  for j in range(1, 4) :\n",
        "    print(j, end=\" \")\n",
        "    if j == 2 :\n",
        "      break\n",
        "  \n",
        "  if i == 3 :\n",
        "    break\n",
        "  print()\n",
        "\n",
        "\n",
        "print(\"반복문 끝\")"
      ],
      "metadata": {
        "colab": {
          "base_uri": "https://localhost:8080/"
        },
        "id": "Iafe5Xk95LMC",
        "outputId": "0073872b-4a1e-4cb7-c9fa-7680df399768"
      },
      "execution_count": 23,
      "outputs": [
        {
          "output_type": "stream",
          "name": "stdout",
          "text": [
            "1 2 \n",
            "1 2 \n",
            "1 2 \n",
            "1 2 반복문 끝\n"
          ]
        }
      ]
    },
    {
      "cell_type": "code",
      "source": [
        ""
      ],
      "metadata": {
        "id": "9Q7noEkV5K9p"
      },
      "execution_count": null,
      "outputs": []
    },
    {
      "cell_type": "code",
      "source": [
        ""
      ],
      "metadata": {
        "id": "2SQkaTwU3-qv"
      },
      "execution_count": null,
      "outputs": []
    }
  ]
}