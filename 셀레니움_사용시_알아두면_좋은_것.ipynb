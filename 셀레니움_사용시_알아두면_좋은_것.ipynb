{
  "nbformat": 4,
  "nbformat_minor": 0,
  "metadata": {
    "colab": {
      "provenance": [],
      "authorship_tag": "ABX9TyMhqxJOrkhJ6jbnhX4s5aX5",
      "include_colab_link": true
    },
    "kernelspec": {
      "name": "python3",
      "display_name": "Python 3"
    },
    "language_info": {
      "name": "python"
    }
  },
  "cells": [
    {
      "cell_type": "markdown",
      "metadata": {
        "id": "view-in-github",
        "colab_type": "text"
      },
      "source": [
        "<a href=\"https://colab.research.google.com/github/chacha86/pythonai2/blob/main/%EC%85%80%EB%A0%88%EB%8B%88%EC%9B%80_%EC%82%AC%EC%9A%A9%EC%8B%9C_%EC%95%8C%EC%95%84%EB%91%90%EB%A9%B4_%EC%A2%8B%EC%9D%80_%EA%B2%83.ipynb\" target=\"_parent\"><img src=\"https://colab.research.google.com/assets/colab-badge.svg\" alt=\"Open In Colab\"/></a>"
      ]
    },
    {
      "cell_type": "code",
      "execution_count": null,
      "metadata": {
        "id": "fdA7XHGon2M-"
      },
      "outputs": [],
      "source": [
        "# 1. CSS 셀렉터 사용하는 법\n",
        "title = driver.find_element(By.CSS_SELECTOR, \".as_thumb .list_content .list_title\")"
      ]
    },
    {
      "cell_type": "code",
      "source": [
        "# 2. 대기하는 법\n",
        "## 2.1 암묵적 대기(implicit wait)\n",
        "driver.implicitly_wait(10) # 최대 10초 대기. 그전에 찾으면 넘어감\n",
        "\n",
        "## 2.2 명시적 대기(explicit wait)\n",
        "from selenium.webdriver.support.wait import WebDriverWait\n",
        "from selenium.webdriver.support import expected_conditions as EC\n",
        "\n",
        "element = WebDriverWait(driver, 10).until(\n",
        "    EC.presence_of_element_located((By.CLASS_NAME, \"u_cbox_chart_cont\"))\n",
        ") # 최대 10초 대기. 조건을 만족하면 넘어감.\n",
        "\n",
        "# 유연한 사용을 위해서는 명시적 대기가 권장됨\n",
        "\n"
      ],
      "metadata": {
        "id": "3BmfPoYroAh6"
      },
      "execution_count": null,
      "outputs": []
    },
    {
      "cell_type": "code",
      "source": [
        "# 3. 스크랩 대상을 찾지 못해 에러가 날 경우 프로그램 강제 종료 될 수 있으므로\n",
        "try :\n",
        "  # 스크랩 코드\n",
        "except:\n",
        "  # 예외 코드\n",
        "\n",
        "# 위 방식을 이용해 건너 뛰는 테크닉 유용."
      ],
      "metadata": {
        "id": "SidWAqyAoV5O"
      },
      "execution_count": null,
      "outputs": []
    },
    {
      "cell_type": "code",
      "source": [
        "## try를 하지 않았을 때 -> 2에서 에러나면 프로그램 종료\n",
        "for i in range(5) :\n",
        "  if i == 2 :\n",
        "    raise Exception(\"예외\")\n",
        "  print(i)\n"
      ],
      "metadata": {
        "id": "YyrKulL3olZa"
      },
      "execution_count": null,
      "outputs": []
    },
    {
      "cell_type": "code",
      "source": [
        "## try를 했을 때 -> 에러가 나는 2는 건너뛰고 3,4 진행\n",
        "for i in range(5) :\n",
        "  try :\n",
        "    if i == 2 :\n",
        "      raise Exception(\"예외\")\n",
        "    print(i)\n",
        "  except:\n",
        "    pass"
      ],
      "metadata": {
        "colab": {
          "base_uri": "https://localhost:8080/"
        },
        "id": "eJOcqglLoxAY",
        "outputId": "51dbdce5-f639-4de2-bfec-60fff0853ed7"
      },
      "execution_count": null,
      "outputs": [
        {
          "output_type": "stream",
          "name": "stdout",
          "text": [
            "0\n",
            "1\n",
            "3\n",
            "4\n"
          ]
        }
      ]
    },
    {
      "cell_type": "code",
      "source": [],
      "metadata": {
        "id": "JlmPQXI5pD3N"
      },
      "execution_count": null,
      "outputs": []
    }
  ]
}