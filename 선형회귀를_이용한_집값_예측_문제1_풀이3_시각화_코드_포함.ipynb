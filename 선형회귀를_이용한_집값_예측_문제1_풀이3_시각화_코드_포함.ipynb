{
  "nbformat": 4,
  "nbformat_minor": 0,
  "metadata": {
    "colab": {
      "provenance": [],
      "authorship_tag": "ABX9TyNpYhBmLgkv/I5nKa08SM8e",
      "include_colab_link": true
    },
    "kernelspec": {
      "name": "python3",
      "display_name": "Python 3"
    },
    "language_info": {
      "name": "python"
    }
  },
  "cells": [
    {
      "cell_type": "markdown",
      "metadata": {
        "id": "view-in-github",
        "colab_type": "text"
      },
      "source": [
        "<a href=\"https://colab.research.google.com/github/chacha86/pythonai2/blob/main/%EC%84%A0%ED%98%95%ED%9A%8C%EA%B7%80%EB%A5%BC_%EC%9D%B4%EC%9A%A9%ED%95%9C_%EC%A7%91%EA%B0%92_%EC%98%88%EC%B8%A1_%EB%AC%B8%EC%A0%9C1_%ED%92%80%EC%9D%B43_%EC%8B%9C%EA%B0%81%ED%99%94_%EC%BD%94%EB%93%9C_%ED%8F%AC%ED%95%A8.ipynb\" target=\"_parent\"><img src=\"https://colab.research.google.com/assets/colab-badge.svg\" alt=\"Open In Colab\"/></a>"
      ]
    },
    {
      "cell_type": "code",
      "execution_count": null,
      "metadata": {
        "id": "Z-Y_2-le6Vhc"
      },
      "outputs": [],
      "source": [
        "# 데이터 로드\n",
        "import pandas as pd\n",
        "house = pd.read_csv('/content/1553768847-housing.csv')"
      ]
    },
    {
      "cell_type": "code",
      "source": [
        "\n",
        "# 데이터 훑어보기\n",
        "\n",
        "house\n",
        "house.info() # 데이터의 개수, 결측치 및 데이터 타입 확인\n",
        "house.describe() # 수치형 데이터의 기초 통계자료 확인\n"
      ],
      "metadata": {
        "id": "-QEY_2Pz6Wka"
      },
      "execution_count": null,
      "outputs": []
    },
    {
      "cell_type": "code",
      "source": [
        "# EDA\n",
        "## 이상치 존재 여부 확인 및 처리 -> IQR 방식으로\n",
        "##   -> IQR로 계산된 상한선과 하한선을 벗어난 데이터를 이상치로 처리하는 방법\n",
        "\n",
        "Q1 = house.quantile(0.25) # 1분위 값\n",
        "Q3 = house.quantile(0.75) # 3분위 값\n",
        "\n",
        "IQR = Q3 - Q1 # IQR 계산\n",
        "\n",
        "highest = Q3 + IQR * 1.5 # 상한선 계산\n",
        "lowest = Q1 - IQR * 1.5 # 하한선 계산\n",
        "\n",
        "## 아래와 같은 방식은 컬럼의 개수가 많아지면 힘들어질 수 있다.\n",
        "total_rooms_high = highest['total_rooms']\n",
        "total_rooms_low = lowest['total_rooms']\n",
        "house['total_rooms'][(house['total_rooms'] > total_rooms_high) | (house['total_rooms'] < total_rooms_low)]\n"
      ],
      "metadata": {
        "id": "M2UlNe_pJFat"
      },
      "execution_count": null,
      "outputs": []
    },
    {
      "cell_type": "code",
      "source": [
        "## pandas의 apply를 이용하여 쉽게 결측치를 제거할 수 있음.\n",
        "## apply -> 데이터프레임 컬럼/ 로우를 함수에 넘겨서 처리\n",
        "\n",
        "\n",
        "## 로우의 이상치 여부 판별 함수\n",
        "def is_not_outlier(row) :\n",
        "  if row.sum() > 0 : # 이상치\n",
        "    return False\n",
        "  else : # 정상\n",
        "    return True\n",
        "\n",
        "tmp_df = (house > highest) | (house < lowest) # 데이터프레임의 값을 이상치 여부로 변환. (이상치는 False, 정상은 True)\n",
        "\n",
        "normal_idx = tmp_df.apply(is_not_outlier, axis=1) # 이상치 여부 판별 함수를 적용하여 정상 데이터의 논리 인덱스만 걸러냄\n",
        "\n",
        "house2 = house.loc[normal_idx] # 논리 인덱싱을 이용해 정상 데이터만 추출"
      ],
      "metadata": {
        "id": "vg0OT-bMajiX"
      },
      "execution_count": null,
      "outputs": []
    },
    {
      "cell_type": "code",
      "source": [],
      "metadata": {
        "id": "hX1YzP5DLTmj"
      },
      "execution_count": null,
      "outputs": []
    },
    {
      "cell_type": "code",
      "source": [
        "## 결측치 처리\n",
        "house3 = house2.dropna()\n",
        "\n",
        "## 결측치 처리 잘 되었는지 확인\n",
        "house3.info()"
      ],
      "metadata": {
        "id": "0K8Us7_EOWhh"
      },
      "execution_count": null,
      "outputs": []
    },
    {
      "cell_type": "code",
      "source": [
        "## 표준화를 진행하기 위한 수치형 데이터와 인코딩을 진행하기 위한 범주형 데이터를 분리\n",
        "house3_num = house3.drop(['ocean_proximity','median_house_value'], axis=1)\n",
        "house3_cate = house3[['ocean_proximity']]\n",
        "\n",
        "## 정답데이터는 표준화하지 않는다.(할 필요가 없다.)\n",
        "house3_target = house3['median_house_value']\n"
      ],
      "metadata": {
        "id": "cc4Pi2v8RiN3"
      },
      "execution_count": null,
      "outputs": []
    },
    {
      "cell_type": "code",
      "source": [
        "## 수치형 데이터\n",
        "### 표준화\n",
        "from sklearn.preprocessing import StandardScaler\n",
        "\n",
        "ss = StandardScaler() # 표준화 변환기 생성\n",
        "\n",
        "ss.fit(house3_num) # 변환기에 수치형 데이터 세팅\n",
        "\n",
        "s_house_num = ss.transform(house3_num) # 변환기의 transform 함수로 표준화 된 데이터 얻기\n",
        "\n",
        "s_house_num_df = pd.DataFrame(s_house_num, columns=house3_num.columns.values) # 변환기는 결과를 numpy array로 돌려주므로 DataFrame으로 변환\n",
        "\n",
        "s_house_num_df # 결과 확인"
      ],
      "metadata": {
        "id": "a3Ge8pv0SCHQ"
      },
      "execution_count": null,
      "outputs": []
    },
    {
      "cell_type": "code",
      "source": [
        "## 범주형 데이터\n",
        "house_cate_1hot = pd.get_dummies(house3_cate) # 범주형 데이터 원핫 인코딩\n",
        "\n",
        "house_cate_1hot # 결과 확인"
      ],
      "metadata": {
        "id": "f0t1Fw-rUrXj"
      },
      "execution_count": null,
      "outputs": []
    },
    {
      "cell_type": "code",
      "source": [
        "## 범주형 데이터와 수치형 데이터 합치기\n",
        "house_cate_1hot = house_cate_1hot.reset_index(drop=True) # 수치형 데이터의 데이터프레임 인덱스가 초기화 됐기 때문에 범주 데이터도 인덱스 초기화 해줘야 concat할 때 정상적으로 붙는다.\n",
        "train = pd.concat([s_house_num_df, house_cate_1hot], axis=1) # 인덱스를 맞춘 수치형 데이터프레임과 범주형 데이터프레임을 좌우로 붙인다. 해당 데이터는 학습데이터로 완성된다.\n",
        "target = house3_target # 학습데이터에 대한 정답 데이터"
      ],
      "metadata": {
        "id": "_jfxMmQrVHyA"
      },
      "execution_count": null,
      "outputs": []
    },
    {
      "cell_type": "code",
      "source": [
        "## 공부용 데이터와 시험용 데이터로 나누기\n",
        "from sklearn.model_selection import train_test_split\n",
        "\n",
        "trd, tsd, trt, tst = train_test_split(train, target, train_size=0.8, random_state=42) # 학습용데이터는 꼭 2차원으로\n"
      ],
      "metadata": {
        "id": "b-4O9_IP6Wmd"
      },
      "execution_count": null,
      "outputs": []
    },
    {
      "cell_type": "code",
      "source": [
        "# 학습\n",
        "## 선형회귀를 이용하여 모델 학습\n",
        "from sklearn.linear_model import LinearRegression\n",
        "\n",
        "lr2 = LinearRegression() # 선형회귀 모델 생성\n",
        "lr2.fit(trd, trt) # 학습"
      ],
      "metadata": {
        "id": "VVv3hQwmdXfl"
      },
      "execution_count": null,
      "outputs": []
    },
    {
      "cell_type": "code",
      "source": [
        "# 평가\n",
        "## 이전 학습했던 lr 모델모다 lr2의 점수가 높아짐을 확인. 이전 모델 평가 결과는 바로 아래 셀에서 확인\n",
        "print(lr2.score(trd, trt), lr2.score(tsd, tst))"
      ],
      "metadata": {
        "id": "USQBouTjdJRq"
      },
      "execution_count": null,
      "outputs": []
    },
    {
      "cell_type": "code",
      "source": [
        "# 이전 median_income으로만 학습했을 때의 결과\n",
        "from sklearn.linear_model import LinearRegression\n",
        "\n",
        "lr = LinearRegression() # 선형회귀 모델 생성\n",
        "lr.fit(trd, trt) # 학습\n",
        "\n",
        "print(lr.score(trd, trt), lr.score(tsd, tst))"
      ],
      "metadata": {
        "id": "unmGW5l37CCW",
        "colab": {
          "base_uri": "https://localhost:8080/"
        },
        "outputId": "e8f85d25-2c1a-4989-a457-189638ddf7f7"
      },
      "execution_count": null,
      "outputs": [
        {
          "output_type": "stream",
          "name": "stdout",
          "text": [
            "0.4769927345820525 0.45885918903846656\n"
          ]
        }
      ]
    },
    {
      "cell_type": "code",
      "source": [
        "## 이후 성능을 더 올리기 위해 할 수 있는 것\n",
        "### 1. 데이터 추가\n",
        "### 2. 추가적인 데이터 처리\n",
        "### 3. 피처 엔지니어링(컬럼 조합, 다항식 적용)\n",
        "### 4. 하이퍼 파라미터 튜닝(알고리즘에 관여하는 파라미터를 조정. 알고리즘 원리를 이해해야 함)\n",
        "### 5. 위 방법으로도 성능이 올라가지 않으면 다른 알고리즘을 고민"
      ],
      "metadata": {
        "id": "qeX8PzMqWVTo"
      },
      "execution_count": null,
      "outputs": []
    },
    {
      "cell_type": "code",
      "source": [
        "## 번외 -> EDA 시각화 관련 코드"
      ],
      "metadata": {
        "id": "eDV_zSLQW3dc"
      },
      "execution_count": null,
      "outputs": []
    },
    {
      "cell_type": "code",
      "source": [
        "### 각 컬럼의 이상치 여부를 시각화하는 코드. 빨간 수직선으로 하한선과 상한선을 표시하고 히스토그램으로 확인\n",
        "import seaborn as sns\n",
        "import matplotlib.pyplot as plt\n",
        "\n",
        "\n",
        "def outlier_point(col) :\n",
        "  q3 = col.quantile(0.75)\n",
        "  q1 = col.quantile(0.25)\n",
        "\n",
        "  iqr = q3 - q1\n",
        "\n",
        "  highest = q3 + iqr * 1.5\n",
        "  lowest = q1 - iqr * 1.5\n",
        "\n",
        "  return (highest, lowest)\n",
        "\n",
        "house.columns.values\n",
        "\n",
        "outliers = house[['housing_median_age', 'total_rooms',\n",
        "       'total_bedrooms', 'population', 'households', 'median_income',\n",
        "       'median_house_value']].apply(outlier_point).rename(index={0:'highest', 1:'lowest'})\n",
        "\n",
        "plt.figure(figsize=(15, 3))\n",
        "fig, ax = plt.subplots(ncols=7, figsize=(20, 3))\n",
        "cols = outliers.columns.values\n",
        "for i in range(7) :\n",
        "  sns.histplot(data=house, x=cols[i], ax=ax[i])\n",
        "  ax[i].vlines(outliers[cols[i]], 0, 1500, color='red', linestyle='solid', linewidth=2)"
      ],
      "metadata": {
        "id": "N0znvRDkeun9"
      },
      "execution_count": null,
      "outputs": []
    },
    {
      "cell_type": "code",
      "source": [
        "## 범주형 데이터인 ocean_aproximity가 집값과 상관관계가 있는지 여부를 확인하는 시각화\n",
        "## 박스가 범주별로 우상향 또는 우하향 하므로 관계가 있다고 보여짐.\n",
        "order = house.groupby('ocean_proximity')['median_house_value'].mean().sort_values(ascending=False).index\n",
        "sns.boxplot(data=house, x='ocean_proximity', y='median_house_value',order=order)"
      ],
      "metadata": {
        "id": "21KRT0SpfEHh"
      },
      "execution_count": null,
      "outputs": []
    }
  ]
}