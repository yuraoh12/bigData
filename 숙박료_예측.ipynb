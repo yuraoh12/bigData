{
  "nbformat": 4,
  "nbformat_minor": 0,
  "metadata": {
    "colab": {
      "provenance": [],
      "authorship_tag": "ABX9TyOoTUhgUzLI8b2zLo+nvLb9",
      "include_colab_link": true
    },
    "kernelspec": {
      "name": "python3",
      "display_name": "Python 3"
    },
    "language_info": {
      "name": "python"
    }
  },
  "cells": [
    {
      "cell_type": "markdown",
      "metadata": {
        "id": "view-in-github",
        "colab_type": "text"
      },
      "source": [
        "<a href=\"https://colab.research.google.com/github/chacha86/pythonai2/blob/main/%EC%88%99%EB%B0%95%EB%A3%8C_%EC%98%88%EC%B8%A1.ipynb\" target=\"_parent\"><img src=\"https://colab.research.google.com/assets/colab-badge.svg\" alt=\"Open In Colab\"/></a>"
      ]
    },
    {
      "cell_type": "code",
      "execution_count": 1,
      "metadata": {
        "id": "Hic85cCVuhgK"
      },
      "outputs": [],
      "source": [
        "# 데이터 설명\n",
        "# id: 일련번호\n",
        "# name: AirBnB 이름\n",
        "# host_id: 호스트 ID\n",
        "# host_name: 호스트 성명\n",
        "# neighbourhood_group: 지구명\n",
        "# neighbourhood : 지역명\n",
        "# latitude: 위도\n",
        "# longitude: 경도\n",
        "# room_type: 방 타입\n",
        "# price: 가격\n",
        "# minimum_nights: 최소 숙박일수\n",
        "# number_of_reviews: 리뷰 개수\n",
        "# last_review: 최근 리뷰 일자\n",
        "# reviews_per_month: 월 평균 리뷰 수\n",
        "# calculated_host_listings_count:  호스트에게 대여 가능한 에어비앤비의 총 개수\n",
        "# availability_365: 1년 중 가능한 대여일\n",
        "\n",
        "\n",
        "# 1. 데이터 로드\n",
        "import pandas as pd\n",
        "\n",
        "df = pd.read_csv('/content/AB_NYC_2019.csv')\n",
        "\n"
      ]
    },
    {
      "cell_type": "code",
      "source": [
        "# 2. 수치형데이터와 price 상관관계\n",
        "df.corr()['price']\n"
      ],
      "metadata": {
        "id": "-gVXE2MswqOi"
      },
      "execution_count": null,
      "outputs": []
    },
    {
      "cell_type": "code",
      "source": [
        "\n",
        "# 3. 범주형 데이터의 price 상관관계\n",
        "## 범주와 수치와 관계 => 막대, 박스\n",
        "## 수치와 수치 => 산점도, 선\n",
        ""
      ],
      "metadata": {
        "id": "PKQa3y7pxDg_"
      },
      "execution_count": null,
      "outputs": []
    },
    {
      "cell_type": "code",
      "source": [
        "# 4. 불필요해 보이는 컬럼 삭제"
      ],
      "metadata": {
        "id": "Ob_3BaODxEcd"
      },
      "execution_count": null,
      "outputs": []
    },
    {
      "cell_type": "code",
      "source": [
        "\n",
        "# 5.데이터 클리닝\n",
        "## 이상치 제거\n",
        "## 결측치 제거"
      ],
      "metadata": {
        "id": "q7QKb4_uxFap"
      },
      "execution_count": null,
      "outputs": []
    },
    {
      "cell_type": "code",
      "source": [
        "\n",
        "# 6. 데이터 전처리\n",
        "## 범주형 데이터 ont-hot 인코딩\n",
        "## 수치형 데이터 표준화\n",
        "\n",
        "\n",
        "### 문자형 숫자형 나누기\n",
        "train_cate = train.select_dtypes(include=['object'])\n",
        "train_num = train.select_dtypes(include=['int64', 'float64'])\n",
        "# train_num = train.droptrain_cate(train_cate.columns.values, axis=1)\n",
        "\n",
        "\n",
        "### 원핫-인코딩\n",
        "### 범주가 너무 많아서 -> 연산이 오래 걸리고, 차원이 엄청 늘어남\n",
        "train_cate_1hot = pd.get_dummies(train_cate)\n",
        "train_cate_1hot.shape # 컬럼(특성)의 개수가 6만개까지 늘어나서 차원의 저주에 빠지게 됨\n"
      ],
      "metadata": {
        "colab": {
          "base_uri": "https://localhost:8080/"
        },
        "id": "jpQNhrrCxHXN",
        "outputId": "3e763646-a786-4b78-8d97-19fd830e05f3"
      },
      "execution_count": 21,
      "outputs": [
        {
          "output_type": "execute_result",
          "data": {
            "text/plain": [
              "(48895, 61350)"
            ]
          },
          "metadata": {},
          "execution_count": 21
        }
      ]
    },
    {
      "cell_type": "code",
      "source": [
        "### 범주형 데이터와 price의 관계\n",
        "\n",
        "df['neighbourhood_group']\n",
        "\n",
        "### 막대그래프/박스 플롯 -> 범주, 수치\n",
        "df['neighbourhood_group'].unique().size\n",
        "\n",
        "\n",
        "### 지구별 평균 숙박료 가격\n",
        "price_per_ngroup = df.groupby('neighbourhood_group')['price'].mean()\n",
        "\n",
        "import matplotlib.pyplot as plt\n",
        "import seaborn as sns\n",
        "\n",
        "## 막대그래프를 그려서 지구별로 평균 숙박료가 올라가거나 내려가는 것을 확인(지구가 숙박료에 영향을 미친다고 생각할 수 있음)\n",
        "sns.barplot(x=price_per_ngroup.index, y=price_per_ngroup.values, order=price_per_ngroup.sort_values().index)\n"
      ],
      "metadata": {
        "id": "N8zVmV-92um2"
      },
      "execution_count": null,
      "outputs": []
    },
    {
      "cell_type": "code",
      "source": [
        "### 범주가 너무 많아서 인코딩하기 힘든 컬럼(특성)을 처리하는 방법은 없을까?\n",
        "counts = df['name'].value_counts()\n",
        "idx = counts > 5\n",
        "\n",
        "### 방법1. 샘플의 개수를 이용해 범주를 통합\n",
        "### 예시) 30개 미만으로 언급되는 샘플들은 하나의 범주로 통합(etc, others 등)\n",
        "\n",
        "### 방법2. 데이터의 성격을 이용해 범주를 통합\n",
        "### 예시) 날짜의 경우 년-월-일에서 년-월로 값을 바꿔주면 날짜의 의미를 유지하면서도 범주가 많이 통합 된다.\n",
        "\n",
        "use_names = counts[idx].index.values\n",
        "use_names\n",
        "\n",
        "def check_5times(name) :\n",
        "  if name in use_names :\n",
        "    return name\n",
        "  return 'etc'\n",
        "\n",
        "df['name'] = df['name'].map(check_5times)"
      ],
      "metadata": {
        "id": "PhDz2IAlxIWy"
      },
      "execution_count": 64,
      "outputs": []
    },
    {
      "cell_type": "code",
      "source": [
        "## 몇개 이상?? -> 통계적으로 의미를 가지려면 최소 30 ~ 50개\n",
        "\n",
        "## host_name, neighbourhood, last_review 범주의 수를 최대한 줄여보세요.\n",
        "# train_cate['host_name'].value_counts()\n",
        "# train_cate['neighbourhood'].value_counts()\n",
        "# train_cate['last_review'].value_counts()"
      ],
      "metadata": {
        "id": "2P6BgoQ4AHZ2"
      },
      "execution_count": null,
      "outputs": []
    },
    {
      "cell_type": "code",
      "source": [
        "\n",
        "\n",
        "\n",
        "# 7. 훈련데이터와 타겟데이터 구분하고 훈련용, 테스트용 분리하기\n",
        "from sklearn.model_selection import train_test_split\n",
        "\n",
        "\n",
        "train = df.drop('price', axis=1) ## 문제집\n",
        "target = df['price'] ## 정답지\n",
        "\n",
        "trd, tsd, trt, tst = train_test_split(train, target, train_size=0.8, random_state=42)\n"
      ],
      "metadata": {
        "id": "QA9kFmI39Wu4"
      },
      "execution_count": 65,
      "outputs": []
    },
    {
      "cell_type": "code",
      "source": [],
      "metadata": {
        "id": "JXOrHliiAEtY"
      },
      "execution_count": null,
      "outputs": []
    },
    {
      "cell_type": "code",
      "source": [
        "\n",
        "# 8. 선형회귀 모델 학습 및 평가\n",
        "from sklearn.linear_model import LinearRegression\n",
        "\n",
        "lr = LinearRegression()\n",
        "lr.fit(trd, trt)\n",
        "\n",
        "lr.score(trd, trt), lr.score(tsd. tst)"
      ],
      "metadata": {
        "id": "GIJbg-Ydwk8V"
      },
      "execution_count": null,
      "outputs": []
    },
    {
      "cell_type": "code",
      "source": [],
      "metadata": {
        "id": "-PFmB9aJy0an"
      },
      "execution_count": null,
      "outputs": []
    }
  ]
}