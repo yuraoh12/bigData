{
  "nbformat": 4,
  "nbformat_minor": 0,
  "metadata": {
    "colab": {
      "name": "JSON 예제 코드.ipynb",
      "provenance": [],
      "authorship_tag": "ABX9TyM3KkFchPAoQGL5UpvsRCRN",
      "include_colab_link": true
    },
    "kernelspec": {
      "name": "python3",
      "display_name": "Python 3"
    },
    "language_info": {
      "name": "python"
    }
  },
  "cells": [
    {
      "cell_type": "markdown",
      "metadata": {
        "id": "view-in-github",
        "colab_type": "text"
      },
      "source": [
        "<a href=\"https://colab.research.google.com/github/chacha86/bigData1/blob/main/JSON_%EC%98%88%EC%A0%9C_%EC%BD%94%EB%93%9C.ipynb\" target=\"_parent\"><img src=\"https://colab.research.google.com/assets/colab-badge.svg\" alt=\"Open In Colab\"/></a>"
      ]
    },
    {
      "cell_type": "code",
      "execution_count": null,
      "metadata": {
        "id": "w3PkDrGXDcaa"
      },
      "outputs": [],
      "source": [
        "import json\n",
        "\n",
        "# 프로그램 오브젝트 > 파일 : 직렬화, \n",
        "# 파일 > 오브젝트 : 역직렬화\n",
        "\n",
        "# 파이썬 - 딕셔너리, 다른데서는 JSON. 파이썬 딕셔너리와 JSON 파일 형식은 완벽히 호환된다.\n",
        "txt = '{ \"이름\" : \"홍길동\", \"나이\" : 20, \"거주지\" : \"대전\" }'\n",
        "\n",
        "dic2 = {\"이름\" : \"홍길동\", \"나이\" : 20, \"거주지\" : \"대전\"}\n",
        "\n",
        "with open(\"day2/file_exam/exam3_data/test.json\", \"w\", encoding=\"utf-8-sig\") as f :\n",
        "    json.dump(txt, f, ensure_ascii=False) # json 텍스트를 파일에 저장.\n",
        "    json_str = json.dumps(dic2) # 딕셔너리를 json 문자열로 변환\n",
        "\n",
        "with open(\"day2/file_exam/exam3_data/test.json\", \"r\", encoding=\"utf-8-sig\") as f :\n",
        "    \n",
        "    rst = json.load(f) # json 텍스르를 파일에서 읽어오는 것.        \n",
        "    dic = json.loads(rst) # json 텍스트를 딕셔너리로 변환\n",
        "    print(dic[\"이름\"])\n",
        "    \n",
        "    \n",
        "    \n"
      ]
    }
  ]
}