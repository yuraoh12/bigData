{
  "nbformat": 4,
  "nbformat_minor": 0,
  "metadata": {
    "colab": {
      "name": "Untitled30.ipynb의 사본",
      "provenance": [],
      "collapsed_sections": [],
      "authorship_tag": "ABX9TyOSikwRdgTA2cp8aDqwVeCZ",
      "include_colab_link": true
    },
    "kernelspec": {
      "name": "python3",
      "display_name": "Python 3"
    },
    "language_info": {
      "name": "python"
    }
  },
  "cells": [
    {
      "cell_type": "markdown",
      "metadata": {
        "id": "view-in-github",
        "colab_type": "text"
      },
      "source": [
        "<a href=\"https://colab.research.google.com/github/chacha86/bigData1/blob/main/numpy%20%EC%82%AC%EC%9A%A9%EB%B2%952.ipynb\" target=\"_parent\"><img src=\"https://colab.research.google.com/assets/colab-badge.svg\" alt=\"Open In Colab\"/></a>"
      ]
    },
    {
      "cell_type": "code",
      "execution_count": null,
      "metadata": {
        "id": "jq2QszLKsZFg"
      },
      "outputs": [],
      "source": [
        "# 배열의 연산\n",
        "import numpy as np\n",
        "\n",
        "np.random.seed(1)\n",
        "arr1 = np.random.randint(-10, 10, (3,4))\n",
        "\n",
        "# 기초 통계 연산\n",
        "arr1.mean()\n",
        "arr1.max()\n",
        "arr1.min()\n",
        "arr1.sum()\n",
        "\n",
        "np.random.seed(100)\n",
        "arr2 = np.random.randint(-10, 10, (3,4))\n",
        "\n",
        "print(arr1)\n",
        "print(arr2)\n",
        "\n",
        "# 두 배열의 연산 - 사칙 연산\n",
        "arr3 = arr1 + arr2\n",
        "arr4 = arr1 - arr2\n",
        "arr5 = arr1 * arr2\n",
        "arr6 = arr1 / arr2\n",
        "arr7 = arr1 % arr2\n",
        "\n",
        "\n",
        "# 배열의 값을 절대값으로\n",
        "arr2 = np.abs(arr2)\n",
        "\n",
        "print(arr2)\n",
        "\n",
        "# arr1원소의 값을  arr2 원소만큼 제곱\n",
        "arr9 = arr1 ** arr2\n",
        "\n",
        "\n",
        "# 배열의 원소의 제곱근\n",
        "arr10 = np.sqrt(arr2)\n",
        "\n",
        "print(arr1 * arr2)\n",
        "\n",
        "# 행렬의 점곱(dot product)\n",
        "# (2 X 3) . (3 X 4)\n",
        "# 3 4 3 4\n",
        "arr1.shape\n",
        "arr2.shape\n",
        "\n",
        "# 행렬의 모습을 바꾸고 싶다. - reshape(행렬의 모양)\n",
        "arr2 = arr2.reshape([4,3])\n",
        "np.dot(arr1, arr2)\n",
        "\n",
        "# 두 행렬의 비교\n",
        "arr1 == arr2\n",
        "print(arr2.size)\n",
        "\n",
        "# reshaep 배열의 모양을 바꿀 때 사용. 원소의 개수에 주의\n",
        "arr2 = arr2.reshape([3, -1])\n",
        "arr2.shape\n",
        "\n",
        "\n",
        "# 각 배열의 원소 일치 여부\n",
        "# 단, 배열의 shape가 다르면 False가 나옴\n",
        "arr1 == arr2\n",
        "\n",
        "# shape이 같은 두 배열을 == 비교하면 각 원소의 일치 여부\n",
        "# 배열의 shape가 동일할 때 완전 일치하는지에 대한 여부\n",
        "np.array_equal(arr1, arr2)\n",
        "\n"
      ]
    },
    {
      "cell_type": "code",
      "source": [
        "# 1차원 배열 -> 벡터\n",
        "arr3 = np.arange(1, 16)\n",
        "arr3.size # 배열의 원소 개수\n",
        "arr3.ndim\n",
        "\n",
        "arr3 = arr3.reshape((3,-1))\n",
        "arr3 = arr3.reshape((5, 3, -1))\n"
      ],
      "metadata": {
        "id": "5kR44qSM0sU3"
      },
      "execution_count": null,
      "outputs": []
    },
    {
      "cell_type": "code",
      "source": [
        "arr1 = np.arange(1, 12)\n",
        "\n",
        "# 배열의 차원 확장 및 축소\n",
        "\n",
        "# 확장 - 차원을 확장. axis = 0 은\n",
        "arr2 = np.expand_dims(arr1, axis=0)\n",
        "arr3 = np.expand_dims(arr1, axis=1)\n",
        "\n",
        "# 축소\n",
        "np.squeeze(arr2, axis=0)\n",
        "np.squeeze(arr3, axis=1)\n",
        "\n",
        "\n"
      ],
      "metadata": {
        "colab": {
          "base_uri": "https://localhost:8080/"
        },
        "id": "Y7GkFaSq1eEs",
        "outputId": "6ede697d-1146-43c0-ab06-8ba781caf124"
      },
      "execution_count": null,
      "outputs": [
        {
          "output_type": "execute_result",
          "data": {
            "text/plain": [
              "array([ 1,  2,  3,  4,  5,  6,  7,  8,  9, 10, 11])"
            ]
          },
          "metadata": {},
          "execution_count": 66
        }
      ]
    },
    {
      "cell_type": "code",
      "source": [
        "# 정렬\n",
        "import numpy as np\n",
        "np.random.seed(1)\n",
        "arr = np.random.randint(1, 100, 12)\n",
        "\n",
        "#arr.sort() # 원본에 적용\n",
        "arr2 = np.sort(arr) # 원본에 적용 X\n",
        "\n",
        "arr3 = arr.reshape([3,4]) # 3 X 4 배열로 변환\n",
        "\n",
        "# 1차원\n",
        "np.sort(arr)# 오름차순, \n",
        "\n",
        "# 2차원 \n",
        "# 세로로 정렬\n",
        "arr=np.sort(arr3, axis=0) # 오름차순\n",
        "print(arr) #세로로 오름차순 정렬된 배열임\n",
        "arr[::-1] #거꾸로 하면 세로로 내림차순\n",
        "\n",
        "# 가로로 정렬\n",
        "arr2 = np.sort(arr3, axis=1) # 오름차순 \n",
        "print(arr2) # 가로로 오름차순 정렬된 배열임\n",
        "print(arr2[::-1]) # 거꾸로 탐색해도 어차피 정렬된 행단위로 뒤지기 때문에 내림차순은 할 수 없음.\n",
        "\n",
        "# 가로로 내림차순 정렬하기\n",
        "arr4 = np.sort(arr3.reshape(arr3.size))[::-1].reshape([3,4])\n",
        "\n",
        "# 정렬된 원소들의 원래 인덱스 얻기\n",
        "\n",
        "idx = arr.argsort()[::-1] # 내림차순 정렬된 원소들의 인덱스를 얻어서\n",
        "arr[idx[:5]] # 앞에서 5개를 가져오면. 값이 큰 top5를 가져올 수 있다.\n",
        "\n"
      ],
      "metadata": {
        "colab": {
          "base_uri": "https://localhost:8080/"
        },
        "id": "PrNI0m7_6V8v",
        "outputId": "c3ba2b82-37c1-48d0-ebeb-72fa6501aa24"
      },
      "execution_count": 45,
      "outputs": [
        {
          "output_type": "stream",
          "name": "stdout",
          "text": [
            "[[17  2 73 10]\n",
            " [38  6 77 65]\n",
            " [76 13 80 72]]\n",
            "[[10 13 38 73]\n",
            " [ 6 65 76 80]\n",
            " [ 2 17 72 77]]\n",
            "[[ 2 17 72 77]\n",
            " [ 6 65 76 80]\n",
            " [10 13 38 73]]\n"
          ]
        },
        {
          "output_type": "execute_result",
          "data": {
            "text/plain": [
              "array([[10, 13, 38, 73],\n",
              "       [ 6, 65, 76, 80],\n",
              "       [ 2, 17, 72, 77]])"
            ]
          },
          "metadata": {},
          "execution_count": 45
        }
      ]
    },
    {
      "cell_type": "code",
      "source": [
        "# 배열 붙이기, 나누기\n",
        "arr1 = np.arange(1,5)\n",
        "arr2 = np.arange(5,9)\n",
        "\n",
        "print(arr1) \n",
        "print(arr2)\n",
        "\n",
        "\n",
        "# 배열을 붙이고 떼는 건 2차원 배열부터 진행이 가능하다. 때문에 1차원 배열 2개를 붙이려면 먼저 2차원으로 차원 확장한다.\n",
        "arr3 = np.expand_dims(arr1, axis=0) \n",
        "arr4 = np.expand_dims(arr2, axis=0)\n",
        "\n",
        "arr5 = arr1.reshape(2,2)\n",
        "arr6 = arr2.reshape(2,2)\n",
        "\n",
        "# 1X4 배열 붙이기\n",
        "np.concatenate((arr3, arr4), axis=0)\n",
        "np.concatenate((arr3, arr4), axis=1)\n",
        "\n",
        "# 2X2 배열 붙이기\n",
        "np.concatenate((arr5, arr6), axis=0)\n",
        "np.concatenate((arr5, arr6), axis=1)\n",
        "\n",
        "arr7 = np.arange(1, 13)\n",
        "arr8  =arr7.reshape(3,4) # 3 X 4 배열을 만든 후\n",
        "\n",
        "print(np.split(arr8, 2, axis=1)) # 쪼개기. arr8은 쪼갤 대상, 2는 쪼개어져야 하는 수, axis=1은 쪼개는 방향이 세로.\n",
        "print(np.split(arr8, 3, axis=0)) # 쪼개기. arr8은 쪼갤 대상, 3은 쪼개어져야 하는 수, axis=0은 쪼개는 방향이 가로.\n",
        "# 쪼갤 때 주의할 점은 각 축의 원소의 개수가 쪼개려는 수로 나누어 떨어져야 함.\n",
        "# ex) 행이 6개인 배열을 가로 방향으로 쪼개려면 6으로 나누어 떨어지는 1, 2, 3, 6으로만 쪼개어질 수 있음. 4개로는 쪼갤 수 없음.\n",
        "\n",
        "\n",
        "\n"
      ],
      "metadata": {
        "colab": {
          "base_uri": "https://localhost:8080/"
        },
        "id": "Dcir885L98T6",
        "outputId": "19788477-66ae-4dd5-f043-5847edf0ca62"
      },
      "execution_count": 52,
      "outputs": [
        {
          "output_type": "stream",
          "name": "stdout",
          "text": [
            "[1 2 3 4]\n",
            "[5 6 7 8]\n"
          ]
        },
        {
          "output_type": "execute_result",
          "data": {
            "text/plain": [
              "array([[1, 2, 5, 6],\n",
              "       [3, 4, 7, 8]])"
            ]
          },
          "metadata": {},
          "execution_count": 52
        }
      ]
    },
    {
      "cell_type": "code",
      "source": [
        ""
      ],
      "metadata": {
        "id": "DOH2xbJ-6SDt"
      },
      "execution_count": null,
      "outputs": []
    }
  ]
}