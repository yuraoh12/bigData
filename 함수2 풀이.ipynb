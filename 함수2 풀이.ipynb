{
  "nbformat": 4,
  "nbformat_minor": 0,
  "metadata": {
    "colab": {
      "name": "Untitled20.ipynb",
      "provenance": [],
      "collapsed_sections": [],
      "authorship_tag": "ABX9TyMMEyylN3/mQ9hmxFR/z4C8",
      "include_colab_link": true
    },
    "kernelspec": {
      "name": "python3",
      "display_name": "Python 3"
    },
    "language_info": {
      "name": "python"
    }
  },
  "cells": [
    {
      "cell_type": "markdown",
      "metadata": {
        "id": "view-in-github",
        "colab_type": "text"
      },
      "source": [
        "<a href=\"https://colab.research.google.com/github/chacha86/bigData1/blob/main/%ED%95%A8%EC%88%982%20%ED%92%80%EC%9D%B4.ipynb\" target=\"_parent\"><img src=\"https://colab.research.google.com/assets/colab-badge.svg\" alt=\"Open In Colab\"/></a>"
      ]
    },
    {
      "cell_type": "code",
      "execution_count": null,
      "metadata": {
        "colab": {
          "base_uri": "https://localhost:8080/"
        },
        "id": "fsj4t5h3LbnO",
        "outputId": "d39ea3e0-2509-421c-8854-866143a45980"
      },
      "outputs": [
        {
          "output_type": "execute_result",
          "data": {
            "text/plain": [
              "324.0138888888889"
            ]
          },
          "metadata": {},
          "execution_count": 3
        }
      ],
      "source": [
        "list1 = [2,4,8,12,44,56,151,445,600]\n",
        "list2 = [12,34,552,45,123,68,29,554]\n",
        "\n",
        "# list1의 모든 요소의 평균과 list2의 모든 요소의 평균을 구해서 두 수의 합을 구하시오. (내장함수 사용 X, 정수만 나와도 됩니다.)\n",
        "# 코드가 중복되지 않게 해주세요.\n",
        "# 정답 : 324\n",
        "\n",
        "def get_sum(li) :\n",
        "  total = 0\n",
        "\n",
        "  for num in li :\n",
        "    total += num\n",
        "\n",
        "  return total\n",
        "\n",
        "def get_length(li) :\n",
        "  length = 0\n",
        "  for num in li :\n",
        "    length += 1\n",
        "  \n",
        "  return length\n",
        "\n",
        "def get_avg(li) :\n",
        "  return get_sum(li) / get_length(li)\n",
        "\n",
        "get_avg(list1) + get_avg(list2)\n",
        "\n"
      ]
    }
  ]
}