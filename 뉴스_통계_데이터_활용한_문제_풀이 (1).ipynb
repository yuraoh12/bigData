{
  "nbformat": 4,
  "nbformat_minor": 0,
  "metadata": {
    "colab": {
      "provenance": [],
      "authorship_tag": "ABX9TyPOnIQLi3X04CYK3j8mPsd7",
      "include_colab_link": true
    },
    "kernelspec": {
      "name": "python3",
      "display_name": "Python 3"
    },
    "language_info": {
      "name": "python"
    }
  },
  "cells": [
    {
      "cell_type": "markdown",
      "metadata": {
        "id": "view-in-github",
        "colab_type": "text"
      },
      "source": [
        "<a href=\"https://colab.research.google.com/github/chacha86/pythonai2/blob/main/%EB%89%B4%EC%8A%A4_%ED%86%B5%EA%B3%84_%EB%8D%B0%EC%9D%B4%ED%84%B0_%ED%99%9C%EC%9A%A9%ED%95%9C_%EB%AC%B8%EC%A0%9C_%ED%92%80%EC%9D%B4.ipynb\" target=\"_parent\"><img src=\"https://colab.research.google.com/assets/colab-badge.svg\" alt=\"Open In Colab\"/></a>"
      ]
    },
    {
      "cell_type": "code",
      "execution_count": null,
      "metadata": {
        "id": "YHyAtlKiWmmN"
      },
      "outputs": [],
      "source": [
        "import pandas as pd\n",
        "\n",
        "\n",
        "## 뉴스데이터와 통계 데이터 로드\n",
        "\n",
        "kbs_news = pd.read_json('/content/KBS_news.json')\n",
        "mbc_news = pd.read_json('/content/MBC_news.json')\n",
        "sbs_news = pd.read_json('/content/SBS_news.json')\n",
        "\n",
        "kbs_stat = pd.read_json('/content/KBS_stat.json')\n",
        "mbc_stat = pd.read_json('/content/MBC_stat.json')\n",
        "sbs_stat = pd.read_json('/content/sbs_stat.json')\n",
        "\n",
        "kbs_cnt = pd.read_json('/content/KBS_replCnt.json')\n",
        "mbc_cnt = pd.read_json('/content/MBC_replCnt.json')\n",
        "sbs_cnt = pd.read_json('/content/SBS_replCnt.json')"
      ]
    },
    {
      "cell_type": "code",
      "source": [
        "## 각 언론사별 데이터 합치기\n",
        "\n",
        "all_news = pd.concat([kbs_news, mbc_news, sbs_news])\n",
        "all_stat = pd.concat([kbs_stat, mbc_stat, sbs_stat])\n",
        "all_cnt = pd.concat([kbs_cnt, mbc_cnt, sbs_cnt])"
      ],
      "metadata": {
        "id": "BOeyMGwFXPz0"
      },
      "execution_count": null,
      "outputs": []
    },
    {
      "cell_type": "code",
      "source": [
        "## 뉴스 데이터와 통계데이터 merge하기(뉴스 데이터와 통계 데이터는 구조가 다르므로 concat이 아닌 merge를 사용)\n",
        "news_stat = pd.merge(all_news, all_stat, how='left', on='id')\n",
        "result = pd.merge(news_stat, all_cnt, how='left', on='id')"
      ],
      "metadata": {
        "id": "wt6BN8rYXdWe"
      },
      "execution_count": null,
      "outputs": []
    },
    {
      "cell_type": "code",
      "source": [
        "# 수집한 뉴스데이터를 이용해 다음 문제를 풀어주세요.\n",
        "## 1. 20대가 가장 많이 본(댓글을 많이 작성한) 뉴스\n",
        "### 결측치 -> 제거\n",
        "result2 = result.dropna()\n",
        "\n",
        "### 문자를 숫자로 변환하기 위해 ,를 제거\n",
        "def remove_comma(s) :\n",
        "  s = str(s)\n",
        "  if len(s) > 3 :\n",
        "    s = s.replace(',', '')\n",
        "\n",
        "  return s\n",
        "\n",
        "## apply를 이용해 댓글수의 , 제거\n",
        "result2['count2'] = result2['count'].apply(remove_comma).astype('int')"
      ],
      "metadata": {
        "id": "RlzUWI1wXocd"
      },
      "execution_count": null,
      "outputs": []
    },
    {
      "cell_type": "code",
      "source": [
        "## 20대 비율을 수치로 변환\n",
        "result2['20대 비율'] = result2['20대'].str.replace('%', '').astype('float') * 0.01"
      ],
      "metadata": {
        "id": "TuCRd1YwcNk1"
      },
      "execution_count": null,
      "outputs": []
    },
    {
      "cell_type": "code",
      "source": [
        "## 댓글수와 20대 비율로 댓글 수치 계산\n",
        "result2[['20대 비율', 'count2']]\n",
        "result2['20대 댓글수'] = result2['20대 비율'] * result2['count2']"
      ],
      "metadata": {
        "id": "dvKee8Yoc4uE"
      },
      "execution_count": null,
      "outputs": []
    },
    {
      "cell_type": "code",
      "source": [
        "## 정렬을 이용해 20대 댓글 수가 가장 높은 뉴스 찾기\n",
        "result2['20대 댓글수'].sort_values(ascending=False)\n",
        "\n",
        "result2.loc[22]['link']"
      ],
      "metadata": {
        "colab": {
          "base_uri": "https://localhost:8080/",
          "height": 35
        },
        "id": "vyqIVqzxdK4N",
        "outputId": "9da28d7c-8988-4986-e7db-1dcbf2457a4b"
      },
      "execution_count": null,
      "outputs": [
        {
          "output_type": "execute_result",
          "data": {
            "text/plain": [
              "'https://n.news.naver.com/article/214/0001298229?ntype=RANKING'"
            ],
            "application/vnd.google.colaboratory.intrinsic+json": {
              "type": "string"
            }
          },
          "metadata": {},
          "execution_count": 72
        }
      ]
    },
    {
      "cell_type": "code",
      "source": [
        "## 숫자, 문자 -> 다 문자로 형변환 -> replace 함수 적용\n",
        "\n",
        "## 문자인 댓글 수를 수치로 변환하기 위한 방법2. 모두 문자로 바꾼 후 replace로 , 지움. 이후 astype으로 형변환\n",
        "result2['count2'] = result2['count'].astype('str').str.replace(',','').astype('int')"
      ],
      "metadata": {
        "id": "0HiFRs_Ae4mp"
      },
      "execution_count": null,
      "outputs": []
    },
    {
      "cell_type": "code",
      "source": [
        "\n",
        "## 연령별 성별별 댓글수를 구하기 위해 문자를 수치로 변환하고 댓글 수 구하기\n",
        "def remove_percent(val) :\n",
        "  return val.replace('%', '')\n",
        "\n",
        "tmp = result2[['남자', '여자', '10대', '20대', '30대',\n",
        "       '40대', '50대', '60대']].applymap(remove_percent).astype('int') * 0.01\n",
        "\n",
        "\n",
        "tmp['댓글수'] = result2['count2']\n",
        "\n",
        "def calculate_reply(row):\n",
        "  return row.drop('댓글수') * row['댓글수']\n",
        "\n",
        "tmp.apply(calculate_reply, axis=1)\n",
        "\n",
        "result2.loc[:, ['남자', '여자', '10대', '20대', '30대', '40대', '50대', '60대', 'count2']] = tmp.apply(calculate_reply, axis=1)"
      ],
      "metadata": {
        "id": "r-OJIzPKufmk"
      },
      "execution_count": null,
      "outputs": []
    },
    {
      "cell_type": "code",
      "source": [
        "result2['count2'] = tmp['댓글수']"
      ],
      "metadata": {
        "colab": {
          "base_uri": "https://localhost:8080/"
        },
        "id": "ZxztQVC9w7BF",
        "outputId": "fc0c133c-06cc-4211-d4e1-1c4c41f2a194"
      },
      "execution_count": null,
      "outputs": [
        {
          "output_type": "stream",
          "name": "stderr",
          "text": [
            "<ipython-input-132-805c7000705b>:1: SettingWithCopyWarning: \n",
            "A value is trying to be set on a copy of a slice from a DataFrame.\n",
            "Try using .loc[row_indexer,col_indexer] = value instead\n",
            "\n",
            "See the caveats in the documentation: https://pandas.pydata.org/pandas-docs/stable/user_guide/indexing.html#returning-a-view-versus-a-copy\n",
            "  result2['count2'] = tmp['댓글수']\n"
          ]
        }
      ]
    },
    {
      "cell_type": "code",
      "source": [
        "## 2. 가장 댓글이 적은 뉴스의 댓글 수와 뉴스 링크, 뉴스 번호\n",
        "\n",
        "result2.loc[result2['count2'].sort_values().head(1).index, ['link', 'id']] # 댓글 수로 오름차순 정렬한 후 가장 위에 것 조회\n",
        "\n"
      ],
      "metadata": {
        "colab": {
          "base_uri": "https://localhost:8080/",
          "height": 81
        },
        "id": "hOzsULn5w7NI",
        "outputId": "00f78bf3-9c9c-43e1-87de-99277b809dc6"
      },
      "execution_count": null,
      "outputs": [
        {
          "output_type": "execute_result",
          "data": {
            "text/plain": [
              "                                                 link       id\n",
              "50  https://n.news.naver.com/article/055/000108774...  1087745"
            ],
            "text/html": [
              "\n",
              "  <div id=\"df-0bca51d0-0fd1-4183-aa8d-b2a3d4540052\" class=\"colab-df-container\">\n",
              "    <div>\n",
              "<style scoped>\n",
              "    .dataframe tbody tr th:only-of-type {\n",
              "        vertical-align: middle;\n",
              "    }\n",
              "\n",
              "    .dataframe tbody tr th {\n",
              "        vertical-align: top;\n",
              "    }\n",
              "\n",
              "    .dataframe thead th {\n",
              "        text-align: right;\n",
              "    }\n",
              "</style>\n",
              "<table border=\"1\" class=\"dataframe\">\n",
              "  <thead>\n",
              "    <tr style=\"text-align: right;\">\n",
              "      <th></th>\n",
              "      <th>link</th>\n",
              "      <th>id</th>\n",
              "    </tr>\n",
              "  </thead>\n",
              "  <tbody>\n",
              "    <tr>\n",
              "      <th>50</th>\n",
              "      <td>https://n.news.naver.com/article/055/000108774...</td>\n",
              "      <td>1087745</td>\n",
              "    </tr>\n",
              "  </tbody>\n",
              "</table>\n",
              "</div>\n",
              "    <div class=\"colab-df-buttons\">\n",
              "\n",
              "  <div class=\"colab-df-container\">\n",
              "    <button class=\"colab-df-convert\" onclick=\"convertToInteractive('df-0bca51d0-0fd1-4183-aa8d-b2a3d4540052')\"\n",
              "            title=\"Convert this dataframe to an interactive table.\"\n",
              "            style=\"display:none;\">\n",
              "\n",
              "  <svg xmlns=\"http://www.w3.org/2000/svg\" height=\"24px\" viewBox=\"0 -960 960 960\">\n",
              "    <path d=\"M120-120v-720h720v720H120Zm60-500h600v-160H180v160Zm220 220h160v-160H400v160Zm0 220h160v-160H400v160ZM180-400h160v-160H180v160Zm440 0h160v-160H620v160ZM180-180h160v-160H180v160Zm440 0h160v-160H620v160Z\"/>\n",
              "  </svg>\n",
              "    </button>\n",
              "\n",
              "  <style>\n",
              "    .colab-df-container {\n",
              "      display:flex;\n",
              "      gap: 12px;\n",
              "    }\n",
              "\n",
              "    .colab-df-convert {\n",
              "      background-color: #E8F0FE;\n",
              "      border: none;\n",
              "      border-radius: 50%;\n",
              "      cursor: pointer;\n",
              "      display: none;\n",
              "      fill: #1967D2;\n",
              "      height: 32px;\n",
              "      padding: 0 0 0 0;\n",
              "      width: 32px;\n",
              "    }\n",
              "\n",
              "    .colab-df-convert:hover {\n",
              "      background-color: #E2EBFA;\n",
              "      box-shadow: 0px 1px 2px rgba(60, 64, 67, 0.3), 0px 1px 3px 1px rgba(60, 64, 67, 0.15);\n",
              "      fill: #174EA6;\n",
              "    }\n",
              "\n",
              "    .colab-df-buttons div {\n",
              "      margin-bottom: 4px;\n",
              "    }\n",
              "\n",
              "    [theme=dark] .colab-df-convert {\n",
              "      background-color: #3B4455;\n",
              "      fill: #D2E3FC;\n",
              "    }\n",
              "\n",
              "    [theme=dark] .colab-df-convert:hover {\n",
              "      background-color: #434B5C;\n",
              "      box-shadow: 0px 1px 3px 1px rgba(0, 0, 0, 0.15);\n",
              "      filter: drop-shadow(0px 1px 2px rgba(0, 0, 0, 0.3));\n",
              "      fill: #FFFFFF;\n",
              "    }\n",
              "  </style>\n",
              "\n",
              "    <script>\n",
              "      const buttonEl =\n",
              "        document.querySelector('#df-0bca51d0-0fd1-4183-aa8d-b2a3d4540052 button.colab-df-convert');\n",
              "      buttonEl.style.display =\n",
              "        google.colab.kernel.accessAllowed ? 'block' : 'none';\n",
              "\n",
              "      async function convertToInteractive(key) {\n",
              "        const element = document.querySelector('#df-0bca51d0-0fd1-4183-aa8d-b2a3d4540052');\n",
              "        const dataTable =\n",
              "          await google.colab.kernel.invokeFunction('convertToInteractive',\n",
              "                                                    [key], {});\n",
              "        if (!dataTable) return;\n",
              "\n",
              "        const docLinkHtml = 'Like what you see? Visit the ' +\n",
              "          '<a target=\"_blank\" href=https://colab.research.google.com/notebooks/data_table.ipynb>data table notebook</a>'\n",
              "          + ' to learn more about interactive tables.';\n",
              "        element.innerHTML = '';\n",
              "        dataTable['output_type'] = 'display_data';\n",
              "        await google.colab.output.renderOutput(dataTable, element);\n",
              "        const docLink = document.createElement('div');\n",
              "        docLink.innerHTML = docLinkHtml;\n",
              "        element.appendChild(docLink);\n",
              "      }\n",
              "    </script>\n",
              "  </div>\n",
              "\n",
              "    </div>\n",
              "  </div>\n"
            ]
          },
          "metadata": {},
          "execution_count": 135
        }
      ]
    },
    {
      "cell_type": "code",
      "source": [
        "## 3. 언론사 번호와 언론사 이름으로 구성된 데이터 프레임을 만들고 merge를 이용해 각 뉴스에 언론사 이름을 붙여주기\n",
        "## kbs 언론사\n",
        "kbs_news['언론사'] = 'KBS'\n",
        "\n",
        "\n",
        "result3 = pd.merge(result2, kbs_news[['id','언론사']], how='left', on = 'id') # result2 에 kbs 언론사 정보를 merge. kbs를 제외한 나머지 언론사는 NaN으로 채워질 것임.\n",
        "result3['언론사']\n",
        "\n",
        "mbc_news['언론사'] = 'MBC'\n",
        "\n",
        "idx = pd.merge(result3, mbc_news['id'], how='right', on='id')['link'].notna() # result3과 mbc 언론사 정보를 merge. mbc 뉴스를 기준으로 outer merge했으므로 result3쪽에 NaN이 생길 것. NaN값을 제외한 mbc뉴스만 타겟을 삼기 위해 idx를 뽑아옴\n",
        "target = pd.merge(result3, mbc_news['id'], how='right', on='id').loc[idx]['id'] # 위에서 얻은 idx로 행을 찾은 후 id값을 얻어옴.\n",
        "\n",
        "result4 = result3.set_index('id') # 해당 id를 index로 사용.\n",
        "result4.loc[target, '언론사'] = 'MBC' # mbc 뉴스만 골라낼 수 있음. mbc 뉴스에만 언론사 컬럼 값을 'MBC'로 대입\n",
        "\n"
      ],
      "metadata": {
        "id": "X18I7_4EyCrH"
      },
      "execution_count": null,
      "outputs": []
    },
    {
      "cell_type": "code",
      "source": [
        "result4.loc[result4['언론사'].isna(), '언론사'] = 'SBS' # kbs, mbc를 제외한 나머지 값은 명백히 sbs이므로 'SBS' 대입."
      ],
      "metadata": {
        "id": "mMYrVFXI1vJz"
      },
      "execution_count": null,
      "outputs": []
    },
    {
      "cell_type": "code",
      "source": [
        "## 4. 각 언론사별 평균 댓글 수(댓글 수로 내림차순 정렬)\n",
        "result4.groupby('언론사')['count2'].mean().sort_values(ascending=False) # 내림차순 정렬해서 풀이\n"
      ],
      "metadata": {
        "id": "etxHvYVo2giS"
      },
      "execution_count": null,
      "outputs": []
    },
    {
      "cell_type": "code",
      "source": [
        "\n",
        "## 5. 여성의 댓글수가 가장 많은 언론사\n",
        "result4.groupby('언론사')['여성'].sum().sort_values(ascending=False).head(1) # 내림차순 정렬해서 풀이"
      ],
      "metadata": {
        "id": "68SrFFQnWpog"
      },
      "execution_count": null,
      "outputs": []
    },
    {
      "cell_type": "code",
      "source": [
        "## 6. 각 언론사 별 댓글을 많이 작성한 연령대 top3 -> wide -> long\n",
        "\n",
        "reulst5 = pd.melt(result4, id_vars = ['언론사'], value_vars=['10대', '20대', '30대', '40대', '50대', '60대'], var_name='연령대', value_name='댓글수')\n",
        "pd.DataFrame(reulst5.groupby(['언론사', '연령대'])['댓글수'].sum()).reset_index().sort_values('댓글수', ascending=False).groupby('언론사').head(3)"
      ],
      "metadata": {
        "id": "4om_xNYl3GT3"
      },
      "execution_count": null,
      "outputs": []
    }
  ]
}