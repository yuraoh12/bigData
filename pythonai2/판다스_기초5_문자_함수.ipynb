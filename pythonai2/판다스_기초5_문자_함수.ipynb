{
  "nbformat": 4,
  "nbformat_minor": 0,
  "metadata": {
    "colab": {
      "provenance": [],
      "authorship_tag": "ABX9TyOsNVrP9qpvzLQ66jZ0hYQL",
      "include_colab_link": true
    },
    "kernelspec": {
      "name": "python3",
      "display_name": "Python 3"
    },
    "language_info": {
      "name": "python"
    }
  },
  "cells": [
    {
      "cell_type": "markdown",
      "metadata": {
        "id": "view-in-github",
        "colab_type": "text"
      },
      "source": [
        "<a href=\"https://colab.research.google.com/github/chacha86/pythonai2/blob/main/%ED%8C%90%EB%8B%A4%EC%8A%A4_%EA%B8%B0%EC%B4%885_%EB%AC%B8%EC%9E%90_%ED%95%A8%EC%88%98.ipynb\" target=\"_parent\"><img src=\"https://colab.research.google.com/assets/colab-badge.svg\" alt=\"Open In Colab\"/></a>"
      ]
    },
    {
      "cell_type": "code",
      "execution_count": 3,
      "metadata": {
        "id": "5i6raaHMBF0w"
      },
      "outputs": [],
      "source": [
        "import pandas as pd\n",
        "\n",
        "df = pd.read_excel('/content/거래내역조회 (3).xlsx', skiprows=3)"
      ]
    },
    {
      "cell_type": "code",
      "source": [
        "## 11. 문자 함수\n",
        "### 11.1 문자열 자르기\n",
        "\n",
        "str1 = df['거래일시'][0]\n",
        "\n",
        "df['거래일시'][:4] # 위에서 행 4개 자르기\n",
        "df['거래일시'].str[:4] # 문자열을 앞에서 4개 자르기\n",
        "df['거래일시'].str[5:7]\n",
        "\n",
        "### 11.2 문자열 쪼개기\n",
        "df['거래일시'].str.split('.').str[1]\n",
        "\n",
        "### 11.3 문자 포함 여부\n",
        "#### 기재내용에 '피'라는 문자가 포함된 행 선택\n",
        "\n",
        "df['기재내용']\n",
        "idx = df['기재내용'].str.contains('피', na=False) # NaN -> 결측치 (데이터 없음)\n",
        "idx\n",
        "df.loc[idx]"
      ],
      "metadata": {
        "id": "2d5X-bs7Bamq"
      },
      "execution_count": null,
      "outputs": []
    },
    {
      "cell_type": "code",
      "source": [
        "### 11.4 특정 문자로 시작\n",
        "df.loc[df['기재내용'].str.startswith('피', na=False)]"
      ],
      "metadata": {
        "id": "g6mmi88-F-8n"
      },
      "execution_count": null,
      "outputs": []
    },
    {
      "cell_type": "code",
      "source": [
        "### 11.5 치환\n",
        "df['취급점'].str.replace('KB', '국민')"
      ],
      "metadata": {
        "id": "Nj9SwK-MGaNw"
      },
      "execution_count": null,
      "outputs": []
    }
  ]
}