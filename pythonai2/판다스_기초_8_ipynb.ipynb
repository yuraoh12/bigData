{
  "nbformat": 4,
  "nbformat_minor": 0,
  "metadata": {
    "colab": {
      "provenance": [],
      "authorship_tag": "ABX9TyPfrBjzdl+9FZy1juePMaET",
      "include_colab_link": true
    },
    "kernelspec": {
      "name": "python3",
      "display_name": "Python 3"
    },
    "language_info": {
      "name": "python"
    }
  },
  "cells": [
    {
      "cell_type": "markdown",
      "metadata": {
        "id": "view-in-github",
        "colab_type": "text"
      },
      "source": [
        "<a href=\"https://colab.research.google.com/github/chacha86/pythonai2/blob/main/%ED%8C%90%EB%8B%A4%EC%8A%A4_%EA%B8%B0%EC%B4%88_8_ipynb.ipynb\" target=\"_parent\"><img src=\"https://colab.research.google.com/assets/colab-badge.svg\" alt=\"Open In Colab\"/></a>"
      ]
    },
    {
      "cell_type": "code",
      "execution_count": 4,
      "metadata": {
        "id": "ruGxKhnghrOf"
      },
      "outputs": [],
      "source": [
        "import pandas as pd\n",
        "\n",
        "df1 = pd.read_excel('/content/거래내역조회 (3).xlsx', skiprows=3)\n",
        "df2 = pd.read_excel('/content/students (2).xlsx')"
      ]
    },
    {
      "cell_type": "code",
      "source": [
        "# 13. map, apply, applymap을 이용한 반복 연산\n",
        "\n",
        "li = [1,2,3,4]\n",
        "\n",
        "for num in li :\n",
        "  print(num)\n",
        "\n",
        "def print_num(x) :\n",
        "  return x + 1\n",
        "\n",
        "list(map(print_num, li))\n"
      ],
      "metadata": {
        "id": "Iey5bCLxjQ_N"
      },
      "execution_count": null,
      "outputs": []
    },
    {
      "cell_type": "code",
      "source": [
        "## map - 시리즈에 적용\n",
        "### df1['No.'].astype('str') + '번'\n",
        "\n",
        "### map 활용1 - 각 값들에 일괄적 연산 적용\n",
        "def add_bun(no) :\n",
        "  return str(no) + '번'\n",
        "\n",
        "# list1 = []\n",
        "# for no in df1['No.'] :\n",
        "#   list1.append(add_bun(no))\n",
        "\n",
        "df1['No.'].map(add_bun)\n",
        "\n",
        "\n",
        "### map 활용2 - 경우의 수\n",
        "### 찾으신금액 -> 100000만 미만 : 적음, 100000~200000 사이면: 보통, 200000이상 : 많음\n",
        "#### map 안쓴 버전\n",
        "df1['소비기준'] = ''\n",
        "df1.loc[df1['찾으신금액'] < 100000, '소비기준'] = '적음'\n",
        "df1.loc[(df1['찾으신금액'] >= 100000) & (df1['찾으신금액'] < 200000), '소비기준'] = '보통'\n",
        "df1.loc[df1['찾으신금액'] >= 200000, '소비기준'] = '많음'\n",
        "\n",
        "#### map 사용 버전\n",
        "\n",
        "df1['찾으신금액']\n",
        "\n",
        "def classify_price(price) :\n",
        "  if price < 100000:\n",
        "    return \"적음\"\n",
        "  elif price < 200000:\n",
        "    return \"보통\"\n",
        "  else :\n",
        "    return \"많음\"\n",
        "\n",
        "df1['소비기준2'] = df1['찾으신금액'].map(classify_price)\n",
        "df1\n"
      ],
      "metadata": {
        "id": "c4UYhHrTkhiD"
      },
      "execution_count": null,
      "outputs": []
    },
    {
      "cell_type": "code",
      "source": [
        "## apply - 데이터프레임에 적용\n",
        "### apply 활용 -> 컬럼에 대한 일괄 연산\n",
        "\n",
        "def get_col_data(col) :\n",
        "  return col.sum()\n",
        "\n",
        "df1[['찾으신금액', '맡기신금액']].apply(get_col_data, axis=0)\n",
        "\n",
        "\n",
        "### apply 활용 -> 로우에 대한 일괄 연산\n",
        "def get_row_data(row) :\n",
        "  return row.mean()\n",
        "\n",
        "# df1[['찾으신금액', '맡기신금액']].apply(get_row_data, axis=1)\n",
        "df1[['찾으신금액', '맡기신금액']].apply(get_row_data, axis=1)\n",
        "\n",
        "def introduce(row) :\n",
        "  return f\"{row['거래일시']}에 {row['기재내용']}을 하기 위해 {row['찾으신금액']}을 사용해서 {row['거래후 잔액']}이 남았습니다. {row['소비기준']} 소비였습니다.\"\n",
        "\n",
        "df1.apply(introduce, axis=1)\n",
        "\n",
        "### applymap - 데이터프레임에 활용\n",
        "#### 각 셀에 모두 적용\n",
        "def add_won(x) :\n",
        "  return str(x) + '원'\n",
        "\n",
        "df1[['찾으신금액', '맡기신금액', '거래후 잔액']].applymap(add_won)\n",
        "\n",
        "\n",
        "\n",
        "\n"
      ],
      "metadata": {
        "id": "STuFFH1Ch9Q5"
      },
      "execution_count": null,
      "outputs": []
    },
    {
      "cell_type": "code",
      "source": [
        "### 익명 함수(lambda)\n",
        "\n",
        "def aa() :\n",
        "  print('hihi')\n",
        "\n",
        "bb = lambda x : x + 1\n",
        "\n",
        "\n",
        "df1[['찾으신금액', '맡기신금액', '거래후 잔액']].applymap(lambda x : str(x) + '원')\n",
        "\n"
      ],
      "metadata": {
        "id": "XziJ4ZwOxqIP"
      },
      "execution_count": null,
      "outputs": []
    }
  ]
}