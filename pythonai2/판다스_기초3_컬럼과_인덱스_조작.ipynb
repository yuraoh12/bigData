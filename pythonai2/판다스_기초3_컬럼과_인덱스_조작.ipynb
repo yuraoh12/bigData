{
  "nbformat": 4,
  "nbformat_minor": 0,
  "metadata": {
    "colab": {
      "provenance": [],
      "authorship_tag": "ABX9TyO72OvSUlggEPYR6WbVq9pl",
      "include_colab_link": true
    },
    "kernelspec": {
      "name": "python3",
      "display_name": "Python 3"
    },
    "language_info": {
      "name": "python"
    }
  },
  "cells": [
    {
      "cell_type": "markdown",
      "metadata": {
        "id": "view-in-github",
        "colab_type": "text"
      },
      "source": [
        "<a href=\"https://colab.research.google.com/github/chacha86/pythonai2/blob/main/%ED%8C%90%EB%8B%A4%EC%8A%A4_%EA%B8%B0%EC%B4%883_%EC%BB%AC%EB%9F%BC%EA%B3%BC_%EC%9D%B8%EB%8D%B1%EC%8A%A4_%EC%A1%B0%EC%9E%91.ipynb\" target=\"_parent\"><img src=\"https://colab.research.google.com/assets/colab-badge.svg\" alt=\"Open In Colab\"/></a>"
      ]
    },
    {
      "cell_type": "code",
      "execution_count": 3,
      "metadata": {
        "id": "G0y6aecAt1SC"
      },
      "outputs": [],
      "source": [
        "import pandas as pd\n",
        "df1 =pd.read_excel('/content/거래내역조회 (3).xlsx', skiprows=3)\n",
        "df2 =pd.read_excel('/content/students (2).xlsx')"
      ]
    },
    {
      "cell_type": "code",
      "source": [
        "# 8. 컬럼 조작하기(조회, 추가, 수정, 삭제)\n",
        "\n",
        "## 8.1 컬럼 정보 얻기(조회)\n",
        "df1.columns # columns 정보\n",
        "df1.columns.values # columns 배열\n",
        "\n",
        "## 8.2 컬럼 추가\n",
        "### 단일값 세팅\n",
        "df1['메모2'] = 'aaa'\n",
        "\n",
        "### 행별 세팅\n",
        "df1[\"메모3\"] = ['1', '2', '3', '4', '5', '6', '7', '8', '9', '10']\n",
        "\n",
        "### 기존 컬럼을 이용해서 새컬럼으로 만듦\n",
        "\n",
        "df1['찾으신금액2'] = df1['찾으신금액'] * 2\n",
        "\n",
        "## 8.3 컬럼 수정\n",
        "### 컬럼값을 얻어와서 직접 바꾸기 -> 사용하기 쉬운데, 원본이 바로 바뀜. (주의)\n",
        "df1_tmp = df1[['No.', '거래일시', '적요', '기재내용', '찾으신금액']]\n",
        "\n",
        "df1_tmp.columns = ['a', 'b', 'c', 'd', 'e']\n",
        "df1_tmp.columns.values[0] = 'No.'\n",
        "\n",
        "\n",
        "### 함수를 이용해서 바꾸기\n",
        "df1_tmp2 = df1[['No.', '거래일시', '적요', '기재내용', '찾으신금액']]\n",
        "df1_tmp2_mod = df1_tmp2.rename(columns={\"No.\" : \"번호\", \"거래일시\" : \"거래날짜\"})\n",
        "\n",
        "### inplace 옵션을 True로 주면 원본에 바로 적용\n",
        "df1_tmp2_mod.rename(columns={\"기재내용\" : \"사용내용\"}, inplace=True)\n",
        "\n",
        "## 8.4 컬럼 삭제\n",
        "### 내가 원하는 컬럼만 재선택\n",
        "df1_tmp3 = df1[df1.columns.values[:-3]]\n",
        "df1_tmp3\n",
        "\n",
        "\n",
        "### 삭제 함수 drop을 이용\n",
        "df1.drop(['메모2', '메모3', '찾으신금액2'], axis=1, inplace=True)\n",
        "\n",
        "\n"
      ],
      "metadata": {
        "id": "q_mu7nyGuFkM"
      },
      "execution_count": null,
      "outputs": []
    },
    {
      "cell_type": "code",
      "source": [
        "# 9. index 조작\n",
        "df1\n",
        "## 9.1 index 조회\n",
        "\n",
        "df1.index\n",
        "df1.index.values\n",
        "\n",
        "## 9.2 index 추가\n",
        "df1.loc[10] = 'a'\n",
        "\n",
        "df1_tmp4 = df1[['No.', '거래일시']]\n",
        "# df1_tmp4.loc[11] = [100, '2022.03.11 03:11']\n",
        "\n",
        "df1_tmp4_cp = df1_tmp4.copy()\n",
        "df1_tmp4_cp.loc[11] = [100, '2022.03.11 03:11']\n",
        "\n",
        "## 9.3 index 수정\n",
        "df1_tmp4_cp2 = df1_tmp4_cp[:3]\n",
        "df1_tmp4_cp2.index = ['a', 'b', 'c']\n",
        "df1_tmp4_cp2.index.values[1] = 'kkkk'\n",
        "df1_tmp4_cp2\n",
        "\n",
        "df1_tmp4_cp3 = df1_tmp4_cp[:3]\n",
        "df1_tmp4_cp3.rename(index={0 : 'a', 1 : 'b', 2 : 'c'}, inplace=True)\n",
        "df1_tmp4_cp3\n",
        "\n",
        "## 9.4 index 삭제\n",
        "df1_tmp4_cp4 = df1_tmp4_cp[:3]\n",
        "\n",
        "\n",
        "df1_tmp4_cp4.drop([0, 2], axis=0, inplace=True)\n"
      ],
      "metadata": {
        "id": "MUMF-kG_0JYh"
      },
      "execution_count": null,
      "outputs": []
    },
    {
      "cell_type": "code",
      "source": [
        "df1.drop(10, inplace=True)"
      ],
      "metadata": {
        "id": "OK57apk59pa7"
      },
      "execution_count": 86,
      "outputs": []
    },
    {
      "cell_type": "code",
      "source": [
        "## 9.5 기존 컬럼으로 인덱스 세팅\n",
        "df1.set_index('No.', inplace = True)\n",
        "\n",
        "df1"
      ],
      "metadata": {
        "id": "JRkNKv0y9yws"
      },
      "execution_count": null,
      "outputs": []
    },
    {
      "cell_type": "code",
      "source": [
        "# loc, iloc\n",
        "df1.loc[1]\n",
        "\n",
        "df1.set_index('적요', inplace=True)"
      ],
      "metadata": {
        "id": "udI-TduL-Zwe"
      },
      "execution_count": 98,
      "outputs": []
    },
    {
      "cell_type": "code",
      "source": [
        "df1.loc['체크우리']\n",
        "\n"
      ],
      "metadata": {
        "id": "fDt4IrjE-5X3"
      },
      "execution_count": null,
      "outputs": []
    },
    {
      "cell_type": "code",
      "source": [
        "## 9.6 인덱스 되돌리기\n",
        "df1.reset_index(inplace=True)\n",
        "df1"
      ],
      "metadata": {
        "id": "bjweEPdI_Cpu"
      },
      "execution_count": null,
      "outputs": []
    },
    {
      "cell_type": "code",
      "source": [
        "### No. 컬럼을 만들고 1 ~ 10까지 부여\n",
        "df1['No.'] = df1.index.values + 1\n"
      ],
      "metadata": {
        "id": "ht86dLj1_a9Z"
      },
      "execution_count": 111,
      "outputs": []
    },
    {
      "cell_type": "code",
      "source": [],
      "metadata": {
        "id": "5kXf-ffYCDxF"
      },
      "execution_count": null,
      "outputs": []
    },
    {
      "cell_type": "code",
      "source": [
        "df1_tmp2_mod"
      ],
      "metadata": {
        "id": "NL_bUrBzymYg"
      },
      "execution_count": null,
      "outputs": []
    }
  ]
}