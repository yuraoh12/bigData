{
  "nbformat": 4,
  "nbformat_minor": 0,
  "metadata": {
    "colab": {
      "provenance": [],
      "authorship_tag": "ABX9TyO83r3kckoeKNhTGLUgfVaJ",
      "include_colab_link": true
    },
    "kernelspec": {
      "name": "python3",
      "display_name": "Python 3"
    },
    "language_info": {
      "name": "python"
    }
  },
  "cells": [
    {
      "cell_type": "markdown",
      "metadata": {
        "id": "view-in-github",
        "colab_type": "text"
      },
      "source": [
        "<a href=\"https://colab.research.google.com/github/chacha86/pythonai2/blob/main/%EC%98%81%ED%99%94_%EB%8D%B0%EC%9D%B4%ED%84%B0_%EC%B2%98%EB%A6%AC.ipynb\" target=\"_parent\"><img src=\"https://colab.research.google.com/assets/colab-badge.svg\" alt=\"Open In Colab\"/></a>"
      ]
    },
    {
      "cell_type": "code",
      "execution_count": 68,
      "metadata": {
        "id": "OEAk_uL0Nukg"
      },
      "outputs": [],
      "source": [
        "import pandas as pd\n",
        "\n",
        "movie = pd.read_excel('/content/movie2.xlsx')"
      ]
    },
    {
      "cell_type": "code",
      "source": [
        "movie.columns"
      ],
      "metadata": {
        "id": "J2UkiGFuN4Wy"
      },
      "execution_count": null,
      "outputs": []
    },
    {
      "cell_type": "code",
      "source": [
        "## 결측치 처리1\n",
        "\n",
        "movie2 = movie.drop(movie.columns[movie.isna().sum() >= 1000].values, axis=1)"
      ],
      "metadata": {
        "id": "CUV83nlfN4ko"
      },
      "execution_count": 69,
      "outputs": []
    },
    {
      "cell_type": "code",
      "source": [
        "## 오기입 데이터 처리\n",
        "idx = movie2[['10대_비율', '20대_비율', '30대_비율', '40대_비율',\n",
        "       '50대_비율']].sum(axis=1) != 0\n",
        "\n",
        "movie3 = movie2.loc[idx]"
      ],
      "metadata": {
        "id": "UqhXBlmOP6JY"
      },
      "execution_count": 70,
      "outputs": []
    },
    {
      "cell_type": "code",
      "source": [
        "movie3.info()\n",
        "movie3.columns"
      ],
      "metadata": {
        "id": "QgNiJ2-fRdRu"
      },
      "execution_count": null,
      "outputs": []
    },
    {
      "cell_type": "code",
      "source": [
        "## 결측치 처리2\n",
        "## OST ~ 연출 => drop\n",
        "movie4 = movie3.dropna()\n"
      ],
      "metadata": {
        "id": "5G06aCJyRsFs"
      },
      "execution_count": 71,
      "outputs": []
    },
    {
      "cell_type": "code",
      "source": [
        "## OST ~ 연출 => impute\n",
        "list1 = ['OST', '영상미', '스토리', '연기', '연출']\n",
        "\n",
        "for col in list1 :\n",
        "  col_mean = movie3[col].loc[movie3[col].notna()].mean()\n",
        "  movie3[col].fillna(col_mean, inplace=True)\n"
      ],
      "metadata": {
        "id": "-ZPvOQNvTpLc"
      },
      "execution_count": null,
      "outputs": []
    },
    {
      "cell_type": "code",
      "source": [
        "movie5 = movie3.dropna()"
      ],
      "metadata": {
        "id": "al0UAzrMTVbP"
      },
      "execution_count": 73,
      "outputs": []
    },
    {
      "cell_type": "code",
      "source": [
        "movie4 # 결측치 다 드롭\n",
        "movie5 # impute"
      ],
      "metadata": {
        "id": "0b0J-AW1TWZH"
      },
      "execution_count": null,
      "outputs": []
    },
    {
      "cell_type": "code",
      "source": [
        "movie4.info()"
      ],
      "metadata": {
        "id": "TiMUnuCNTrrV"
      },
      "execution_count": null,
      "outputs": []
    },
    {
      "cell_type": "code",
      "source": [
        "# 관객수 처리\n",
        "movie4_tmp = movie4['관객수_x'].str.replace('명', '').str.replace(',', '')\n",
        "\n",
        "movie4_tmp2 = movie4_tmp.loc[movie4_tmp.str.contains('만')].str.replace('만', '').astype('float') * 10000\n",
        "\n",
        "movie4_tmp2.index\n",
        "\n",
        "movie4_tmp.loc[movie4_tmp2.index] = movie4_tmp2\n",
        "\n"
      ],
      "metadata": {
        "id": "j6FCRixeURyL"
      },
      "execution_count": 95,
      "outputs": []
    },
    {
      "cell_type": "code",
      "source": [
        "movie4['관객수'] = movie4_tmp.astype('float')"
      ],
      "metadata": {
        "id": "_a0pS3JdVgQR"
      },
      "execution_count": null,
      "outputs": []
    },
    {
      "cell_type": "code",
      "source": [
        "movie4_2 = movie4.drop('관객수_x', axis=1)"
      ],
      "metadata": {
        "id": "nqGEn9WWVsmB"
      },
      "execution_count": 102,
      "outputs": []
    },
    {
      "cell_type": "code",
      "source": [
        "target = movie4_2['관객수']"
      ],
      "metadata": {
        "id": "iy5gp5nHV7q_"
      },
      "execution_count": 104,
      "outputs": []
    },
    {
      "cell_type": "code",
      "source": [
        "## 데이터 전처리\n",
        "### 범주 -> 인코딩\n",
        "\n",
        "### 제목 -> 제외\n",
        "\n",
        "### 개봉 -> 방학시즌,\n",
        "### 개봉 시즌 -> 계절\n",
        "### 등급 -> 원핫\n",
        "### 장르 -> 한 영화에 장르가 중첩 -> 처리해서 사용\n",
        "### 국가 -> 사용\n",
        "### 러닝타임 -> 수치로 바꿔서 사용\n",
        "### 배급사 -> 빈도수 많은 거 위주로 사용\n",
        "### 참여수 -> 제외. 나중에 고려\n",
        "### 감독 -> 타겟 인코딩, 레이블 인코딩\n",
        "\n",
        "movie4_2['감독'].value_counts()\n",
        "\n",
        "### 관객수와 참여수 비례"
      ],
      "metadata": {
        "id": "Rlr2zxEDV_2m"
      },
      "execution_count": null,
      "outputs": []
    },
    {
      "cell_type": "code",
      "source": [
        "### 개봉 시즌 -> 4계절로 바꾸기\n",
        "\n",
        "def convert_season(month) :\n",
        "  if month in [12,1,2] :\n",
        "    return '겨울'\n",
        "  elif month in [3,4,5] :\n",
        "    return '봄'\n",
        "  elif month in [6,7,8] :\n",
        "    return '여름'\n",
        "  else :\n",
        "    return '가을'\n",
        "\n",
        "movie4_2['개봉 시즌'] = movie4_2['개봉'].str[5:7].astype('int').map(convert_season)"
      ],
      "metadata": {
        "colab": {
          "base_uri": "https://localhost:8080/"
        },
        "id": "qJ3lhXEun9D8",
        "outputId": "1ea2915e-ad3d-4d7f-8d2a-6c897883ad62"
      },
      "execution_count": 151,
      "outputs": [
        {
          "output_type": "execute_result",
          "data": {
            "text/plain": [
              "array(['여름', '겨울', '봄', '가을'], dtype=object)"
            ]
          },
          "metadata": {},
          "execution_count": 151
        }
      ]
    },
    {
      "cell_type": "code",
      "source": [
        "### 장르 -> 한 영화에 장르가 중첩 -> 처리해서 사용. 가장 앞에 있는 장르만 사용\n",
        "movie4_2['대표 장르'] = movie4_2['장르'].str.split(',').str[0]"
      ],
      "metadata": {
        "id": "tLasZ8lCoyPM"
      },
      "execution_count": 160,
      "outputs": []
    },
    {
      "cell_type": "code",
      "source": [
        "### 국가 -> 사용 -> 제일 앞에 있는 국가를 대표로 선택\n",
        "movie4_2['대표 국가'] = movie4_2['국가'].str.split(',').str[0]"
      ],
      "metadata": {
        "id": "pbIrB7h1pds9"
      },
      "execution_count": 170,
      "outputs": []
    },
    {
      "cell_type": "code",
      "source": [
        "### 러닝타임 -> 수치로 바꿔서 사용 -> 분 제거하고 astype\n",
        "\n",
        "movie4_2['러닝타임(수치)'] = movie4_2['러닝타임'].str.replace('분', '').astype('int')"
      ],
      "metadata": {
        "id": "eG1OKA5ZqE8b"
      },
      "execution_count": 174,
      "outputs": []
    },
    {
      "cell_type": "code",
      "source": [
        "### 배급사 -> 빈도수 많은 거 위주로 사용 -> 국가와 비슷하게 해결\n",
        "\n",
        "values = movie4_2['배급'].value_counts()\n",
        "\n",
        "x = list(range(values.size))\n",
        "\n",
        "idx = values >= 20\n",
        "\n",
        "use_enter = values[idx].index.values\n",
        "\n",
        "def enter_20_times(enter):\n",
        "  if enter in use_enter :\n",
        "    return enter\n",
        "  return '기타'\n",
        "\n",
        "movie4_2['주요 배급사'] = movie4_2['배급'].map(enter_20_times)\n",
        "\n",
        "# df['host_name'] = df['host_name'].map(hname_5_times)\n",
        "\n",
        "\n",
        "# range(0, movie4_2['배급'].value_counts())\n",
        "\n",
        "# movie4_2['배급'].value_counts() >= 20"
      ],
      "metadata": {
        "id": "jxzDRy5DqToB"
      },
      "execution_count": 195,
      "outputs": []
    },
    {
      "cell_type": "code",
      "source": [
        "### 참여수 -> 제외. 나중에 고려 -> drop\n",
        "movie4_3 = movie4_2.drop('참여수', axis=1)"
      ],
      "metadata": {
        "id": "jbizDNrYq19Z"
      },
      "execution_count": 199,
      "outputs": []
    },
    {
      "cell_type": "code",
      "source": [
        "### 감독 -> 타겟 인코딩, 레이블 인코딩 -> 타겟인코딩\n",
        "movie4_3[\"감독_인코딩\"] = movie4_3.groupby(\"감독\")[\"관객수\"].transform(\"mean\")\n"
      ],
      "metadata": {
        "id": "7g0JhZX8s2NI"
      },
      "execution_count": 200,
      "outputs": []
    },
    {
      "cell_type": "code",
      "source": [
        "  # 과학적 표기법 대신 소수점 5자리까지 나타낸다.\n",
        "pd.options.display.float_format = '{:.5f}'.format\n",
        "movie4_3[\"감독_인코딩\"]"
      ],
      "metadata": {
        "id": "EjUlq7OTtDMW"
      },
      "execution_count": null,
      "outputs": []
    },
    {
      "cell_type": "code",
      "source": [
        "movie4_3.info()\n",
        "\n",
        "# 제목, 개봉, 장르, 국가, 러닝타임, 배급, 감독\n",
        "\n",
        "movie4_4 = movie4_3.drop(['제목', '개봉', '장르', '국가', '러닝타임', '배급', '감독'], axis=1)"
      ],
      "metadata": {
        "id": "6u0tZK7ntQSk"
      },
      "execution_count": null,
      "outputs": []
    },
    {
      "cell_type": "code",
      "source": [
        "## 원핫 인코딩\n",
        "\n",
        "cate = movie4_4.select_dtypes('object')\n",
        "target = movie4_4['관객수']\n",
        "num = movie4_4.drop(cate.columns, axis=1).drop('관객수', axis=1)\n",
        "\n",
        "num.columns\n",
        "cate.columns\n",
        "target\n",
        "\n"
      ],
      "metadata": {
        "id": "kb_J0Ss2t3et"
      },
      "execution_count": null,
      "outputs": []
    },
    {
      "cell_type": "code",
      "source": [
        "cate_1hot = pd.get_dummies(cate)"
      ],
      "metadata": {
        "id": "sWtSpbJwunZb"
      },
      "execution_count": 226,
      "outputs": []
    },
    {
      "cell_type": "code",
      "source": [
        "train = pd.concat([num, cate_1hot], axis=1)"
      ],
      "metadata": {
        "id": "isI0l9Vnutl3"
      },
      "execution_count": 230,
      "outputs": []
    },
    {
      "cell_type": "code",
      "source": [
        "from sklearn.model_selection import train_test_split\n",
        "\n",
        "trd, tsd, trt, tst = train_test_split(train, target, train_size=0.8, random_state=42)"
      ],
      "metadata": {
        "id": "sY6FV1arvMgo"
      },
      "execution_count": 233,
      "outputs": []
    },
    {
      "cell_type": "code",
      "source": [
        "from sklearn.linear_model import Ridge\n",
        "ridge = Ridge(alpha=100)\n",
        "\n",
        "\n",
        "ridge.fit(trd, trt);\n",
        "ridge.score(trd, trt), ridge.score(tsd, tst)\n"
      ],
      "metadata": {
        "colab": {
          "base_uri": "https://localhost:8080/"
        },
        "id": "oKy5prWzu2q8",
        "outputId": "3677e983-f598-4fc3-a824-ee6c70eed6d7"
      },
      "execution_count": 252,
      "outputs": [
        {
          "output_type": "execute_result",
          "data": {
            "text/plain": [
              "(0.8258002720775217, 0.7785527019416066)"
            ]
          },
          "metadata": {},
          "execution_count": 252
        }
      ]
    },
    {
      "cell_type": "code",
      "source": [
        "from sklearn.model_selection import cross_val_score\n",
        "\n",
        "cross_val_score(ridge, tsd, tst, cv=5).mean()\n",
        "cross_val_score(ridge, trd, trt, cv=5).mean()"
      ],
      "metadata": {
        "id": "hegJzdN3vdXV"
      },
      "execution_count": null,
      "outputs": []
    }
  ]
}