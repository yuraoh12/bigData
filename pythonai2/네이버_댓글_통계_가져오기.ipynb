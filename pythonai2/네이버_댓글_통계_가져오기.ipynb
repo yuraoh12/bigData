{
  "nbformat": 4,
  "nbformat_minor": 0,
  "metadata": {
    "colab": {
      "provenance": [],
      "authorship_tag": "ABX9TyNWd/VwsVDTBskJc6/stY1J",
      "include_colab_link": true
    },
    "kernelspec": {
      "name": "python3",
      "display_name": "Python 3"
    },
    "language_info": {
      "name": "python"
    }
  },
  "cells": [
    {
      "cell_type": "markdown",
      "metadata": {
        "id": "view-in-github",
        "colab_type": "text"
      },
      "source": [
        "<a href=\"https://colab.research.google.com/github/chacha86/pythonai2/blob/main/%EB%84%A4%EC%9D%B4%EB%B2%84_%EB%8C%93%EA%B8%80_%ED%86%B5%EA%B3%84_%EA%B0%80%EC%A0%B8%EC%98%A4%EA%B8%B0.ipynb\" target=\"_parent\"><img src=\"https://colab.research.google.com/assets/colab-badge.svg\" alt=\"Open In Colab\"/></a>"
      ]
    },
    {
      "cell_type": "code",
      "execution_count": null,
      "metadata": {
        "id": "FQ9tNpKx8KBI"
      },
      "outputs": [],
      "source": [
        "import selenium\n",
        "from selenium import webdriver\n",
        "from selenium.webdriver.common.by import By\n",
        "from selenium.webdriver.common.keys import Keys\n",
        "from selenium.webdriver.chrome.service import Service as ChromeService\n",
        "import time\n",
        "\n",
        "options = webdriver.ChromeOptions()\n",
        "options.add_experimental_option(\"excludeSwitches\", [\"enable-automation\"])\n",
        "options.add_experimental_option(\"useAutomationExtension\", False)\n",
        "options.add_argument('headless')\n",
        "service = ChromeService(executable_path='C:/Users/Administrator/jupyter notebook/chromedriver/chromedriver.exe')\n",
        "driver = webdriver.Chrome(service=service, options=options)\n",
        "\n",
        "# 실습1\n",
        "# 뉴스의 링크를 넘기면 해당 뉴스의 댓글 통계 정보를 딕셔너리로 반환하는 함수 만들기\n",
        "\n",
        "def get_stat_gen(url) :\n",
        "    driver = webdriver.Chrome(service=service, options=options)\n",
        "    driver.get(url)\n",
        "    time.sleep(2)\n",
        "    chart_sex = driver.find_element(By.CLASS_NAME, 'u_cbox_chart_sex')\n",
        "    per_list = chart_sex.find_elements(By.CLASS_NAME, 'u_cbox_chart_per')\n",
        "\n",
        "    dic_keys = ['남자', '여자']\n",
        "    sex_dic = {}\n",
        "\n",
        "    for key, per in zip(dic_keys, per_list) :\n",
        "        sex_dic[key] = per.text\n",
        "\n",
        "    return sex_dic\n",
        "\n",
        "def get_stat_age(url) :\n",
        "\n",
        "    driver = webdriver.Chrome(service=service, options=options)\n",
        "    driver.get(url)\n",
        "    time.sleep(2)\n",
        "    chart_age = driver.find_element(By.CLASS_NAME, 'u_cbox_chart_age')\n",
        "    per_list = chart_age.find_elements(By.CLASS_NAME, 'u_cbox_chart_per')\n",
        "\n",
        "    age_keys = ['10대', '20대', '30대', '40대', '50대', '60대']\n",
        "    age_dic = {}\n",
        "\n",
        "    for key, per in zip(age_keys, per_list) :\n",
        "        age_dic[key] = per.text\n",
        "\n",
        "    return age_dic\n",
        "\n",
        "def get_reply_stat(url) :\n",
        "\n",
        "    gen_info = get_stat_gen(url)\n",
        "    age_info = get_stat_age(url)\n",
        "\n",
        "    gen_info.update(age_info)\n",
        "\n",
        "    return gen_info\n",
        "\n",
        "url = 'https://n.news.naver.com/article/025/0003307263?ntype=RANKING'\n",
        "stat_info = get_reply_stat(url)\n",
        "print(stat_info)"
      ]
    }
  ]
}