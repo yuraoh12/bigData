{
  "nbformat": 4,
  "nbformat_minor": 0,
  "metadata": {
    "colab": {
      "provenance": [],
      "authorship_tag": "ABX9TyN1oDWs1tCZKwk9W/8GAon/",
      "include_colab_link": true
    },
    "kernelspec": {
      "name": "python3",
      "display_name": "Python 3"
    },
    "language_info": {
      "name": "python"
    }
  },
  "cells": [
    {
      "cell_type": "markdown",
      "metadata": {
        "id": "view-in-github",
        "colab_type": "text"
      },
      "source": [
        "<a href=\"https://colab.research.google.com/github/chacha86/pythonai2/blob/main/%EC%84%A0%ED%98%95%ED%9A%8C%EA%B7%80%EB%A5%BC_%EC%9D%B4%EC%9A%A9%ED%95%9C_%EC%A7%91%EA%B0%92_%EC%98%88%EC%B8%A1_%EB%AC%B8%EC%A0%9C1_%ED%92%80%EC%9D%B4.ipynb\" target=\"_parent\"><img src=\"https://colab.research.google.com/assets/colab-badge.svg\" alt=\"Open In Colab\"/></a>"
      ]
    },
    {
      "cell_type": "code",
      "execution_count": 5,
      "metadata": {
        "id": "Z-Y_2-le6Vhc"
      },
      "outputs": [],
      "source": [
        "# 데이터 로드\n",
        "import pandas as pd\n",
        "house = pd.read_csv('/content/1553768847-housing.csv')"
      ]
    },
    {
      "cell_type": "code",
      "source": [
        "# EDA\n",
        "## 결측치가 많거나 불필요한 컬럼은 걸러내 보자\n",
        "## 상관관계로 필요한거 솎아내보자\n",
        "## 이상치가 많아 보이는 컬럼은 체크해두자\n",
        "\n",
        "\n",
        "\n",
        "## 이상치 존재 여부 확인 -> IQR\n",
        "## 위경도를 이용한 산점도 그리기\n",
        "## 집값(median_house_value)과 다른 변수의 상관관계 확인\n",
        "## 위도(longitude) 경도(latitude)를 이용해 산점도로 위치와 집값의 관계 시각적으로 확인\n",
        "\n",
        "house\n",
        "house.info()\n",
        "house.describe()\n",
        "\n",
        "house.info()\n",
        "\n",
        "\n"
      ],
      "metadata": {
        "id": "-QEY_2Pz6Wka"
      },
      "execution_count": null,
      "outputs": []
    },
    {
      "cell_type": "code",
      "source": [
        "\n",
        "house.corr()\n",
        "\n"
      ],
      "metadata": {
        "id": "nGCwAqy6dVvu"
      },
      "execution_count": null,
      "outputs": []
    },
    {
      "cell_type": "code",
      "source": [
        "# 데이터 전처리\n",
        "## 결측치 처리\n",
        "## 이상치 처리\n",
        "## 수치형 데이터\n",
        "### 표준화\n",
        "## 범주형 데이터\n",
        "### 원핫인코딩\n",
        "\n",
        "target = house['median_house_value']\n",
        "train = house[['median_income']]\n",
        "\n",
        "from sklearn.model_selection import train_test_split\n",
        "\n",
        "trd, tsd, trt, tst = train_test_split(train, target, train_size=0.8, random_state=42) # 학습용데이터는 꼭 2차원으로\n"
      ],
      "metadata": {
        "id": "b-4O9_IP6Wmd"
      },
      "execution_count": 23,
      "outputs": []
    },
    {
      "cell_type": "code",
      "source": [
        "# 학습\n",
        "## 선형회귀를 이용하여 모델 학습\n",
        "from sklearn.linear_model import LinearRegression\n",
        "\n",
        "lr = LinearRegression()\n",
        "lr.fit(trd, trt)\n",
        "\n",
        "\n",
        "\n",
        "\n"
      ],
      "metadata": {
        "id": "8k84Kj3C6Woh"
      },
      "execution_count": null,
      "outputs": []
    },
    {
      "cell_type": "code",
      "source": [
        "# 평가\n",
        "## 학습한 모델을 평가하기 -> 과소적합\n",
        "print(lr.score(trd, trt), lr.score(tsd, tst))"
      ],
      "metadata": {
        "id": "unmGW5l37CCW",
        "colab": {
          "base_uri": "https://localhost:8080/"
        },
        "outputId": "b1f2feb5-b770-4d17-ac72-229621119bb6"
      },
      "execution_count": 25,
      "outputs": [
        {
          "output_type": "stream",
          "name": "stdout",
          "text": [
            "0.4769927345820525 0.45885918903846656\n"
          ]
        }
      ]
    },
    {
      "cell_type": "code",
      "source": [
        "# 예측\n",
        "house.describe()['median_income']\n",
        "\n",
        "lr.predict([[4]])"
      ],
      "metadata": {
        "id": "kOJT2M-9e6kT"
      },
      "execution_count": null,
      "outputs": []
    },
    {
      "cell_type": "code",
      "source": [],
      "metadata": {
        "id": "O8UQH_fAfJza"
      },
      "execution_count": null,
      "outputs": []
    }
  ]
}