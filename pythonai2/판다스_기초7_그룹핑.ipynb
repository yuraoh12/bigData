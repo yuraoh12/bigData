{
  "nbformat": 4,
  "nbformat_minor": 0,
  "metadata": {
    "colab": {
      "provenance": [],
      "authorship_tag": "ABX9TyMJooWgSdXG8xlFRLJw1fQf",
      "include_colab_link": true
    },
    "kernelspec": {
      "name": "python3",
      "display_name": "Python 3"
    },
    "language_info": {
      "name": "python"
    }
  },
  "cells": [
    {
      "cell_type": "markdown",
      "metadata": {
        "id": "view-in-github",
        "colab_type": "text"
      },
      "source": [
        "<a href=\"https://colab.research.google.com/github/chacha86/pythonai2/blob/main/%ED%8C%90%EB%8B%A4%EC%8A%A4_%EA%B8%B0%EC%B4%887_%EA%B7%B8%EB%A3%B9%ED%95%91.ipynb\" target=\"_parent\"><img src=\"https://colab.research.google.com/assets/colab-badge.svg\" alt=\"Open In Colab\"/></a>"
      ]
    },
    {
      "cell_type": "code",
      "execution_count": null,
      "metadata": {
        "id": "w-e6RWCjHn2H"
      },
      "outputs": [],
      "source": [
        "import pandas as pd\n",
        "\n",
        "df = pd.read_excel('/content/거래내역조회 (3).xlsx', skiprows=3)\n"
      ]
    },
    {
      "cell_type": "code",
      "source": [
        "stu = pd.read_excel('/content/students (2).xlsx')\n",
        "\n",
        "# 7. 학생들의 평균 수학 점수가 가장 높은 도시는?\n",
        "stu['지역명'].value_counts()\n",
        "stu['지역명'].unique()\n",
        "\n",
        "print('대전 : ', stu.loc[stu['지역명'] == '대전', '수학'].mean())\n",
        "print('서울 : ',  stu.loc[stu['지역명'] == '서울', '수학'].mean())"
      ],
      "metadata": {
        "colab": {
          "base_uri": "https://localhost:8080/"
        },
        "id": "31o62s7eIuuU",
        "outputId": "4870ea90-d19a-4d16-ac25-c7e054020155"
      },
      "execution_count": 13,
      "outputs": [
        {
          "output_type": "stream",
          "name": "stdout",
          "text": [
            "대전 :  78.25\n",
            "서울 :  78.78260869565217\n"
          ]
        }
      ]
    },
    {
      "cell_type": "code",
      "source": [
        "## ~별 ~현황\n",
        "## 지역별 수학 평균 현황\n",
        "## 남녀별 성적 현황\n",
        "## 도시별 초등학교 개수 현황\n",
        "## 국가별 GDP 현황\n",
        "stu.groupby('지역명')['수학'].mean()"
      ],
      "metadata": {
        "id": "amKGkmT0JgeP"
      },
      "execution_count": null,
      "outputs": []
    },
    {
      "cell_type": "code",
      "source": [
        "## 중그룹, 소그룹\n",
        "\n",
        "stu['성'] = stu['이름'].str[:1]\n",
        "\n",
        "stu['성'].unique()\n",
        "\n",
        "## 성별 평균점수\n",
        "\n",
        "stu['평균'] = (stu['수학'] + stu['영어'] + stu['국어']) / 3\n",
        "stu.groupby('성')['평균'].mean()\n",
        "\n",
        "stu.groupby(['성', '지역명'])['평균'].mean()"
      ],
      "metadata": {
        "id": "Nujg9F7jLxzQ"
      },
      "execution_count": null,
      "outputs": []
    }
  ]
}