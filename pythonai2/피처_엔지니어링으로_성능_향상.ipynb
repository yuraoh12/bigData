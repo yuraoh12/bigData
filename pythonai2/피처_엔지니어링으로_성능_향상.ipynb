{
  "nbformat": 4,
  "nbformat_minor": 0,
  "metadata": {
    "colab": {
      "provenance": [],
      "authorship_tag": "ABX9TyP0ZDRPF+mwQLu8O2lGevfx",
      "include_colab_link": true
    },
    "kernelspec": {
      "name": "python3",
      "display_name": "Python 3"
    },
    "language_info": {
      "name": "python"
    }
  },
  "cells": [
    {
      "cell_type": "markdown",
      "metadata": {
        "id": "view-in-github",
        "colab_type": "text"
      },
      "source": [
        "<a href=\"https://colab.research.google.com/github/chacha86/pythonai2/blob/main/%ED%94%BC%EC%B2%98_%EC%97%94%EC%A7%80%EB%8B%88%EC%96%B4%EB%A7%81%EC%9C%BC%EB%A1%9C_%EC%84%B1%EB%8A%A5_%ED%96%A5%EC%83%81.ipynb\" target=\"_parent\"><img src=\"https://colab.research.google.com/assets/colab-badge.svg\" alt=\"Open In Colab\"/></a>"
      ]
    },
    {
      "cell_type": "code",
      "execution_count": null,
      "metadata": {
        "id": "ZDX3CTuJ-p0n"
      },
      "outputs": [],
      "source": [
        "## 1. 피처 엔지니어링(특성 공학)\n",
        "## 피처(특성) == 컬럼\n",
        "\n",
        "import pandas as pd\n",
        "\n",
        "fish = pd.read_csv('/content/Fish.csv')\n",
        "\n",
        "fish.info()"
      ]
    },
    {
      "cell_type": "code",
      "source": [
        "## 회귀 -> 수치 예측\n",
        "## 길이 -> 무게 예측\n",
        "\n",
        "train = fish[['Length1']]\n",
        "target = fish['Weight']\n"
      ],
      "metadata": {
        "id": "XZi11dGHBzcg"
      },
      "execution_count": 6,
      "outputs": []
    },
    {
      "cell_type": "code",
      "source": [
        "from sklearn.model_selection import train_test_split\n",
        "\n",
        "trd, tsd, trt, tst = train_test_split(train, target, train_size=0.8, random_state=42)\n"
      ],
      "metadata": {
        "id": "IGEZxfIGBjhG"
      },
      "execution_count": 7,
      "outputs": []
    },
    {
      "cell_type": "code",
      "source": [
        "from sklearn.preprocessing import StandardScaler\n",
        "\n",
        "ss = StandardScaler() # 표준화 변환기\n",
        "\n",
        "## 언어 90점, 수학 90점\n",
        "\n",
        "ss.fit(trd) # 표준화 대상 그룹\n",
        "s_trd = ss.transform(trd)\n",
        "s_tsd = ss.transform(tsd)\n"
      ],
      "metadata": {
        "id": "ljzFKsKvCkVE"
      },
      "execution_count": 11,
      "outputs": []
    },
    {
      "cell_type": "code",
      "source": [
        "\n",
        "from sklearn.neighbors import KNeighborsRegressor\n",
        "\n",
        "knr = KNeighborsRegressor()\n",
        "knr.fit(s_trd, trt)\n",
        "knr.score(s_trd, trt), knr.score(s_tsd, tst)\n",
        "\n",
        "# train에 대한 점수가 test에 대한 점수보다 과도하게 높으면 -> 과대적합\n"
      ],
      "metadata": {
        "colab": {
          "base_uri": "https://localhost:8080/"
        },
        "id": "LdOHO346CZ8q",
        "outputId": "151838dd-03dd-4e0c-e032-dfeb80ab4ecc"
      },
      "execution_count": 14,
      "outputs": [
        {
          "output_type": "execute_result",
          "data": {
            "text/plain": [
              "(0.8990070574826468, 0.8265656636696015)"
            ]
          },
          "metadata": {},
          "execution_count": 14
        }
      ]
    },
    {
      "cell_type": "code",
      "source": [
        "from sklearn.linear_model import LinearRegression\n",
        "\n",
        "lr = LinearRegression()\n",
        "lr.fit(s_trd, trt)\n",
        "lr.score(s_trd, trt), lr.score(s_tsd, tst)"
      ],
      "metadata": {
        "colab": {
          "base_uri": "https://localhost:8080/"
        },
        "id": "6-1qsROtEGJ6",
        "outputId": "34f5408f-6349-42d5-ac87-c10b9e10ad8d"
      },
      "execution_count": 13,
      "outputs": [
        {
          "output_type": "execute_result",
          "data": {
            "text/plain": [
              "(0.844170424366534, 0.8116084146869397)"
            ]
          },
          "metadata": {},
          "execution_count": 13
        }
      ]
    },
    {
      "cell_type": "code",
      "source": [
        "## 1. 특성을 여러개 선택\n",
        "### 다중회귀 -> 특성을 여러개(2개 이상) 사용\n",
        "\n",
        "m_train = fish[['Length1', 'Length2', 'Length3', 'Height',\n",
        "       'Width']]\n",
        "target = fish['Weight']\n",
        "\n"
      ],
      "metadata": {
        "id": "OkRwRuBDEczt"
      },
      "execution_count": 16,
      "outputs": []
    },
    {
      "cell_type": "code",
      "source": [
        "from sklearn.model_selection import train_test_split\n",
        "\n",
        "mtrd, mtsd, mtrt, mtst = train_test_split(m_train, target, train_size=0.8, random_state=42)"
      ],
      "metadata": {
        "id": "S7WVSJBOE9Tu"
      },
      "execution_count": 17,
      "outputs": []
    },
    {
      "cell_type": "code",
      "source": [
        "from sklearn.preprocessing import StandardScaler\n",
        "\n",
        "ss2 = StandardScaler() # 표준화 변환기\n",
        "\n",
        "ss2.fit(mtrd) # 표준화 대상 그룹\n",
        "s_mtrd = ss2.transform(mtrd)\n",
        "s_mtsd = ss2.transform(mtsd)\n"
      ],
      "metadata": {
        "id": "K0XZrnRZFW1J"
      },
      "execution_count": 20,
      "outputs": []
    },
    {
      "cell_type": "code",
      "source": [
        "from sklearn.linear_model import LinearRegression\n",
        "\n",
        "lr2 = LinearRegression()\n",
        "lr2.fit(s_mtrd, mtrt)\n",
        "lr2.score(s_mtrd, mtrt), lr2.score(s_mtsd, mtst)"
      ],
      "metadata": {
        "colab": {
          "base_uri": "https://localhost:8080/"
        },
        "id": "nFzzuwuXFdfS",
        "outputId": "86ef12ea-712c-46eb-b678-a0e2683ef887"
      },
      "execution_count": 23,
      "outputs": [
        {
          "output_type": "execute_result",
          "data": {
            "text/plain": [
              "(0.883887896537022, 0.8821430593048696)"
            ]
          },
          "metadata": {},
          "execution_count": 23
        }
      ]
    },
    {
      "cell_type": "code",
      "source": [
        "## 다항 회귀 -> 항의 차수 높이는 방법\n",
        "## x => 1차항\n",
        "## x^2 => 2차항\n",
        "## x^3 => 3차항\n",
        "\n",
        "m_train['Length1_sqr'] = m_train['Length1'] ** 2"
      ],
      "metadata": {
        "id": "5QUn5ZHWFrmr"
      },
      "execution_count": null,
      "outputs": []
    },
    {
      "cell_type": "code",
      "source": [
        "from sklearn.preprocessing import PolynomialFeatures\n",
        "\n",
        "poly = PolynomialFeatures()\n",
        "poly.fit(m_train)\n",
        "poly_train = poly.transform(m_train)\n",
        "\n",
        "poly.get_feature_names_out()\n",
        "\n",
        "## 다항회귀 -> 최대 3차."
      ],
      "metadata": {
        "id": "a5S7GvfWUme0"
      },
      "execution_count": null,
      "outputs": []
    },
    {
      "cell_type": "code",
      "source": [
        "## 주의 -> 특성(컬럼)이 로우 대비 너무 많으면 오히려 성능 하락(차원의 저주)\n",
        "mtrd, mtsd, mtrt, mtst = train_test_split(poly_train, target, train_size=0.8, random_state=42)"
      ],
      "metadata": {
        "id": "ilVHEl4wGp2x"
      },
      "execution_count": 36,
      "outputs": []
    },
    {
      "cell_type": "code",
      "source": [
        "from sklearn.preprocessing import StandardScaler\n",
        "\n",
        "ss3 = StandardScaler() # 표준화 변환기\n",
        "\n",
        "ss3.fit(mtrd) # 표준화 대상 그룹\n",
        "s_mtrd = ss3.transform(mtrd)\n",
        "s_mtsd = ss3.transform(mtsd)"
      ],
      "metadata": {
        "id": "F009_B9nHjqE"
      },
      "execution_count": 37,
      "outputs": []
    },
    {
      "cell_type": "code",
      "source": [
        "lr3 = LinearRegression()\n",
        "lr3.fit(s_mtrd, mtrt)\n",
        "lr3.score(s_mtrd, mtrt), lr3.score(s_mtsd, mtst)"
      ],
      "metadata": {
        "colab": {
          "base_uri": "https://localhost:8080/"
        },
        "id": "u_BG2i2aHhk4",
        "outputId": "12857288-0077-41f0-9071-71fa6dd61fa7"
      },
      "execution_count": 38,
      "outputs": [
        {
          "output_type": "execute_result",
          "data": {
            "text/plain": [
              "(0.9857265803477123, 0.9581263741527077)"
            ]
          },
          "metadata": {},
          "execution_count": 38
        }
      ]
    },
    {
      "cell_type": "code",
      "source": [
        "## 1. 다항회귀를 하면 왜 성능이 올라갈까?\n",
        "## 2. 다항회귀를 과도하게 하면 왜 오히려 성능이 떨어질까?\n",
        "## 3. 다항회귀를 유의미하게 적용하려면 어떻게 해야할까?\n",
        "##  --> 하이퍼 파라미터 튜닝에 도달"
      ],
      "metadata": {
        "id": "QaNFEXLfVA0G"
      },
      "execution_count": null,
      "outputs": []
    }
  ]
}