{
  "nbformat": 4,
  "nbformat_minor": 0,
  "metadata": {
    "colab": {
      "provenance": [],
      "authorship_tag": "ABX9TyMQ7HKghPKqoWQxsyeSNHnA",
      "include_colab_link": true
    },
    "kernelspec": {
      "name": "python3",
      "display_name": "Python 3"
    },
    "language_info": {
      "name": "python"
    }
  },
  "cells": [
    {
      "cell_type": "markdown",
      "metadata": {
        "id": "view-in-github",
        "colab_type": "text"
      },
      "source": [
        "<a href=\"https://colab.research.google.com/github/chacha86/pythonai2/blob/main/%EC%B5%9C%EA%B7%BC%EC%A0%91_%EC%9D%B4%EC%9B%83%EC%9D%84_%EC%9D%B4%EC%9A%A9%ED%95%9C_%EB%AC%B4%EA%B2%8C_%EC%98%88%EC%B8%A1_%ED%92%80%EC%9D%B4.ipynb\" target=\"_parent\"><img src=\"https://colab.research.google.com/assets/colab-badge.svg\" alt=\"Open In Colab\"/></a>"
      ]
    },
    {
      "cell_type": "code",
      "execution_count": 1,
      "metadata": {
        "id": "fpn_53L9yMYs"
      },
      "outputs": [],
      "source": [
        "# 물고기의 길이를 이용해서 무게를 예측하기\n",
        "import pandas as pd\n",
        "import numpy as np\n",
        "import matplotlib.pyplot as plt\n",
        "import seaborn as sns\n"
      ]
    },
    {
      "cell_type": "code",
      "source": [
        "# 1. 데이터 준비\n",
        "\n",
        "fish = pd.read_csv('/content/Fish.csv')"
      ],
      "metadata": {
        "id": "sibYSZO9yT8M"
      },
      "execution_count": 2,
      "outputs": []
    },
    {
      "cell_type": "code",
      "source": [
        "# 2. 탐색적 분석\n",
        "\n",
        "fish\n",
        "fish.info()\n",
        "fish.describe()\n",
        "\n",
        "## 가장 데이터가 많은 어종\n",
        "\n",
        "fish['Species'].value_counts().sort_values(ascending=False)\n",
        "\n",
        "sns.countplot(data=fish, x='Species')"
      ],
      "metadata": {
        "id": "UxQKJZL8yVcu"
      },
      "execution_count": null,
      "outputs": []
    },
    {
      "cell_type": "code",
      "source": [
        "# 3. 데이터 처리\n",
        "## 필요한데이터만 뽑아주세요.\n",
        "## 가장 많은 어종의 길이, 무게\n",
        "## 학습용 데이터와 테스트용 데이터로 나눠주세요.\n",
        "\n",
        "perch = fish.loc[fish['Species'] == \"Perch\", ['Weight', 'Length1']]\n",
        "\n",
        "train = perch['Length1']\n",
        "target = perch['Weight']\n",
        "\n",
        "from sklearn.model_selection import train_test_split\n",
        "\n",
        "trd, tsd, trt, tst = train_test_split(train, target, train_size=0.8, random_state=42) # 학습데이터는 2차원(데이터프레임), 정답데이터는 1차원(시리즈)\n",
        "\n",
        "trd_df = pd.DataFrame(trd)\n",
        "tsd_df = pd.DataFrame(tsd)\n"
      ],
      "metadata": {
        "id": "gZUbIiDyyYtM"
      },
      "execution_count": 23,
      "outputs": []
    },
    {
      "cell_type": "code",
      "source": [
        "# 4. 학습\n",
        "## 수치 예측이기 때문에 회귀 모델을 사용해야 합니다.\n",
        "## 최근접 이웃 회귀 모델을 이용해 학습을 진행해주세요.\n",
        "## 최근접 이웃 회귀 모델은 sklearn.neighbors 패키지 안에 KNeighborsRegressor라는 이름으로 제공됩니다.\n",
        "\n",
        "from sklearn.neighbors import KNeighborsRegressor\n",
        "knr = KNeighborsRegressor()\n",
        "\n",
        "knr.fit(trd_df, trt)\n",
        "\n",
        "# 5. 평가\n",
        "knr.score(tsd_df, tst)\n",
        "## 테스트용 데이터를 이용해서 모델을 평가해주세요.\n",
        "knr.predict([[100]])\n"
      ],
      "metadata": {
        "id": "zNgixCPIyy7z",
        "colab": {
          "base_uri": "https://localhost:8080/"
        },
        "outputId": "6d57b924-89bf-464a-8393-de0486465a62"
      },
      "execution_count": 48,
      "outputs": [
        {
          "output_type": "stream",
          "name": "stdout",
          "text": [
            "[1043.]\n"
          ]
        },
        {
          "output_type": "stream",
          "name": "stderr",
          "text": [
            "/usr/local/lib/python3.10/dist-packages/sklearn/base.py:439: UserWarning: X does not have valid feature names, but KNeighborsRegressor was fitted with feature names\n",
            "  warnings.warn(\n"
          ]
        },
        {
          "output_type": "execute_result",
          "data": {
            "text/plain": [
              "0.9412554283921548"
            ]
          },
          "metadata": {},
          "execution_count": 48
        }
      ]
    },
    {
      "cell_type": "code",
      "source": [
        "\n",
        "## 최근접 이웃 알고리즘 -> 주변 이웃 n개를 뽑아서 평균을 냄.(회귀), 주변 이웃 n개를 뽑아서 가장 많은 범주로 예측(분류)\n",
        "\n",
        "knr.n_neighbors = 1 # 개발자가 직접 정해주는 학습 알고리즘에 영향을 주는 파라미터 -> 하이퍼 파라미터. 성능에 영향을 준다.\n",
        "\n",
        "knr.fit(trd_df, trt) # 하이퍼 파라미터 수정 후에는 다시 학습해야 함.\n",
        "knr.score(tsd_df, tst)\n"
      ],
      "metadata": {
        "id": "JzPaCpBTCxrI"
      },
      "execution_count": null,
      "outputs": []
    },
    {
      "cell_type": "code",
      "source": [
        "## 이상 데이터를 그래프에 찍어보기\n",
        "## 기존 데이터를 바탕으로 예측하기 때문에 새로운 예측이 사실상 불가\n",
        "sns.scatterplot(data=perch, x='Length1', y='Weight')\n",
        "plt.scatter(x=500, y=1043, color='red', marker='x')"
      ],
      "metadata": {
        "id": "JSSKBcUG9e3U"
      },
      "execution_count": null,
      "outputs": []
    },
    {
      "cell_type": "code",
      "source": [
        "## 결론\n",
        "## 최근접 이웃 알고리즘\n",
        "## 직관적이고 쉬운 알고리즘이라 설명이 쉽고 적은 데이터에서는 예측도 정확함.\n",
        "## 이상데이터에 취약하고, 데이터가 많아지면 메모리 터짐\n"
      ],
      "metadata": {
        "id": "hQqGWntl8BaF"
      },
      "execution_count": null,
      "outputs": []
    }
  ]
}