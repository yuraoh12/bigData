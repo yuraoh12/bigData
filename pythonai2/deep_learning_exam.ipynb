{
  "nbformat": 4,
  "nbformat_minor": 0,
  "metadata": {
    "colab": {
      "provenance": [],
      "authorship_tag": "ABX9TyMr0SKkUJvIA2swqWeTHdbq",
      "include_colab_link": true
    },
    "kernelspec": {
      "name": "python3",
      "display_name": "Python 3"
    },
    "language_info": {
      "name": "python"
    }
  },
  "cells": [
    {
      "cell_type": "markdown",
      "metadata": {
        "id": "view-in-github",
        "colab_type": "text"
      },
      "source": [
        "<a href=\"https://colab.research.google.com/github/chacha86/pythonai2/blob/main/deep_learning_exam.ipynb\" target=\"_parent\"><img src=\"https://colab.research.google.com/assets/colab-badge.svg\" alt=\"Open In Colab\"/></a>"
      ]
    },
    {
      "cell_type": "code",
      "source": [
        "import numpy as np\n",
        "def ReLU(x) :\n",
        "  return np.maximum(0, x)\n",
        "\n",
        "def sigmoid(x) :\n",
        "  return 1 / (1 + np.exp(-x))\n",
        ""
      ],
      "metadata": {
        "id": "jCEOY8jRDXvj"
      },
      "execution_count": 16,
      "outputs": []
    },
    {
      "cell_type": "code",
      "execution_count": 17,
      "metadata": {
        "id": "uu6GrIkvDRPv"
      },
      "outputs": [],
      "source": [
        "class MyNet():\n",
        "  def __init__(self, input, hidden, output):\n",
        "    self.params = self.init_param(input, hidden, output)\n",
        "\n",
        "  def init_param(self, input, hidden, output):\n",
        "    params = {\n",
        "        'w1' : self.get_rand_matrix(input, hidden),\n",
        "        'b1' : np.zeros(hidden),\n",
        "        'w2' : self.get_rand_matrix(hidden, output),\n",
        "        'b2' : np.zeros(output)\n",
        "    }\n",
        "\n",
        "    return params\n",
        "\n",
        "  def get_rand_matrix(self, m, n) :\n",
        "    return np.random.randn(m, n) * 0.1\n",
        "\n",
        "  def get_rand_vector(self, m) :\n",
        "    return np.random.randn(m) - 1\n",
        "\n",
        "  def forward_propagation(self, input_arr):\n",
        "    z1 = np.dot(input_arr, self.params['w1']) + self.params['b1']\n",
        "    o1 = ReLU(z1)\n",
        "    z2 = np.dot(o1, self.params['w2']) + self.params['b2']\n",
        "    o2 = sigmoid(z2)\n",
        "\n",
        "\n",
        "\n",
        "    return o2\n",
        "\n",
        "  def binary_cross_entropy(self, y_pred, y_true) :\n",
        "    epsilon = 1e-15  # 로그의 결과가 무한대가 되는 것을 방지하기 위한 작은 값\n",
        "\n",
        "    # 예측 값이 극단적인 값에 가까워지는 것을 방지\n",
        "    y_pred = np.where(y_pred < epsilon, epsilon, y_pred)\n",
        "    y_pred = np.where(y_pred > 1 - epsilon, 1 - epsilon, y_pred)\n",
        "    return - (y_true * np.log(y_pred) + (1 - y_true) * np.log(1 - y_pred))\n",
        "\n",
        "  def get_loss_sum(self, train, target):\n",
        "    errors = []\n",
        "    for tr_row, tar_row in zip(train, target):\n",
        "      pred = self.forward_propagation(tr_row)\n",
        "      error = self.binary_cross_entropy(pred, tar_row)\n",
        "      errors.append(error)\n",
        "\n",
        "    return np.sum(errors)\n",
        "\n",
        "  def numerical_diff(self, x, f):\n",
        "    h = 1e-4\n",
        "\n",
        "    if x.ndim == 1:\n",
        "      x = x.reshape([1, x.size])\n",
        "    grad = np.zeros_like(x)\n",
        "    # it = np.nditer(x, flags=['multi_index'], op_flags=['readwrite'])\n",
        "    # while not it.finished:\n",
        "    #     idx = it.multi_index\n",
        "    #     tmp_val = x[idx]\n",
        "\n",
        "    #     x[idx] = float(tmp_val) + h\n",
        "    #     fxh1 = f(x)\n",
        "\n",
        "    #     x[idx] = tmp_val - h\n",
        "    #     fxh2 = f(x)\n",
        "\n",
        "    #     grad[idx] = (fxh1 - fxh2) / (2*h)\n",
        "\n",
        "    #     x[idx] = tmp_val\n",
        "    #     it.iternext()\n",
        "\n",
        "    for row in range(len(x)) :\n",
        "      for col in range(len(x[row])) :\n",
        "        tmp_val = x[(row, col)]\n",
        "        x[(row, col)] = tmp_val + h\n",
        "        fxh1 = f(x)\n",
        "        x[(row, col)] = tmp_val - h\n",
        "        fxh2 = f(x)\n",
        "\n",
        "        grad[(row, col)] = (fxh1 - fxh2) / (2*h)\n",
        "        x[(row, col)] = tmp_val\n",
        "\n",
        "    return grad\n",
        "\n",
        "\n",
        "  def gradient_descent(self, train, target):\n",
        "    self.train = train\n",
        "    self.target = target\n",
        "    lr = 0.00001\n",
        "    self.params['w1'] = self.params['w1'] - lr * self.numerical_diff(self.params['w1'], self.f)\n",
        "    self.params['b1'] = self.params['b1'] - lr * self.numerical_diff(self.params['b1'], self.f)\n",
        "    self.params['w2'] = self.params['w2'] - lr * self.numerical_diff(self.params['w2'], self.f)\n",
        "    self.params['b2'] = self.params['b2'] - lr * self.numerical_diff(self.params['b2'], self.f)\n",
        "\n",
        "\n",
        "  def f(self, x):\n",
        "    return self.get_loss_sum(self.train, self.target)"
      ]
    },
    {
      "cell_type": "code",
      "source": [
        "import pandas as pd\n",
        "fish = pd.read_csv('/content/Fish.csv')\n",
        "\n",
        "target = fish['Species']\n",
        "train = fish.drop('Species', axis=1)\n",
        "\n",
        "target[target == 'Bream'] = 1\n",
        "target[target != 1] = 0"
      ],
      "metadata": {
        "colab": {
          "base_uri": "https://localhost:8080/"
        },
        "id": "hhINRTqKDwGM",
        "outputId": "b5b480b6-17ae-4301-8ea0-fac4626e1072"
      },
      "execution_count": 18,
      "outputs": [
        {
          "output_type": "stream",
          "name": "stderr",
          "text": [
            "<ipython-input-18-6f4cb124cb4c>:7: SettingWithCopyWarning: \n",
            "A value is trying to be set on a copy of a slice from a DataFrame\n",
            "\n",
            "See the caveats in the documentation: https://pandas.pydata.org/pandas-docs/stable/user_guide/indexing.html#returning-a-view-versus-a-copy\n",
            "  target[target == 'Bream'] = 1\n",
            "<ipython-input-18-6f4cb124cb4c>:8: SettingWithCopyWarning: \n",
            "A value is trying to be set on a copy of a slice from a DataFrame\n",
            "\n",
            "See the caveats in the documentation: https://pandas.pydata.org/pandas-docs/stable/user_guide/indexing.html#returning-a-view-versus-a-copy\n",
            "  target[target != 1] = 0\n"
          ]
        }
      ]
    },
    {
      "cell_type": "code",
      "source": [
        "net = MyNet(2, 10, 1)\n",
        "\n",
        "loss_list = []\n",
        "for i in range(100):\n",
        "  net.gradient_descent(train[['Length1', 'Weight']].values, target)\n",
        "  loss_list.append(net.get_loss_sum(train[['Length1', 'Weight']].values, target))"
      ],
      "metadata": {
        "id": "nAV0VkIzDjyw"
      },
      "execution_count": 19,
      "outputs": []
    },
    {
      "cell_type": "code",
      "source": [],
      "metadata": {
        "id": "H-mVSXSzD7ZZ"
      },
      "execution_count": null,
      "outputs": []
    }
  ]
}