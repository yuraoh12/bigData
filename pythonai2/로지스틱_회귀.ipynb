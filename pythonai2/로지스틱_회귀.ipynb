{
  "nbformat": 4,
  "nbformat_minor": 0,
  "metadata": {
    "colab": {
      "provenance": [],
      "authorship_tag": "ABX9TyOWc4j44GXT50JmQlYPDqKT",
      "include_colab_link": true
    },
    "kernelspec": {
      "name": "python3",
      "display_name": "Python 3"
    },
    "language_info": {
      "name": "python"
    }
  },
  "cells": [
    {
      "cell_type": "markdown",
      "metadata": {
        "id": "view-in-github",
        "colab_type": "text"
      },
      "source": [
        "<a href=\"https://colab.research.google.com/github/chacha86/pythonai2/blob/main/%EB%A1%9C%EC%A7%80%EC%8A%A4%ED%8B%B1_%ED%9A%8C%EA%B7%80.ipynb\" target=\"_parent\"><img src=\"https://colab.research.google.com/assets/colab-badge.svg\" alt=\"Open In Colab\"/></a>"
      ]
    },
    {
      "cell_type": "code",
      "execution_count": null,
      "metadata": {
        "id": "gKNyPTEJBDbl"
      },
      "outputs": [],
      "source": [
        "## 회귀 -> 수치\n",
        "## 분류 -> 범주\n",
        "### 로지스틱 회귀(변수간의 관계)\n",
        "\n",
        "### 선형회귀 -> 직선 찾기(가중치와 편향 찾기)\n",
        "### 최적의 직선(파라미터)를 찾는 방법\n",
        "### 손실함수, 경사하강\n",
        "#### 손실함수 -> f(파라미터) -> 오차(손실)값\n",
        "### 회귀 평가방법\n",
        "#### MAE -> 평균절대오차에러 (낮을 수록 좋음)\n",
        "#### MSE(RMSE) -> 평균제곱오차에러 (낮을 수록 좋음) -> 실제 오차값을 확인해서 사용 가능한 모델인지 판단하기 용이\n",
        "#### R^2 -> 얼마나 잘 표현하는가? (높을 수록 좋음)\n",
        "\n",
        "#### 집값 -> 30만원, 88%\n",
        "#### 집값 -> 30만원, 평균 3만원의 오차가 있음"
      ]
    },
    {
      "cell_type": "code",
      "source": [
        "## 물고기 데이터를 이용해주세요.\n",
        "\n",
        "## Bream, Smelt 두개의 어종만 선택\n",
        "## 길이로 무게 예측\n",
        "## MAE, RMSE, R^2 점수를 각각 출력\n",
        "import pandas as pd\n",
        "\n",
        "\n",
        "fish = pd.read_csv('/content/Fish.csv')\n",
        "\n",
        "\n"
      ],
      "metadata": {
        "id": "dHpXajgSI7pc"
      },
      "execution_count": 1,
      "outputs": []
    },
    {
      "cell_type": "code",
      "source": [
        "bream_smelt = fish.loc[(fish['Species'] == 'Bream') | (fish['Species'] == 'Smelt')]\n",
        "train = bream_smelt[['Length1']]\n",
        "target = bream_smelt['Weight']"
      ],
      "metadata": {
        "id": "bsArFgtYN5C1"
      },
      "execution_count": 7,
      "outputs": []
    },
    {
      "cell_type": "code",
      "source": [
        "from sklearn.model_selection import train_test_split\n",
        "trd, tsd, trt, tst = train_test_split(train, target, train_size=0.8, random_state=42)"
      ],
      "metadata": {
        "id": "6_WiQmqfODS1"
      },
      "execution_count": 8,
      "outputs": []
    },
    {
      "cell_type": "code",
      "source": [
        "from sklearn.linear_model import LinearRegression\n",
        "\n",
        "lr = LinearRegression()\n",
        "lr.fit(trd, trt)\n",
        "lr.score(trd, trt), lr.score(tsd, tst)"
      ],
      "metadata": {
        "colab": {
          "base_uri": "https://localhost:8080/"
        },
        "id": "UwiVDr-DOWBr",
        "outputId": "9ab5d9d5-eba4-4bdf-d9f1-accf92a51998"
      },
      "execution_count": 14,
      "outputs": [
        {
          "output_type": "execute_result",
          "data": {
            "text/plain": [
              "(0.9260046748449194, 0.9071955874124416)"
            ]
          },
          "metadata": {},
          "execution_count": 14
        }
      ]
    },
    {
      "cell_type": "code",
      "source": [
        "from sklearn.metrics import mean_absolute_error, mean_squared_error, r2_score\n",
        "\n",
        "## 예측 결과 - 실제 결과\n",
        "\n",
        "predict_result = lr.predict(trd)\n",
        "predict_result2 = lr.predict(tsd)\n",
        "\n",
        "r2_score(trt, predict_result)\n",
        "r2_score(tst, predict_result2)\n"
      ],
      "metadata": {
        "colab": {
          "base_uri": "https://localhost:8080/"
        },
        "id": "qieLDmUOOymz",
        "outputId": "0a9244d6-c987-43be-c055-f5740382c281"
      },
      "execution_count": 34,
      "outputs": [
        {
          "output_type": "execute_result",
          "data": {
            "text/plain": [
              "0.9071955874124416"
            ]
          },
          "metadata": {},
          "execution_count": 34
        }
      ]
    },
    {
      "cell_type": "code",
      "source": [
        "import math\n",
        "\n",
        "mean_absolute_error(trt, predict_result)\n",
        "math.sqrt(mean_squared_error(trt, predict_result))\n"
      ],
      "metadata": {
        "colab": {
          "base_uri": "https://localhost:8080/"
        },
        "id": "hNV3IAwwRqfK",
        "outputId": "d3ddfec5-d154-4bd9-adf9-6ea84c5493a2"
      },
      "execution_count": 40,
      "outputs": [
        {
          "output_type": "execute_result",
          "data": {
            "text/plain": [
              "87.1698835870801"
            ]
          },
          "metadata": {},
          "execution_count": 40
        }
      ]
    },
    {
      "cell_type": "code",
      "source": [
        "lr.predict([[34]])\n"
      ],
      "metadata": {
        "id": "oybN4we2QR_S"
      },
      "execution_count": null,
      "outputs": []
    },
    {
      "cell_type": "code",
      "source": [
        "## 회귀 -> 직선(파라미터) 찾기\n",
        "## Smelt, Bream\n",
        "## 분류 -> 특정 데이터를 줬을 때, 얘가 Smelt인지 Bream인지 판단(구별)\n",
        "\n",
        "train = bream_smelt[['Length1', 'Weight']]\n",
        "target = bream_smelt['Species']\n"
      ],
      "metadata": {
        "id": "kMz1LDPvR1Xp"
      },
      "execution_count": 45,
      "outputs": []
    },
    {
      "cell_type": "code",
      "source": [
        "import seaborn as sns\n",
        "import matplotlib.pyplot as plt\n",
        "\n",
        "sns.scatterplot(data=bream_smelt, x='Length1', y='Weight', hue='Species')\n",
        "plt.scatter(x=20, y=200, color='red')"
      ],
      "metadata": {
        "colab": {
          "base_uri": "https://localhost:8080/",
          "height": 467
        },
        "id": "qb_eYXZGTP8Y",
        "outputId": "0dda46a6-4162-404e-9a9a-a6fe8f5ff2a4"
      },
      "execution_count": 54,
      "outputs": [
        {
          "output_type": "execute_result",
          "data": {
            "text/plain": [
              "<matplotlib.collections.PathCollection at 0x7b79669efaf0>"
            ]
          },
          "metadata": {},
          "execution_count": 54
        },
        {
          "output_type": "display_data",
          "data": {
            "text/plain": [
              "<Figure size 640x480 with 1 Axes>"
            ],
            "image/png": "[encoded data removed]"
          },
          "metadata": {}
        }
      ]
    },
    {
      "cell_type": "code",
      "source": [
        "trd, tsd, trt, tst = train_test_split(train, target, train_size=0.8, random_state=42)"
      ],
      "metadata": {
        "id": "WLK_TLK3Ttlg"
      },
      "execution_count": 50,
      "outputs": []
    },
    {
      "cell_type": "code",
      "source": [
        "from sklearn.linear_model import LinearRegression, LogisticRegression\n",
        "\n",
        "lr = LogisticRegression()\n",
        "\n",
        "lr.fit(trd, trt)\n",
        "\n",
        "lr.score(trd, trt), lr.score(tsd, tst)"
      ],
      "metadata": {
        "colab": {
          "base_uri": "https://localhost:8080/"
        },
        "id": "oIu-dr6lUZkQ",
        "outputId": "76d2799d-adb9-4d92-8dc1-d01f5ae2c0c0"
      },
      "execution_count": 51,
      "outputs": [
        {
          "output_type": "execute_result",
          "data": {
            "text/plain": [
              "(1.0, 1.0)"
            ]
          },
          "metadata": {},
          "execution_count": 51
        }
      ]
    },
    {
      "cell_type": "code",
      "source": [
        "lr.predict([[20, 200]])"
      ],
      "metadata": {
        "colab": {
          "base_uri": "https://localhost:8080/"
        },
        "id": "YqvxGLuLUnA6",
        "outputId": "6a0b591d-b7a9-45cd-ee9e-2a1748dc5f38"
      },
      "execution_count": 53,
      "outputs": [
        {
          "output_type": "stream",
          "name": "stderr",
          "text": [
            "/usr/local/lib/python3.10/dist-packages/sklearn/base.py:439: UserWarning: X does not have valid feature names, but LogisticRegression was fitted with feature names\n",
            "  warnings.warn(\n"
          ]
        },
        {
          "output_type": "execute_result",
          "data": {
            "text/plain": [
              "array(['Bream'], dtype=object)"
            ]
          },
          "metadata": {},
          "execution_count": 53
        }
      ]
    },
    {
      "cell_type": "code",
      "source": [
        "lr.coef_, lr.intercept_"
      ],
      "metadata": {
        "colab": {
          "base_uri": "https://localhost:8080/"
        },
        "id": "h24fKa9aVBpA",
        "outputId": "bc06d70b-4f20-44e4-8fdb-01cb49a0eb39"
      },
      "execution_count": 55,
      "outputs": [
        {
          "output_type": "execute_result",
          "data": {
            "text/plain": [
              "(array([[-0.00403067, -0.07925246]]), array([11.26963724]))"
            ]
          },
          "metadata": {},
          "execution_count": 55
        }
      ]
    },
    {
      "cell_type": "code",
      "source": [
        "import numpy as np\n",
        "## z = 길이 * w1 + 무게 * w2 + b\n",
        "\n",
        "x1 = 20\n",
        "x2 = 200\n",
        "\n",
        "\n",
        "def decision_function(x1, x2) :\n",
        "  z = -0.00403067 * x1 - 0.07925246 * x2 + 11.26963724\n",
        "  return z\n",
        "\n",
        "z = decision_function(20, 200)\n",
        "\n",
        "print(z) # 값의 의미 -> 확률\n",
        "\n",
        "def sigmoid(x):\n",
        "    return 1 / (1 + np.exp(-x))\n",
        "\n",
        "sigmoid(z)\n",
        "\n",
        "## 확률이 0에 가까움. -> 어떤 확률?? 양성일 확률\n",
        "## 양성 -> 내가 관심있는 것\n",
        "\n",
        "lr.classes_ ## 0 -> 음성, 1 -> 양성\n",
        "\n",
        "z2 = decision_function(6, 30)\n",
        "sigmoid(z2)\n",
        "\n"
      ],
      "metadata": {
        "colab": {
          "base_uri": "https://localhost:8080/"
        },
        "id": "91oOwiRWVSJJ",
        "outputId": "9dba705c-b75d-4b70-a0ec-c08103f283d3"
      },
      "execution_count": 62,
      "outputs": [
        {
          "output_type": "stream",
          "name": "stdout",
          "text": [
            "-4.66146816\n"
          ]
        },
        {
          "output_type": "execute_result",
          "data": {
            "text/plain": [
              "0.9998591788976772"
            ]
          },
          "metadata": {},
          "execution_count": 62
        }
      ]
    },
    {
      "cell_type": "code",
      "source": [
        "## 로지스틱 회귀의 회귀선 그려보기\n",
        "## w1 * x + w2 * y + b = 0 모델이 찾은 파라미터를 y에 대한 식으로 바꿈\n",
        "##  y = (- w1 * x - b) / w2\n",
        "\n",
        "## 모델이 찾은 파라미터 값 ([w1 : -0.00403067, w2 : -0.07925246]]), [b : 11.26963724]\n",
        "\n",
        "\n",
        "## 회귀선 시각화\n",
        "def my_func(x) :\n",
        "  return (0.00403067 * x - 11.26963724) / -0.07925246\n",
        "\n",
        "x = np.arange(0, 50, 0.1)\n",
        "y = my_func(x)\n",
        "\n",
        "sns.scatterplot(data=bream_smelt, x='Length1', y='Weight', hue='Species')\n",
        "sns.lineplot(x=x, y=y)\n",
        "\n",
        "## 로지스틱 회귀의 회귀선이 의미하는 것은 각 클래스간의 경계선을 의미한다.\n"
      ],
      "metadata": {
        "id": "jjcsjlMBV7hY"
      },
      "execution_count": null,
      "outputs": []
    },
    {
      "cell_type": "code",
      "source": [
        "## 로지스틱 회귀, 시그모이드 -> 딥러닝 핵심 개념이므로 잘 알아둔다."
      ],
      "metadata": {
        "id": "jAbHv6wBYyVh"
      },
      "execution_count": null,
      "outputs": []
    },
    {
      "cell_type": "code",
      "source": [],
      "metadata": {
        "id": "d5CJ4Tqkeceq"
      },
      "execution_count": null,
      "outputs": []
    }
  ]
}