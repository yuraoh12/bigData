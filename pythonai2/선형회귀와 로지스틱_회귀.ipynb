{
  "nbformat": 4,
  "nbformat_minor": 0,
  "metadata": {
    "colab": {
      "provenance": [],
      "authorship_tag": "ABX9TyNfo98dYIfPLFrDL5UWxYwo",
      "include_colab_link": true
    },
    "kernelspec": {
      "name": "python3",
      "display_name": "Python 3"
    },
    "language_info": {
      "name": "python"
    }
  },
  "cells": [
    {
      "cell_type": "markdown",
      "metadata": {
        "id": "view-in-github",
        "colab_type": "text"
      },
      "source": [
        "<a href=\"https://colab.research.google.com/github/chacha86/pythonai2/blob/main/%EC%84%A0%ED%98%95%ED%9A%8C%EA%B7%80%EC%99%80%20%EB%A1%9C%EC%A7%80%EC%8A%A4%ED%8B%B1_%ED%9A%8C%EA%B7%80.ipynb\" target=\"_parent\"><img src=\"https://colab.research.google.com/assets/colab-badge.svg\" alt=\"Open In Colab\"/></a>"
      ]
    },
    {
      "cell_type": "code",
      "execution_count": null,
      "metadata": {
        "id": "gKNyPTEJBDbl"
      },
      "outputs": [],
      "source": [
        "## 회귀 -> 수치\n",
        "## 분류 -> 범주\n",
        "### 로지스틱 회귀(변수간의 관계)\n",
        "\n",
        "### 선형회귀 -> 직선 찾기(가중치와 편향 찾기)\n",
        "### 최적의 직선(파라미터)를 찾는 방법\n",
        "### 손실함수, 경사하강\n",
        "#### 손실함수 -> f(파라미터) -> 오차(손실)값\n",
        "### 회귀 평가방법\n",
        "#### MAE -> 평균절대오차에러 (낮을 수록 좋음)\n",
        "#### MSE(RMSE) -> 평균제곱오차에러 (낮을 수록 좋음) -> 실제 오차값을 확인해서 사용 가능한 모델인지 판단하기 용이\n",
        "#### R^2 -> 얼마나 잘 표현하는가? (높을 수록 좋음)\n",
        "\n",
        "#### 집값 -> 30만원, 88%\n",
        "#### 집값 -> 30만원, 평균 3만원의 오차가 있음"
      ]
    },
    {
      "cell_type": "code",
      "source": [
        "## 물고기 데이터를 이용해주세요.\n",
        "\n",
        "## Bream, Smelt 두개의 어종만 선택\n",
        "## 길이로 무게 예측\n",
        "## MAE, RMSE, R^2 점수를 각각 출력\n",
        "import pandas as pd\n",
        "from sklearn.metrics import mean_absolute_error, mean_squared_error, r2_score\n",
        "\n",
        "fish = pd.read_csv('/content/Fish.csv')\n",
        "\n",
        "\n"
      ],
      "metadata": {
        "id": "dHpXajgSI7pc"
      },
      "execution_count": 1,
      "outputs": []
    },
    {
      "cell_type": "code",
      "source": [
        "bream_smelt = fish.loc[(fish['Species'] == 'Bream') | (fish['Species'] == 'Smelt')]\n",
        "train = bream_smelt[['Length1']]\n",
        "target = bream_smelt['Weight']"
      ],
      "metadata": {
        "id": "bsArFgtYN5C1"
      },
      "execution_count": 7,
      "outputs": []
    },
    {
      "cell_type": "code",
      "source": [
        "from sklearn.model_selection import train_test_split\n",
        "trd, tsd, trt, tst = train_test_split(train, target, train_size=0.8, random_state=42)"
      ],
      "metadata": {
        "id": "6_WiQmqfODS1"
      },
      "execution_count": 8,
      "outputs": []
    },
    {
      "cell_type": "code",
      "source": [
        "from sklearn.linear_model import LinearRegression\n",
        "\n",
        "lr = LinearRegression()\n",
        "lr.fit(trd, trt)\n",
        "lr.score(trd, trt), lr.score(tsd, tst)"
      ],
      "metadata": {
        "colab": {
          "base_uri": "https://localhost:8080/"
        },
        "id": "UwiVDr-DOWBr",
        "outputId": "9ab5d9d5-eba4-4bdf-d9f1-accf92a51998"
      },
      "execution_count": 14,
      "outputs": [
        {
          "output_type": "execute_result",
          "data": {
            "text/plain": [
              "(0.9260046748449194, 0.9071955874124416)"
            ]
          },
          "metadata": {},
          "execution_count": 14
        }
      ]
    },
    {
      "cell_type": "code",
      "source": [],
      "metadata": {
        "id": "qieLDmUOOymz"
      },
      "execution_count": null,
      "outputs": []
    }
  ]
}