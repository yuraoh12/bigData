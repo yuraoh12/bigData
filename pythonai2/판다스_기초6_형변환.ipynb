{
  "nbformat": 4,
  "nbformat_minor": 0,
  "metadata": {
    "colab": {
      "provenance": [],
      "authorship_tag": "ABX9TyMGPP8JtPyMkwHWz3dpGnBk",
      "include_colab_link": true
    },
    "kernelspec": {
      "name": "python3",
      "display_name": "Python 3"
    },
    "language_info": {
      "name": "python"
    }
  },
  "cells": [
    {
      "cell_type": "markdown",
      "metadata": {
        "id": "view-in-github",
        "colab_type": "text"
      },
      "source": [
        "<a href=\"https://colab.research.google.com/github/chacha86/pythonai2/blob/main/%ED%8C%90%EB%8B%A4%EC%8A%A4_%EA%B8%B0%EC%B4%886_%ED%98%95%EB%B3%80%ED%99%98.ipynb\" target=\"_parent\"><img src=\"https://colab.research.google.com/assets/colab-badge.svg\" alt=\"Open In Colab\"/></a>"
      ]
    },
    {
      "cell_type": "code",
      "execution_count": 32,
      "metadata": {
        "colab": {
          "base_uri": "https://localhost:8080/"
        },
        "id": "QN7nyfccPgRQ",
        "outputId": "a46146a5-eeb1-4a33-bbdc-faa2a4d7ca4d"
      },
      "outputs": [
        {
          "output_type": "execute_result",
          "data": {
            "text/plain": [
              "0    1.0\n",
              "1    2.0\n",
              "2    3.0\n",
              "3    4.0\n",
              "4    NaN\n",
              "dtype: float64"
            ]
          },
          "metadata": {},
          "execution_count": 32
        }
      ],
      "source": [
        "import pandas as pd\n",
        "## 12. 형변환\n",
        "## 정수(int), 실수(float), 문자(str), 날짜(date, datetime)\n",
        "\n",
        "### 12.1 자동 형변환\n",
        "#### 정수 > 실수 > 문자\n",
        "s1 = pd.Series([1,2,3,4,5])\n",
        "s2 = pd.Series([1.1, 1.2, 1.3, 1.4])\n",
        "s3 = pd.Series([1, 2, 3.3, 4, 5]) # 자동 형변환. 정수 -> 실수\n",
        "s4 = pd.Series([1.1, 1.2, 1.3, '1.4', 1.5]) # 자동 형변환. 실수 -> 문자\n",
        "\n",
        "s1.dtype\n",
        "s2.dtype\n",
        "s3.dtype\n",
        "s4.dtype\n",
        "\n",
        "## 12.2 수동 형변환 -> astype, to_numeric\n",
        "s1.astype('float')\n",
        "s1.astype('str')\n",
        "s5 = s4.astype('float')\n",
        "\n",
        "sr5 = pd.Series(['1', '2', '3', '4', 'a'])\n",
        "\n",
        "## ignore -> 에러를 내지 않고 원본 그대로 적용\n",
        "pd.to_numeric(sr5, errors=\"ignore\")\n",
        "\n",
        "## raise -> 형식에 맞지 않으면 무조건 에러(기본값)\n",
        "# pd.to_numeric(sr5, errors=\"raise\")\n",
        "\n",
        "## coerce -> 바꿀 수 있는 건 바꾸고, 없는 건 NaN처리\n",
        "pd.to_numeric(sr5, errors=\"coerce\")"
      ]
    }
  ]
}