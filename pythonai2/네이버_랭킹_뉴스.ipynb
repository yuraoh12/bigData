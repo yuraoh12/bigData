{
  "nbformat": 4,
  "nbformat_minor": 0,
  "metadata": {
    "colab": {
      "provenance": [],
      "authorship_tag": "ABX9TyP8p+8IKHrCQsGdhjLdV6US",
      "include_colab_link": true
    },
    "kernelspec": {
      "name": "python3",
      "display_name": "Python 3"
    },
    "language_info": {
      "name": "python"
    }
  },
  "cells": [
    {
      "cell_type": "markdown",
      "metadata": {
        "id": "view-in-github",
        "colab_type": "text"
      },
      "source": [
        "<a href=\"https://colab.research.google.com/github/chacha86/pythonai2/blob/main/%EB%84%A4%EC%9D%B4%EB%B2%84_%EB%9E%AD%ED%82%B9_%EB%89%B4%EC%8A%A4.ipynb\" target=\"_parent\"><img src=\"https://colab.research.google.com/assets/colab-badge.svg\" alt=\"Open In Colab\"/></a>"
      ]
    },
    {
      "cell_type": "code",
      "execution_count": 5,
      "metadata": {
        "id": "siEZ5KeszOMb",
        "colab": {
          "base_uri": "https://localhost:8080/"
        },
        "outputId": "1180342f-0446-4108-af51-9a2de764cb11"
      },
      "outputs": [
        {
          "output_type": "execute_result",
          "data": {
            "text/plain": [
              "{'name': 'SBS',\n",
              " 'link': 'https://media.naver.com/press/055/ranking?type=popular'}"
            ]
          },
          "metadata": {},
          "execution_count": 5
        }
      ],
      "source": [
        "# 1. 언론사 이름과 링크 가져오기\n",
        "## 파이썬 웹 요청 라이브러리\n",
        "import requests\n",
        "\n",
        "\n",
        "## 파이썬이 브라우저인 척 하기 위함\n",
        "headers = {\n",
        "    'User-Agent' : 'Mozilla/5.0 (Windows NT 10.0; Win64; x64) AppleWebKit/537.36 (KHTML, like Gecko) Chrome/102.0.0.0 Safari/537.36'\n",
        "}\n",
        "\n",
        "## 네이버 랭킹 뉴스 웹페이지 요청. 성공하면 응답이옴(r)\n",
        "r = requests.get('https://news.naver.com/main/ranking/popularDay.naver', headers=headers)\n",
        "\n",
        "\n",
        "## 응답 정보에는 많은 게 있지만 우린 text가져가면 된다. text는 단순 문자열이다.\n",
        "ranking_news_html = r.text\n",
        "\n",
        "## 뷰티풀숩으로 파싱\n",
        "from bs4 import BeautifulSoup\n",
        "soup = BeautifulSoup(ranking_news_html, 'html.parser')\n",
        "\n",
        "# 하나만 선택 -> select_one\n",
        "# 여러개 선택 -> select\n",
        "\n",
        "box_list = soup.select(\"._officeCard .rankingnews_box\")\n",
        "\n",
        "\n",
        "journal_list = []\n",
        "\n",
        "for box in box_list :\n",
        "  atag = box.select_one('a')\n",
        "\n",
        "  # 태그를 얻었을 때\n",
        "  # 1. 텍스트\n",
        "  # 2. 속성\n",
        "  journal_link = atag['href']\n",
        "  journal_name = atag.select_one('strong').text\n",
        "\n",
        "  journal_dic = {\n",
        "      'name' : journal_name,\n",
        "      'link' : journal_link\n",
        "  }\n",
        "\n",
        "  journal_list.append(journal_dic)\n",
        "\n",
        "\n",
        "def get_journal_by_name(name) :\n",
        "\n",
        "  for journal in journal_list:\n",
        "    if journal['name'] == name :\n",
        "      return journal\n",
        "  return None\n",
        "\n",
        "get_journal_by_name(\"SBS\")"
      ]
    },
    {
      "cell_type": "code",
      "source": [
        "# 2. url을 넘기면 해당 url 페이지의 html을 파싱해서 soup를 만들어주는 함수\n",
        "def get_page_by_url(url) :\n",
        "  from bs4 import BeautifulSoup\n",
        "  import requests\n",
        "\n",
        "  headers = {\n",
        "    'User-Agent' : 'Mozilla/5.0 (Windows NT 10.0; Win64; x64) AppleWebKit/537.36 (KHTML, like Gecko) Chrome/102.0.0.0 Safari/537.36'\n",
        "  }\n",
        "  r = requests.get(url, headers=headers)\n",
        "  soup = BeautifulSoup(r.text, 'html.parser')\n",
        "\n",
        "  return soup\n"
      ],
      "metadata": {
        "id": "rrPhoif2zXy7"
      },
      "execution_count": 6,
      "outputs": []
    },
    {
      "cell_type": "code",
      "source": [
        "# 3. page를 넘겨주면 해당 page에서 랭킹 뉴스 20개를 가져오는 함수\n",
        "sbs = get_journal_by_name(\"SBS\")\n",
        "url = sbs['link']\n",
        "news_page = get_page_by_url(url)\n",
        "\n",
        "def get_rankingnews_by_page(page) :\n",
        "  thumb_list = page.select('.as_thumb')\n",
        "\n",
        "  news_list = []\n",
        "\n",
        "  for thumb in thumb_list :\n",
        "    link = thumb.select_one('a')['href'] # 본문링크\n",
        "    rank = thumb.select_one('em').text # 랭킹\n",
        "    title = thumb.select_one(\".list_content strong\").text  # 제목\n",
        "    tmp = thumb.select_one(\".list_content .list_view\").text #  조회수,\n",
        "    view = tmp[4:].strip()\n",
        "\n",
        "    news_dic = {\n",
        "        'link' : link,\n",
        "        'rank' : rank,\n",
        "        'title' : title,\n",
        "        'view' : view\n",
        "    }\n",
        "\n",
        "    news_list.append(news_dic)\n",
        "\n",
        "  return news_list\n",
        "\n",
        "sbs_ranking_news = get_rankingnews_by_page(news_page)"
      ],
      "metadata": {
        "id": "MJmIUnenzdsC"
      },
      "execution_count": 7,
      "outputs": []
    },
    {
      "cell_type": "code",
      "source": [
        "import json\n",
        "# 4. 파이썬 오브젝트를 json으로 저장해주는 함수\n",
        "def save_to_json(filepath, obj) :\n",
        "  with open(filepath, 'w') as f :\n",
        "    json_str = json.dumps(obj, ensure_ascii=False)\n",
        "    f.write(json_str)\n"
      ],
      "metadata": {
        "id": "khcK-P4Wzk6_"
      },
      "execution_count": 8,
      "outputs": []
    },
    {
      "cell_type": "code",
      "source": [
        "# 5. json 파일을 파이썬 오브젝트로 불러오는 함수\n",
        "def load_json(filepath) :\n",
        "  with open(filepath, 'r') as f:\n",
        "    json_str = f.read()\n",
        "    return json.loads(json_str)"
      ],
      "metadata": {
        "id": "s7Gfl0aAzrQ4"
      },
      "execution_count": 9,
      "outputs": []
    },
    {
      "cell_type": "code",
      "source": [
        "save_to_json('sbs_news.json', sbs_ranking_news)"
      ],
      "metadata": {
        "id": "WHOmfdfbF7aw"
      },
      "execution_count": 10,
      "outputs": []
    },
    {
      "cell_type": "code",
      "source": [
        "sbs_news = load_json('sbs_news.json')\n",
        "sbs_news"
      ],
      "metadata": {
        "colab": {
          "base_uri": "https://localhost:8080/"
        },
        "id": "NhRxHpsZGGhp",
        "outputId": "fde4044b-2fb1-4e21-9a71-80e417d7096d"
      },
      "execution_count": 11,
      "outputs": [
        {
          "output_type": "execute_result",
          "data": {
            "text/plain": [
              "[{'link': 'https://n.news.naver.com/article/055/0001087319?ntype=RANKING',\n",
              "  'rank': '1',\n",
              "  'title': '고교생이 교실서 담임교사 5분간 폭행…학교, 퇴학 조치',\n",
              "  'view': '18,585'},\n",
              " {'link': 'https://n.news.naver.com/article/055/0001087276?ntype=RANKING',\n",
              "  'rank': '2',\n",
              "  'title': \"모텔방 잠그고 '찬송가 소란'…필로폰에 찌들어 있었다\",\n",
              "  'view': '12,141'},\n",
              " {'link': 'https://n.news.naver.com/article/055/0001087240?ntype=RANKING',\n",
              "  'rank': '3',\n",
              "  'title': '가짜 주민번호 대고 \"맞다니까\" 우기더니…딱 걸린 정체',\n",
              "  'view': '8,032'},\n",
              " {'link': 'https://n.news.naver.com/article/055/0001087296?ntype=RANKING',\n",
              "  'rank': '4',\n",
              "  'title': '[포착] 달리던 택시에 불…\"소화기!\" 외치며 뛰어든 어린이집 교사',\n",
              "  'view': '7,829'},\n",
              " {'link': 'https://n.news.naver.com/article/055/0001087285?ntype=RANKING',\n",
              "  'rank': '5',\n",
              "  'title': \"단속 피하려 경찰 매달고 도망…오토바이 운전자 '징역 2년'\",\n",
              "  'view': '6,538'},\n",
              " {'link': 'https://n.news.naver.com/article/055/0001087324?ntype=RANKING',\n",
              "  'rank': '6',\n",
              "  'title': \"검찰, '민주당 돈봉투' 재판서 현역 의원 이름 담긴 녹취록 공개\",\n",
              "  'view': '5,365'},\n",
              " {'link': 'https://n.news.naver.com/article/055/0001087289?ntype=RANKING',\n",
              "  'rank': '7',\n",
              "  'title': '[단독] 9일 역대 해군 총장들 모인다…함명 변경 반대 의견 모아지나',\n",
              "  'view': '5,202'},\n",
              " {'link': 'https://n.news.naver.com/article/055/0001087328?ntype=RANKING',\n",
              "  'rank': '8',\n",
              "  'title': '\"폐암, 가습기 살균제 피해\" 첫 인정…599명 추가 구제',\n",
              "  'view': '2,836'},\n",
              " {'link': 'https://n.news.naver.com/article/055/0001087192?ntype=RANKING',\n",
              "  'rank': '9',\n",
              "  'title': '\"돌아가기 싫어서\"…중국 인부들이 \\'만리장성\\' 굴착기로 허물어',\n",
              "  'view': '1,196'},\n",
              " {'link': 'https://n.news.naver.com/article/055/0001087312?ntype=RANKING',\n",
              "  'rank': '10',\n",
              "  'title': '러시아 극동 연해주 당국 \"김정은 방문 준비 공식 명령 없어\"',\n",
              "  'view': '1,104'},\n",
              " {'link': 'https://n.news.naver.com/article/055/0001087315?ntype=RANKING',\n",
              "  'rank': '11',\n",
              "  'title': \"중국 소방차 태풍 '하이쿠이' 폭우에 휩쓸려 1명 실종 · 1명 사망\",\n",
              "  'view': '701'},\n",
              " {'link': 'https://n.news.naver.com/article/055/0001087308?ntype=RANKING',\n",
              "  'rank': '12',\n",
              "  'title': \"[영상] 열차 안으로 물이 '콸콸'…42년 만의 '극단적 폭우'가 휩쓸고 간 스페인\",\n",
              "  'view': '649'},\n",
              " {'link': 'https://n.news.naver.com/article/055/0001087342?ntype=RANKING',\n",
              "  'rank': '13',\n",
              "  'title': '\"맘에 안 들어\" 임플란트 환자…흉기 들고 의사 덮쳤다',\n",
              "  'view': '457'},\n",
              " {'link': 'https://n.news.naver.com/article/055/0001087337?ntype=RANKING',\n",
              "  'rank': '14',\n",
              "  'title': '[단독] 연락 끊긴 집주인…허위 계약서로 최소 180억 피해',\n",
              "  'view': '435'},\n",
              " {'link': 'https://n.news.naver.com/article/055/0001087339?ntype=RANKING',\n",
              "  'rank': '15',\n",
              "  'title': '\"돈 벌러 한국행…갈 곳 없다\" 한 해 떼인 임금 1,200억',\n",
              "  'view': '415'},\n",
              " {'link': 'https://n.news.naver.com/article/055/0001087238?ntype=RANKING',\n",
              "  'rank': '16',\n",
              "  'title': '청주 중부고속도로서 이중 추돌사고…3명 사상',\n",
              "  'view': '401'},\n",
              " {'link': 'https://n.news.naver.com/article/055/0001087343?ntype=RANKING',\n",
              "  'rank': '17',\n",
              "  'title': '침대 묶여 이송된 의원 보좌진…한밤 오피스텔 무슨 일',\n",
              "  'view': '394'},\n",
              " {'link': 'https://n.news.naver.com/article/055/0001087326?ntype=RANKING',\n",
              "  'rank': '18',\n",
              "  'title': \"[속보] 검찰 '펀드 비리' 장하원 디스커버리 대표 구속영장\",\n",
              "  'view': '382'},\n",
              " {'link': 'https://n.news.naver.com/article/055/0001087073?ntype=RANKING',\n",
              "  'rank': '19',\n",
              "  'title': '상의 반쯤 벗겨진 채 터덜터덜…주인 살해하고 도주했다',\n",
              "  'view': '354'},\n",
              " {'link': 'https://n.news.naver.com/article/055/0001087336?ntype=RANKING',\n",
              "  'rank': '20',\n",
              "  'title': '\"경청해달라\" 당부에도…대정부질문 시작 15분 만에 고성',\n",
              "  'view': '282'}]"
            ]
          },
          "metadata": {},
          "execution_count": 11
        }
      ]
    },
    {
      "cell_type": "code",
      "source": [],
      "metadata": {
        "id": "RXFYtW__zwsQ"
      },
      "execution_count": null,
      "outputs": []
    },
    {
      "cell_type": "code",
      "source": [
        "\n",
        "# 실습 -> 3개의 언론사 (SBS, MBC, KBS)의 랭킹 뉴스를 최근 5일치 가져와서 각각 저장.\n",
        "# 언론사와 n을 넘기면 해당 언론사의 랭킹뉴스를 n일치 가져오기\n",
        "# 언론사별로 폴더를 나눠서 저장\n",
        "\n",
        "def get_n_latest_news(journal, n) :\n",
        "\n",
        "  # 1. 오늘 날짜로 부터 n일 전까지의 날짜 얻기\n",
        "\n",
        "\n",
        "  # 2. 얻은 날짜로 날짜별 언론사 링크 만들기\n",
        "\n",
        "  # 3. 랭킹뉴스 가져오는 함수를 이용해 n일치 뉴스 가져오기\n",
        "\n",
        "  # 4. 언론사별로 폴더 나눠서 저장하기\n"
      ],
      "metadata": {
        "id": "ppPnO4Xe0Dyr"
      },
      "execution_count": 47,
      "outputs": []
    },
    {
      "cell_type": "code",
      "source": [
        "from datetime import datetime, timedelta\n",
        "\n",
        "\n",
        "def get_n_dates(n) :\n",
        "  date = datetime.today()\n",
        "  date_list = []\n",
        "\n",
        "  for i in range(n) :\n",
        "\n",
        "    result = date - timedelta(days=i)\n",
        "    date_list.append(result.strftime(\"%Y%m%d\"))\n",
        "\n",
        "  return date_list"
      ],
      "metadata": {
        "id": "EWFk0uYNQ4W4"
      },
      "execution_count": 2,
      "outputs": []
    },
    {
      "cell_type": "code",
      "source": [
        "def get_n_latest_news(journal, n) :\n",
        "  sbs = get_journal_by_name(journal)\n",
        "  date_list = get_n_dates(n)\n",
        "\n",
        "  total_news_list = {}\n",
        "\n",
        "  for date in date_list :\n",
        "    date_link = sbs['link'] + '&date=' + date\n",
        "    news_page = get_page_by_url(url)\n",
        "    news_list = get_rankingnews_by_page(news_page)\n",
        "    total_news_list[date] = news_list\n",
        "\n",
        "  return total_news_list\n",
        "\n",
        "# get_n_latest_news('SBS', 5)\n",
        "kbs_10days = get_n_latest_news('KBS', 10)\n",
        "\n"
      ],
      "metadata": {
        "id": "EaU1WBgPGU8f"
      },
      "execution_count": 20,
      "outputs": []
    },
    {
      "cell_type": "code",
      "source": [
        "kbs_10days['20230904']"
      ],
      "metadata": {
        "colab": {
          "base_uri": "https://localhost:8080/"
        },
        "id": "qqZ88Ss4VHCb",
        "outputId": "0629f80a-2159-4a20-a3de-cec39c1d7150"
      },
      "execution_count": 23,
      "outputs": [
        {
          "output_type": "execute_result",
          "data": {
            "text/plain": [
              "[{'link': 'https://n.news.naver.com/article/055/0001087319?ntype=RANKING',\n",
              "  'rank': '1',\n",
              "  'title': '고교생이 교실서 담임교사 5분간 폭행…학교, 퇴학 조치',\n",
              "  'view': '18,585'},\n",
              " {'link': 'https://n.news.naver.com/article/055/0001087276?ntype=RANKING',\n",
              "  'rank': '2',\n",
              "  'title': \"모텔방 잠그고 '찬송가 소란'…필로폰에 찌들어 있었다\",\n",
              "  'view': '12,141'},\n",
              " {'link': 'https://n.news.naver.com/article/055/0001087240?ntype=RANKING',\n",
              "  'rank': '3',\n",
              "  'title': '가짜 주민번호 대고 \"맞다니까\" 우기더니…딱 걸린 정체',\n",
              "  'view': '8,032'},\n",
              " {'link': 'https://n.news.naver.com/article/055/0001087296?ntype=RANKING',\n",
              "  'rank': '4',\n",
              "  'title': '[포착] 달리던 택시에 불…\"소화기!\" 외치며 뛰어든 어린이집 교사',\n",
              "  'view': '7,829'},\n",
              " {'link': 'https://n.news.naver.com/article/055/0001087285?ntype=RANKING',\n",
              "  'rank': '5',\n",
              "  'title': \"단속 피하려 경찰 매달고 도망…오토바이 운전자 '징역 2년'\",\n",
              "  'view': '6,538'},\n",
              " {'link': 'https://n.news.naver.com/article/055/0001087324?ntype=RANKING',\n",
              "  'rank': '6',\n",
              "  'title': \"검찰, '민주당 돈봉투' 재판서 현역 의원 이름 담긴 녹취록 공개\",\n",
              "  'view': '5,365'},\n",
              " {'link': 'https://n.news.naver.com/article/055/0001087289?ntype=RANKING',\n",
              "  'rank': '7',\n",
              "  'title': '[단독] 9일 역대 해군 총장들 모인다…함명 변경 반대 의견 모아지나',\n",
              "  'view': '5,202'},\n",
              " {'link': 'https://n.news.naver.com/article/055/0001087328?ntype=RANKING',\n",
              "  'rank': '8',\n",
              "  'title': '\"폐암, 가습기 살균제 피해\" 첫 인정…599명 추가 구제',\n",
              "  'view': '2,836'},\n",
              " {'link': 'https://n.news.naver.com/article/055/0001087192?ntype=RANKING',\n",
              "  'rank': '9',\n",
              "  'title': '\"돌아가기 싫어서\"…중국 인부들이 \\'만리장성\\' 굴착기로 허물어',\n",
              "  'view': '1,196'},\n",
              " {'link': 'https://n.news.naver.com/article/055/0001087312?ntype=RANKING',\n",
              "  'rank': '10',\n",
              "  'title': '러시아 극동 연해주 당국 \"김정은 방문 준비 공식 명령 없어\"',\n",
              "  'view': '1,104'},\n",
              " {'link': 'https://n.news.naver.com/article/055/0001087315?ntype=RANKING',\n",
              "  'rank': '11',\n",
              "  'title': \"중국 소방차 태풍 '하이쿠이' 폭우에 휩쓸려 1명 실종 · 1명 사망\",\n",
              "  'view': '701'},\n",
              " {'link': 'https://n.news.naver.com/article/055/0001087308?ntype=RANKING',\n",
              "  'rank': '12',\n",
              "  'title': \"[영상] 열차 안으로 물이 '콸콸'…42년 만의 '극단적 폭우'가 휩쓸고 간 스페인\",\n",
              "  'view': '649'},\n",
              " {'link': 'https://n.news.naver.com/article/055/0001087342?ntype=RANKING',\n",
              "  'rank': '13',\n",
              "  'title': '\"맘에 안 들어\" 임플란트 환자…흉기 들고 의사 덮쳤다',\n",
              "  'view': '457'},\n",
              " {'link': 'https://n.news.naver.com/article/055/0001087337?ntype=RANKING',\n",
              "  'rank': '14',\n",
              "  'title': '[단독] 연락 끊긴 집주인…허위 계약서로 최소 180억 피해',\n",
              "  'view': '435'},\n",
              " {'link': 'https://n.news.naver.com/article/055/0001087339?ntype=RANKING',\n",
              "  'rank': '15',\n",
              "  'title': '\"돈 벌러 한국행…갈 곳 없다\" 한 해 떼인 임금 1,200억',\n",
              "  'view': '415'},\n",
              " {'link': 'https://n.news.naver.com/article/055/0001087238?ntype=RANKING',\n",
              "  'rank': '16',\n",
              "  'title': '청주 중부고속도로서 이중 추돌사고…3명 사상',\n",
              "  'view': '401'},\n",
              " {'link': 'https://n.news.naver.com/article/055/0001087343?ntype=RANKING',\n",
              "  'rank': '17',\n",
              "  'title': '침대 묶여 이송된 의원 보좌진…한밤 오피스텔 무슨 일',\n",
              "  'view': '394'},\n",
              " {'link': 'https://n.news.naver.com/article/055/0001087326?ntype=RANKING',\n",
              "  'rank': '18',\n",
              "  'title': \"[속보] 검찰 '펀드 비리' 장하원 디스커버리 대표 구속영장\",\n",
              "  'view': '382'},\n",
              " {'link': 'https://n.news.naver.com/article/055/0001087073?ntype=RANKING',\n",
              "  'rank': '19',\n",
              "  'title': '상의 반쯤 벗겨진 채 터덜터덜…주인 살해하고 도주했다',\n",
              "  'view': '354'},\n",
              " {'link': 'https://n.news.naver.com/article/055/0001087336?ntype=RANKING',\n",
              "  'rank': '20',\n",
              "  'title': '\"경청해달라\" 당부에도…대정부질문 시작 15분 만에 고성',\n",
              "  'view': '282'}]"
            ]
          },
          "metadata": {},
          "execution_count": 23
        }
      ]
    }
  ]
}