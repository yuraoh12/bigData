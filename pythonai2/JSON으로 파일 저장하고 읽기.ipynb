{
  "nbformat": 4,
  "nbformat_minor": 0,
  "metadata": {
    "colab": {
      "provenance": [],
      "authorship_tag": "ABX9TyP11kT3KcVCzNQKD6w2E65W",
      "include_colab_link": true
    },
    "kernelspec": {
      "name": "python3",
      "display_name": "Python 3"
    },
    "language_info": {
      "name": "python"
    }
  },
  "cells": [
    {
      "cell_type": "markdown",
      "metadata": {
        "id": "view-in-github",
        "colab_type": "text"
      },
      "source": [
        "<a href=\"https://colab.research.google.com/github/chacha86/pythonai2/blob/main/JSON%EC%9C%BC%EB%A1%9C%20%ED%8C%8C%EC%9D%BC%20%EC%A0%80%EC%9E%A5%ED%95%98%EA%B3%A0%20%EC%9D%BD%EA%B8%B0.ipynb\" target=\"_parent\"><img src=\"https://colab.research.google.com/assets/colab-badge.svg\" alt=\"Open In Colab\"/></a>"
      ]
    },
    {
      "cell_type": "code",
      "execution_count": 1,
      "metadata": {
        "id": "en0qlTzvfhNC"
      },
      "outputs": [],
      "source": [
        "f = open(\"새파일.txt\", 'w')\n",
        "f.close()"
      ]
    },
    {
      "cell_type": "code",
      "source": [
        "f = open(\"doit/새파일.txt\", 'w')\n",
        "f.close()"
      ],
      "metadata": {
        "id": "OMZrNJyKf-7z"
      },
      "execution_count": 4,
      "outputs": []
    },
    {
      "cell_type": "code",
      "source": [
        "import os\n",
        "\n",
        "if not os.path.exists('new_folder') :\n",
        "  os.mkdir(\"new_folder\")\n",
        "\n",
        "f = open(\"new_folder/새파일.txt\", 'w')\n",
        "\n",
        "## new_folder가 있으면 저장 없으면 만들고 저장\n",
        "\n"
      ],
      "metadata": {
        "id": "0IxAoys1gNE4"
      },
      "execution_count": 9,
      "outputs": []
    },
    {
      "cell_type": "code",
      "source": [
        "f = open(\"doit/새파일.txt\", 'r')\n"
      ],
      "metadata": {
        "colab": {
          "base_uri": "https://localhost:8080/"
        },
        "id": "3FuvsZzpgrv4",
        "outputId": "7a26e47b-0382-49ad-9310-ce7ffa0d80d0"
      },
      "execution_count": 14,
      "outputs": [
        {
          "output_type": "execute_result",
          "data": {
            "text/plain": [
              "['asdfasdfasd\\n', 'sadfasdf\\n', 'asdfsadfas\\n', 'dfasdfasdf\\n']"
            ]
          },
          "metadata": {},
          "execution_count": 14
        }
      ]
    },
    {
      "cell_type": "code",
      "source": [
        "f = open(\"new_folder/새파일2.txt\", 'w')\n",
        "\n",
        "f.write('sdfsdfsdf')\n",
        "f.close()"
      ],
      "metadata": {
        "id": "IIRQ4MiyhEPe"
      },
      "execution_count": 16,
      "outputs": []
    },
    {
      "cell_type": "code",
      "source": [
        "with open(\"new_folder/새파일3.txt\", 'w') as aa:\n",
        "  aa.write('sdfsdf')"
      ],
      "metadata": {
        "id": "p8lS4bT9iQjT"
      },
      "execution_count": 17,
      "outputs": []
    },
    {
      "cell_type": "code",
      "source": [
        "# JSON == 딕셔너리\n",
        "\n",
        "## 파이썬에서 사용할 땐 => 딕셔너리\n",
        "## 딕셔너리 형태를 문자로 파일 저장 => JSON\n",
        "\n",
        "hong_dic = {\"이름\" : \"홍길동\", \"나이\" : 20, \"거주지\" : \"서울\"}\n",
        "\n",
        "with open(\"new_folder/새파일4.json\", 'w') as aa:\n",
        "  aa.write(\"\")"
      ],
      "metadata": {
        "id": "krr-LBDGip_y"
      },
      "execution_count": 22,
      "outputs": []
    },
    {
      "cell_type": "code",
      "source": [
        "import json\n",
        "\n",
        "## json.dumps -> 딕셔너리 => JSON\n",
        "hong_json = json.dumps(hong_dic, ensure_ascii=False)\n",
        "\n",
        "with open(\"new_folder/새파일5.json\", 'w') as aa:\n",
        "  aa.write(hong_json)\n"
      ],
      "metadata": {
        "id": "ryEg6LRDjSjY"
      },
      "execution_count": null,
      "outputs": []
    },
    {
      "cell_type": "code",
      "source": [
        "## json.loads -> JSON => 딕셔너리\n",
        "\n",
        "dic = json.loads(hong_json)\n",
        "dic[\"이름\"]"
      ],
      "metadata": {
        "id": "SHzFU3QOkxQd"
      },
      "execution_count": null,
      "outputs": []
    },
    {
      "cell_type": "code",
      "source": [],
      "metadata": {
        "id": "CXboBpO7kMfb"
      },
      "execution_count": null,
      "outputs": []
    }
  ]
}