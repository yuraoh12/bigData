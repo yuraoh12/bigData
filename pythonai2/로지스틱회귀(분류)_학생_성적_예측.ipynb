{
  "nbformat": 4,
  "nbformat_minor": 0,
  "metadata": {
    "colab": {
      "provenance": [],
      "authorship_tag": "ABX9TyML+SDBMfcOgkXtVBYZ+FmK",
      "include_colab_link": true
    },
    "kernelspec": {
      "name": "python3",
      "display_name": "Python 3"
    },
    "language_info": {
      "name": "python"
    }
  },
  "cells": [
    {
      "cell_type": "markdown",
      "metadata": {
        "id": "view-in-github",
        "colab_type": "text"
      },
      "source": [
        "<a href=\"https://colab.research.google.com/github/chacha86/pythonai2/blob/main/%EB%A1%9C%EC%A7%80%EC%8A%A4%ED%8B%B1%ED%9A%8C%EA%B7%80(%EB%B6%84%EB%A5%98)_%ED%95%99%EC%83%9D_%EC%84%B1%EC%A0%81_%EC%98%88%EC%B8%A1.ipynb\" target=\"_parent\"><img src=\"https://colab.research.google.com/assets/colab-badge.svg\" alt=\"Open In Colab\"/></a>"
      ]
    },
    {
      "cell_type": "code",
      "source": [
        "import pandas as pd\n",
        "import numpy as np\n",
        "import matplotlib.pyplot as plt\n",
        "import seaborn as sns\n",
        "\n",
        "\n",
        "# gender : 성별(M: 남, F: 여)\n",
        "# Nationality : 국적\n",
        "# PlaceofBirth : 출생국가\n",
        "# StageID : 학교(초, 중, 고)\n",
        "# GradeID : 성적 등급\n",
        "# SectionID : 반 이름\n",
        "# Topic: 수강 과목\n",
        "# Semester : 수강한 학기 (1학기/ 2학기)\n",
        "# Relation : 주 보호자와 학생의 관계\n",
        "# raisedhands : 수업중 손을 든 횟수\n",
        "# VisitedResources: 학생이 교과 과정을 방문한 횟수\n",
        "# AnnouncementsView: 학생이 과목 공지사항을 방문한 횟수\n",
        "# Discussion : 학생이 토론에 참여한 횟수\n",
        "# ParentAnsweringSurvey : 부모가 학교 설문에 참여했는지 여부\n",
        "# ParentschoolSatisfaction : 부모가 학교에 만족했는지 여부\n",
        "# StudentAbscenceDays : 학생의 결석 횟수(7회 이상/미만)\n",
        "# Class : 학생의 성적 등급 (L: 낮음, M: 보통, H: 높음)\n"
      ],
      "metadata": {
        "id": "aNCzY4kLyIAk"
      },
      "execution_count": null,
      "outputs": []
    },
    {
      "cell_type": "code",
      "source": [
        "# 1. 판다스로 데이터 읽어오기\n",
        "\n",
        "\n"
      ],
      "metadata": {
        "id": "5EFc-jV_T9QG"
      },
      "execution_count": null,
      "outputs": []
    },
    {
      "cell_type": "code",
      "source": [
        "\n",
        "# 2. 데이터의 개수, 데이터 타입, 결측치 확인\n",
        "\n"
      ],
      "metadata": {
        "id": "haI8__MqUChZ"
      },
      "execution_count": null,
      "outputs": []
    },
    {
      "cell_type": "code",
      "source": [
        "# 3. 시각화를 이용한 탐색적 분석\n",
        "#  - 수치형 데이터의 탐색적 분석\n",
        "#    - 히스토그램을 이용해 각 수치데이터의 데이터 분포 및 상관관계 확인\n",
        "#    - 상관계수 확인\n",
        "#  - 범주형 데이터의 탐색적 분석  - 다음을 bar플롯을 이용해 그려주세요.\n",
        "#    - 남녀의 성적 비율\n",
        "#    - 국적에 따른 성적 비율\n",
        "#    - 과목에 따른 성적 비율\n",
        "#    - 부모의 설문 참여에 따른 성적 비율"
      ],
      "metadata": {
        "id": "f8bJaHq0UDtQ"
      },
      "execution_count": null,
      "outputs": []
    },
    {
      "cell_type": "code",
      "source": [
        "\n",
        "# 4. 데이터 전처리하기\n",
        "\n",
        "\n"
      ],
      "metadata": {
        "id": "CE76za71UFX2"
      },
      "execution_count": null,
      "outputs": []
    },
    {
      "cell_type": "code",
      "source": [
        "\n",
        "# 5. 학습용 데이터와 테스트용 데이터로 나누기\n",
        "\n"
      ],
      "metadata": {
        "id": "YClitSHfUGMS"
      },
      "execution_count": null,
      "outputs": []
    },
    {
      "cell_type": "code",
      "source": [
        "\n",
        "# 6. 로지스틱 회귀를 이용해 학습하고 평가하기\n"
      ],
      "metadata": {
        "id": "TKptzGmjUGkY",
        "colab": {
          "base_uri": "https://localhost:8080/"
        },
        "outputId": "5c029990-c68b-482d-94bd-a66e003af3f9"
      },
      "execution_count": null,
      "outputs": [
        {
          "output_type": "execute_result",
          "data": {
            "text/plain": [
              "(0.8072916666666666, 0.6979166666666666)"
            ]
          },
          "metadata": {},
          "execution_count": 12
        }
      ]
    },
    {
      "cell_type": "code",
      "source": [
        "# 교차 검증"
      ],
      "metadata": {
        "id": "cedaUiGSBvu7"
      },
      "execution_count": null,
      "outputs": []
    },
    {
      "cell_type": "code",
      "source": [
        "gs.fit(trd, trt)"
      ],
      "metadata": {
        "id": "A8iZvCfPCR7k"
      },
      "execution_count": null,
      "outputs": []
    },
    {
      "cell_type": "code",
      "source": [
        "# 평가\n",
        "from sklearn.metrics import classification_report\n",
        "\n",
        "print(classification_report(trt, lr.predict(trd)))\n",
        "print(classification_report(trt, best_lr.predict(trd)))"
      ],
      "metadata": {
        "id": "X3sn-zVQAyEo"
      },
      "execution_count": null,
      "outputs": []
    },
    {
      "cell_type": "code",
      "source": [
        "# 7. 높은 성적(H)를 받는 데 영향을 미치는 요인 top3는 무엇인가요?\n",
        "\n",
        "\n",
        "\n",
        "\n"
      ],
      "metadata": {
        "id": "8ku8-fLyUOpH"
      },
      "execution_count": null,
      "outputs": []
    }
  ]
}