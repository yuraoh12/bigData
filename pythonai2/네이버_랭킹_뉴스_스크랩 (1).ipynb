{
  "nbformat": 4,
  "nbformat_minor": 0,
  "metadata": {
    "colab": {
      "provenance": [],
      "authorship_tag": "ABX9TyNbLuiAzt/HI6TD1a0Hz3TI",
      "include_colab_link": true
    },
    "kernelspec": {
      "name": "python3",
      "display_name": "Python 3"
    },
    "language_info": {
      "name": "python"
    }
  },
  "cells": [
    {
      "cell_type": "markdown",
      "metadata": {
        "id": "view-in-github",
        "colab_type": "text"
      },
      "source": [
        "<a href=\"https://colab.research.google.com/github/chacha86/pythonai2/blob/main/%EB%84%A4%EC%9D%B4%EB%B2%84_%EB%9E%AD%ED%82%B9_%EB%89%B4%EC%8A%A4_%EC%8A%A4%ED%81%AC%EB%9E%A9.ipynb\" target=\"_parent\"><img src=\"https://colab.research.google.com/assets/colab-badge.svg\" alt=\"Open In Colab\"/></a>"
      ]
    },
    {
      "cell_type": "code",
      "execution_count": 2,
      "metadata": {
        "id": "FOutqa63cWxJ"
      },
      "outputs": [],
      "source": [
        "## 파이썬 웹 요청 라이브러리\n",
        "import requests"
      ]
    },
    {
      "cell_type": "code",
      "source": [
        "## 파이썬이 브라우저인 척 하기 위함\n",
        "headers = {\n",
        "    'User-Agent' : 'Mozilla/5.0 (Windows NT 10.0; Win64; x64) AppleWebKit/537.36 (KHTML, like Gecko) Chrome/102.0.0.0 Safari/537.36'\n",
        "}\n",
        "\n",
        "## 네이버 랭킹 뉴스 웹페이지 요청. 성공하면 응답이옴(r)\n",
        "r = requests.get('https://news.naver.com/main/ranking/popularDay.naver', headers=headers)"
      ],
      "metadata": {
        "id": "U6Yi7mwbce6G"
      },
      "execution_count": 3,
      "outputs": []
    },
    {
      "cell_type": "code",
      "source": [
        "## 응답 정보에는 많은 게 있지만 우린 text가져가면 된다. text는 단순 문자열이다.\n",
        "ranking_news_html = r.text\n"
      ],
      "metadata": {
        "id": "3ECoassmczUa"
      },
      "execution_count": 31,
      "outputs": []
    },
    {
      "cell_type": "code",
      "source": [
        "## html 문서 -> 문자열(태그 접근 X)\n",
        "\n",
        "html_doc = \"\"\"<html><head><title>The Dormouse's story</title></head>\n",
        "<body>\n",
        "<p class=\"title\"><b>The Dormouse's story</b></p>\n",
        "\n",
        "<p class=\"story\">Once upon a time there were three little sisters; and their names were\n",
        "<a href=\"http://example.com/elsie\" class=\"sister\" id=\"link1\">Elsie</a>,\n",
        "<a href=\"http://example.com/lacie\" class=\"sister\" id=\"link2\">Lacie</a> and\n",
        "<a href=\"http://example.com/tillie\" class=\"sister\" id=\"link3\">Tillie</a>;\n",
        "and they lived at the bottom of a well.</p>\n",
        "\n",
        "<p class=\"story\">...</p>\n",
        "\"\"\"\n",
        "\n",
        "html_doc"
      ],
      "metadata": {
        "id": "Oos7FfyqdPkX"
      },
      "execution_count": null,
      "outputs": []
    },
    {
      "cell_type": "code",
      "source": [
        "## 단순 문자열을 태그를 기준으로 트리 형식으로 저장해주는 라이브러리\n",
        "from bs4 import BeautifulSoup\n",
        "soup = BeautifulSoup(html_doc, 'html.parser')\n",
        "\n",
        "\n",
        "# select : 원하는 태그를 다수 선택\n",
        "# select_one : 원하는 태그를 한개만 선택\n",
        "soup.select_one('p.title')\n",
        "\n",
        "\n",
        "# 태그.text : 태그로 감싸여진 문자 텍스트값 가져오기\n",
        "# 태그[속성명] : 속성명에 해당하는 값을 가져오기\n",
        "soup.select_one('title').text\n",
        "soup.select_one('a#link2').text\n",
        "\n",
        "atag = soup.select_one('a#link1')\n",
        "\n",
        "print(atag.text, atag['href'])\n",
        "\n",
        "# 주요 선택자\n",
        "## 태그이름 (태그명)\n",
        "## 클래스이름 (.클래스명)\n",
        "## 아이디이름 (#아이디명)\n",
        "\n"
      ],
      "metadata": {
        "id": "kSHE9zqKeRsw"
      },
      "execution_count": null,
      "outputs": []
    },
    {
      "cell_type": "code",
      "source": [
        "## 네이버 랭킹 뉴스 페이지 태그 문서 트리 구조로 파싱\n",
        "soup = BeautifulSoup(ranking_news_html, 'html.parser')\n",
        "soup"
      ],
      "metadata": {
        "id": "QHMf_G5ueDZ2"
      },
      "execution_count": null,
      "outputs": []
    },
    {
      "cell_type": "code",
      "source": [
        "# 원하는 정보가 있는 태그가 페이지 전체에 걸쳐 방대하게 펼쳐저 있기 때문에\n",
        "# 탐색 범위를 좁히기 위해 적절한 부분으로 자른다.\n",
        "news_list = soup.select(\"div.rankingnews_box\")"
      ],
      "metadata": {
        "id": "AKxbSIRciHpw"
      },
      "execution_count": 36,
      "outputs": []
    },
    {
      "cell_type": "code",
      "source": [
        "box = news_list[0] # 페이지에 존재하는 여러 div.rankingnews_box 중 가장 첫번째 결과\n",
        "# 여기서 div.rankingnews_box는 각 언론사를 의미한다."
      ],
      "metadata": {
        "id": "n3Ql7AYYju3h"
      },
      "execution_count": 39,
      "outputs": []
    },
    {
      "cell_type": "code",
      "source": [
        "box.select_one('strong.rankingnews_name').text # 언론사의 이름을 찾아서 텍스트를 꺼내온다."
      ],
      "metadata": {
        "colab": {
          "base_uri": "https://localhost:8080/",
          "height": 35
        },
        "id": "pf_ZCYapj4yX",
        "outputId": "3bda82a5-bb1b-4a0a-f1bf-bc3c4b07b95b"
      },
      "execution_count": 42,
      "outputs": [
        {
          "output_type": "execute_result",
          "data": {
            "text/plain": [
              "'서울경제'"
            ],
            "application/vnd.google.colaboratory.intrinsic+json": {
              "type": "string"
            }
          },
          "metadata": {},
          "execution_count": 42
        }
      ]
    },
    {
      "cell_type": "code",
      "source": [
        "box2 = news_list[1] # 두번째 언론사 태그\n",
        "box2.select_one('strong.rankingnews_name').text # 두번째 언론사의 언론사 이름"
      ],
      "metadata": {
        "colab": {
          "base_uri": "https://localhost:8080/",
          "height": 35
        },
        "id": "t9IH7W75ksKd",
        "outputId": "bd666c2c-ef49-4954-f635-938334a872ff"
      },
      "execution_count": 43,
      "outputs": [
        {
          "output_type": "execute_result",
          "data": {
            "text/plain": [
              "'헤럴드경제'"
            ],
            "application/vnd.google.colaboratory.intrinsic+json": {
              "type": "string"
            }
          },
          "metadata": {},
          "execution_count": 43
        }
      ]
    },
    {
      "cell_type": "code",
      "source": [
        "# news_list 는 82개의 언론사 태그가 담겨져 있는 리스트\n",
        "for box in news_list: # 각 언론사 태그를 순차적으로 꺼낸다\n",
        "\n",
        "  journal_name = box.select_one('strong.rankingnews_name').text # 언론사의 이름 꺼낸다\n",
        "\n",
        "  if journal_name == 'SBS' : # 언론사 이름이 SBS 라면\n",
        "\n",
        "    news_li = box.select(\"li\") # 해당 언론사 태그 내에서 li 태그들을 찾는다. 5개의 li태그를 찾을 수 있다.\n",
        "    target = news_li[0] # li 태그 중 첫번째 태그를 꺼내서 target변수에 담는다. 여기서 li는 해당 언론사의 상위 5개 랭킹 뉴스 태그이다.\n",
        "    news_a = target.select_one('div.list_content a') # 첫번째 랭킹뉴스 태그를 꺼내서 news_a 변수에 담는다.\n",
        "\n",
        "    dic = {\n",
        "        'title' : news_a.text, # 첫번째 랭킹 뉴스의 제목을 꺼낸다.\n",
        "        'link' : news_a['href'] # 첫번째 랭킹 뉴스의 본문 링크를 꺼낸다.\n",
        "    }\n",
        "\n",
        "# 최종 파이썬 딕셔너리로 만든다. 이후 json을 이용해 파일 저장하면 된다.\n",
        "print(dic)\n",
        "\n"
      ],
      "metadata": {
        "id": "uV3ijsR6kbzT"
      },
      "execution_count": null,
      "outputs": []
    },
    {
      "cell_type": "code",
      "source": [
        "# 네이버 TV TOP 100 정보 가져오기\n",
        "\n",
        "## 파이썬이 브라우저인 척 하기 위함\n",
        "headers = {\n",
        "    'User-Agent' : 'Mozilla/5.0 (Windows NT 10.0; Win64; x64) AppleWebKit/537.36 (KHTML, like Gecko) Chrome/102.0.0.0 Safari/537.36'\n",
        "}\n",
        "\n",
        "## 네이버 TV TOP 100 웹페이지 요청. 성공하면 응답이옴(r)\n",
        "r = requests.get('https://tv.naver.com/r', headers=headers)\n"
      ],
      "metadata": {
        "id": "UCpWHwfqlBjX"
      },
      "execution_count": 56,
      "outputs": []
    },
    {
      "cell_type": "code",
      "source": [
        "mon_webtoon_html = r.text\n",
        "## 네이버 TV TOP 100 페이지 태그 문서 트리 구조로 파싱\n",
        "soup = BeautifulSoup(mon_webtoon_html, 'html.parser')\n",
        "soup"
      ],
      "metadata": {
        "id": "8sKJ8P35scPq"
      },
      "execution_count": null,
      "outputs": []
    },
    {
      "cell_type": "code",
      "source": [
        "# soup.select_one('div.cds_area')\n",
        "cds_list = soup.select('div.cds') # 태그명이 div이고 class명이 cds인 태그를 여러개 선택\n",
        "\n"
      ],
      "metadata": {
        "id": "yqfM1kVpsd60"
      },
      "execution_count": null,
      "outputs": []
    },
    {
      "cell_type": "code",
      "source": [
        "cds_list[0].select('dd.chn') # 가져온 태그들 중 가장 첫번째 태그 선택\n",
        "\n",
        "\n"
      ],
      "metadata": {
        "colab": {
          "base_uri": "https://localhost:8080/"
        },
        "id": "9YYTSUUPt6eg",
        "outputId": "e77a671c-5e2a-459a-f695-4990030b0e21"
      },
      "execution_count": 72,
      "outputs": [
        {
          "output_type": "execute_result",
          "data": {
            "text/plain": [
              "[<dd class=\"chn\">\n",
              " <a href=\"https://tv.naver.com/npop\" onclick=\"clickcr(this, 'top.chtitle', '', '4', event)\">NPOP (엔팝)</a>\n",
              " </dd>]"
            ]
          },
          "metadata": {},
          "execution_count": 72
        }
      ]
    },
    {
      "cell_type": "code",
      "source": [
        "atag = cds_list[0].select_one('dt.title a') # 해당 태그에서 태그 이름이 dt 이고 class이름이 title인 태그 아래에 있는 a 태그 선택\n",
        "atag['title'] # a 태그의 속성 중 title 속성의 값을 꺼낸다."
      ],
      "metadata": {
        "colab": {
          "base_uri": "https://localhost:8080/",
          "height": 35
        },
        "id": "A1iqYyTHu9b1",
        "outputId": "d82a4983-3143-4d15-cc97-d7f6cef5900c"
      },
      "execution_count": 77,
      "outputs": [
        {
          "output_type": "execute_result",
          "data": {
            "text/plain": [
              "'[MAIN TRAILER] NPOP, WANNA JOIN? Ι 9/6(수) 8PM NPOP EP.01'"
            ],
            "application/vnd.google.colaboratory.intrinsic+json": {
              "type": "string"
            }
          },
          "metadata": {},
          "execution_count": 77
        }
      ]
    },
    {
      "cell_type": "code",
      "source": [],
      "metadata": {
        "id": "TDWetmtauXr_"
      },
      "execution_count": null,
      "outputs": []
    }
  ]
}