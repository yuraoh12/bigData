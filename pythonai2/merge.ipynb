{
  "nbformat": 4,
  "nbformat_minor": 0,
  "metadata": {
    "colab": {
      "provenance": [],
      "authorship_tag": "ABX9TyPwn0dw3QlIe/x7bJEBzZjB",
      "include_colab_link": true
    },
    "kernelspec": {
      "name": "python3",
      "display_name": "Python 3"
    },
    "language_info": {
      "name": "python"
    }
  },
  "cells": [
    {
      "cell_type": "markdown",
      "metadata": {
        "id": "view-in-github",
        "colab_type": "text"
      },
      "source": [
        "<a href=\"https://colab.research.google.com/github/chacha86/pythonai2/blob/main/merge.ipynb\" target=\"_parent\"><img src=\"https://colab.research.google.com/assets/colab-badge.svg\" alt=\"Open In Colab\"/></a>"
      ]
    },
    {
      "cell_type": "code",
      "execution_count": null,
      "metadata": {
        "id": "Db-P7ZTTzziW"
      },
      "outputs": [],
      "source": [
        "## 14. concat\n",
        "### 데이터 프레임 붙이기\n",
        "import pandas as pd\n",
        "\n",
        "data1 = {\n",
        "    '이름' : ['홍길동', '이순신', '유관순'],\n",
        "    '국어' : [80, 90, 100],\n",
        "    '수학' : [100, 80, 90],\n",
        "    '영어' : [80, 70, 80]\n",
        "}\n",
        "\n",
        "data2 = {\n",
        "    '이름' : ['을지문덕', '황진이'],\n",
        "    '국어' : [80, 90],\n",
        "    '수학' : [100, 90],\n",
        "    '영어' : [80, 70]\n",
        "}\n",
        "\n",
        "data3 = {\n",
        "    '파이썬' : [80, 90, 100, 80, 90],\n",
        "    '인공지능' : [100, 90, 60, 80, 90],\n",
        "\n",
        "}\n",
        "\n",
        "df1 = pd.DataFrame(data1)\n",
        "df2 = pd.DataFrame(data2)\n",
        "df3 = pd.DataFrame(data3)\n",
        "\n",
        "\n",
        "print(df1)\n",
        "print(df2)\n",
        "print(df3)"
      ]
    },
    {
      "cell_type": "code",
      "source": [
        "df4 = pd.concat([df1, df2], axis=0, ignore_index=True)\n",
        "\n",
        "# df5 = df4.reset_index()\n",
        "\n",
        "# df5.drop('index', axis=1)\n",
        "# pd.concat([df4, df3], axis=0)\n",
        "\n",
        "df4"
      ],
      "metadata": {
        "id": "WzwWbVTn1u3s"
      },
      "execution_count": null,
      "outputs": []
    },
    {
      "cell_type": "code",
      "source": [
        "course = pd.read_csv('/content/student/sel_course.csv')\n",
        "info1 = pd.read_csv('/content/student/students_info1.csv')\n",
        "info2 = pd.read_csv('/content/student/students_info2.csv')\n",
        "scores = pd.read_excel('/content/student/students_scores.xlsx')"
      ],
      "metadata": {
        "id": "F_MBzvrc2Ie4"
      },
      "execution_count": 3,
      "outputs": []
    },
    {
      "cell_type": "code",
      "source": [
        "course.head()\n",
        "course['학번'].size\n",
        "course.shape\n",
        "\n",
        "print(info1.head())\n",
        "print(info2.head())\n",
        "\n",
        "scores.shape"
      ],
      "metadata": {
        "id": "jM4PjVPJ2iI7"
      },
      "execution_count": null,
      "outputs": []
    },
    {
      "cell_type": "code",
      "source": [
        "## 문제. concat을 이용해서 학생의 점수와 신상정보를 붙여주세요.\n",
        "## info1 : 1~50번 학생의 신상 정보\n",
        "## info2 : 51 ~ 100번 학생의 신상 정보\n",
        "## scores : 1 ~ 100번 학생의 점수 정보\n",
        "\n",
        "\n",
        "print(info1.head())\n",
        "print(info2.head())\n",
        "\n",
        "### 2. info1과 info2를 수직으로 붙이기\n",
        "\n",
        "\n",
        "info2.rename(columns={'Loc' : '지역', 'Sex' : '성별'})\n",
        "\n",
        "info2.columns = info1.columns\n",
        "\n",
        "\n",
        "\n"
      ],
      "metadata": {
        "id": "lYkUuFt13pYa"
      },
      "execution_count": null,
      "outputs": []
    },
    {
      "cell_type": "code",
      "source": [
        "\n",
        "stu_info = pd.concat([info1, info2])\n",
        "\n",
        "### 1. info1과 info2의 데이터 형식 맞추기(1번과 2번은 순서를 바꿔도 됨)\n",
        "#### 성별 전처리\n",
        "stu_info['성별'] = stu_info['성별'].str.replace('M', '남자').str.replace('F', '여자')\n",
        "\n",
        "#### 지역 전처리\n",
        "stu_info['지역'].replace({})\n",
        "stu_info['지역'].unique()\n",
        "\n",
        "loc_kor = ['대전', '광주', '울산', '서울', '부산', '대구', '인천']\n",
        "loc_eng = ['daejon', 'kwangju', 'ulsan', 'seoul', 'busan', 'daeku', 'incheon']\n",
        "stu_info['지역'] = stu_info['지역'].str.lower().str.replace('pusan', 'busan').replace(loc_eng, loc_kor)\n",
        "\n",
        "\n",
        "#### 생년월일 전처리\n",
        "stu_info['생년월일'] = stu_info['생년월일'].str.replace('년', '-').str.replace('일', '')\n"
      ],
      "metadata": {
        "id": "x1JSszfOEnAM"
      },
      "execution_count": 52,
      "outputs": []
    },
    {
      "cell_type": "code",
      "source": [
        "### 3. 붙인 결과의 인덱스를 초기화 하기\n",
        "#stu_info.reset_index(drop=True)\n",
        "stu_info = stu_info.reset_index().drop('index', axis=1)\n"
      ],
      "metadata": {
        "id": "maEiskI7IBu4"
      },
      "execution_count": 63,
      "outputs": []
    },
    {
      "cell_type": "code",
      "source": [
        "### 4. info1과 info2를 붙인 결과와 scores를 수평으로 붙이기\n",
        "\n",
        "stu = pd.concat([stu_info, scores[['국어', '영어', '수학']]], axis=1)\n",
        "stu\n"
      ],
      "metadata": {
        "id": "JjBYDhNx6k31"
      },
      "execution_count": null,
      "outputs": []
    },
    {
      "cell_type": "code",
      "source": [
        "## 15. merge\n",
        "### merge는 특정 컬럼의 값이 일치하는 행끼리 붙여줌\n",
        "order = pd.read_csv('/content/order/order.csv')\n",
        "product = pd.read_csv('/content/order/product.csv')\n",
        "user = pd.read_csv('/content/order/user.csv')\n"
      ],
      "metadata": {
        "id": "UEKH6u6uJ1N2"
      },
      "execution_count": 69,
      "outputs": []
    },
    {
      "cell_type": "code",
      "source": [
        "# pd.concat([order, product], axis=1)\n",
        "tmp = pd.merge(order, product, left_on='productNo', right_on='id')\n",
        "pd.merge(tmp, user, left_on='userNo', right_on='id')[['pname', 'price', 'userName']]\n"
      ],
      "metadata": {
        "id": "vpCuecZOKA-X"
      },
      "execution_count": null,
      "outputs": []
    }
  ]
}