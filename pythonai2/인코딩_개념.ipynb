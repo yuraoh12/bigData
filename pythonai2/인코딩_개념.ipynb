{
  "nbformat": 4,
  "nbformat_minor": 0,
  "metadata": {
    "colab": {
      "provenance": [],
      "authorship_tag": "ABX9TyPwMh8t5826Mgh/K7rcpZ5z",
      "include_colab_link": true
    },
    "kernelspec": {
      "name": "python3",
      "display_name": "Python 3"
    },
    "language_info": {
      "name": "python"
    }
  },
  "cells": [
    {
      "cell_type": "markdown",
      "metadata": {
        "id": "view-in-github",
        "colab_type": "text"
      },
      "source": [
        "<a href=\"https://colab.research.google.com/github/chacha86/pythonai2/blob/main/%EC%9D%B8%EC%BD%94%EB%94%A9_%EA%B0%9C%EB%85%90.ipynb\" target=\"_parent\"><img src=\"https://colab.research.google.com/assets/colab-badge.svg\" alt=\"Open In Colab\"/></a>"
      ]
    },
    {
      "cell_type": "code",
      "execution_count": 1,
      "metadata": {
        "id": "Z7CZdvgdLJhG"
      },
      "outputs": [],
      "source": [
        "import pandas as pd\n",
        "\n",
        "stu = pd.read_excel('/content/students_v2.xlsx')"
      ]
    },
    {
      "cell_type": "code",
      "source": [
        "## 지역이 학생의 점수의 고저에 영향을 미친다고 가정\n",
        "## 범주 데이터가 학습데이터로서 가치가 있음\n",
        "\n",
        "stu['지역'] ## 범주데이터를 학습하라고 주면 에러가 남\n",
        "\n",
        "## 컴퓨터는 숫자밖에 처리할 수 없음.\n",
        "## 문자 -> 숫자로 변환되어서 처리(인코딩)\n",
        "\n",
        "## 대전 - 0, 서울 - 1, 광주 - 2, 울산 - 3 .... 레이블링 인코딩(순위가 있는 범주 데이터 주로 사용)\n",
        "## 대부분 인코딩은 원핫인코딩을 사용. -> 범주별 컬럼을 생성해서 해당하는 컬럼에만 1 나머지는 0\n",
        "\n",
        "\n",
        "rst = pd.get_dummies(stu[['지역']])"
      ],
      "metadata": {
        "id": "WcKbv2cXLolY"
      },
      "execution_count": 11,
      "outputs": []
    },
    {
      "cell_type": "code",
      "source": [
        "stu2 = stu.drop('지역', axis=1)\n",
        "stu3 = pd.concat([stu2, rst], axis=1)\n",
        "\n",
        "## 성별을 원핫 인코딩해주세요.\n",
        "pd.concat([stu3, pd.get_dummies(stu3[['성별']])], axis=1).drop(['성별', '이름', '생년월일'], axis=1)\n"
      ],
      "metadata": {
        "id": "6aoQptpJLvJ-"
      },
      "execution_count": null,
      "outputs": []
    },
    {
      "cell_type": "code",
      "source": [],
      "metadata": {
        "id": "E9yHKEI_PGMn"
      },
      "execution_count": null,
      "outputs": []
    }
  ]
}