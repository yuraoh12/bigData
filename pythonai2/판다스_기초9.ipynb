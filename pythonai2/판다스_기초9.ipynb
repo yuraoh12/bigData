{
  "nbformat": 4,
  "nbformat_minor": 0,
  "metadata": {
    "colab": {
      "provenance": [],
      "authorship_tag": "ABX9TyMRCa6AVNX5v0OovBOvIKPS",
      "include_colab_link": true
    },
    "kernelspec": {
      "name": "python3",
      "display_name": "Python 3"
    },
    "language_info": {
      "name": "python"
    }
  },
  "cells": [
    {
      "cell_type": "markdown",
      "metadata": {
        "id": "view-in-github",
        "colab_type": "text"
      },
      "source": [
        "<a href=\"https://colab.research.google.com/github/chacha86/pythonai2/blob/main/%ED%8C%90%EB%8B%A4%EC%8A%A4_%EA%B8%B0%EC%B4%889.ipynb\" target=\"_parent\"><img src=\"https://colab.research.google.com/assets/colab-badge.svg\" alt=\"Open In Colab\"/></a>"
      ]
    },
    {
      "cell_type": "code",
      "execution_count": null,
      "metadata": {
        "id": "BWlvBaCICIm2"
      },
      "outputs": [],
      "source": [
        "## 14. concat\n",
        "### 데이터 프레임 붙이기\n",
        "import pandas as pd\n",
        "\n",
        "data1 = {\n",
        "    '이름' : ['홍길동', '이순신', '유관순'],\n",
        "    '국어' : [80, 90, 100],\n",
        "    '수학' : [100, 80, 90],\n",
        "    '영어' : [80, 70, 80]\n",
        "}\n",
        "\n",
        "data2 = {\n",
        "    '이름' : ['을지문덕', '황진이'],\n",
        "    '국어' : [80, 90],\n",
        "    '수학' : [100, 90],\n",
        "    '영어' : [80, 70]\n",
        "}\n",
        "\n",
        "data3 = {\n",
        "    '파이썬' : [80, 90, 100, 80, 90],\n",
        "    '인공지능' : [100, 90, 60, 80, 90],\n",
        "\n",
        "}\n",
        "\n",
        "df1 = pd.DataFrame(data1)\n",
        "df2 = pd.DataFrame(data2)\n",
        "df3 = pd.DataFrame(data3)\n",
        "\n",
        "\n",
        "print(df1)\n",
        "print(df2)\n",
        "print(df3)\n",
        "\n",
        "### concat은 컬럼 기준(axis=1)으로 붙일 때는 index로 매핑하고 로우 기준(axis=0)으로 붙일 때는 컬럼명으로 매핑한다.\n",
        "df4 = pd.concat([df1, df2], axis=0, ignore_index=True)\n",
        "\n",
        "# df5 = df4.reset_index()\n",
        "\n",
        "# df5.drop('index', axis=1)\n",
        "# pd.concat([df4, df3], axis=0)\n",
        "\n",
        "df4\n"
      ]
    },
    {
      "cell_type": "code",
      "source": [
        "order = pd.read_csv('/content/order.csv')\n",
        "product = pd.read_csv('/content/product.csv')\n",
        "user = pd.read_csv('/content/user.csv')"
      ],
      "metadata": {
        "id": "qU9m7CPWFIU0"
      },
      "execution_count": null,
      "outputs": []
    }
  ]
}