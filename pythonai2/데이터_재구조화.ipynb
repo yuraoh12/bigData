{
  "nbformat": 4,
  "nbformat_minor": 0,
  "metadata": {
    "colab": {
      "provenance": [],
      "authorship_tag": "ABX9TyNIKGxkJGQ0g5GWLlwfGSka",
      "include_colab_link": true
    },
    "kernelspec": {
      "name": "python3",
      "display_name": "Python 3"
    },
    "language_info": {
      "name": "python"
    }
  },
  "cells": [
    {
      "cell_type": "markdown",
      "metadata": {
        "id": "view-in-github",
        "colab_type": "text"
      },
      "source": [
        "<a href=\"https://colab.research.google.com/github/chacha86/pythonai2/blob/main/%EB%8D%B0%EC%9D%B4%ED%84%B0_%EC%9E%AC%EA%B5%AC%EC%A1%B0%ED%99%94.ipynb\" target=\"_parent\"><img src=\"https://colab.research.google.com/assets/colab-badge.svg\" alt=\"Open In Colab\"/></a>"
      ]
    },
    {
      "cell_type": "code",
      "execution_count": 1,
      "metadata": {
        "id": "ypgxD-DTB0r7"
      },
      "outputs": [],
      "source": [
        "import pandas as pd"
      ]
    },
    {
      "cell_type": "code",
      "source": [
        "df = pd.read_excel('/content/students_v2.xlsx')"
      ],
      "metadata": {
        "id": "RUR7aZ5gCqdM"
      },
      "execution_count": 2,
      "outputs": []
    },
    {
      "cell_type": "code",
      "source": [
        "## 와이드폼, 롱폼"
      ],
      "metadata": {
        "id": "9k_p-UthCudE"
      },
      "execution_count": null,
      "outputs": []
    },
    {
      "cell_type": "code",
      "source": [
        "## 와이드 -> 롱\n",
        "\n",
        "## 녹일 대상 컬럼, 데이터화 된 컬럼의 주인, 녹일 대상 컬럼의 원래 값\n",
        "\n",
        "df.columns.values\n",
        "df2 = df[['번호', '이름', '국어', '영어', '수학']]\n",
        "\n",
        "df3 = pd.melt(df2, id_vars = ['번호', '이름'], value_vars=['국어', '영어', '수학'], var_name='과목', value_name='점수')\n",
        "\n",
        "df3.sort_values('번호')\n",
        "# df3.rename(columns={'variable' : '과목', 'value' : '점수'})"
      ],
      "metadata": {
        "id": "a40bGpdTCvKT"
      },
      "execution_count": null,
      "outputs": []
    },
    {
      "cell_type": "code",
      "source": [
        "## 롱 -> 와일드\n",
        "\n",
        "## index, columns, values\n",
        "## 인덱스가 될 컬럼\n",
        "## 컬럼이 될 컬럼\n",
        "## 값이 될 컬럼\n",
        "df.pivot_table(columns='지역', values=['국어', '수학'], index='성별', aggfunc=\"mean\")\n",
        "\n",
        "## 지역별로 국어 점수. 남녀별로\n",
        "\n"
      ],
      "metadata": {
        "id": "C3l4iBjBDRxS"
      },
      "execution_count": null,
      "outputs": []
    },
    {
      "cell_type": "code",
      "source": [],
      "metadata": {
        "id": "OxDK1TEII6sx"
      },
      "execution_count": null,
      "outputs": []
    },
    {
      "cell_type": "code",
      "source": [],
      "metadata": {
        "id": "TgnY5et3Iu7S"
      },
      "execution_count": null,
      "outputs": []
    },
    {
      "cell_type": "code",
      "source": [],
      "metadata": {
        "id": "uCsv-k9TGql8"
      },
      "execution_count": null,
      "outputs": []
    }
  ]
}