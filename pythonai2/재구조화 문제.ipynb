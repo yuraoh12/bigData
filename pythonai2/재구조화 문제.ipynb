{
  "nbformat": 4,
  "nbformat_minor": 0,
  "metadata": {
    "colab": {
      "provenance": [],
      "authorship_tag": "ABX9TyMTTfTxdRayNWV/f2XVgt77",
      "include_colab_link": true
    },
    "kernelspec": {
      "name": "python3",
      "display_name": "Python 3"
    },
    "language_info": {
      "name": "python"
    }
  },
  "cells": [
    {
      "cell_type": "markdown",
      "metadata": {
        "id": "view-in-github",
        "colab_type": "text"
      },
      "source": [
        "<a href=\"https://colab.research.google.com/github/chacha86/pythonai2/blob/main/%EC%9E%AC%EA%B5%AC%EC%A1%B0%ED%99%94%20%EB%AC%B8%EC%A0%9C.ipynb\" target=\"_parent\"><img src=\"https://colab.research.google.com/assets/colab-badge.svg\" alt=\"Open In Colab\"/></a>"
      ]
    },
    {
      "cell_type": "code",
      "execution_count": null,
      "metadata": {
        "id": "aiApEPYgPd6G"
      },
      "outputs": [],
      "source": [
        "# 2015~2023년까지의 각 지역별 평당분양가격을 나타내는\n",
        "# 데이터프레임을 만들어주세요.\n",
        "\n",
        "# 데이터프레임은 아래와 같이 나오게 해주시면 됩니다.\n",
        "# [지역명, 연도, 월, 평당분양가격]\n"
      ]
    }
  ]
}