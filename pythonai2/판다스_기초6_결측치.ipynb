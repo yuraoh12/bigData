{
  "nbformat": 4,
  "nbformat_minor": 0,
  "metadata": {
    "colab": {
      "provenance": [],
      "authorship_tag": "ABX9TyNeI7XPDtoYFHGs1EipPdaK",
      "include_colab_link": true
    },
    "kernelspec": {
      "name": "python3",
      "display_name": "Python 3"
    },
    "language_info": {
      "name": "python"
    }
  },
  "cells": [
    {
      "cell_type": "markdown",
      "metadata": {
        "id": "view-in-github",
        "colab_type": "text"
      },
      "source": [
        "<a href=\"https://colab.research.google.com/github/chacha86/pythonai2/blob/main/%ED%8C%90%EB%8B%A4%EC%8A%A4_%EA%B8%B0%EC%B4%886_%EA%B2%B0%EC%B8%A1%EC%B9%98.ipynb\" target=\"_parent\"><img src=\"https://colab.research.google.com/assets/colab-badge.svg\" alt=\"Open In Colab\"/></a>"
      ]
    },
    {
      "cell_type": "code",
      "execution_count": 5,
      "metadata": {
        "id": "esuu0WhY1fXW"
      },
      "outputs": [],
      "source": [
        "import pandas as pd\n",
        "\n",
        "pd.to_numeric(['1','2',3,'a','b'], errors=\"coerce\")\n",
        "sr1 = pd.Series([1,2,3,'4'])\n",
        "sr1.astype('int')\n",
        "\n",
        "## 특정 자료형에 따라 기능이 작동한다.\n"
      ]
    },
    {
      "cell_type": "code",
      "source": [
        "# 12. 결측치\n",
        "\n",
        "import numpy as np\n",
        "\n",
        "sr2 = pd.Series([1,2,3,4, np.nan])\n",
        "\n",
        "## NaN -> 값이 없음.\n",
        "## 결측치 때문에 연산이 안되는 함수들이 존재\n",
        "## 분석 / 학습 정확도나 성능에 영향을 줌\n",
        "\n",
        "## 결측치 처리 방법\n",
        "## 12.1. 결측치를 없애기\n",
        "### 12.1.1 데이터프레임 기준으로 결측치가 존재하는 행을 제거\n",
        "### 12.1.2 데이터프레임 기준으로 결측치가 존재하는 열을 제거\n",
        "\n",
        "## 12.2. 결측치를 특정 값으로 치환\n",
        "### 12.2.1 숫자 -> 0, 평균, 중앙값, 최빈값\n",
        "### 12.2.2 문자 -> 새로운 카테고리, 공백\n",
        "\n",
        "## 12.3 결측치 확인\n",
        "df = pd.read_excel('/content/거래내역조회 (3).xlsx', skiprows=3)\n",
        "df.isna().sum()\n",
        "\n",
        "## 12.4 결측치가 포함된 열 삭제\n",
        "df.dropna(axis=1)\n",
        "\n",
        "## 12.5 결측치가 포함된 행 삭제\n",
        "df.dropna(axis=0)\n",
        "\n",
        "## 12.6 특정 컬럼만 선정해서 열, 행 삭제\n",
        "### 메모 컬럼 삭제\n",
        "# df.dropna(subset=['메모'], axis=1)\n",
        "### 기재내용 행 삭제\n",
        "df.dropna(subset='기재내용', axis=0)\n",
        "\n",
        "\n",
        "## 12.7 특정 값으로 치환\n",
        "### 결측치가 문자인 경우\n",
        "df['메모'] = df['메모'].fillna(' ')\n",
        "df['기재내용'] = df['기재내용'].fillna('기타')\n",
        "\n",
        "### 결측치가 숫자인 경우\n",
        "df_cp = df.copy()\n",
        "\n",
        "df_cp.loc[[0,3,5], '찾으신금액'] = np.nan\n",
        "\n"
      ],
      "metadata": {
        "id": "4vWI580N8gAS"
      },
      "execution_count": 35,
      "outputs": []
    },
    {
      "cell_type": "code",
      "source": [
        "### 평균으로 채우기\n",
        "df_cp['찾으신금액'].fillna(df_cp['찾으신금액'].mean())"
      ],
      "metadata": {
        "id": "GpE-BRIwCBfJ"
      },
      "execution_count": null,
      "outputs": []
    }
  ]
}