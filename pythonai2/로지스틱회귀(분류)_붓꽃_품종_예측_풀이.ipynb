{
  "nbformat": 4,
  "nbformat_minor": 0,
  "metadata": {
    "colab": {
      "provenance": [],
      "authorship_tag": "ABX9TyMu8cpyIS4XpcKtd60i6gtv",
      "include_colab_link": true
    },
    "kernelspec": {
      "name": "python3",
      "display_name": "Python 3"
    },
    "language_info": {
      "name": "python"
    }
  },
  "cells": [
    {
      "cell_type": "markdown",
      "metadata": {
        "id": "view-in-github",
        "colab_type": "text"
      },
      "source": [
        "<a href=\"https://colab.research.google.com/github/chacha86/pythonai2/blob/main/%EB%A1%9C%EC%A7%80%EC%8A%A4%ED%8B%B1%ED%9A%8C%EA%B7%80(%EB%B6%84%EB%A5%98)_%EB%B6%93%EA%BD%83_%ED%92%88%EC%A2%85_%EC%98%88%EC%B8%A1_%ED%92%80%EC%9D%B4.ipynb\" target=\"_parent\"><img src=\"https://colab.research.google.com/assets/colab-badge.svg\" alt=\"Open In Colab\"/></a>"
      ]
    },
    {
      "cell_type": "code",
      "execution_count": 1,
      "metadata": {
        "id": "QamjhIVjbzxY"
      },
      "outputs": [],
      "source": [
        "from sklearn.datasets import load_iris\n",
        "import pandas as pd\n",
        "\n",
        "iris = load_iris()\n",
        "\n",
        "## 붓꽃 데이터\n",
        "iris_data = iris.data\n",
        "\n",
        "## 특성 이름\n",
        "iris_feature_names = iris.feature_names\n",
        "\n",
        "## 붓꽃 클래스\n",
        "iris_target = iris.target\n",
        "\n",
        "## 클래스 이름\n",
        "iris_target_names = iris.target_names\n",
        "\n"
      ]
    },
    {
      "cell_type": "code",
      "source": [],
      "metadata": {
        "id": "eqLS2QsHEhCz"
      },
      "execution_count": 1,
      "outputs": []
    },
    {
      "cell_type": "code",
      "source": [
        "## 분류 -> 이진분류, 다중분류\n",
        "### 이진분류 -> 내가 관심있는 건가 아닌가?\n",
        "### 다중분류 -> 모든 종류중 특정 종류일 확률이 얼마인가?\n",
        "\n",
        "## 문제 1. -> 품종 예측을 이진분류로 바꿔서 버지니카만 골라내는 모델 만들어주세요.\n",
        "## 힌트 : 이진 분류에서 양성 클래스는 1, 음성 클래스는 0으로 표현함\n",
        "\n",
        "iris_df = pd.DataFrame(iris_data, columns=iris_feature_names)\n",
        "\n",
        "\n",
        "\n",
        "def is_virginica(target):\n",
        "  if target == 'virginica' :\n",
        "    return 1\n",
        "  return 0\n",
        "\n",
        "iris_target_final = iris_df['target'] = pd.Series(iris_target_names[iris_target]).map(is_virginica)\n"
      ],
      "metadata": {
        "id": "GVxBmHPSlUiB"
      },
      "execution_count": 2,
      "outputs": []
    },
    {
      "cell_type": "code",
      "source": [
        "from sklearn.model_selection import train_test_split\n",
        "\n",
        "trd, tsd, trt, tst = train_test_split(iris_data, iris_target_final, train_size=0.8, random_state=42)\n"
      ],
      "metadata": {
        "id": "WAGC984_kQbL"
      },
      "execution_count": 9,
      "outputs": []
    },
    {
      "cell_type": "code",
      "source": [
        "from sklearn.linear_model import LogisticRegression\n",
        "\n",
        "lr = LogisticRegression(max_iter=10000)\n",
        "lr.fit(trd, trt)\n",
        "\n",
        "lr.score(trd, trt),lr.score(tsd, tst),"
      ],
      "metadata": {
        "id": "Y5xtrDN7luBB",
        "colab": {
          "base_uri": "https://localhost:8080/"
        },
        "outputId": "cca49cd8-afa4-4020-fc72-ad8ba6f6dea5"
      },
      "execution_count": 10,
      "outputs": [
        {
          "output_type": "execute_result",
          "data": {
            "text/plain": [
              "(0.975, 1.0)"
            ]
          },
          "metadata": {},
          "execution_count": 10
        }
      ]
    },
    {
      "cell_type": "code",
      "source": [
        "## 예측\n",
        "lr.predict(tsd)\n"
      ],
      "metadata": {
        "id": "SXWVdZYUEzeK",
        "colab": {
          "base_uri": "https://localhost:8080/"
        },
        "outputId": "7daefb7b-ada0-493a-e61d-6f42bdb15f6d"
      },
      "execution_count": 12,
      "outputs": [
        {
          "output_type": "execute_result",
          "data": {
            "text/plain": [
              "1"
            ]
          },
          "metadata": {},
          "execution_count": 12
        }
      ]
    },
    {
      "cell_type": "code",
      "source": [],
      "metadata": {
        "id": "OeDxzcCk0u_r"
      },
      "execution_count": null,
      "outputs": []
    }
  ]
}