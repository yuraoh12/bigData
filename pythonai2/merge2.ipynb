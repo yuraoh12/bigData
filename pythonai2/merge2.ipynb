{
  "nbformat": 4,
  "nbformat_minor": 0,
  "metadata": {
    "colab": {
      "provenance": [],
      "authorship_tag": "ABX9TyMPCmATuQXyofs62+Rxc0X8",
      "include_colab_link": true
    },
    "kernelspec": {
      "name": "python3",
      "display_name": "Python 3"
    },
    "language_info": {
      "name": "python"
    }
  },
  "cells": [
    {
      "cell_type": "markdown",
      "metadata": {
        "id": "view-in-github",
        "colab_type": "text"
      },
      "source": [
        "<a href=\"https://colab.research.google.com/github/chacha86/pythonai2/blob/main/merge2.ipynb\" target=\"_parent\"><img src=\"https://colab.research.google.com/assets/colab-badge.svg\" alt=\"Open In Colab\"/></a>"
      ]
    },
    {
      "cell_type": "code",
      "execution_count": null,
      "metadata": {
        "id": "Db-P7ZTTzziW"
      },
      "outputs": [],
      "source": [
        "## 14. concat\n",
        "### 데이터 프레임 붙이기\n",
        "import pandas as pd\n",
        "\n",
        "data1 = {\n",
        "    '이름' : ['홍길동', '이순신', '유관순'],\n",
        "    '국어' : [80, 90, 100],\n",
        "    '수학' : [100, 80, 90],\n",
        "    '영어' : [80, 70, 80]\n",
        "}\n",
        "\n",
        "data2 = {\n",
        "    '이름' : ['을지문덕', '황진이'],\n",
        "    '국어' : [80, 90],\n",
        "    '수학' : [100, 90],\n",
        "    '영어' : [80, 70]\n",
        "}\n",
        "\n",
        "data3 = {\n",
        "    '파이썬' : [80, 90, 100, 80, 90],\n",
        "    '인공지능' : [100, 90, 60, 80, 90],\n",
        "\n",
        "}\n",
        "\n",
        "df1 = pd.DataFrame(data1)\n",
        "df2 = pd.DataFrame(data2)\n",
        "df3 = pd.DataFrame(data3)\n",
        "\n",
        "\n",
        "print(df1)\n",
        "print(df2)\n",
        "print(df3)"
      ]
    },
    {
      "cell_type": "code",
      "source": [
        "df4 = pd.concat([df1, df2], axis=0, ignore_index=True)\n",
        "\n",
        "# df5 = df4.reset_index()\n",
        "\n",
        "# df5.drop('index', axis=1)\n",
        "# pd.concat([df4, df3], axis=0)\n",
        "\n",
        "df4"
      ],
      "metadata": {
        "id": "WzwWbVTn1u3s"
      },
      "execution_count": null,
      "outputs": []
    },
    {
      "cell_type": "code",
      "source": [
        "course = pd.read_csv('/content/student/sel_course.csv')\n",
        "info1 = pd.read_csv('/content/student/students_info1.csv')\n",
        "info2 = pd.read_csv('/content/student/students_info2.csv')\n",
        "scores = pd.read_excel('/content/student/students_scores.xlsx')"
      ],
      "metadata": {
        "id": "F_MBzvrc2Ie4"
      },
      "execution_count": 3,
      "outputs": []
    },
    {
      "cell_type": "code",
      "source": [
        "course.head()\n",
        "course['학번'].size\n",
        "course.shape\n",
        "\n",
        "print(info1.head())\n",
        "print(info2.head())\n",
        "\n",
        "scores.shape"
      ],
      "metadata": {
        "id": "jM4PjVPJ2iI7"
      },
      "execution_count": null,
      "outputs": []
    },
    {
      "cell_type": "code",
      "source": [
        "## 문제. concat을 이용해서 학생의 점수와 신상정보를 붙여주세요.\n",
        "## info1 : 1~50번 학생의 신상 정보\n",
        "## info2 : 51 ~ 100번 학생의 신상 정보\n",
        "## scores : 1 ~ 100번 학생의 점수 정보\n",
        "\n",
        "\n",
        "print(info1.head())\n",
        "print(info2.head())\n",
        "\n",
        "### 2. info1과 info2를 수직으로 붙이기\n",
        "\n",
        "\n",
        "info2.rename(columns={'Loc' : '지역', 'Sex' : '성별'})\n",
        "\n",
        "info2.columns = info1.columns\n",
        "\n",
        "\n",
        "\n"
      ],
      "metadata": {
        "id": "lYkUuFt13pYa"
      },
      "execution_count": null,
      "outputs": []
    },
    {
      "cell_type": "code",
      "source": [
        "\n",
        "stu_info = pd.concat([info1, info2])\n",
        "\n",
        "### 1. info1과 info2의 데이터 형식 맞추기(1번과 2번은 순서를 바꿔도 됨)\n",
        "#### 성별 전처리\n",
        "stu_info['성별'] = stu_info['성별'].str.replace('M', '남자').str.replace('F', '여자')\n",
        "\n",
        "#### 지역 전처리\n",
        "stu_info['지역'].replace({})\n",
        "stu_info['지역'].unique()\n",
        "\n",
        "loc_kor = ['대전', '광주', '울산', '서울', '부산', '대구', '인천']\n",
        "loc_eng = ['daejon', 'kwangju', 'ulsan', 'seoul', 'busan', 'daeku', 'incheon']\n",
        "stu_info['지역'] = stu_info['지역'].str.lower().str.replace('pusan', 'busan').replace(loc_eng, loc_kor)\n",
        "\n",
        "\n",
        "#### 생년월일 전처리\n",
        "stu_info['생년월일'] = stu_info['생년월일'].str.replace('년', '-').str.replace('일', '')\n"
      ],
      "metadata": {
        "id": "x1JSszfOEnAM"
      },
      "execution_count": 52,
      "outputs": []
    },
    {
      "cell_type": "code",
      "source": [
        "### 3. 붙인 결과의 인덱스를 초기화 하기\n",
        "#stu_info.reset_index(drop=True)\n",
        "stu_info = stu_info.reset_index().drop('index', axis=1)\n"
      ],
      "metadata": {
        "id": "maEiskI7IBu4"
      },
      "execution_count": 63,
      "outputs": []
    },
    {
      "cell_type": "code",
      "source": [
        "### 4. info1과 info2를 붙인 결과와 scores를 수평으로 붙이기\n",
        "\n",
        "stu = pd.concat([stu_info, scores[['국어', '영어', '수학']]], axis=1)\n",
        "stu\n"
      ],
      "metadata": {
        "id": "JjBYDhNx6k31"
      },
      "execution_count": null,
      "outputs": []
    },
    {
      "cell_type": "code",
      "source": [
        "## 15. merge\n",
        "### merge는 특정 컬럼의 값이 일치하는 행끼리 붙여줌\n",
        "order = pd.read_csv('/content/order/order.csv')\n",
        "product = pd.read_csv('/content/order/product.csv')\n",
        "user = pd.read_csv('/content/order/user.csv')\n"
      ],
      "metadata": {
        "id": "UEKH6u6uJ1N2"
      },
      "execution_count": 69,
      "outputs": []
    },
    {
      "cell_type": "code",
      "source": [
        "# pd.concat([order, product], axis=1)\n",
        "tmp = pd.merge(order, product, left_on='productNo', right_on='id')\n",
        "pd.merge(tmp, user, left_on='userNo', right_on='id')[['pname', 'price', 'userName']]\n"
      ],
      "metadata": {
        "id": "vpCuecZOKA-X"
      },
      "execution_count": null,
      "outputs": []
    },
    {
      "cell_type": "code",
      "source": [
        "article = pd.read_csv('/content/article/article.csv')\n",
        "reply = pd.read_csv('/content/article/articleReply.csv')\n",
        "member = pd.read_csv('/content/article/member.csv')"
      ],
      "metadata": {
        "id": "iE04pWZaPuMf"
      },
      "execution_count": 87,
      "outputs": []
    },
    {
      "cell_type": "code",
      "source": [
        "print(article.head(1))\n",
        "print(\"=====================================================================\")\n",
        "print(reply.head(1))"
      ],
      "metadata": {
        "id": "Joxe3cSIRjVk"
      },
      "execution_count": null,
      "outputs": []
    },
    {
      "cell_type": "code",
      "source": [
        "## 게시물 별 댓글 수\n",
        "tmp = pd.merge(article, reply, left_on='ano', right_on='ano')\n",
        "tmp.groupby('ano').size()\n",
        "tmp.groupby('title').size()\n",
        "\n",
        "article_short = article[['ano', 'title']]\n",
        "reply_short = reply[['arno', 'ano', 'rbody']]\n",
        "\n",
        "print(article_short.head(3))\n",
        "print(reply_short.head(3))\n",
        "\n",
        "pd.merge(article_short, reply_short, left_on='ano', right_on='ano')"
      ],
      "metadata": {
        "id": "WKFtso4VQwfA"
      },
      "execution_count": null,
      "outputs": []
    },
    {
      "cell_type": "code",
      "source": [
        "## 회원별 게시물 개수\n",
        "### 홍길동 4\n",
        "### 이순신 2\n"
      ],
      "metadata": {
        "colab": {
          "base_uri": "https://localhost:8080/",
          "height": 175
        },
        "id": "tJLUFFEsT_Vg",
        "outputId": "580bf2f6-5469-4af0-a70e-a32c3592ada4"
      },
      "execution_count": 111,
      "outputs": [
        {
          "output_type": "execute_result",
          "data": {
            "text/plain": [
              "   mno loginId  loginPw rname   nname           updateDate  \\\n",
              "0    1   user1     1234   홍길동    신출귀몰  2023-03-28 15:45:45   \n",
              "1    2   user2     4321   이순신  구국의 영웅  2023-03-28 15:45:45   \n",
              "2    3   user3     1423   임꺽정    힘쎈장사  2023-03-28 15:45:45   \n",
              "3    4   user4     3131   유관순    독립열사  2023-03-28 15:45:45   \n",
              "\n",
              "               regDate  \n",
              "0  2023-03-28 15:45:45  \n",
              "1  2023-03-28 15:45:45  \n",
              "2  2023-03-28 15:45:45  \n",
              "3  2023-03-28 15:45:45  "
            ],
            "text/html": [
              "\n",
              "\n",
              "  <div id=\"df-a800379f-016d-4545-980c-411e9757dc0d\">\n",
              "    <div class=\"colab-df-container\">\n",
              "      <div>\n",
              "<style scoped>\n",
              "    .dataframe tbody tr th:only-of-type {\n",
              "        vertical-align: middle;\n",
              "    }\n",
              "\n",
              "    .dataframe tbody tr th {\n",
              "        vertical-align: top;\n",
              "    }\n",
              "\n",
              "    .dataframe thead th {\n",
              "        text-align: right;\n",
              "    }\n",
              "</style>\n",
              "<table border=\"1\" class=\"dataframe\">\n",
              "  <thead>\n",
              "    <tr style=\"text-align: right;\">\n",
              "      <th></th>\n",
              "      <th>mno</th>\n",
              "      <th>loginId</th>\n",
              "      <th>loginPw</th>\n",
              "      <th>rname</th>\n",
              "      <th>nname</th>\n",
              "      <th>updateDate</th>\n",
              "      <th>regDate</th>\n",
              "    </tr>\n",
              "  </thead>\n",
              "  <tbody>\n",
              "    <tr>\n",
              "      <th>0</th>\n",
              "      <td>1</td>\n",
              "      <td>user1</td>\n",
              "      <td>1234</td>\n",
              "      <td>홍길동</td>\n",
              "      <td>신출귀몰</td>\n",
              "      <td>2023-03-28 15:45:45</td>\n",
              "      <td>2023-03-28 15:45:45</td>\n",
              "    </tr>\n",
              "    <tr>\n",
              "      <th>1</th>\n",
              "      <td>2</td>\n",
              "      <td>user2</td>\n",
              "      <td>4321</td>\n",
              "      <td>이순신</td>\n",
              "      <td>구국의 영웅</td>\n",
              "      <td>2023-03-28 15:45:45</td>\n",
              "      <td>2023-03-28 15:45:45</td>\n",
              "    </tr>\n",
              "    <tr>\n",
              "      <th>2</th>\n",
              "      <td>3</td>\n",
              "      <td>user3</td>\n",
              "      <td>1423</td>\n",
              "      <td>임꺽정</td>\n",
              "      <td>힘쎈장사</td>\n",
              "      <td>2023-03-28 15:45:45</td>\n",
              "      <td>2023-03-28 15:45:45</td>\n",
              "    </tr>\n",
              "    <tr>\n",
              "      <th>3</th>\n",
              "      <td>4</td>\n",
              "      <td>user4</td>\n",
              "      <td>3131</td>\n",
              "      <td>유관순</td>\n",
              "      <td>독립열사</td>\n",
              "      <td>2023-03-28 15:45:45</td>\n",
              "      <td>2023-03-28 15:45:45</td>\n",
              "    </tr>\n",
              "  </tbody>\n",
              "</table>\n",
              "</div>\n",
              "      <button class=\"colab-df-convert\" onclick=\"convertToInteractive('df-a800379f-016d-4545-980c-411e9757dc0d')\"\n",
              "              title=\"Convert this dataframe to an interactive table.\"\n",
              "              style=\"display:none;\">\n",
              "\n",
              "  <svg xmlns=\"http://www.w3.org/2000/svg\" height=\"24px\"viewBox=\"0 0 24 24\"\n",
              "       width=\"24px\">\n",
              "    <path d=\"M0 0h24v24H0V0z\" fill=\"none\"/>\n",
              "    <path d=\"M18.56 5.44l.94 2.06.94-2.06 2.06-.94-2.06-.94-.94-2.06-.94 2.06-2.06.94zm-11 1L8.5 8.5l.94-2.06 2.06-.94-2.06-.94L8.5 2.5l-.94 2.06-2.06.94zm10 10l.94 2.06.94-2.06 2.06-.94-2.06-.94-.94-2.06-.94 2.06-2.06.94z\"/><path d=\"M17.41 7.96l-1.37-1.37c-.4-.4-.92-.59-1.43-.59-.52 0-1.04.2-1.43.59L10.3 9.45l-7.72 7.72c-.78.78-.78 2.05 0 2.83L4 21.41c.39.39.9.59 1.41.59.51 0 1.02-.2 1.41-.59l7.78-7.78 2.81-2.81c.8-.78.8-2.07 0-2.86zM5.41 20L4 18.59l7.72-7.72 1.47 1.35L5.41 20z\"/>\n",
              "  </svg>\n",
              "      </button>\n",
              "\n",
              "\n",
              "\n",
              "    <div id=\"df-9fef5ef6-34ea-491b-80a8-a8c6fd1eeb97\">\n",
              "      <button class=\"colab-df-quickchart\" onclick=\"quickchart('df-9fef5ef6-34ea-491b-80a8-a8c6fd1eeb97')\"\n",
              "              title=\"Suggest charts.\"\n",
              "              style=\"display:none;\">\n",
              "\n",
              "<svg xmlns=\"http://www.w3.org/2000/svg\" height=\"24px\"viewBox=\"0 0 24 24\"\n",
              "     width=\"24px\">\n",
              "    <g>\n",
              "        <path d=\"M19 3H5c-1.1 0-2 .9-2 2v14c0 1.1.9 2 2 2h14c1.1 0 2-.9 2-2V5c0-1.1-.9-2-2-2zM9 17H7v-7h2v7zm4 0h-2V7h2v10zm4 0h-2v-4h2v4z\"/>\n",
              "    </g>\n",
              "</svg>\n",
              "      </button>\n",
              "    </div>\n",
              "\n",
              "<style>\n",
              "  .colab-df-quickchart {\n",
              "    background-color: #E8F0FE;\n",
              "    border: none;\n",
              "    border-radius: 50%;\n",
              "    cursor: pointer;\n",
              "    display: none;\n",
              "    fill: #1967D2;\n",
              "    height: 32px;\n",
              "    padding: 0 0 0 0;\n",
              "    width: 32px;\n",
              "  }\n",
              "\n",
              "  .colab-df-quickchart:hover {\n",
              "    background-color: #E2EBFA;\n",
              "    box-shadow: 0px 1px 2px rgba(60, 64, 67, 0.3), 0px 1px 3px 1px rgba(60, 64, 67, 0.15);\n",
              "    fill: #174EA6;\n",
              "  }\n",
              "\n",
              "  [theme=dark] .colab-df-quickchart {\n",
              "    background-color: #3B4455;\n",
              "    fill: #D2E3FC;\n",
              "  }\n",
              "\n",
              "  [theme=dark] .colab-df-quickchart:hover {\n",
              "    background-color: #434B5C;\n",
              "    box-shadow: 0px 1px 3px 1px rgba(0, 0, 0, 0.15);\n",
              "    filter: drop-shadow(0px 1px 2px rgba(0, 0, 0, 0.3));\n",
              "    fill: #FFFFFF;\n",
              "  }\n",
              "</style>\n",
              "\n",
              "    <script>\n",
              "      async function quickchart(key) {\n",
              "        const containerElement = document.querySelector('#' + key);\n",
              "        const charts = await google.colab.kernel.invokeFunction(\n",
              "            'suggestCharts', [key], {});\n",
              "      }\n",
              "    </script>\n",
              "\n",
              "      <script>\n",
              "\n",
              "function displayQuickchartButton(domScope) {\n",
              "  let quickchartButtonEl =\n",
              "    domScope.querySelector('#df-9fef5ef6-34ea-491b-80a8-a8c6fd1eeb97 button.colab-df-quickchart');\n",
              "  quickchartButtonEl.style.display =\n",
              "    google.colab.kernel.accessAllowed ? 'block' : 'none';\n",
              "}\n",
              "\n",
              "        displayQuickchartButton(document);\n",
              "      </script>\n",
              "      <style>\n",
              "    .colab-df-container {\n",
              "      display:flex;\n",
              "      flex-wrap:wrap;\n",
              "      gap: 12px;\n",
              "    }\n",
              "\n",
              "    .colab-df-convert {\n",
              "      background-color: #E8F0FE;\n",
              "      border: none;\n",
              "      border-radius: 50%;\n",
              "      cursor: pointer;\n",
              "      display: none;\n",
              "      fill: #1967D2;\n",
              "      height: 32px;\n",
              "      padding: 0 0 0 0;\n",
              "      width: 32px;\n",
              "    }\n",
              "\n",
              "    .colab-df-convert:hover {\n",
              "      background-color: #E2EBFA;\n",
              "      box-shadow: 0px 1px 2px rgba(60, 64, 67, 0.3), 0px 1px 3px 1px rgba(60, 64, 67, 0.15);\n",
              "      fill: #174EA6;\n",
              "    }\n",
              "\n",
              "    [theme=dark] .colab-df-convert {\n",
              "      background-color: #3B4455;\n",
              "      fill: #D2E3FC;\n",
              "    }\n",
              "\n",
              "    [theme=dark] .colab-df-convert:hover {\n",
              "      background-color: #434B5C;\n",
              "      box-shadow: 0px 1px 3px 1px rgba(0, 0, 0, 0.15);\n",
              "      filter: drop-shadow(0px 1px 2px rgba(0, 0, 0, 0.3));\n",
              "      fill: #FFFFFF;\n",
              "    }\n",
              "  </style>\n",
              "\n",
              "      <script>\n",
              "        const buttonEl =\n",
              "          document.querySelector('#df-a800379f-016d-4545-980c-411e9757dc0d button.colab-df-convert');\n",
              "        buttonEl.style.display =\n",
              "          google.colab.kernel.accessAllowed ? 'block' : 'none';\n",
              "\n",
              "        async function convertToInteractive(key) {\n",
              "          const element = document.querySelector('#df-a800379f-016d-4545-980c-411e9757dc0d');\n",
              "          const dataTable =\n",
              "            await google.colab.kernel.invokeFunction('convertToInteractive',\n",
              "                                                     [key], {});\n",
              "          if (!dataTable) return;\n",
              "\n",
              "          const docLinkHtml = 'Like what you see? Visit the ' +\n",
              "            '<a target=\"_blank\" href=https://colab.research.google.com/notebooks/data_table.ipynb>data table notebook</a>'\n",
              "            + ' to learn more about interactive tables.';\n",
              "          element.innerHTML = '';\n",
              "          dataTable['output_type'] = 'display_data';\n",
              "          await google.colab.output.renderOutput(dataTable, element);\n",
              "          const docLink = document.createElement('div');\n",
              "          docLink.innerHTML = docLinkHtml;\n",
              "          element.appendChild(docLink);\n",
              "        }\n",
              "      </script>\n",
              "    </div>\n",
              "  </div>\n"
            ]
          },
          "metadata": {},
          "execution_count": 111
        }
      ]
    }
  ]
}