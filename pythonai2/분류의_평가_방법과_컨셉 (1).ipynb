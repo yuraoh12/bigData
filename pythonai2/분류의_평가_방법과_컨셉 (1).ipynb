{
  "nbformat": 4,
  "nbformat_minor": 0,
  "metadata": {
    "colab": {
      "provenance": [],
      "authorship_tag": "ABX9TyMg7XTJIKTq2gwiJWGx7zDN",
      "include_colab_link": true
    },
    "kernelspec": {
      "name": "python3",
      "display_name": "Python 3"
    },
    "language_info": {
      "name": "python"
    }
  },
  "cells": [
    {
      "cell_type": "markdown",
      "metadata": {
        "id": "view-in-github",
        "colab_type": "text"
      },
      "source": [
        "<a href=\"https://colab.research.google.com/github/chacha86/pythonai2/blob/main/%EB%B6%84%EB%A5%98%EC%9D%98_%ED%8F%89%EA%B0%80_%EB%B0%A9%EB%B2%95%EA%B3%BC_%EC%BB%A8%EC%85%89.ipynb\" target=\"_parent\"><img src=\"https://colab.research.google.com/assets/colab-badge.svg\" alt=\"Open In Colab\"/></a>"
      ]
    },
    {
      "cell_type": "code",
      "execution_count": 99,
      "metadata": {
        "id": "yNFgbq1uxtVB"
      },
      "outputs": [],
      "source": [
        "import pandas as pd\n",
        "\n",
        "\n",
        "fish = pd.read_csv('/content/Fish.csv')\n"
      ]
    },
    {
      "cell_type": "code",
      "source": [
        "\n",
        "## 2진 분류를 위해 Perch, Bream 두 어종만 선별\n",
        "bream_smelt = fish.loc[(fish['Species'] == 'Bream') | (fish['Species'] == 'Perch')]\n",
        "\n",
        "## 학습데이터와 정답 데이터로 분리\n",
        "train = bream_smelt[['Length1','Length2', 'Weight','Width']]\n",
        "target = bream_smelt['Species']"
      ],
      "metadata": {
        "id": "5wfp2Y9k1ROV"
      },
      "execution_count": 137,
      "outputs": []
    },
    {
      "cell_type": "code",
      "source": [
        "## 학습 데이터와 테스트 데이터로 분리\n",
        "from sklearn.model_selection import train_test_split\n",
        "trd, tsd, trt, tst = train_test_split(train, target, train_size=0.8, random_state=42)"
      ],
      "metadata": {
        "id": "1SJ2NREd1TLa"
      },
      "execution_count": 138,
      "outputs": []
    },
    {
      "cell_type": "code",
      "source": [
        "## 로지스틱 회귀 모델 학습\n",
        "from sklearn.linear_model import LogisticRegression\n",
        "\n",
        "lr = LogisticRegression(max_iter=10000)\n",
        "lr.fit(trd, trt)\n",
        "lr.score(trd, trt), lr.score(tsd, tst)\n",
        "\n",
        "## 회귀 -> 평가 지표(mae, mse, r2)\n",
        "## 로지스틱 회귀의 score는 어떤 지표? mae, mse, r2 X\n",
        "## 로지스틱 회귀는 분류. 분류의 평가지표는 회귀와 다르다."
      ],
      "metadata": {
        "colab": {
          "base_uri": "https://localhost:8080/"
        },
        "id": "Oylwowec1U0_",
        "outputId": "ba5a218f-e58d-419d-9517-09ad40f4512a"
      },
      "execution_count": 131,
      "outputs": [
        {
          "output_type": "execute_result",
          "data": {
            "text/plain": [
              "(0.8055555555555556, 0.7368421052631579)"
            ]
          },
          "metadata": {},
          "execution_count": 131
        }
      ]
    },
    {
      "cell_type": "code",
      "source": [
        "# 분류 평가 지표\n",
        "## 1. 정확도(accuracy) -> 전체 클래스 중 몇개를 맞췄는가?\n",
        "\n",
        "\n",
        "\n",
        "\n"
      ],
      "metadata": {
        "id": "-WxWdnVl2YPi"
      },
      "execution_count": 127,
      "outputs": []
    },
    {
      "cell_type": "code",
      "source": [
        "## 정확도의 맹점 -> 양성 클래스를 반영하지 않는다.\n",
        "\n",
        "trt2 = trt.sort_values()[:32] # trt에서 좀더 자른 버전\n",
        "# trd2 = trd[trt2.index]\n",
        "trd2 = trd.loc[trt2.index]\n",
        "\n",
        "## 무조건 Bream으로 예측하는 함수\n",
        "def predict_bream(trd) :\n",
        "  result = []\n",
        "\n",
        "  for data in trd.values :\n",
        "      result.append('Bream')\n",
        "\n",
        "  return result\n",
        "\n",
        "pred = predict_bream(trd2)\n",
        "\n",
        "## 예측 결과와 실제 데이터를 비교\n",
        "matched = 0\n",
        "for p, t in zip(pred, trt2) :\n",
        "  print(p, t)\n",
        "\n",
        "  if p == t :\n",
        "    matched += 1\n",
        "\n",
        "matched / len(pred)\n",
        "\n",
        "## 데이터가 Bream으로 편향되어 있으면 말도 안되는 모델이지만 정확도가 높게 나옴\n",
        "## 따라서 분류 모델의 경우 정확도만 높게 나오면 될 것이 아니라 다른 보조 지표가 필요함(양성 클래스를 반영한)"
      ],
      "metadata": {
        "id": "dwS6c1gv3oZ-"
      },
      "execution_count": null,
      "outputs": []
    },
    {
      "cell_type": "code",
      "source": [
        "from sklearn.metrics import mean_absolute_error, mean_squared_error, r2_score\n",
        "from sklearn.metrics import accuracy_score, precision_score, recall_score, confusion_matrix, f1_score\n",
        "\n",
        "## 정확도\n",
        "print(accuracy_score(trt2, pred))\n",
        "## 정밀도\n",
        "print(precision_score(trt2, pred, pos_label='Bream'))\n",
        "## 재현율\n",
        "print(recall_score(trt2, pred, pos_label='Bream'))"
      ],
      "metadata": {
        "colab": {
          "base_uri": "https://localhost:8080/"
        },
        "id": "RgMYvsAS7jIT",
        "outputId": "8bf7e333-fad1-4b8e-d3da-e2a7a6f0e684"
      },
      "execution_count": 112,
      "outputs": [
        {
          "output_type": "stream",
          "name": "stdout",
          "text": [
            "0.84375\n",
            "0.84375\n",
            "1.0\n"
          ]
        }
      ]
    },
    {
      "cell_type": "code",
      "source": [
        "## TN => [0, 0]\n",
        "## FP => [0, 1]\n",
        "## FN => [1, 0]\n",
        "## TP => [1, 1]\n",
        "cmat = confusion_matrix(trt2, pred)\n",
        "\n",
        "TN = cmat[0, 0]\n",
        "FP = cmat[0, 1]\n",
        "FN = cmat[1, 0]\n",
        "TP = cmat[1, 1]\n",
        "\n",
        "## 정확도\n",
        "(TN + TP) / (TN + FP + FN + TP)\n",
        "\n",
        "## 재현율 -> 진짜 양성 중 양성이라고 맞춘 것의 개수(죄다 양성이라고 해버리면 100%가 나오게 됨.)\n",
        "TP / (TP + FN)\n",
        "\n",
        "## 정밀도 -> 모델이 양성이라고 한 것 중 실제로 맞는 것의 개수(양성을 음성이라고 한것은 관심 X)\n",
        "TP / (TP + FP)\n",
        "\n",
        "## 재현율과 정밀도가 동시에 높으면 베스트\n",
        "## 하나가 높게 나오고, 하나가 낮게 나오는 경우 -> 낮게 나온 걸 올릴 수 없음\n",
        "### 정밀도가 중요한 업무가 있고,  ->  실수를 해도 용납 가능하고 최대한 잘 맞추는 게 중요.(스팸 메일, 날씨 예보)\n",
        "### 재현율이 중요한 업무가 있다.  ->  실수를 용납할 수 없는 업무 (의료, 사기)\n",
        "## 둘 다 낮게 나오면 모델 성능 안좋음\n",
        "\n",
        "## 정밀도, 재현율 통합해서 보는 지표 -> F1 - Score (조화평균)\n"
      ],
      "metadata": {
        "id": "fAA0kYNrAQ_r"
      },
      "execution_count": null,
      "outputs": []
    },
    {
      "cell_type": "code",
      "source": [
        "lr.fit(trd, trt)\n",
        "lr.score(trd, trt)\n",
        "\n",
        "pred2 = lr.predict(trd)\n",
        "\n",
        "print(accuracy_score(trt, pred2))\n",
        "print(precision_score(trt, pred2, pos_label='Bream'))\n",
        "print(recall_score(trt, pred2, pos_label='Bream'))"
      ],
      "metadata": {
        "colab": {
          "base_uri": "https://localhost:8080/"
        },
        "id": "UrC0KdIvCmn2",
        "outputId": "355faf47-b23e-4c21-becf-f9a28d487ab0"
      },
      "execution_count": 139,
      "outputs": [
        {
          "output_type": "stream",
          "name": "stdout",
          "text": [
            "0.8055555555555556\n",
            "0.8421052631578947\n",
            "0.5925925925925926\n"
          ]
        }
      ]
    },
    {
      "cell_type": "code",
      "source": [
        "# TN = cmat[0, 0]\n",
        "# FP = cmat[0, 1]\n",
        "# FN = cmat[1, 0]\n",
        "# TP = cmat[1, 1]\n",
        "confusion_matrix(trt, pred2)"
      ],
      "metadata": {
        "id": "Rb4BjGOcESRz"
      },
      "execution_count": null,
      "outputs": []
    },
    {
      "cell_type": "code",
      "source": [
        "## 다중 분류 -> 여러 클래스중 특정 클래스일 확률을 예측\n",
        "mtrain = fish.drop('Species', axis=1)\n",
        "mtarget = fish['Species']\n",
        "\n",
        "# stratify => 데이터를 분리할 때 원본 샘플의 비율을 최대한 유지\n",
        "trd, tsd, trt, tst = train_test_split(mtrain, mtarget, stratify=mtarget,train_size=0.8, random_state=42)\n"
      ],
      "metadata": {
        "id": "yLxF5AsxBbfc"
      },
      "execution_count": 143,
      "outputs": []
    },
    {
      "cell_type": "code",
      "source": [
        "lr3 = LogisticRegression(max_iter=10000)\n",
        "\n",
        "lr3.fit(trd, trt)\n",
        "lr3.score(trd, trt), lr3.score(tsd, tst)"
      ],
      "metadata": {
        "colab": {
          "base_uri": "https://localhost:8080/"
        },
        "id": "2nVgEKVwNHDr",
        "outputId": "05885f02-b2c2-45fd-8edf-da8d43efee9e"
      },
      "execution_count": 146,
      "outputs": [
        {
          "output_type": "execute_result",
          "data": {
            "text/plain": [
              "(0.9763779527559056, 0.96875)"
            ]
          },
          "metadata": {},
          "execution_count": 146
        }
      ]
    },
    {
      "cell_type": "code",
      "source": [
        "import numpy as np\n",
        "\n",
        "  # 과학적 표기법 대신 소수점 6자리까지 나타낸다.\n",
        "np.set_printoptions(precision=6, suppress=True)\n",
        "pd.options.display.float_format = '{:.5f}'.format\n",
        "\n",
        "pred3 = lr3.predict(tsd)\n",
        "\n",
        "## 각 클래스에대한 확률\n",
        "print(lr3.predict_proba(tsd[:10]))\n",
        "\n",
        "## 클래스 확인\n",
        "print(lr3.classes_)\n",
        "print(tst[:10])\n",
        "\n",
        "\n"
      ],
      "metadata": {
        "id": "Gcnt5ue5OL6B"
      },
      "execution_count": null,
      "outputs": []
    },
    {
      "cell_type": "code",
      "source": [
        "## 피처 중요도\n",
        "### 행의 의미 -> 클래스 개수\n",
        "### 열의 의미 -> 특성의 개수\n",
        "\n",
        "### 모델이 사용한 특성 목록\n",
        "lr3.feature_names_in_\n",
        "\n",
        "### 모델이 구별한 클래스(범주) 목록\n",
        "lr3.classes_\n",
        "\n",
        "pd.DataFrame(lr3.coef_, columns=lr3.feature_names_in_, index=lr3.classes_) # 각 클래스별 중요 특성 확인 가능"
      ],
      "metadata": {
        "id": "NGyARBVhQPo8"
      },
      "execution_count": null,
      "outputs": []
    },
    {
      "cell_type": "code",
      "source": [
        "## 정밀도, 재현율\n",
        "\n",
        "# precision_score(pred3, tst)\n",
        "## classification_report\n",
        "\n",
        "## 다중 분류의 경우 classification_report를 이용해 각 클래스에 대한 정밀도와 재현율을 볼 수 있음.\n",
        "from sklearn.metrics import classification_report\n",
        "print(classification_report(pred3, tst))\n"
      ],
      "metadata": {
        "id": "t2kjCvW2Oc_0"
      },
      "execution_count": null,
      "outputs": []
    },
    {
      "cell_type": "code",
      "source": [],
      "metadata": {
        "id": "Lco6dF4sRewm"
      },
      "execution_count": null,
      "outputs": []
    }
  ]
}