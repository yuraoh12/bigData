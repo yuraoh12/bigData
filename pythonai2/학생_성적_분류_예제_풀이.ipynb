{
  "nbformat": 4,
  "nbformat_minor": 0,
  "metadata": {
    "colab": {
      "provenance": [],
      "authorship_tag": "ABX9TyMZ2KB0wZw77jQ3chSmjbdV",
      "include_colab_link": true
    },
    "kernelspec": {
      "name": "python3",
      "display_name": "Python 3"
    },
    "language_info": {
      "name": "python"
    }
  },
  "cells": [
    {
      "cell_type": "markdown",
      "metadata": {
        "id": "view-in-github",
        "colab_type": "text"
      },
      "source": [
        "<a href=\"https://colab.research.google.com/github/chacha86/pythonai2/blob/main/%ED%95%99%EC%83%9D_%EC%84%B1%EC%A0%81_%EB%B6%84%EB%A5%98_%EC%98%88%EC%A0%9C_%ED%92%80%EC%9D%B4.ipynb\" target=\"_parent\"><img src=\"https://colab.research.google.com/assets/colab-badge.svg\" alt=\"Open In Colab\"/></a>"
      ]
    },
    {
      "cell_type": "code",
      "execution_count": null,
      "metadata": {
        "id": "tVbuFmU-Ev3j"
      },
      "outputs": [],
      "source": [
        "# gender : 성별(M: 남, F: 여)\n",
        "# Nationality : 국적\n",
        "# PlaceofBirth : 출생국가\n",
        "# StageID : 학교(초, 중, 고)\n",
        "# GradeID : 학년\n",
        "# SectionID : 반 이름\n",
        "# Topic: 수강 과목\n",
        "# Semester : 수강한 학기 (1학기/ 2학기)\n",
        "# Relation : 주 보호자와 학생의 관계\n",
        "# raisedhands : 수업중 손을 든 횟수\n",
        "# VisitedResources: 학생이 교과 과정을 방문한 횟수\n",
        "# AnnouncementsView: 학생이 과목 공지사항을 방문한 횟수\n",
        "# Discussion : 학생이 토론에 참여한 횟수\n",
        "# ParentAnsweringSurvey : 부모가 학교 설문에 참여했는지 여부\n",
        "# ParentschoolSatisfaction : 부모가 학교에 만족했는지 여부\n",
        "# StudentAbscenceDays : 학생의 결석 횟수(7회 이상/미만)\n",
        "# Class : 학생의 성적 등급 (L: 낮음, M: 보통, H: 높음)"
      ]
    },
    {
      "cell_type": "code",
      "source": [
        "import pandas as pd\n",
        "import numpy as np\n",
        "import matplotlib.pyplot as plt\n",
        "import seaborn as sns\n"
      ],
      "metadata": {
        "id": "4a_IcqRcQlN1"
      },
      "execution_count": 2,
      "outputs": []
    },
    {
      "cell_type": "code",
      "source": [
        "# 1. 판다스로 데이터 읽어오기\n",
        "edu = pd.read_csv('/content/xAPI-Edu-Data.csv')\n"
      ],
      "metadata": {
        "id": "fRYQAriMQoEG"
      },
      "execution_count": null,
      "outputs": []
    },
    {
      "cell_type": "code",
      "source": [
        "# 2. 데이터의 개수, 데이터 타입, 결측치 확인\n",
        "\n",
        "edu\n",
        "edu.info()\n",
        "edu.describe()\n"
      ],
      "metadata": {
        "id": "Sn3cXXUiQuWM"
      },
      "execution_count": null,
      "outputs": []
    },
    {
      "cell_type": "code",
      "source": [
        "edu.info()"
      ],
      "metadata": {
        "colab": {
          "base_uri": "https://localhost:8080/"
        },
        "id": "8lR73s5XSim6",
        "outputId": "bea9e410-409e-4f14-aa25-2aa4abe5eed5"
      },
      "execution_count": 7,
      "outputs": [
        {
          "output_type": "stream",
          "name": "stdout",
          "text": [
            "<class 'pandas.core.frame.DataFrame'>\n",
            "RangeIndex: 480 entries, 0 to 479\n",
            "Data columns (total 17 columns):\n",
            " #   Column                    Non-Null Count  Dtype \n",
            "---  ------                    --------------  ----- \n",
            " 0   gender                    480 non-null    object\n",
            " 1   NationalITy               480 non-null    object\n",
            " 2   PlaceofBirth              480 non-null    object\n",
            " 3   StageID                   480 non-null    object\n",
            " 4   GradeID                   480 non-null    object\n",
            " 5   SectionID                 480 non-null    object\n",
            " 6   Topic                     480 non-null    object\n",
            " 7   Semester                  480 non-null    object\n",
            " 8   Relation                  480 non-null    object\n",
            " 9   raisedhands               480 non-null    int64 \n",
            " 10  VisITedResources          480 non-null    int64 \n",
            " 11  AnnouncementsView         480 non-null    int64 \n",
            " 12  Discussion                480 non-null    int64 \n",
            " 13  ParentAnsweringSurvey     480 non-null    object\n",
            " 14  ParentschoolSatisfaction  480 non-null    object\n",
            " 15  StudentAbsenceDays        480 non-null    object\n",
            " 16  Class                     480 non-null    object\n",
            "dtypes: int64(4), object(13)\n",
            "memory usage: 63.9+ KB\n"
          ]
        }
      ]
    },
    {
      "cell_type": "code",
      "source": [
        "# 3. 시각화를 이용한 탐색적 분석\n",
        "#  - 수치형 데이터의 탐색적 분석\n",
        "#    - 히스토그램을 이용해 각 수치데이터의 데이터 분포 및 상관관계 확인\n",
        "#    - 상관계수 확인\n",
        "# edu.corr()\n",
        "\n",
        "sns.histplot(data=edu, x='raisedhands', hue='Class') # 성적 분류에 유용한 지표로 볼 수 있다.\n",
        "\n"
      ],
      "metadata": {
        "id": "omviW65kQwd7"
      },
      "execution_count": null,
      "outputs": []
    },
    {
      "cell_type": "code",
      "source": [
        "sns.histplot(data=edu, x='VisITedResources', hue='Class') # 성적 분류에 유용한 지표로 볼 수 있다."
      ],
      "metadata": {
        "id": "9UJFD7nLULD-"
      },
      "execution_count": null,
      "outputs": []
    },
    {
      "cell_type": "code",
      "source": [
        "\n",
        "#  - 범주형 데이터의 탐색적 분석  - 다음을 bar플롯을 이용해 그려주세요.\n",
        "#    - 남녀의 성적 비율\n",
        "#    - 국적에 따른 성적 비율\n",
        "#    - 과목에 따른 성적 비율\n",
        "#    - 부모의 설문 참여에 따른 성적 비율\n",
        "\n",
        "plt.figure(figsize=(15,4))\n",
        "sns.countplot(data=edu, x='NationalITy', hue='Class')\n",
        "\n",
        "### raisedhands랑 VisITedResources를 같이 넣을 때와 하나만 넣을 때 비교해보자.\n"
      ],
      "metadata": {
        "id": "TRhVB883UgO8"
      },
      "execution_count": null,
      "outputs": []
    },
    {
      "cell_type": "code",
      "source": [
        "plt.figure(figsize=(15,4))\n",
        "sns.countplot(data=edu, x='Topic', hue='Class')"
      ],
      "metadata": {
        "colab": {
          "base_uri": "https://localhost:8080/",
          "height": 288
        },
        "id": "saaOj60jVrm7",
        "outputId": "8aaa697a-9b23-43ab-d922-4a21ecec1360"
      },
      "execution_count": 57,
      "outputs": [
        {
          "output_type": "execute_result",
          "data": {
            "text/plain": [
              "<Axes: xlabel='Topic', ylabel='count'>"
            ]
          },
          "metadata": {},
          "execution_count": 57
        },
        {
          "output_type": "display_data",
          "data": {
            "text/plain": [
              "<Figure size 1500x400 with 1 Axes>"
            ],
            "image/png": "[encoded data removed]"
          },
          "metadata": {}
        }
      ]
    },
    {
      "cell_type": "code",
      "source": [
        "# 4. 데이터 전처리하기\n",
        "\n",
        "edu_num = edu.select_dtypes('int64')\n",
        "edu_cate = edu.select_dtypes('object').drop('Class', axis=1)\n",
        "target = edu['Class']\n",
        "\n",
        "\n"
      ],
      "metadata": {
        "id": "6diAtYa1Qx5l"
      },
      "execution_count": 24,
      "outputs": []
    },
    {
      "cell_type": "code",
      "source": [
        "edu_cate_1hot = pd.get_dummies(edu_cate)"
      ],
      "metadata": {
        "id": "NqgVYBA9WkDO"
      },
      "execution_count": 26,
      "outputs": []
    },
    {
      "cell_type": "code",
      "source": [
        "train = pd.concat([edu_num, edu_cate_1hot], axis=1)"
      ],
      "metadata": {
        "id": "IFW6OaztWsuf"
      },
      "execution_count": 28,
      "outputs": []
    },
    {
      "cell_type": "code",
      "source": [
        "target.value_counts()"
      ],
      "metadata": {
        "id": "Neqr1BF4W_a0"
      },
      "execution_count": null,
      "outputs": []
    },
    {
      "cell_type": "code",
      "source": [
        "# 5. 학습용 데이터와 테스트용 데이터로 나누기\n",
        "\n",
        "from sklearn.model_selection import train_test_split\n",
        "\n",
        "trd, tsd, trt, tst = train_test_split(train, target, stratify=target, train_size=0.8, random_state=42)\n",
        "\n"
      ],
      "metadata": {
        "id": "gSaxFG0gQyva"
      },
      "execution_count": 30,
      "outputs": []
    },
    {
      "cell_type": "code",
      "source": [
        "# 6. 로지스틱 회귀를 이용해 학습하고 평가하기\n",
        "# 교차 검증\n",
        "from sklearn.linear_model import LogisticRegression\n",
        "\n",
        "lr = LogisticRegression(max_iter=10000)\n",
        "lr.fit(trd, trt)\n",
        "lr.score(trd, trt), lr.score(tsd, tst)\n",
        "\n",
        "# 과적합 -> 규제\n",
        "\n",
        "lr.fit(trd, trt)\n",
        "lr.score(trd, trt), lr.score(tsd, tst)\n",
        "\n",
        "from sklearn.model_selection import GridSearchCV\n",
        "\n",
        "param_grid = {\n",
        "    \"C\" : [0.01, 0.1, 1, 10, 100]\n",
        "}\n",
        "\n",
        "gs = GridSearchCV(estimator=lr, param_grid=param_grid, cv=5)\n"
      ],
      "metadata": {
        "id": "0VhojIFhQz3s"
      },
      "execution_count": 40,
      "outputs": []
    },
    {
      "cell_type": "code",
      "source": [
        "gs.fit(trd, trt)"
      ],
      "metadata": {
        "id": "YyXZ73qiYnd2"
      },
      "execution_count": null,
      "outputs": []
    },
    {
      "cell_type": "code",
      "source": [
        "print(gs.best_estimator_) # 최고 성능 모델\n",
        "print(gs.best_score_)\n",
        "\n",
        "best_lr = gs.best_estimator_"
      ],
      "metadata": {
        "id": "iOmlgteaYyPW"
      },
      "execution_count": null,
      "outputs": []
    },
    {
      "cell_type": "code",
      "source": [
        "best_lr.score(tsd, tst)\n"
      ],
      "metadata": {
        "id": "FBjdZ6OKQ05v"
      },
      "execution_count": null,
      "outputs": []
    },
    {
      "cell_type": "code",
      "source": [
        "# 7. 높은 성적(H)를 받는 데 영향을 미치는 요인 top3는 무엇인가요?\n",
        "import numpy as np\n",
        "\n",
        "  # 과학적 표기법 대신 소수점 6자리까지 나타낸다.\n",
        "np.set_printoptions(precision=6, suppress=True)\n",
        "pd.options.display.float_format = '{:.5f}'.format\n",
        "\n",
        "\n",
        "best_lr.coef_"
      ],
      "metadata": {
        "id": "IOcD3mMXZGsE"
      },
      "execution_count": null,
      "outputs": []
    },
    {
      "cell_type": "code",
      "source": [
        "rst = pd.DataFrame(best_lr.coef_, columns=best_lr.feature_names_in_, index=best_lr.classes_) # 각 클래스별 중요 특성 확인 가능\n",
        "\n",
        "rst.loc['H'].sort_values(ascending=False)"
      ],
      "metadata": {
        "id": "zFH7ObASZaTN"
      },
      "execution_count": null,
      "outputs": []
    },
    {
      "cell_type": "code",
      "source": [],
      "metadata": {
        "id": "VP6S91KaZuuj"
      },
      "execution_count": null,
      "outputs": []
    }
  ]
}