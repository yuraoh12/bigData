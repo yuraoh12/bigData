{
  "nbformat": 4,
  "nbformat_minor": 0,
  "metadata": {
    "colab": {
      "name": "네이버 뉴스 언론사 리스트 스크랩.ipynb",
      "provenance": [],
      "authorship_tag": "ABX9TyPKaP88i10bv5IUl7IhxvR3",
      "include_colab_link": true
    },
    "kernelspec": {
      "name": "python3",
      "display_name": "Python 3"
    },
    "language_info": {
      "name": "python"
    }
  },
  "cells": [
    {
      "cell_type": "markdown",
      "metadata": {
        "id": "view-in-github",
        "colab_type": "text"
      },
      "source": [
        "<a href=\"https://colab.research.google.com/github/chacha86/bigData1/blob/main/%EB%84%A4%EC%9D%B4%EB%B2%84_%EB%89%B4%EC%8A%A4_%EC%96%B8%EB%A1%A0%EC%82%AC_%EB%A6%AC%EC%8A%A4%ED%8A%B8_%EC%8A%A4%ED%81%AC%EB%9E%A9.ipynb\" target=\"_parent\"><img src=\"https://colab.research.google.com/assets/colab-badge.svg\" alt=\"Open In Colab\"/></a>"
      ]
    },
    {
      "cell_type": "code",
      "execution_count": 1,
      "metadata": {
        "colab": {
          "base_uri": "https://localhost:8080/"
        },
        "id": "reI1MpPyAzvL",
        "outputId": "35b07f53-d127-426d-a51a-eb3d062f07cf"
      },
      "outputs": [
        {
          "output_type": "stream",
          "name": "stdout",
          "text": [
            "번호 : 087\n",
            "일름 : 강원일보\n",
            "링크 : https://media.naver.com/press/087/ranking?type=popular\n",
            "======================\n",
            "번호 : 028\n",
            "일름 : 한겨레\n",
            "링크 : https://media.naver.com/press/028/ranking?type=popular\n",
            "======================\n",
            "번호 : 022\n",
            "일름 : 세계일보\n",
            "링크 : https://media.naver.com/press/022/ranking?type=popular\n",
            "======================\n",
            "번호 : 009\n",
            "일름 : 매일경제\n",
            "링크 : https://media.naver.com/press/009/ranking?type=popular\n",
            "======================\n",
            "번호 : 214\n",
            "일름 : MBC\n",
            "링크 : https://media.naver.com/press/214/ranking?type=popular\n",
            "======================\n",
            "번호 : 015\n",
            "일름 : 한국경제\n",
            "링크 : https://media.naver.com/press/015/ranking?type=popular\n",
            "======================\n",
            "번호 : 023\n",
            "일름 : 조선일보\n",
            "링크 : https://media.naver.com/press/023/ranking?type=popular\n",
            "======================\n",
            "번호 : 056\n",
            "일름 : KBS\n",
            "링크 : https://media.naver.com/press/056/ranking?type=popular\n",
            "======================\n",
            "번호 : 025\n",
            "일름 : 중앙일보\n",
            "링크 : https://media.naver.com/press/025/ranking?type=popular\n",
            "======================\n",
            "번호 : 448\n",
            "일름 : TV조선\n",
            "링크 : https://media.naver.com/press/448/ranking?type=popular\n",
            "======================\n",
            "번호 : 014\n",
            "일름 : 파이낸셜뉴스\n",
            "링크 : https://media.naver.com/press/014/ranking?type=popular\n",
            "======================\n",
            "번호 : 032\n",
            "일름 : 경향신문\n",
            "링크 : https://media.naver.com/press/032/ranking?type=popular\n",
            "======================\n"
          ]
        }
      ],
      "source": [
        "from bs4 import BeautifulSoup # html형식으로 작성된 문자열을 html구조로 파싱하기 위한 모듈\n",
        "import requests # 특정 서버에 웹요청 보내기위한 모듈\n",
        "\n",
        "# 1. 특정 페이지로 요청보내서 html 문서 받아오기.\n",
        "url = 'https://news.naver.com/main/ranking/popularDay.naver'\n",
        "\n",
        "headers = {\n",
        "    'User-Agent' : 'Mozilla/5.0 (Windows NT 10.0; Win64; x64) AppleWebKit/537.36 (KHTML, like Gecko) Chrome/102.0.0.0 Safari/537.36'\n",
        "}\n",
        "\n",
        "res = requests.get(url, headers=headers); # url에 요청 보냄. 요청에 대한 응답이 리턴\n",
        "\n",
        "html = res.text # 응답 결과의 문서\n",
        "\n",
        "soup = BeautifulSoup(html, 'html.parser')\n",
        "\n",
        "tag = soup.find(attrs={'class' : '_officeCard _officeCard0'}) # 네이버 랭킹 뉴스 첫번째 언론사 그룹\n",
        "\n",
        "alist = tag.find_all(attrs={'class' : 'rankingnews_box'}) # 첫번째 그룹에 속한 언론사 태그를 전부 가져옴\n",
        "\n",
        "journal_list = [] # 갈무리해서 결과를 저장할 리스트\n",
        "\n",
        "for tag in alist :\n",
        "    a = tag.find('a') # 각 언론사별 링크와 번호를 얻기 위해 a태그를 가져옴\n",
        "\n",
        "    strong = a.find('strong') \n",
        "    name = strong.text # 언론사 이름 \n",
        "\n",
        "    link = a['href'] \n",
        "\n",
        "    # 문자열 다루기 - 문자열 자르기, 특정문자 위치 찾기\n",
        "    # find() - 특정 문자를 앞에서부터 찾기.\n",
        "    # rfind() - 특정 문자를 뒤에서부터 찾기.\n",
        "    idx = link.rfind('/')\n",
        "\n",
        "    # 문자열 슬라이싱 [시작:끝:단계]\n",
        "    jid = link[idx-3:idx:1] # 언론사 식별번호\n",
        "\n",
        "\n",
        "    # 언론사 정보를 딕셔너리로 갈무리\n",
        "    my_journal = {\n",
        "        \"id\" : jid,\n",
        "        \"name\" : name,\n",
        "        \"link\" : link\n",
        "    }\n",
        "\n",
        "    # 최종 결과물을 결과 리스트에 담음.    \n",
        "    journal_list.append(my_journal)\n",
        "\n",
        "\n",
        "# 결과를 예쁘게 출력\n",
        "for j in journal_list :\n",
        "    print(f\"번호 : {j['id']}\")\n",
        "    print(f\"일름 : {j['name']}\")\n",
        "    print(f\"링크 : {j['link']}\")\n",
        "    print(\"======================\")\n",
        "    \n",
        "\n"
      ]
    }
  ]
}