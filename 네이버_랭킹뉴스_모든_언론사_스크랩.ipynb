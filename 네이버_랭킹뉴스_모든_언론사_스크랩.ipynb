{
  "nbformat": 4,
  "nbformat_minor": 0,
  "metadata": {
    "colab": {
      "name": "네이버 랭킹뉴스 모든 언론사 스크랩.ipynb",
      "provenance": [],
      "collapsed_sections": [],
      "authorship_tag": "ABX9TyPPDg/ZpjkFl6Y5vXC4fmk/",
      "include_colab_link": true
    },
    "kernelspec": {
      "name": "python3",
      "display_name": "Python 3"
    },
    "language_info": {
      "name": "python"
    }
  },
  "cells": [
    {
      "cell_type": "markdown",
      "metadata": {
        "id": "view-in-github",
        "colab_type": "text"
      },
      "source": [
        "<a href=\"https://colab.research.google.com/github/chacha86/bigData1/blob/main/%EB%84%A4%EC%9D%B4%EB%B2%84_%EB%9E%AD%ED%82%B9%EB%89%B4%EC%8A%A4_%EB%AA%A8%EB%93%A0_%EC%96%B8%EB%A1%A0%EC%82%AC_%EC%8A%A4%ED%81%AC%EB%9E%A9.ipynb\" target=\"_parent\"><img src=\"https://colab.research.google.com/assets/colab-badge.svg\" alt=\"Open In Colab\"/></a>"
      ]
    },
    {
      "cell_type": "code",
      "execution_count": null,
      "metadata": {
        "id": "iwVASXOYMqRz"
      },
      "outputs": [],
      "source": [
        "from bs4 import BeautifulSoup # html형식으로 작성된 문자열을 html구조로 파싱하기 위한 모듈\n",
        "import requests # 특정 서버에 웹요청 보내기위한 모듈\n",
        "\n",
        "# 1. 특정 페이지로 요청보내서 html 문서 받아오기.\n",
        "url = 'https://news.naver.com/main/ranking/popularDay.naver'\n",
        "\n",
        "headers = {\n",
        "    'User-Agent' : 'Mozilla/5.0 (Windows NT 10.0; Win64; x64) AppleWebKit/537.36 (KHTML, like Gecko) Chrome/102.0.0.0 Safari/537.36'\n",
        "}\n",
        "\n",
        "res = requests.get(url, headers=headers); # url에 요청 보냄. 요청에 대한 응답이 리턴\n",
        "\n",
        "html = res.text # 응답 결과의 문서\n",
        "\n",
        "soup = BeautifulSoup(html, 'html.parser')\n",
        "\n",
        "# 나한테 필요한 언론사 정보를 딕셔너리로 재구조화하기\n",
        "def get_my_journal(tag) :\n",
        "    a = tag.find('a')\n",
        "\n",
        "    strong = a.find('strong')\n",
        "    \n",
        "    link = a['href']\n",
        "    idx = link.rfind('/')        \n",
        "    jid = link[idx-3:idx:1]\n",
        "    name = strong.text\n",
        "\n",
        "    my_journal = {\n",
        "        \"id\" : jid,\n",
        "        \"name\" : name,\n",
        "        \"link\" : link\n",
        "    }\n",
        "    \n",
        "    return my_journal\n",
        "\n",
        "# 그룹별 언론사 리스트 가져오기\n",
        "def get_journal_list_by_group(group_id) :\n",
        "    tag = soup.find(attrs={'class' : group_id})\n",
        "    alist = tag.find_all(attrs={'class' : 'rankingnews_box'})\n",
        "\n",
        "    journal_list = []\n",
        "\n",
        "    for tag in alist :\n",
        "        \n",
        "        my_journal = get_my_journal(tag)\n",
        "        journal_list.append(my_journal)\n",
        "\n",
        "    return journal_list\n",
        "\n",
        "# 각 언론사 그룹 아이디 가져오기\n",
        "def get_group_id_list(tags) :\n",
        "    group_id_list = []\n",
        "    for tag in tags :    \n",
        "        group_id = tag['class'][0] + \" \" + tag['class'][1]\n",
        "        group_id_list.append(group_id)\n",
        "    return group_id_list\n",
        "    \n",
        "# 모든 그룹의 언론사 가져오기\n",
        "def get_all_journal_list() :\n",
        "    tags = soup.find_all(attrs={'class' : '_officeCard'})\n",
        "    glist = get_group_id_list(tags)\n",
        "    \n",
        "    journal_list = []\n",
        "    for gid in glist :\n",
        "        journal_list.extend(get_journal_list_by_group(gid))\n",
        "    \n",
        "    return journal_list    \n",
        "\n",
        "# 언론사 리스트 출력 포맷\n",
        "def print_journal_list(journal_list) :\n",
        "    for j in journal_list :\n",
        "        print(f\"번호 : {j['id']}\")\n",
        "        print(f\"일름 : {j['name']}\")\n",
        "        print(f\"링크 : {j['link']}\")\n",
        "        print(\"======================\")\n",
        "\n",
        "\n",
        "\n",
        "journal_list = get_all_journal_list()\n",
        "journal_list.sort(key = lambda el : el['id'])\n",
        "print_journal_list(journal_list)\n"
      ]
    }
  ]
}