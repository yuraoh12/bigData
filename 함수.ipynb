{
  "nbformat": 4,
  "nbformat_minor": 0,
  "metadata": {
    "colab": {
      "name": "Untitled18.ipynb",
      "provenance": [],
      "collapsed_sections": [],
      "authorship_tag": "ABX9TyMxh1sVfSVjneYH9g+Gjo5a",
      "include_colab_link": true
    },
    "kernelspec": {
      "name": "python3",
      "display_name": "Python 3"
    },
    "language_info": {
      "name": "python"
    }
  },
  "cells": [
    {
      "cell_type": "markdown",
      "metadata": {
        "id": "view-in-github",
        "colab_type": "text"
      },
      "source": [
        "<a href=\"https://colab.research.google.com/github/chacha86/bigData1/blob/main/%ED%95%A8%EC%88%98.ipynb\" target=\"_parent\"><img src=\"https://colab.research.google.com/assets/colab-badge.svg\" alt=\"Open In Colab\"/></a>"
      ]
    },
    {
      "cell_type": "code",
      "execution_count": null,
      "metadata": {
        "id": "NvIt9eYQ81Oq"
      },
      "outputs": [],
      "source": [
        "# 함수\n",
        "\n",
        "print(\"hihi\")\n",
        "len([1,2,3,4])\n",
        "sum([1,2,3,4])\n",
        "\n",
        "# 함수 입력 -> 처리 -> 출력\n",
        "\n",
        "a = 10\n",
        "b = a\n",
        "\n",
        "print(b)\n",
        "\n",
        "c = len([1,2,3,4,5,6])\n",
        "print(c)\n",
        "\n"
      ]
    },
    {
      "cell_type": "code",
      "source": [
        "li = [1,2,3,4,5]\n",
        "li2 = [1,2,3,4,5,6,7,8,9,10]\n",
        "li3 = [1,2,3]\n",
        "\n",
        "# 사용자함수 : 일련의 절차를 하나의 구조로 표현. 여러줄의 코드를 한줄로 표현할 수 있음.\n",
        "def my_len(target) : # 리스트의 길이를 구해주는 함수 정의\n",
        "  length = 0\n",
        "  for num in target :\n",
        "    length += 1\n",
        "  print(length)\n",
        "\n",
        "\n",
        "my_len(li) # 함수 호출. 함수는 호출해야만 실행된다.\n",
        "my_len(li2) \n",
        "my_len(li3) \n",
        "\n",
        "def gugu(dan, gop=9) : # 매개변수\n",
        "  for gop in range(1, gop + 1) :\n",
        "    print(f\"{dan} X {gop} = {dan * gop}\")\n",
        "\n",
        "gugu(3, 10) # 인수\n",
        "gugu(6, 50)\n",
        "gugu(7)\n",
        "\n",
        "# 리턴\n",
        "print()\n"
      ],
      "metadata": {
        "id": "3SOZlBoNAMiA"
      },
      "execution_count": null,
      "outputs": []
    },
    {
      "cell_type": "code",
      "source": [
        "def square(num) :  \n",
        "  return num * num\n",
        "\n",
        "a = square(5) # 5의 제곱에다가 2를 곱하고 싶다.\n",
        "print(a * 2)\n",
        "b = square(10) # 10의 제곱에다가 2를 나누고 싶다.\n",
        "print(b / 2)\n",
        "\n",
        "\n",
        "li = [1,2,3,4,5]\n",
        "\n",
        "print(sum([1,2,3,4]))\n",
        "a = sum([1,2,3,4,5])\n",
        "\n",
        "\n",
        "print(a)\n",
        "\n"
      ],
      "metadata": {
        "colab": {
          "base_uri": "https://localhost:8080/"
        },
        "id": "kj6Q9uecHQiV",
        "outputId": "507d0f6f-9735-4d9d-91fc-795497c443ba"
      },
      "execution_count": 48,
      "outputs": [
        {
          "output_type": "stream",
          "name": "stdout",
          "text": [
            "50\n",
            "50.0\n",
            "10\n",
            "15\n"
          ]
        }
      ]
    },
    {
      "cell_type": "code",
      "source": [
        ""
      ],
      "metadata": {
        "id": "0RxLrJZdHRbP"
      },
      "execution_count": null,
      "outputs": []
    }
  ]
}