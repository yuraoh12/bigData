{
  "nbformat": 4,
  "nbformat_minor": 0,
  "metadata": {
    "colab": {
      "name": "판다스 사용법2.ipynb",
      "provenance": [],
      "collapsed_sections": [],
      "authorship_tag": "ABX9TyM/+DrEcDz7KFedKh+yjwFC",
      "include_colab_link": true
    },
    "kernelspec": {
      "name": "python3",
      "display_name": "Python 3"
    },
    "language_info": {
      "name": "python"
    }
  },
  "cells": [
    {
      "cell_type": "markdown",
      "metadata": {
        "id": "view-in-github",
        "colab_type": "text"
      },
      "source": [
        "<a href=\"https://colab.research.google.com/github/chacha86/bigData1/blob/main/%ED%8C%90%EB%8B%A4%EC%8A%A4_%EC%82%AC%EC%9A%A9%EB%B2%952.ipynb\" target=\"_parent\"><img src=\"https://colab.research.google.com/assets/colab-badge.svg\" alt=\"Open In Colab\"/></a>"
      ]
    },
    {
      "cell_type": "code",
      "execution_count": 3,
      "metadata": {
        "colab": {
          "base_uri": "https://localhost:8080/"
        },
        "id": "mkgE2MFWZ7u8",
        "outputId": "210d0848-26c0-4a8c-861b-c7cce53d6820"
      },
      "outputs": [
        {
          "output_type": "execute_result",
          "data": {
            "text/plain": [
              "이름           준동\n",
              "국어           94\n",
              "영어           91\n",
              "수학           98\n",
              "총점          283\n",
              "평균    94.333333\n",
              "석차            1\n",
              "Name: 11번, dtype: object"
            ]
          },
          "metadata": {},
          "execution_count": 3
        }
      ],
      "source": [
        "import numpy as np\n",
        "import pandas as pd\n",
        "import random as rd\n",
        "\n",
        "# 데스트 데이터\n",
        "\n",
        "# 이름 국어 영어 수학 100개 정도 테스트 데이터\n",
        "mid = ['철', '민', '지', '현', '혜', '준', '명']\n",
        "last = ['수', '연', '혜', '진', '운', '동', '희']\n",
        "\n",
        "names = []\n",
        "rd.seed(100) # 랜덤값 고정을 위해 시드 설정\n",
        "\n",
        "# mid와 last에서 문자를 무작위로 뽑아 100개의 랜덤한 이름 생성\n",
        "for i in range(100) :\n",
        "  mid_idx = rd.randint(0, 6)\n",
        "  last_idx = rd.randint(0, 6)\n",
        "\n",
        "  name = mid[mid_idx] + last[last_idx]\n",
        "\n",
        "  names.append(name)\n",
        "\n",
        "# numpy를 이용해 국영수 세 과목의 점수를 랜덤하게 100개씩 생성\n",
        "np.random.seed(100)\n",
        "korean = np.random.randint(60, 100, 100)\n",
        "english = np.random.randint(60, 100, 100)\n",
        "math = np.random.randint(60, 100, 100)\n",
        "nums = np.arange(1, 101)\n",
        "\n",
        "# 딕셔너리로 조합\n",
        "data = {\n",
        "    \"번호\" : nums,\n",
        "    \"이름\" : names,\n",
        "    \"국어\" : korean,\n",
        "    \"영어\" : english,\n",
        "    \"수학\" : math\n",
        "}\n",
        "data\n",
        "\n",
        "# 데이터프레임으로 생성\n",
        "df = pd.DataFrame(data)\n",
        "\n",
        "# 컬럼 목록\n",
        "df.columns\n",
        "\n",
        "# 컬럼 목록 ndArray로\n",
        "df.columns.values\n",
        "\n",
        "# 인덱스 목록\n",
        "df.index\n",
        "\n",
        "# 인덱스 목록 ndArray로\n",
        "df.index.values\n",
        "\n",
        "# 데이터 프레임을 ndArray로\n",
        "df.values\n",
        "\n",
        "# 데이터 프레임의 모양\n",
        "df.shape\n",
        "\n",
        "\n",
        "\n",
        "\n",
        "\n",
        "\n",
        "\n",
        "\n",
        "\n",
        "\n",
        "\n"
      ]
    },
    {
      "cell_type": "code",
      "source": [
        "\n",
        "df = pd.DataFrame(data)\n",
        "\n",
        "# 인덱스 세팅 - 특정 컬럼을 인덱스로 사용 가능. 인덱스는 행을 구별하고 선택할 때 사용되는 정보\n",
        "df.set_index('번호')\n",
        "df.set_index(['번호', '이름'])\n",
        "\n",
        "\n",
        "# 인덱스 리셋 - 설정했던 인덱스를 다시 일반 컬럼으로 되돌림. (인덱스로 지정된 컬럼은 컬럼 인덱싱으로 접근 불가능하기 때문에 리셋해야 하는 경우가 생김)\n",
        "# drop 옵션은 인덱스로 지정했던 컬럼을 일반컬럼으로 되돌리지 않고 삭제하는 옵션\n",
        "df.reset_index(drop=True)\n",
        "\n",
        "\n",
        "df = df.set_index('번호')\n",
        "df['번호'] # 번호 컬럼은 인덱스로 설정된 컬럼이기 때문에 컬럼 인덱싱 불가\n",
        "df = df.reset_index()\n",
        "df['번호'] # 번호 컬럼이 일반 컬럼이 되었기 때문에 인덱싱 가능.\n"
      ],
      "metadata": {
        "id": "mr7SiTLjSS9E"
      },
      "execution_count": null,
      "outputs": []
    },
    {
      "cell_type": "code",
      "source": [
        "# 단일 column 추가\n",
        "# df['new_col1'] = 'a'\n",
        "# df['new_col2'] = 'b'\n",
        "\n",
        "# column 여러개 한번에 추가 - assign() - 주의할 점은 컬럼명에 ''을 넣지 않는다는 점\n",
        "df = df.assign(new_col1 = 'a', new_col2 = 'b')\n",
        "\n",
        "# column 이름 변경\n",
        "df = df.rename(columns={\"new_col1\" : \"새컬럼1\", \"new_col2\" : \"새컬럼2\"})\n",
        "df\n",
        "\n",
        "# 컬럼 삭제\n",
        "df = df.drop(['새컬럼1', '새컬럼2'], axis=1)\n",
        "df"
      ],
      "metadata": {
        "id": "KD5s3NvQTHxj"
      },
      "execution_count": null,
      "outputs": []
    },
    {
      "cell_type": "code",
      "source": [
        "# 집계함수 : axis=0 행들의 값을 집계함, axis=1 열들의 값을 집계함\n",
        "# sum() : 합\n",
        "# mean() : 평균\n",
        "# max() : 최대값\n",
        "# min() : 최소값\n",
        "df.loc[:, '국어' : '수학'].sum()\n",
        "df.loc[:, '국어' : '수학'].sum(axis=1)\n",
        "\n",
        "df['총합'] = df.loc[:, '국어' : '수학'].sum(axis=1)\n"
      ],
      "metadata": {
        "id": "yiyxBCzoTRgW"
      },
      "execution_count": null,
      "outputs": []
    },
    {
      "cell_type": "code",
      "source": [
        "# 데이터 타입\n",
        "\n",
        "df['수학'].dtype\n",
        "\n",
        "# 데이터 형변환 - astype() # int64(정수), float64(실수), str(문자열)\n",
        "\n",
        "# df['수학'] = df['수학'].astype('float64')\n",
        "# df['수학'] = df['수학'].astype('str')\n",
        "# df['수학'] = df['수학'].astype('int64')\n"
      ],
      "metadata": {
        "id": "hKXhXoIaTwpN"
      },
      "execution_count": null,
      "outputs": []
    },
    {
      "cell_type": "code",
      "source": [
        "# 연습문제\n",
        "\n",
        "# 1. 총점과 평균 컬럼을 만들어서 각 학생의 총점과 평점을 데이터 프레임에 표현해주시오\n",
        "df = df.drop('총합', axis=1)\n",
        "sums = df.loc[:, '국어' : '수학'].sum(axis=1)\n",
        "avgs = df.loc[:, '국어' : '수학'].mean(axis=1)\n",
        "\n",
        "df = df.assign(총점=sums, 평균=avgs)\n",
        "df\n",
        "\n",
        "# 2. 인덱스(번호) 전체 값 뒤에 번이라는 문자 붙이기\n",
        "# 1, 2, 3, ....   -->  1번, 2번, 3번, ....\n",
        "df = df.reset_index()\n",
        "\n",
        "df['번호'] = df['번호'].astype('str') + '번'\n",
        "\n",
        "df = df.set_index('번호')\n",
        "\n",
        "df\n",
        "\n",
        "# 3. 각 석차를 구해서 데이터프레임에 추가해주세요.\n",
        "arr = df['평균'].values\n",
        "idx = arr.argsort()[::-1]\n",
        "\n",
        "# 100개짜리 행을 가진 열을 만들어야함.\n",
        "arr = np.zeros(100)\n",
        "\n",
        "# idx를 이용해서 인덱싱\n",
        "arr2 = np.arange(1, 101) # 석차를 의미하는 1 ~ 100 사이의 순차적인 값의 배열\n",
        "arr[idx] = arr2 # arr2의 1 ~ 100 값을 순차적으로 idx의 인덱스 순으로 arr 배열에 대입 \n",
        "\n",
        "\n",
        "arr # 결과적으로 석차 인덱스가 되므로 이 배열을 데이터프레임에 '석차'라는 컬럼명으로 추가한다.\n",
        "df['석차'] = arr\n",
        "df['석차'] = df['석차'].astype('int64')\n",
        "\n",
        "\n",
        "# 성적이 가장 높은 학생 정보를 가져오기\n",
        "#no = df['석차'].idxmin()\n",
        "#no = df['평균'].idxmax()\n",
        "no = df['총점'].idxmax()\n",
        "\n",
        "df.loc[no]"
      ],
      "metadata": {
        "id": "bIus3BTeT1He"
      },
      "execution_count": null,
      "outputs": []
    },
    {
      "cell_type": "code",
      "source": [
        "# 정렬하기\n",
        "df.sort_values('평균', ascending=False)\n",
        "df.sort_values(['평균', '이름'], ascending=[False, True])"
      ],
      "metadata": {
        "id": "nBTKMDqW4Nd_"
      },
      "execution_count": null,
      "outputs": []
    },
    {
      "cell_type": "code",
      "source": [
        "# 그룹핑을 하기 위해 지역 데이터 생성\n",
        "locations = ['서울', '대전', '대구', '부산', '울산', '광주', '인천']\n",
        "np.random.seed(10)\n",
        "arr = np.random.randint(0, 6, 100)\n",
        "\n",
        "locations = np.array(locations)\n",
        "\n",
        "# 데이터프레임에 추가\n",
        "df['지역명'] = locations[arr]\n",
        "\n",
        "\n",
        "# 그룹핑 - 어떤 컬럼의 값은 중복되어서 나타날 수 있음. 예를 들어 학생의 경우 지역이 대전인 학생, 서울인 학생, 인천인 학생 등등 100명의 학생 데이터에서\n",
        "# 6~7개 정도의 데이터가 반복해서 나타나는 경우 6~7개의 데이터로 그룹화 하여 각 그룹별로 집계할 수 있음\n",
        "\n",
        "# ex)\n",
        "# 지역별 ~학생 성적 현황\n",
        "# 나라별 ~ 코로나환자수 현황 등등\n",
        "\n",
        "# 중복값을 제거하고 나타날 수 이는 유일한 데이터 보기\n",
        "df['지역명'].unique() # 지역명에서 나타날 수 있는 데이터의 경우의 수를 중복 없이 볼 수 있음.\n",
        "\n",
        "\n",
        "# 그룹핑 함수 - groupby('그룹핑할 컬럼명')\n",
        "\n",
        "df2 = df.groupby(\"지역명\").mean() # 지역명으로 그룹화 하여 각 지역별로 평균 집계할 수 있음.\n",
        "\n",
        "df2 = df2.loc[:, ['국어', '영어', '수학', '평균']]\n",
        "\n",
        "\n",
        "# 간단 문제\n",
        "\n",
        "# 가장 수학 점수가 높은 도시는? 광주\n",
        "df2.sort_values('수학', ascending=False)\n",
        "\n",
        "# 가장 성적이 좋은 도시\n",
        "df2.sort_values('평균', ascending=False)\n",
        "\n",
        "\n",
        "# 연습 문제\n",
        "# 평균 점수대별 학생수 현황\n",
        "\n",
        "# ex)\n",
        "# 평균 60점대 학생수\n",
        "# 평균 70점대 학생수\n",
        "# 평균 80점대 학생수\n",
        "# 평균 90점대 학생수\n",
        "\n",
        "\n",
        "avg = df['평균'] / 10\n",
        "df['평균점수대'] = avg.astype('int64') * 10\n",
        "\n",
        "df.groupby('평균점수대').count()['이름']\n",
        "\n",
        "# 각 지역에서 점수대별 학생수 현황\n",
        "\n",
        "# ex)\n",
        "# 대전에서 평균 60점대 몇명\n",
        "# 대전에서 평균 70점대 몇명\n",
        "# 대전에서 평균 80점대 몇명\n",
        "# 대전에서 평균 90점대 몇명\n",
        "# 서울에서 평균 60점대 몇명\n",
        "# 서울에서 평균 70점대 몇명\n",
        "# 서울에서 평균 80점대 몇명\n",
        "# 서울에서 평균 90점대 몇명\n",
        "\n",
        "df.groupby(['지역명', '평균점수대']).count()['이름']\n",
        "\n",
        "\n"
      ],
      "metadata": {
        "colab": {
          "base_uri": "https://localhost:8080/"
        },
        "id": "xQAxV65t5u0a",
        "outputId": "09b94dfb-3189-4698-bba4-d1ff07afeba4"
      },
      "execution_count": null,
      "outputs": [
        {
          "output_type": "execute_result",
          "data": {
            "text/plain": [
              "지역명  평균점수대\n",
              "광주   60        5\n",
              "     70        3\n",
              "     80        6\n",
              "     90        2\n",
              "대구   60        1\n",
              "     70        7\n",
              "     80        3\n",
              "     90        1\n",
              "대전   70       11\n",
              "     80        8\n",
              "     90        1\n",
              "부산   60        1\n",
              "     70        6\n",
              "     80        4\n",
              "     90        1\n",
              "서울   70        8\n",
              "     80       14\n",
              "     90        1\n",
              "울산   70       10\n",
              "     80        5\n",
              "     90        2\n",
              "Name: 이름, dtype: int64"
            ]
          },
          "metadata": {},
          "execution_count": 198
        }
      ]
    },
    {
      "cell_type": "markdown",
      "source": [
        ""
      ],
      "metadata": {
        "id": "p2ppPTVUxitD"
      }
    }
  ]
}