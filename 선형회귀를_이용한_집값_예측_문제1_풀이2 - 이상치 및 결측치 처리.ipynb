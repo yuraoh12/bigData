{
  "nbformat": 4,
  "nbformat_minor": 0,
  "metadata": {
    "colab": {
      "provenance": [],
      "authorship_tag": "ABX9TyP0l3xtI6U8USRjpDKEtMkx",
      "include_colab_link": true
    },
    "kernelspec": {
      "name": "python3",
      "display_name": "Python 3"
    },
    "language_info": {
      "name": "python"
    }
  },
  "cells": [
    {
      "cell_type": "markdown",
      "metadata": {
        "id": "view-in-github",
        "colab_type": "text"
      },
      "source": [
        "<a href=\"https://colab.research.google.com/github/chacha86/pythonai2/blob/main/%EC%84%A0%ED%98%95%ED%9A%8C%EA%B7%80%EB%A5%BC_%EC%9D%B4%EC%9A%A9%ED%95%9C_%EC%A7%91%EA%B0%92_%EC%98%88%EC%B8%A1_%EB%AC%B8%EC%A0%9C1_%ED%92%80%EC%9D%B42%20-%20%EC%9D%B4%EC%83%81%EC%B9%98%20%EB%B0%8F%20%EA%B2%B0%EC%B8%A1%EC%B9%98%20%EC%B2%98%EB%A6%AC.ipynb\" target=\"_parent\"><img src=\"https://colab.research.google.com/assets/colab-badge.svg\" alt=\"Open In Colab\"/></a>"
      ]
    },
    {
      "cell_type": "code",
      "execution_count": 16,
      "metadata": {
        "id": "Z-Y_2-le6Vhc"
      },
      "outputs": [],
      "source": [
        "# 데이터 로드\n",
        "import pandas as pd\n",
        "house = pd.read_csv('/content/1553768847-housing.csv')"
      ]
    },
    {
      "cell_type": "code",
      "source": [
        "\n",
        "\n",
        "house\n",
        "house.info()\n",
        "house.describe()\n",
        "\n",
        "\n"
      ],
      "metadata": {
        "id": "-QEY_2Pz6Wka"
      },
      "execution_count": null,
      "outputs": []
    },
    {
      "cell_type": "code",
      "source": [
        "# EDA\n",
        "## 결측치가 많거나 불필요한 컬럼은 걸러내 보자\n",
        "## 상관관계로 필요한거 솎아내보자\n",
        "### 변수가 많으면 좋다 -> 모든 변수를 사용\n",
        "\n",
        "\n",
        "## 이상치가 많아 보이는 컬럼은 체크해두자\n",
        "## 이상치 존재 여부 확인 -> IQR\n",
        "\n",
        "Q1 = house.quantile(0.25)\n",
        "Q3 = house.quantile(0.75)\n",
        "\n",
        "IQR = Q3 - Q1\n",
        "\n",
        "highest = Q3 + IQR * 1.5\n",
        "lowest = Q1 - IQR * 1.5\n",
        "\n",
        "\n",
        "total_rooms_high = highest['total_rooms']\n",
        "total_rooms_low = lowest['total_rooms']\n",
        "house['total_rooms'][(house['total_rooms'] > total_rooms_high) | (house['total_rooms'] < total_rooms_low)]\n",
        "\n",
        "\n",
        "\n",
        "## 위경도를 이용한 산점도 그리기\n",
        "## 집값(median_house_value)과 다른 변수의 상관관계 확인\n",
        "## 위도(longitude) 경도(latitude)를 이용해 산점도로 위치와 집값의 관계 시각적으로 확인"
      ],
      "metadata": {
        "id": "M2UlNe_pJFat"
      },
      "execution_count": null,
      "outputs": []
    },
    {
      "cell_type": "code",
      "source": [],
      "metadata": {
        "id": "UrOOTCvBLYTH"
      },
      "execution_count": null,
      "outputs": []
    },
    {
      "cell_type": "code",
      "source": [
        "# 데이터 전처리\n",
        "## 결측치 처리\n",
        "## 이상치 처리\n",
        "\n",
        "\n",
        "## apply -> 데이터프레임 컬럼/ 로우를 함수에 넘겨서 처리\n",
        "\n",
        "def is_not_outlier(row) :\n",
        "  if row.sum() > 0 : # 이상치\n",
        "    return False\n",
        "  else : # 정상\n",
        "    return True\n",
        "\n",
        "tmp_df = (house > highest) | (house < lowest)\n",
        "normal_idx = tmp_df.apply(is_not_outlier, axis=1)\n",
        "\n",
        "house2 = house.loc[normal_idx]"
      ],
      "metadata": {
        "colab": {
          "base_uri": "https://localhost:8080/"
        },
        "id": "hX1YzP5DLTmj",
        "outputId": "c85888e0-84b0-4bb4-d8ed-4c423bdfefea"
      },
      "execution_count": 53,
      "outputs": [
        {
          "output_type": "stream",
          "name": "stderr",
          "text": [
            "<ipython-input-53-a15ecac56d36>:9: FutureWarning: Automatic reindexing on DataFrame vs Series comparisons is deprecated and will raise ValueError in a future version. Do `left, right = left.align(right, axis=1, copy=False)` before e.g. `left == right`\n",
            "  tmp_df = (house > highest) | (house < lowest)\n"
          ]
        }
      ]
    },
    {
      "cell_type": "code",
      "source": [
        "house3 = house2.dropna()\n",
        "house3.info()"
      ],
      "metadata": {
        "id": "0K8Us7_EOWhh"
      },
      "execution_count": null,
      "outputs": []
    },
    {
      "cell_type": "code",
      "source": [
        "\n",
        "house.corr()\n",
        "\n"
      ],
      "metadata": {
        "id": "nGCwAqy6dVvu"
      },
      "execution_count": null,
      "outputs": []
    },
    {
      "cell_type": "code",
      "source": [
        "\n",
        "## 수치형 데이터\n",
        "### 표준화\n",
        "## 범주형 데이터\n",
        "### 원핫인코딩\n",
        "\n",
        "target = house['median_house_value']\n",
        "train = house[['median_income']]\n",
        "\n",
        "from sklearn.model_selection import train_test_split\n",
        "\n",
        "trd, tsd, trt, tst = train_test_split(train, target, train_size=0.8, random_state=42) # 학습용데이터는 꼭 2차원으로\n"
      ],
      "metadata": {
        "id": "b-4O9_IP6Wmd"
      },
      "execution_count": 55,
      "outputs": []
    },
    {
      "cell_type": "code",
      "source": [
        "# 학습\n",
        "## 선형회귀를 이용하여 모델 학습\n",
        "from sklearn.linear_model import LinearRegression\n",
        "\n",
        "lr = LinearRegression()\n",
        "lr.fit(trd, trt)\n",
        "\n",
        "\n",
        "\n",
        "\n"
      ],
      "metadata": {
        "id": "8k84Kj3C6Woh",
        "colab": {
          "base_uri": "https://localhost:8080/",
          "height": 75
        },
        "outputId": "e7533d80-cc71-4100-f8c2-a5bfc4b0f36b"
      },
      "execution_count": 12,
      "outputs": [
        {
          "output_type": "execute_result",
          "data": {
            "text/plain": [
              "LinearRegression()"
            ],
            "text/html": [
              "<style>#sk-container-id-2 {color: black;background-color: white;}#sk-container-id-2 pre{padding: 0;}#sk-container-id-2 div.sk-toggleable {background-color: white;}#sk-container-id-2 label.sk-toggleable__label {cursor: pointer;display: block;width: 100%;margin-bottom: 0;padding: 0.3em;box-sizing: border-box;text-align: center;}#sk-container-id-2 label.sk-toggleable__label-arrow:before {content: \"▸\";float: left;margin-right: 0.25em;color: #696969;}#sk-container-id-2 label.sk-toggleable__label-arrow:hover:before {color: black;}#sk-container-id-2 div.sk-estimator:hover label.sk-toggleable__label-arrow:before {color: black;}#sk-container-id-2 div.sk-toggleable__content {max-height: 0;max-width: 0;overflow: hidden;text-align: left;background-color: #f0f8ff;}#sk-container-id-2 div.sk-toggleable__content pre {margin: 0.2em;color: black;border-radius: 0.25em;background-color: #f0f8ff;}#sk-container-id-2 input.sk-toggleable__control:checked~div.sk-toggleable__content {max-height: 200px;max-width: 100%;overflow: auto;}#sk-container-id-2 input.sk-toggleable__control:checked~label.sk-toggleable__label-arrow:before {content: \"▾\";}#sk-container-id-2 div.sk-estimator input.sk-toggleable__control:checked~label.sk-toggleable__label {background-color: #d4ebff;}#sk-container-id-2 div.sk-label input.sk-toggleable__control:checked~label.sk-toggleable__label {background-color: #d4ebff;}#sk-container-id-2 input.sk-hidden--visually {border: 0;clip: rect(1px 1px 1px 1px);clip: rect(1px, 1px, 1px, 1px);height: 1px;margin: -1px;overflow: hidden;padding: 0;position: absolute;width: 1px;}#sk-container-id-2 div.sk-estimator {font-family: monospace;background-color: #f0f8ff;border: 1px dotted black;border-radius: 0.25em;box-sizing: border-box;margin-bottom: 0.5em;}#sk-container-id-2 div.sk-estimator:hover {background-color: #d4ebff;}#sk-container-id-2 div.sk-parallel-item::after {content: \"\";width: 100%;border-bottom: 1px solid gray;flex-grow: 1;}#sk-container-id-2 div.sk-label:hover label.sk-toggleable__label {background-color: #d4ebff;}#sk-container-id-2 div.sk-serial::before {content: \"\";position: absolute;border-left: 1px solid gray;box-sizing: border-box;top: 0;bottom: 0;left: 50%;z-index: 0;}#sk-container-id-2 div.sk-serial {display: flex;flex-direction: column;align-items: center;background-color: white;padding-right: 0.2em;padding-left: 0.2em;position: relative;}#sk-container-id-2 div.sk-item {position: relative;z-index: 1;}#sk-container-id-2 div.sk-parallel {display: flex;align-items: stretch;justify-content: center;background-color: white;position: relative;}#sk-container-id-2 div.sk-item::before, #sk-container-id-2 div.sk-parallel-item::before {content: \"\";position: absolute;border-left: 1px solid gray;box-sizing: border-box;top: 0;bottom: 0;left: 50%;z-index: -1;}#sk-container-id-2 div.sk-parallel-item {display: flex;flex-direction: column;z-index: 1;position: relative;background-color: white;}#sk-container-id-2 div.sk-parallel-item:first-child::after {align-self: flex-end;width: 50%;}#sk-container-id-2 div.sk-parallel-item:last-child::after {align-self: flex-start;width: 50%;}#sk-container-id-2 div.sk-parallel-item:only-child::after {width: 0;}#sk-container-id-2 div.sk-dashed-wrapped {border: 1px dashed gray;margin: 0 0.4em 0.5em 0.4em;box-sizing: border-box;padding-bottom: 0.4em;background-color: white;}#sk-container-id-2 div.sk-label label {font-family: monospace;font-weight: bold;display: inline-block;line-height: 1.2em;}#sk-container-id-2 div.sk-label-container {text-align: center;}#sk-container-id-2 div.sk-container {/* jupyter's `normalize.less` sets `[hidden] { display: none; }` but bootstrap.min.css set `[hidden] { display: none !important; }` so we also need the `!important` here to be able to override the default hidden behavior on the sphinx rendered scikit-learn.org. See: https://github.com/scikit-learn/scikit-learn/issues/21755 */display: inline-block !important;position: relative;}#sk-container-id-2 div.sk-text-repr-fallback {display: none;}</style><div id=\"sk-container-id-2\" class=\"sk-top-container\"><div class=\"sk-text-repr-fallback\"><pre>LinearRegression()</pre><b>In a Jupyter environment, please rerun this cell to show the HTML representation or trust the notebook. <br />On GitHub, the HTML representation is unable to render, please try loading this page with nbviewer.org.</b></div><div class=\"sk-container\" hidden><div class=\"sk-item\"><div class=\"sk-estimator sk-toggleable\"><input class=\"sk-toggleable__control sk-hidden--visually\" id=\"sk-estimator-id-2\" type=\"checkbox\" checked><label for=\"sk-estimator-id-2\" class=\"sk-toggleable__label sk-toggleable__label-arrow\">LinearRegression</label><div class=\"sk-toggleable__content\"><pre>LinearRegression()</pre></div></div></div></div></div>"
            ]
          },
          "metadata": {},
          "execution_count": 12
        }
      ]
    },
    {
      "cell_type": "code",
      "source": [
        "# 평가\n",
        "## 학습한 모델을 평가하기 -> 과소적합\n",
        "print(lr.score(trd, trt), lr.score(tsd, tst))"
      ],
      "metadata": {
        "id": "unmGW5l37CCW",
        "colab": {
          "base_uri": "https://localhost:8080/"
        },
        "outputId": "e8f85d25-2c1a-4989-a457-189638ddf7f7"
      },
      "execution_count": 13,
      "outputs": [
        {
          "output_type": "stream",
          "name": "stdout",
          "text": [
            "0.4769927345820525 0.45885918903846656\n"
          ]
        }
      ]
    },
    {
      "cell_type": "code",
      "source": [
        "# 예측\n",
        "house.describe()['median_income']\n",
        "\n",
        "lr.predict([[4]])"
      ],
      "metadata": {
        "id": "kOJT2M-9e6kT"
      },
      "execution_count": null,
      "outputs": []
    },
    {
      "cell_type": "code",
      "source": [],
      "metadata": {
        "id": "O8UQH_fAfJza"
      },
      "execution_count": 14,
      "outputs": []
    }
  ]
}