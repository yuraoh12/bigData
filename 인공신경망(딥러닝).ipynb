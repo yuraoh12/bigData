{
  "nbformat": 4,
  "nbformat_minor": 0,
  "metadata": {
    "colab": {
      "provenance": [],
      "authorship_tag": "ABX9TyPPEcD7yxZ36y0GjMikS5dc",
      "include_colab_link": true
    },
    "kernelspec": {
      "name": "python3",
      "display_name": "Python 3"
    },
    "language_info": {
      "name": "python"
    }
  },
  "cells": [
    {
      "cell_type": "markdown",
      "metadata": {
        "id": "view-in-github",
        "colab_type": "text"
      },
      "source": [
        "<a href=\"https://colab.research.google.com/github/chacha86/pythonai/blob/main/%EC%9D%B8%EA%B3%B5%EC%8B%A0%EA%B2%BD%EB%A7%9D(%EB%94%A5%EB%9F%AC%EB%8B%9D).ipynb\" target=\"_parent\"><img src=\"https://colab.research.google.com/assets/colab-badge.svg\" alt=\"Open In Colab\"/></a>"
      ]
    },
    {
      "cell_type": "code",
      "execution_count": null,
      "metadata": {
        "id": "3zKSaRUHkRn9"
      },
      "outputs": [],
      "source": [
        "## 퍼셉트론\n",
        "## x1 * w1 + x2 * w2  >  b    ->  1 (활성)\n",
        "## x1 * w1 + x2 * w2 <=  b    ->  0 (비활성)\n",
        "\n",
        "## w1, w2 (가중치) -> 각 특성이 미치는 영향도\n",
        "## b (편향) -> 활성 민감도\n",
        "## 통증 -> 바람만 불어도 아픈 사람(통증 민감도 높다.)\n",
        "## 통증 -> 불에 데여도 별로 안아픈 사람(통증 민감도)\n",
        "\n",
        "\n",
        "## 논리 회로\n",
        "### AND 게이트\n",
        "### (w1, w2, b) -> (0.5, 0.5, 0.7), (0.3, 0.3, 0.3)\n",
        "### 입력1(1) * 0.5 + 입력2(0) * 0.5 <= 0.7 -> 0\n",
        "### 입력1(0) * 0.5 + 입력2(1) * 0.5 <= 0.7 -> 0\n",
        "### 입력1(0) * 0.5 + 입력2(0) * 0.5 <= 0.7 -> 0\n",
        "### 입력1(1) * 0.5 + 입력2(1) * 0.5 > 0.7 -> 1\n",
        "\n",
        "def AND(x1, x2) :\n",
        "    w1 = 0.5\n",
        "    w2 = 0.5\n",
        "    b = 0.7\n",
        "\n",
        "    if w1 * x1 + w2 * x2 > b :\n",
        "      return 1\n",
        "    return 0\n",
        "\n",
        "AND(1, 0)\n",
        "AND(0, 1)\n",
        "AND(0, 0)\n",
        "AND(1, 1)\n",
        "\n",
        "\n",
        "\n"
      ]
    },
    {
      "cell_type": "code",
      "source": [
        "### OR 게이트\n",
        "### (w1, w2, b) -> (0.5, 0.4, 0.3)\n",
        "### 입력1(1) * 0.5 + 입력2(0) * 0.4 > 0.3  -> 1\n",
        "### 입력1(0) * 0.5 + 입력2(1) * 0.4 > 0.3  -> 1\n",
        "### 입력1(0) * 0.5 + 입력2(0) * 0.5 <= 0.3 -> 0\n",
        "### 입력1(1) * 0.5 + 입력2(1) * 0.4 > 0.3  -> 1\n",
        "\n",
        "\n",
        "## 벡터연산에 특화된 도구 -> numpy\n",
        "\n",
        "import numpy as np\n",
        "\n",
        "def OR(x1, x2) :\n",
        "  X = np.array([x1, x2])\n",
        "  W = np.array([0.5, 0.4])\n",
        "  b = 0.3\n",
        "\n",
        "  if np.sum(X * W) > b :\n",
        "     return 1\n",
        "  return 0\n",
        "\n",
        "print(OR(0, 0))\n",
        "print(OR(1, 0))\n",
        "print(OR(0, 1))\n",
        "print(OR(1, 1))\n",
        "\n"
      ],
      "metadata": {
        "id": "2-qjry9tn1QG"
      },
      "execution_count": null,
      "outputs": []
    },
    {
      "cell_type": "code",
      "source": [
        "## NAND\n",
        "### (w1, w2, b) -> (0.5, 0.4, 0.3)\n",
        "\n",
        "\n",
        "## NAND 게이트 직접 구현해주세요.\n",
        "### NAND 게이트\n",
        "### (w1, w2, b) -> (-0.5, -0.5, -0.7)\n",
        "\n",
        "def NAND(x1, x2) :\n",
        "  X = np.array([x1, x2])\n",
        "  W = np.array([-0.5, -0.5])\n",
        "  b = -0.7\n",
        "\n",
        "  if np.sum(X * W) > b :\n",
        "     return 1\n",
        "  return 0\n",
        "\n",
        "\n",
        "print(NAND(0, 0)) # 1\n",
        "print(NAND(1, 0)) # 1\n",
        "print(NAND(0, 1)) # 1\n",
        "print(NAND(1, 1)) # 0"
      ],
      "metadata": {
        "id": "-gY8zLtUqCvk"
      },
      "execution_count": null,
      "outputs": []
    },
    {
      "cell_type": "code",
      "source": [
        "## XOR(배타적 논리합) -> 퍼셉트론으로 표현 불가.\n",
        "### (w1, w2, b) -> (-0.5, -0.5, -0.7)\n",
        "\n",
        "def XOR(x1, x2) :\n",
        "  s1 = NAND(x1, x2)\n",
        "  s2 = OR(x1, x2)\n",
        "  y = AND(s1, s2)\n",
        "\n",
        "  return y\n",
        "\n",
        "\n",
        "print(XOR(0, 0)) # 0\n",
        "print(XOR(1, 0)) # 1\n",
        "print(XOR(0, 1)) # 1\n",
        "print(XOR(1, 1)) # 0\n",
        "\n"
      ],
      "metadata": {
        "id": "TjfaMQqcvlkb"
      },
      "execution_count": null,
      "outputs": []
    },
    {
      "cell_type": "code",
      "source": [
        "## 퍼셉트론 1개 -> 단층 퍼셉트론 (선형)\n",
        "## 퍼셉트론 여러개 -> 다층 퍼셉트론(mlp) (비선형)\n",
        "\n"
      ],
      "metadata": {
        "id": "R8T0aZvaxmhJ"
      },
      "execution_count": null,
      "outputs": []
    },
    {
      "cell_type": "code",
      "source": [
        "## 활성화 함수 -> 입력신호의 총합을 출력을 바꿔주는 함수\n",
        "## 퍼셉트론 -> 총합 > 0 -> 1 , 0 -> 계단함수(0 ~ 1 사이에서 0, 1 두개)\n",
        "## 출력값이 단 두개라 복잡한 표현에 취약\n",
        "\n",
        "def step_func(x) :\n",
        "  rst = x > 0\n",
        "  return rst.astype('int8')\n",
        "#    return 1\n",
        "#  return 0\n",
        "\n",
        "\n",
        "x = np.arange(-5, 5, 0.1)\n",
        "y = step_func(x)\n",
        "\n",
        "import matplotlib.pyplot as plt\n",
        "\n",
        "plt.plot(x, y)\n",
        "\n"
      ],
      "metadata": {
        "id": "qmpvB4dGzoJ3"
      },
      "execution_count": null,
      "outputs": []
    },
    {
      "cell_type": "code",
      "source": [
        "## 활성화 함수 -> 시그모이드 함수 (값을 0 ~ 1 사이의 실수)\n",
        "def sigmoid(x):\n",
        "    return 1 / (1 + np.exp(-x))\n",
        "\n",
        "y = sigmoid(x)\n",
        "\n",
        "plt.plot(x, y)\n",
        "\n",
        "## 시그모이드 함수 단점 : 값이 너무 크거나 작으면 컴퓨터에서 표현이 힘듦. 안정성이 좀 떨어짐.\n"
      ],
      "metadata": {
        "id": "4KmZo0aW1rM3"
      },
      "execution_count": null,
      "outputs": []
    },
    {
      "cell_type": "code",
      "source": [
        "## 활성화 함수3 -> ReLU 함수\n",
        "## 0보다 작으면 0, 크면 원래값.\n",
        "## 시그모이드의 불안정성을 보완한 함수\n",
        "\n",
        "def relu(x) :  \n",
        "  return np.maximum(0, x)\n",
        "\n",
        "\n",
        "y = relu(x)\n",
        "plt.plot(x, y)"
      ],
      "metadata": {
        "id": "Tqo0jVvK2d3k"
      },
      "execution_count": null,
      "outputs": []
    },
    {
      "cell_type": "code",
      "source": [
        "## 다층 퍼셉트론 (심층신경망) 표현\n",
        "\n",
        "def get_network() :\n",
        "  network = {}\n",
        "  \n",
        "  ## 아래 배열들의 의미\n",
        "  ## 행의 개수는 입력 뉴런의 개수, 열의 개수는 가중치의 개수(맞은 편 뉴런 개수)\n",
        "\n",
        "\n",
        "  network['W1'] = np.array([0.5, 0.5, 0.7], [0.2, 0.4, 0.6]) ## 뉴런의 개수 3, 가중치의 개수 : 3\n",
        "  network['B1'] = np.array([0.1, 0.2, 0.3]) ## 가중치 개수 : 3\n",
        "\n",
        "  network['W2'] = np.array([0.5, 0.5], [0.2, 0.5], [0.3, 0.1]) ## 뉴런의 개수 : 3, 가중치의 개수 : 2 \n",
        "  network['B2'] = np.array([0.1, 0.2]) ## 가중치 개수 : 2 (맞은편 뉴런의 개수와 일치해야 함)\n",
        "\n",
        "  network['W3'] = np.array([0.1, 0.3], [0.2, 0.4]) ## 뉴런의 개수 : 2, 가중치 개수 : 2\n",
        "  network['B3'] = np.array([0.1, 0.2]) ## 가중치 개수 : 2\n",
        "\n",
        "  return network\n",
        "\n",
        "## 활성화 함수를 이용해 네트워크의 최종값 출력하기\n"
      ],
      "metadata": {
        "id": "GIlUq9Re38z5"
      },
      "execution_count": null,
      "outputs": []
    }
  ]
}