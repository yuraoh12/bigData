{
  "nbformat": 4,
  "nbformat_minor": 0,
  "metadata": {
    "colab": {
      "provenance": [],
      "authorship_tag": "ABX9TyNpLmE5K/km7J/ppFvzwu+x",
      "include_colab_link": true
    },
    "kernelspec": {
      "name": "python3",
      "display_name": "Python 3"
    },
    "language_info": {
      "name": "python"
    }
  },
  "cells": [
    {
      "cell_type": "markdown",
      "metadata": {
        "id": "view-in-github",
        "colab_type": "text"
      },
      "source": [
        "<a href=\"https://colab.research.google.com/github/chacha86/pythonai2/blob/main/%EB%B6%84%EB%A5%98%EC%9D%98_%ED%8F%89%EA%B0%80_%EB%B0%A9%EB%B2%95%EA%B3%BC_%EC%BB%A8%EC%85%89.ipynb\" target=\"_parent\"><img src=\"https://colab.research.google.com/assets/colab-badge.svg\" alt=\"Open In Colab\"/></a>"
      ]
    },
    {
      "cell_type": "code",
      "execution_count": 5,
      "metadata": {
        "id": "yNFgbq1uxtVB"
      },
      "outputs": [],
      "source": [
        "import pandas as pd\n",
        "\n",
        "\n",
        "fish = pd.read_csv('/content/Fish.csv')\n",
        "\n"
      ]
    },
    {
      "cell_type": "code",
      "source": [
        "bream_smelt = fish.loc[(fish['Species'] == 'Bream') | (fish['Species'] == 'Smelt')]\n",
        "train = bream_smelt.drop('Species', axis=1)\n",
        "target = bream_smelt['Species']"
      ],
      "metadata": {
        "id": "5wfp2Y9k1ROV"
      },
      "execution_count": 6,
      "outputs": []
    },
    {
      "cell_type": "code",
      "source": [
        "from sklearn.model_selection import train_test_split\n",
        "trd, tsd, trt, tst = train_test_split(train, target, train_size=0.8, random_state=42)"
      ],
      "metadata": {
        "id": "1SJ2NREd1TLa"
      },
      "execution_count": 7,
      "outputs": []
    },
    {
      "cell_type": "code",
      "source": [
        "from sklearn.linear_model import LogisticRegression\n",
        "\n",
        "lr = LogisticRegression()\n",
        "lr.fit(trd, trt)\n",
        "lr.score(trd, trt), lr.score(tsd, tst)\n",
        "\n",
        "## 회귀 -> 평가 지표(mae, mse, r2)\n",
        "\n",
        "## 로지스틱 회귀의 score는 어떤 지표? mae, mse, r2 X\n",
        "\n",
        "## 로지스틱 회귀는 분류. 분류의 평가지표는 회귀와 다르다."
      ],
      "metadata": {
        "colab": {
          "base_uri": "https://localhost:8080/"
        },
        "id": "Oylwowec1U0_",
        "outputId": "2a4b5090-8995-4ee9-8c95-330623029676"
      },
      "execution_count": 8,
      "outputs": [
        {
          "output_type": "execute_result",
          "data": {
            "text/plain": [
              "(1.0, 1.0)"
            ]
          },
          "metadata": {},
          "execution_count": 8
        }
      ]
    },
    {
      "cell_type": "code",
      "source": [
        "# 분류 평가 지표\n",
        "## 1. 정확도(accuracy) -> 전체 클래스 중 몇개를 맞췄는가?\n",
        "\n",
        "trt2 = trt.sort_values()[:32] # trt에서 좀더 자른 버전\n",
        "# trd2 = trd[trt2.index]\n",
        "trd2 = trd.loc[trt2.index]\n",
        "\n",
        "\n"
      ],
      "metadata": {
        "id": "-WxWdnVl2YPi"
      },
      "execution_count": 20,
      "outputs": []
    },
    {
      "cell_type": "code",
      "source": [],
      "metadata": {
        "id": "aT-GdOiB49jq"
      },
      "execution_count": null,
      "outputs": []
    },
    {
      "cell_type": "code",
      "source": [
        "def predict_bream(trd) :\n",
        "  result = []\n",
        "\n",
        "  for data in trd.values :\n",
        "      result.append('Bream')\n",
        "\n",
        "  return result\n",
        "\n",
        "\n",
        "pred = predict_bream(trd2)\n",
        "\n",
        "\n",
        "matched = 0\n",
        "\n",
        "for p, t in zip(pred, trt2) :\n",
        "  print(p, t)\n",
        "\n",
        "  if p == t :\n",
        "    matched += 1\n",
        "\n",
        "matched / len(pred)\n"
      ],
      "metadata": {
        "id": "dwS6c1gv3oZ-"
      },
      "execution_count": null,
      "outputs": []
    },
    {
      "cell_type": "code",
      "source": [
        "## 2. 정밀도(precision)\n",
        "## 3. 재현율(recall)\n"
      ],
      "metadata": {
        "id": "I2GTZjCh1YGU"
      },
      "execution_count": null,
      "outputs": []
    }
  ]
}