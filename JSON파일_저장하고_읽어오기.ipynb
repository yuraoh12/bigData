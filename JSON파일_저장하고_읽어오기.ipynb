{
  "nbformat": 4,
  "nbformat_minor": 0,
  "metadata": {
    "colab": {
      "name": "JSON파일 저장하고 읽어오기.ipynb",
      "provenance": [],
      "authorship_tag": "ABX9TyOHucjAhyrjVXn0H8+Kp4fP",
      "include_colab_link": true
    },
    "kernelspec": {
      "name": "python3",
      "display_name": "Python 3"
    },
    "language_info": {
      "name": "python"
    }
  },
  "cells": [
    {
      "cell_type": "markdown",
      "metadata": {
        "id": "view-in-github",
        "colab_type": "text"
      },
      "source": [
        "<a href=\"https://colab.research.google.com/github/chacha86/bigData1/blob/main/JSON%ED%8C%8C%EC%9D%BC_%EC%A0%80%EC%9E%A5%ED%95%98%EA%B3%A0_%EC%9D%BD%EC%96%B4%EC%98%A4%EA%B8%B0.ipynb\" target=\"_parent\"><img src=\"https://colab.research.google.com/assets/colab-badge.svg\" alt=\"Open In Colab\"/></a>"
      ]
    },
    {
      "cell_type": "code",
      "execution_count": null,
      "metadata": {
        "id": "e9SajEGwHzxX"
      },
      "outputs": [],
      "source": [
        "import json \n",
        "import os\n",
        "\n",
        "file_path = \"day2/file_exam/exam3_person/\"\n",
        "no = 1\n",
        "while True :\n",
        "    menu = input(\"메뉴 선택(1. 사람 추가 2. 목록 조회 3. 종료) :\" )\n",
        "    \n",
        "    if menu == \"1\" :\n",
        "        name = input(\"이름 : \")\n",
        "        age = int(input(\"나이 : \"))\n",
        "        home = input(\"거주지 : \")\n",
        "        \n",
        "        person = {\n",
        "            \"name\" : name,\n",
        "            \"age\" : age,\n",
        "            \"home\" : home\n",
        "        }\n",
        "\n",
        "        json_str = json.dumps(person)\n",
        "        file = file_path + \"person\" + str(no) + \".json\"\n",
        "        with open(file, 'w', encoding='utf-8-sig') as f :\n",
        "            f.write(json_str)\n",
        "            no += 1\n",
        "            \n",
        "    elif menu == \"2\" :\n",
        "        file_list = os.listdir(file_path)\n",
        "        if len(file_list) == 0 :\n",
        "            print('데이터가 없습니다.')\n",
        "        else :\n",
        "            for file in file_list :\n",
        "                file = file_path + file\n",
        "                with open(file, 'r', encoding='utf-8-sig') as f :\n",
        "                    person = json.load(f)\n",
        "                    print(f'이름 : {person[\"name\"]}, 나이 : {person[\"age\"]}, 거주지 : {person[\"home\"]}')\n",
        "    elif menu == \"3\" :\n",
        "        break"
      ]
    }
  ]
}