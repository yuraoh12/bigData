{
  "nbformat": 4,
  "nbformat_minor": 0,
  "metadata": {
    "colab": {
      "name": "xml 파일 만들고 파싱해서 분석해보기.ipynb",
      "provenance": [],
      "collapsed_sections": [],
      "authorship_tag": "ABX9TyNWSsUmWBVjC1NfAQDqKezW",
      "include_colab_link": true
    },
    "kernelspec": {
      "name": "python3",
      "display_name": "Python 3"
    },
    "language_info": {
      "name": "python"
    }
  },
  "cells": [
    {
      "cell_type": "markdown",
      "metadata": {
        "id": "view-in-github",
        "colab_type": "text"
      },
      "source": [
        "<a href=\"https://colab.research.google.com/github/chacha86/bigData1/blob/main/xml_%ED%8C%8C%EC%9D%BC_%EB%A7%8C%EB%93%A4%EA%B3%A0_%ED%8C%8C%EC%8B%B1%ED%95%B4%EC%84%9C_%EB%B6%84%EC%84%9D%ED%95%B4%EB%B3%B4%EA%B8%B0.ipynb\" target=\"_parent\"><img src=\"https://colab.research.google.com/assets/colab-badge.svg\" alt=\"Open In Colab\"/></a>"
      ]
    },
    {
      "cell_type": "code",
      "execution_count": null,
      "metadata": {
        "id": "VN9q2LpoSXWh"
      },
      "outputs": [],
      "source": [
        "#  person xml 파일\n",
        "<person>\n",
        "    <name>홍길동</name>\n",
        "    <age>22</age>\n",
        "    <home>서울</home>\n",
        "<person>\n",
        "<person>\n",
        "    <name>이순신</name>\n",
        "    <age>32</age>\n",
        "    <home>대전</home>\n",
        "<person>"
      ]
    },
    {
      "cell_type": "code",
      "source": [
        "from bs4 import BeautifulSoup\n",
        "f = open('day3/file_exam/person_xml/person.xml', 'r', encoding='utf-8-sig')\n",
        "\n",
        "content = f.read()\n",
        "soup = BeautifulSoup(content, 'html.parser')\n",
        "\n",
        "tags = soup.find_all('name')\n",
        "print(tags)\n",
        "\n",
        "f.close()\n"
      ],
      "metadata": {
        "id": "_ff6yGpgSav0"
      },
      "execution_count": null,
      "outputs": []
    }
  ]
}