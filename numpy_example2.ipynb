{
  "nbformat": 4,
  "nbformat_minor": 0,
  "metadata": {
    "colab": {
      "provenance": [],
      "collapsed_sections": [],
      "authorship_tag": "ABX9TyMJgw9BIREw2A6crfwU4Jma",
      "include_colab_link": true
    },
    "kernelspec": {
      "name": "python3",
      "display_name": "Python 3"
    },
    "language_info": {
      "name": "python"
    }
  },
  "cells": [
    {
      "cell_type": "markdown",
      "metadata": {
        "id": "view-in-github",
        "colab_type": "text"
      },
      "source": [
        "<a href=\"https://colab.research.google.com/github/chacha86/python2-week-20220803/blob/main/numpy_example2.ipynb\" target=\"_parent\"><img src=\"https://colab.research.google.com/assets/colab-badge.svg\" alt=\"Open In Colab\"/></a>"
      ]
    },
    {
      "cell_type": "code",
      "execution_count": 11,
      "metadata": {
        "id": "s7l4CSzrdh0r"
      },
      "outputs": [],
      "source": [
        "import numpy as np\n",
        "\n",
        "arr1 = np.array([[1,2,3],\n",
        "                 [4,5,6],\n",
        "                 [7,8,9]])\n",
        "\n",
        "arr2 = np.array([[1,2,3],\n",
        "                 [4,15,6],\n",
        "                 [7,8,9]])\n",
        "\n",
        "\n"
      ]
    },
    {
      "cell_type": "code",
      "source": [
        "# 연산\n",
        "# 배열의 원소를 연산\n",
        "arr1.mean(axis=0) # axis가 0이기 때문에 열단위로 연산\n",
        "arr1.sum(axis=1)  # axis가 1이기 때문에 행단위로 연산\n",
        "\n",
        "# 배열과 배열의 연산 -> 연산 대상이 되는 배열의 형태 맞춰줘야 함\n",
        "arr1 + arr2\n",
        "arr1 - arr2\n",
        "arr1 * arr2\n",
        "arr1 / arr2\n",
        "arr1 % arr2\n",
        "\n",
        "# 배열과 배열 비교\n",
        "arr1 == arr2 # 원소 단위로 비교\n",
        "np.array_equal(arr1, arr2) # 배열 단위로 비교\n"
      ],
      "metadata": {
        "colab": {
          "base_uri": "https://localhost:8080/"
        },
        "id": "sYtUYqZKffWC",
        "outputId": "11725e74-1b31-424a-ee86-f66ba160bbc3"
      },
      "execution_count": 13,
      "outputs": [
        {
          "output_type": "execute_result",
          "data": {
            "text/plain": [
              "False"
            ]
          },
          "metadata": {},
          "execution_count": 13
        }
      ]
    },
    {
      "cell_type": "code",
      "source": [
        "# 배열의 형태 변환 -> 배열을 연산하거나 붙이고/자를 때 배열의 형태가 중요. 필요에 따라 형태를 변형할 수 있어야 함.\n",
        "arr1.ndim \n",
        "arr1.shape\n",
        "arr1.reshape((1, 9)) # (3, 3)을 (1, 9)로 변형. 이때 기존의 원소의 개수에서 벗어나면 안됨.\n",
        "\n",
        "arr3 = np.arange(1, 13)\n",
        "# arr3.reshape((4, -1)) # 원소의 개수가 12개인 1차원 배열을 행이 4개인 2차원 배열로 변환. 행이 4개인 배열의 원소가 12개 되려면 열의 개수는 3으로 확정. 때문에 굳이 3이라고 하지 않고 -1로 대체 가능.\n",
        "arr3.reshape((2, 3, -1)) # 3차원의 경우 앞의 두 축의 개수가 정해지면 나머지는 자동으로 결정되므로 역시 -1로 대체\n",
        "\n"
      ],
      "metadata": {
        "id": "55DpPUm1hgxH"
      },
      "execution_count": null,
      "outputs": []
    },
    {
      "cell_type": "code",
      "source": [
        "# 배열 붙이기, 자르기 -> 2차원 이상에서 수행\n",
        "\n",
        "np.concatenate( (arr1, arr2), axis=0) # 두 배열을 위아래로 붙이기\n",
        "arr4 = np.concatenate( (arr1, arr2), axis=1) # 두 배열을 좌우로 붙이기\n",
        "\n",
        "np.split(arr4, 3, axis=1) # arr4 배열을 좌우로 3등분\n",
        "np.split(arr4, 2, axis=1) # arr4 배열을 좌우로 2등분\n",
        "np.split(arr4, 4, axis=1) # 이건 안됨. arr4의 열이 6개 이므로 4등분 될 수 없음\n",
        "\n"
      ],
      "metadata": {
        "id": "66Ckcce8hlUJ"
      },
      "execution_count": null,
      "outputs": []
    },
    {
      "cell_type": "code",
      "source": [
        "# 정렬\n",
        "# 1차원\n",
        "# 오름차순\n",
        "np.random.seed(1)\n",
        "arr5 = np.random.randint(1, 10, 12)\n",
        "# arr5.sort() # arr5의 원소가 정렬되어 원본에 반영\n",
        "arr6 = np.sort(arr5) # 원본은 그대로 유지하면서 정렬된 복사본을 리턴\n",
        "\n",
        "# 내림차순 -> 오름차순된 상태에서 거꾸로 인덱싱\n",
        "arr6[::-1]\n",
        "\n",
        "# 2차원\n",
        "\n",
        "arr7 = arr5.reshape((3,4))\n",
        "np.sort(arr7, axis=1) # 각 행의 원소를 정렬\n",
        "np.sort(arr7, axis=0) # 각 열의 원소를 정렬\n",
        "\n"
      ],
      "metadata": {
        "colab": {
          "base_uri": "https://localhost:8080/"
        },
        "id": "TZL1I_6amKms",
        "outputId": "218459dc-c18d-4464-be64-7ae109acf1ef"
      },
      "execution_count": 66,
      "outputs": [
        {
          "output_type": "execute_result",
          "data": {
            "text/plain": [
              "array([[1, 2, 6, 1],\n",
              "       [3, 5, 6, 3],\n",
              "       [6, 9, 8, 7]])"
            ]
          },
          "metadata": {},
          "execution_count": 66
        }
      ]
    }
  ]
}