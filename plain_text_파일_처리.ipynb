{
  "nbformat": 4,
  "nbformat_minor": 0,
  "metadata": {
    "colab": {
      "name": "plain text 파일 처리.ipynb",
      "provenance": [],
      "authorship_tag": "ABX9TyMA12aks/RxcjnUUj0j5S5m",
      "include_colab_link": true
    },
    "kernelspec": {
      "name": "python3",
      "display_name": "Python 3"
    },
    "language_info": {
      "name": "python"
    }
  },
  "cells": [
    {
      "cell_type": "markdown",
      "metadata": {
        "id": "view-in-github",
        "colab_type": "text"
      },
      "source": [
        "<a href=\"https://colab.research.google.com/github/chacha86/bigData1/blob/main/plain_text_%ED%8C%8C%EC%9D%BC_%EC%B2%98%EB%A6%AC.ipynb\" target=\"_parent\"><img src=\"https://colab.research.google.com/assets/colab-badge.svg\" alt=\"Open In Colab\"/></a>"
      ]
    },
    {
      "cell_type": "code",
      "execution_count": null,
      "metadata": {
        "id": "SJTx5ERPy_jn"
      },
      "outputs": [],
      "source": [
        "# plain text\n",
        "\n",
        "txt = \"안녕하세요 저는 차태진입니다. 잘 부탁드립니다.\\n\"\n",
        "print(txt)\n",
        "\n",
        "\n",
        "# 인코딩 -> 문자처리방식\n",
        "# 127개 문자로 문자 처리 -> 127개의 문자를 모아놓은 것 (문자표. 캐릭터셋) -> ascii // 1바이트\n",
        "# 중국이나 한국같은 경우 2바이트 이용해서 처리\n",
        "# 네트워크 발전-> 웹 : 전세계 데이터가 공유.\n",
        "# 유니코드로 문자표 통합. 유니코드를 처리하는 방식(utf-8)\n",
        "\n",
        "\n",
        "# 1. 파일 저장\n",
        "# open 함수 이용해서 파일모드 'w'로 저장\n",
        "f = open('day2/file_exam/exam1_data/test.txt', 'w', encoding='utf-8-sig')\n",
        "\n",
        "# 문자열 저장\n",
        "f.write(txt)\n",
        "\n",
        "# 문자열 여러개 저장\n",
        "f.writelines(['aaa\\n', 'bbb\\n', 'cccc\\n'])\n",
        "\n",
        "# 파일 닫기\n",
        "f.close()\n",
        "\n",
        "# 쓰기할 때 파일모드 'w'는 덮어쓰기, 'a'는 삽입하기\n",
        "f2 = open('day2/file_exam/exam1_data/test.txt', 'a', encoding='utf-8-sig')\n",
        "f2.write('새로운 내용')\n",
        "\n",
        "f2.close()\n",
        "\n",
        "# 2. 파일 읽기\n",
        "# 파일모드 'r'로 읽어옴\n",
        "f3 = open('day2/file_exam/exam1_data/test.txt', 'r', encoding='utf-8-sig')\n",
        "\n",
        "txt1 = f3.read() # 전체 읽어오기\n",
        "print(txt1)\n",
        "\n",
        "f3.seek(0)# 커서 초기화\n",
        "\n",
        "txt2 = f3.readline() # 한줄 읽어오기\n",
        "print(txt2)\n",
        "\n",
        "f3.seek(0) \n",
        "\n",
        "txt3 = f3.readlines() # 한줄식 리스트로 읽어오기\n",
        "print(txt3)\n",
        "\n",
        "f3.close()\n",
        "\n",
        "# with 구문을 사용하면 파일 사용이 끝난 후 close()를 하지 않아도 된다.\n",
        "with open('day2/file_exam/exam1_data/test.txt', 'r', encoding='utf-8-sig') as f4 :\n",
        "    print(f4.read())\n",
        "\n",
        "# 문제\n",
        "# 1. 고양이, 강아지, 오리, 원숭이, 악어 줄바꿈해서 파일에 저장\n",
        "# 2. 오리와 원숭이 사이에 말 저장\n"
      ]
    }
  ]
}