{
  "nbformat": 4,
  "nbformat_minor": 0,
  "metadata": {
    "colab": {
      "name": "간단한 주소록 저장 프로그램.ipynb",
      "provenance": [],
      "authorship_tag": "ABX9TyNPcK3UDYZZQ/p8CYBQuKNB",
      "include_colab_link": true
    },
    "kernelspec": {
      "name": "python3",
      "display_name": "Python 3"
    },
    "language_info": {
      "name": "python"
    }
  },
  "cells": [
    {
      "cell_type": "markdown",
      "metadata": {
        "id": "view-in-github",
        "colab_type": "text"
      },
      "source": [
        "<a href=\"https://colab.research.google.com/github/chacha86/bigData1/blob/main/%EA%B0%84%EB%8B%A8%ED%95%9C_%EC%A3%BC%EC%86%8C%EB%A1%9D_%EC%A0%80%EC%9E%A5_%ED%94%84%EB%A1%9C%EA%B7%B8%EB%9E%A8.ipynb\" target=\"_parent\"><img src=\"https://colab.research.google.com/assets/colab-badge.svg\" alt=\"Open In Colab\"/></a>"
      ]
    },
    {
      "cell_type": "code",
      "execution_count": null,
      "metadata": {
        "id": "yQ64G031DOn6"
      },
      "outputs": [],
      "source": [
        "\n",
        "person_list = []\n",
        "\n",
        "# 사람 데이터를 json 파일로 저장해주세요.\n",
        "\n",
        "while True :\n",
        "    menu = input(\"메뉴 선택(1. 사람 추가 2. 목록 조회 3. 종료) :\" )\n",
        "    \n",
        "    if menu == \"1\" :\n",
        "        name = input(\"이름 : \")\n",
        "        age = int(input(\"나이 : \"))\n",
        "        home = input(\"거주지 : \")\n",
        "        \n",
        "        person = {\n",
        "            \"name\" : name,\n",
        "            \"age\" : age,\n",
        "            \"home\" : home\n",
        "        }\n",
        "\n",
        "        person_list.append(person)\n",
        "        \n",
        "    elif menu == \"2\" :\n",
        "        for person in person_list :\n",
        "            print(f'이름 : {person[\"name\"]}, 나이 : {person[\"age\"]}, 거주지 : {person[\"home\"]}')\n",
        "            \n",
        "    elif menu == \"3\" :\n",
        "        break"
      ]
    }
  ]
}