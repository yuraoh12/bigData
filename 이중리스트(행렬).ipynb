{
  "nbformat": 4,
  "nbformat_minor": 0,
  "metadata": {
    "colab": {
      "name": "Untitled14.ipynb",
      "provenance": [],
      "authorship_tag": "ABX9TyOJE5xp2fRj3CrJbFojZYZB",
      "include_colab_link": true
    },
    "kernelspec": {
      "name": "python3",
      "display_name": "Python 3"
    },
    "language_info": {
      "name": "python"
    }
  },
  "cells": [
    {
      "cell_type": "markdown",
      "metadata": {
        "id": "view-in-github",
        "colab_type": "text"
      },
      "source": [
        "<a href=\"https://colab.research.google.com/github/chacha86/bigData1/blob/main/%EC%9D%B4%EC%A4%91%EB%A6%AC%EC%8A%A4%ED%8A%B8(%ED%96%89%EB%A0%AC).ipynb\" target=\"_parent\"><img src=\"https://colab.research.google.com/assets/colab-badge.svg\" alt=\"Open In Colab\"/></a>"
      ]
    },
    {
      "cell_type": "code",
      "execution_count": null,
      "metadata": {
        "colab": {
          "base_uri": "https://localhost:8080/"
        },
        "id": "I0C2nPD4lCXL",
        "outputId": "edfddea0-c163-44ad-a3f6-d6c58c186bfc"
      },
      "outputs": [
        {
          "output_type": "stream",
          "name": "stdout",
          "text": [
            "1 2 3 \n",
            "4 5 6 \n",
            "7 8 9 \n",
            "1 2 3 \n",
            "4 5 6 \n",
            "7 8 9 \n"
          ]
        }
      ],
      "source": [
        "\n",
        "list1 = [\n",
        "         [1,2,3],\n",
        "         [4,5,6],\n",
        "         [7,8,9]\n",
        "]\n",
        "\n",
        "# print(list1[0]) # 1행\n",
        "# print(list1[1]) # 2행\n",
        "# print(list1[2]) # 3행\n",
        "\n",
        "list1[1][0]\n",
        "list1[2][2]\n",
        "list1[1][2]\n",
        "\n",
        "for row in list1:\n",
        "  for col in row :\n",
        "    print(col, end=\" \")\n",
        "  print()\n",
        "\n",
        "for row_i in range(0, len(list1)) :\n",
        "  row = list1[row_i]\n",
        "  for col_i in range(0, len(row)) :\n",
        "      print(row[col_i], end=\" \")\n",
        "  print()\n",
        "\n",
        "\n"
      ]
    }
  ]
}