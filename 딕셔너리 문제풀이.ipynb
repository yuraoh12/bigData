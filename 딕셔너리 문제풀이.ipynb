{
  "nbformat": 4,
  "nbformat_minor": 0,
  "metadata": {
    "colab": {
      "name": "Untitled16.ipynb",
      "provenance": [],
      "authorship_tag": "ABX9TyMBxiiBj/IEw41Lwc5q8djm",
      "include_colab_link": true
    },
    "kernelspec": {
      "name": "python3",
      "display_name": "Python 3"
    },
    "language_info": {
      "name": "python"
    }
  },
  "cells": [
    {
      "cell_type": "markdown",
      "metadata": {
        "id": "view-in-github",
        "colab_type": "text"
      },
      "source": [
        "<a href=\"https://colab.research.google.com/github/chacha86/bigData1/blob/main/%EB%94%95%EC%85%94%EB%84%88%EB%A6%AC%20%EB%AC%B8%EC%A0%9C%ED%92%80%EC%9D%B4.ipynb\" target=\"_parent\"><img src=\"https://colab.research.google.com/assets/colab-badge.svg\" alt=\"Open In Colab\"/></a>"
      ]
    },
    {
      "cell_type": "code",
      "execution_count": 2,
      "metadata": {
        "colab": {
          "base_uri": "https://localhost:8080/"
        },
        "id": "YtPnXO-OyFTq",
        "outputId": "73fa87ae-2ff7-46b5-e936-00e9f73c12ee"
      },
      "outputs": [
        {
          "output_type": "stream",
          "name": "stdout",
          "text": [
            "아이디 : hong123\n",
            "비밀번호 : 1234\n",
            "이름 : 홍길동\n",
            "아이디 : s123\n",
            "비밀번호 : 1234\n",
            "이름 : 손\n",
            "아이디 : h123\n",
            "비밀번호 : 1234\n",
            "이름 : 홍\n"
          ]
        }
      ],
      "source": [
        "# 딕셔너리를 이용해서 회원 정보를 저장해주세요. 회원 정보는 아이디, 비밀번호, 이름으로 하겠습니다.\n",
        "# 아이디가 hong123, 비밀번호가 1234, 이름이 홍길동인 회원\n",
        "# 아이디가 sony7, 비밀번호가 7777, 이름이 손흥민인 회원\n",
        "# 아이디가 ryu99, 비밀번호가 9999, 이름이 류현진인 회원\n",
        "# 위 세명의 회원을 딕셔너리를 이용해 만들고 출력해주세요. 회원의 정보를 모두 출력해주세요.\n",
        "\n",
        "'''\n",
        "\n",
        "아이디 : hong123\n",
        "비밀번호 : 1234\n",
        "이름 : 홍길동\n",
        "================\n",
        "아이디 : sony7\n",
        "비밀번호 : 7777\n",
        "이름 : 손흥민\n",
        "================\n",
        "아이디 : ryu99\n",
        "비밀번호 : 9999\n",
        "이름 : 류현진\n",
        "================\n",
        "\n",
        "'''\n",
        "\n",
        "user1 = {\"아이디\" : \"hong123\", \"비밀번호\" : \"1234\", \"이름\" : \"홍길동\"}\n",
        "user2 = {\"아이디\" : \"s123\", \"비밀번호\" : \"1234\", \"이름\" : \"손\"}\n",
        "user3 = {\"아이디\" : \"h123\", \"비밀번호\" : \"1234\", \"이름\" : \"홍\"}\n",
        "a = user1[\"아이디\"]\n",
        "print(\"아이디 : {}\".format(user1['아이디']))\n",
        "print(\"비밀번호 : {}\".format(user1['비밀번호']))\n",
        "print(\"이름 : {}\".format(user1['이름']))\n",
        "\n",
        "print(\"아이디 : {}\".format(user2['아이디']))\n",
        "print(\"비밀번호 : {}\".format(user2['비밀번호']))\n",
        "print(\"이름 : {}\".format(user2['이름']))\n",
        "\n",
        "print(\"아이디 : {}\".format(user3['아이디']))\n",
        "print(\"비밀번호 : {}\".format(user3['비밀번호']))\n",
        "print(\"이름 : {}\".format(user3['이름']))"
      ]
    },
    {
      "cell_type": "code",
      "source": [
        "list1 = [ \n",
        "          {\"이름\" : \"홍길동\", \"거주지\" : \"대전\", \"나이\" : 23}\n",
        "         ,{\"이름\" : \"이순신\", \"거주지\" : \"서울\", \"나이\" : 36}\n",
        "         ,{\"이름\" : \"임꺽정\", \"거주지\" : \"울산\", \"나이\" : 44}\n",
        "        ]\n",
        "\n",
        "# list1에 있는 전체 회원 정보를 출력해주세요. (for문을 활용해주세요ㅐ)\n",
        "for user in list1 :\n",
        "  print(user[\"이름\"])\n",
        "  print(user[\"나이\"])\n",
        "  print(user[\"거주지\"])"
      ],
      "metadata": {
        "colab": {
          "base_uri": "https://localhost:8080/"
        },
        "id": "qE9KT1bSyI3u",
        "outputId": "879f2984-5842-42f4-be33-7b0b7ee570a8"
      },
      "execution_count": 5,
      "outputs": [
        {
          "output_type": "stream",
          "name": "stdout",
          "text": [
            "홍길동\n",
            "23\n",
            "대전\n",
            "이순신\n",
            "36\n",
            "서울\n",
            "임꺽정\n",
            "44\n",
            "울산\n"
          ]
        }
      ]
    }
  ]
}