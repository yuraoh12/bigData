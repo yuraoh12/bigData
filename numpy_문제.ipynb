{
  "nbformat": 4,
  "nbformat_minor": 0,
  "metadata": {
    "colab": {
      "provenance": [],
      "collapsed_sections": [],
      "authorship_tag": "ABX9TyMfu5MTujDK3I2bhh5oQVMo",
      "include_colab_link": true
    },
    "kernelspec": {
      "name": "python3",
      "display_name": "Python 3"
    },
    "language_info": {
      "name": "python"
    }
  },
  "cells": [
    {
      "cell_type": "markdown",
      "metadata": {
        "id": "view-in-github",
        "colab_type": "text"
      },
      "source": [
        "<a href=\"https://colab.research.google.com/github/chacha86/python2-week-20220803/blob/main/numpy_%EB%AC%B8%EC%A0%9C.ipynb\" target=\"_parent\"><img src=\"https://colab.research.google.com/assets/colab-badge.svg\" alt=\"Open In Colab\"/></a>"
      ]
    },
    {
      "cell_type": "code",
      "execution_count": null,
      "metadata": {
        "id": "73jDJg5ShHwI"
      },
      "outputs": [],
      "source": [
        "# - 0 ~ 10 사이의 정수로 (3, 4) 모양의 배열을 만들고 변수 arr1에 저장\n",
        "# 아래와 같은 2차원 배열을 만들고 arr2에 저장\n",
        "# 1,2,3,4\n",
        "# 5,6,7,8\n",
        "# 9,10,11,12\n",
        "# 13,14,15,16\n",
        "\n",
        "# 1. 각 배열의 차원, 모양, 원소의 개수를 확인해주세요.\n",
        "\n",
        "# 2. arr1에서 행은 모두 출력하고 열은 첫번째, 세번째만 출력해주세요.\n",
        "\n",
        "# 3. arr2에서 아래처럼 나오게 인덱싱해주세요.\n",
        "'''\n",
        "[6, 7]\n",
        "[10, 11]\n",
        "'''\n",
        "\n",
        "# 4. arr2에서 아래처럼 나오게 인덱싱해주세요.\n",
        "'''\n",
        "[1,3]\n",
        "[5,7]\n",
        "[9,11]\n",
        "[13,15]\n",
        "'''\n",
        "\n",
        "# arr2를 fancy 인덱싱을 이용해 아래와 같이 출력하기\n",
        "'''\n",
        "[1,3]\n",
        "[5,7]\n",
        "[13,15]\n",
        "'''\n",
        "\n",
        "# arr1에서 음수인 것만 출력해주세요.\n"
      ]
    },
    {
      "cell_type": "markdown",
      "source": [],
      "metadata": {
        "id": "xB82P4x4hH_6"
      }
    }
  ]
}