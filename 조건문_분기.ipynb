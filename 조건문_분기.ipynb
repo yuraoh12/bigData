{
  "nbformat": 4,
  "nbformat_minor": 0,
  "metadata": {
    "colab": {
      "name": "조건문 분기.ipynb",
      "provenance": [],
      "collapsed_sections": [],
      "authorship_tag": "ABX9TyPtY3WYrK0ThfkflrQo5F0v",
      "include_colab_link": true
    },
    "kernelspec": {
      "name": "python3",
      "display_name": "Python 3"
    },
    "language_info": {
      "name": "python"
    }
  },
  "cells": [
    {
      "cell_type": "markdown",
      "metadata": {
        "id": "view-in-github",
        "colab_type": "text"
      },
      "source": [
        "<a href=\"https://colab.research.google.com/github/chacha86/bigData1/blob/main/%EC%A1%B0%EA%B1%B4%EB%AC%B8_%EB%B6%84%EA%B8%B0.ipynb\" target=\"_parent\"><img src=\"https://colab.research.google.com/assets/colab-badge.svg\" alt=\"Open In Colab\"/></a>"
      ]
    },
    {
      "cell_type": "code",
      "execution_count": 4,
      "metadata": {
        "colab": {
          "base_uri": "https://localhost:8080/"
        },
        "id": "Xx383w_pDr3h",
        "outputId": "6c86063f-5f41-482c-9281-1e299752fe43"
      },
      "outputs": [
        {
          "output_type": "stream",
          "name": "stdout",
          "text": [
            "0\n",
            "even\n",
            "남자입니다.\n",
            "초등\n"
          ]
        }
      ],
      "source": [
        "num = 10\n",
        "\n",
        "print(num % 2)\n",
        "\n",
        "# 양자택일 구조(둘중 하나)\n",
        "#홀짝\n",
        "if num % 2 == 0 :\n",
        "  print(\"even\")\n",
        "\n",
        "else :\n",
        "  print(\"odd\")\n",
        "\n",
        "# 성별\n",
        "sex = \"남\"\n",
        "if sex == \"남\" :\n",
        "  print(\"남자입니다.\")\n",
        "else :\n",
        "  print(\"여자입니다.\")\n",
        "\n",
        "# 다자택일 구조 (셋중 하나, 넷중 하나 등)\n",
        "# 시험 문제\n",
        "# 시험 성적 등급\n",
        "# 학적 - 초, 중, 고\n",
        "\n",
        "age = 12\n",
        "\n",
        "if age < 14 :\n",
        "  print(\"초등\")\n",
        "elif age < 17 :\n",
        "  print(\"중등\")\n",
        "elif age < 20 :\n",
        "  print(\"고등\")\n",
        "\n",
        "age = 12\n",
        "\n",
        "if age < 14 :\n",
        "  print(\"초등\")\n",
        "elif age < 17 :\n",
        "  print(\"중등\")\n",
        "else :\n",
        "  print(\"고등\")\n",
        "\n",
        "\n",
        "  "
      ]
    }
  ]
}